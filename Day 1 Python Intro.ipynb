{
 "cells": [
  {
   "cell_type": "code",
   "execution_count": 1,
   "id": "d7f23fc5",
   "metadata": {},
   "outputs": [
    {
     "name": "stdout",
     "output_type": "stream",
     "text": [
      "hello World\n"
     ]
    }
   ],
   "source": [
    "print('hello World')"
   ]
  },
  {
   "cell_type": "code",
   "execution_count": 3,
   "id": "37346fe2",
   "metadata": {},
   "outputs": [
    {
     "name": "stdout",
     "output_type": "stream",
     "text": [
      "123\n"
     ]
    }
   ],
   "source": [
    "print(123)"
   ]
  },
  {
   "cell_type": "code",
   "execution_count": 5,
   "id": "7e999ff2",
   "metadata": {},
   "outputs": [
    {
     "name": "stdout",
     "output_type": "stream",
     "text": [
      "hello Python!!\n",
      "hello Python!!\n",
      "hello Python!!\n",
      "hello Python!!\n",
      "hello Python!!\n",
      "hello Python!!\n",
      "hello Python!!\n",
      "hello Python!!\n",
      "hello Python!!\n",
      "hello Python!!\n",
      "hello Python!!\n"
     ]
    }
   ],
   "source": [
    "for i in range(1,12):\n",
    "    print('hello Python!!')"
   ]
  },
  {
   "cell_type": "markdown",
   "id": "6db2e595",
   "metadata": {},
   "source": [
    "# Python Introduction Day 1\n"
   ]
  },
  {
   "cell_type": "markdown",
   "id": "a1b88120",
   "metadata": {},
   "source": [
    "## Features in Python\n",
    "- Free and Open Source. ...\n",
    "- Easy to code. ...\n",
    "- Easy to Read. ...\n",
    "- Object-Oriented Language. ...\n",
    "- GUI Programming Support. ...\n",
    "- High-Level Language. ...\n",
    "- Large Community Support. ...\n",
    "- Easy to Debug."
   ]
  },
  {
   "attachments": {
    "1705826273539.jpg": {
     "image/jpeg": "[encoded data removed]"
    }
   },
   "cell_type": "markdown",
   "id": "a500dc58",
   "metadata": {},
   "source": [
    "![1705826273539.jpg](attachment:1705826273539.jpg)"
   ]
  },
  {
   "cell_type": "code",
   "execution_count": null,
   "id": "c0457bfa",
   "metadata": {},
   "outputs": [],
   "source": []
  },
  {
   "cell_type": "code",
   "execution_count": null,
   "id": "38ff7988",
   "metadata": {},
   "outputs": [],
   "source": []
  },
  {
   "cell_type": "code",
   "execution_count": 7,
   "id": "855ed0a6",
   "metadata": {},
   "outputs": [
    {
     "name": "stdout",
     "output_type": "stream",
     "text": [
      "hello\n"
     ]
    }
   ],
   "source": [
    "print('hello')"
   ]
  },
  {
   "cell_type": "code",
   "execution_count": 10,
   "id": "48a5a752",
   "metadata": {},
   "outputs": [],
   "source": [
    "# ABCD:- A, B,C\n",
    "# Word\n",
    "# Sentences\n",
    "# pargraphs\n",
    "# Story\n",
    "# Page\n",
    "# book"
   ]
  },
  {
   "cell_type": "code",
   "execution_count": 11,
   "id": "ad182acc",
   "metadata": {},
   "outputs": [
    {
     "name": "stdout",
     "output_type": "stream",
     "text": [
      "\n",
      "Here is a list of the Python keywords.  Enter any keyword to get more help.\n",
      "\n",
      "False               class               from                or\n",
      "None                continue            global              pass\n",
      "True                def                 if                  raise\n",
      "and                 del                 import              return\n",
      "as                  elif                in                  try\n",
      "assert              else                is                  while\n",
      "async               except              lambda              with\n",
      "await               finally             nonlocal            yield\n",
      "break               for                 not                 \n",
      "\n"
     ]
    }
   ],
   "source": [
    "help('keywords')"
   ]
  },
  {
   "cell_type": "code",
   "execution_count": 12,
   "id": "9178f412",
   "metadata": {},
   "outputs": [],
   "source": [
    "# left = literals\n",
    "# variable = value"
   ]
  },
  {
   "cell_type": "code",
   "execution_count": 14,
   "id": "61068a27",
   "metadata": {},
   "outputs": [
    {
     "name": "stdout",
     "output_type": "stream",
     "text": [
      "123\n"
     ]
    }
   ],
   "source": [
    "a = 123\n",
    "\n",
    "print(a)"
   ]
  },
  {
   "cell_type": "code",
   "execution_count": 15,
   "id": "2171afe9",
   "metadata": {},
   "outputs": [],
   "source": [
    "# Data types (these are the types of data that you can store with in a python)"
   ]
  },
  {
   "cell_type": "code",
   "execution_count": 16,
   "id": "6f4d7b29",
   "metadata": {},
   "outputs": [
    {
     "name": "stdout",
     "output_type": "stream",
     "text": [
      "9898987654\n"
     ]
    }
   ],
   "source": [
    "s = 9898987654\n",
    "print(s)"
   ]
  },
  {
   "cell_type": "code",
   "execution_count": 17,
   "id": "2da072a6",
   "metadata": {},
   "outputs": [
    {
     "name": "stdout",
     "output_type": "stream",
     "text": [
      "Ajay\n"
     ]
    }
   ],
   "source": [
    "name = 'Ajay'\n",
    "print(name)"
   ]
  },
  {
   "cell_type": "code",
   "execution_count": 19,
   "id": "88349aa6",
   "metadata": {},
   "outputs": [
    {
     "name": "stdout",
     "output_type": "stream",
     "text": [
      "98\n"
     ]
    }
   ],
   "source": [
    "# Numerical\n",
    "# 1>> int:- -negative number to positive number\n",
    "\n",
    "maths = 98\n",
    "sci = 0\n",
    "\n",
    "debt = -12345678\n",
    "\n",
    "\n",
    "print(maths)"
   ]
  },
  {
   "cell_type": "code",
   "execution_count": null,
   "id": "47d40f53",
   "metadata": {},
   "outputs": [],
   "source": []
  },
  {
   "cell_type": "code",
   "execution_count": 20,
   "id": "4f88504e",
   "metadata": {},
   "outputs": [],
   "source": [
    "# id()\n",
    "# type()"
   ]
  },
  {
   "cell_type": "code",
   "execution_count": 21,
   "id": "56008b0d",
   "metadata": {},
   "outputs": [
    {
     "name": "stdout",
     "output_type": "stream",
     "text": [
      "140706782417672\n"
     ]
    }
   ],
   "source": [
    "print(id(sci))"
   ]
  },
  {
   "cell_type": "code",
   "execution_count": 24,
   "id": "6af21410",
   "metadata": {},
   "outputs": [
    {
     "name": "stdout",
     "output_type": "stream",
     "text": [
      "<class 'int'>\n"
     ]
    }
   ],
   "source": [
    "print(type(sci))"
   ]
  },
  {
   "cell_type": "code",
   "execution_count": 28,
   "id": "8557c830",
   "metadata": {},
   "outputs": [
    {
     "name": "stdout",
     "output_type": "stream",
     "text": [
      "-23.45654567875\n",
      "<class 'float'>\n"
     ]
    }
   ],
   "source": [
    "# float\n",
    "# decimal\n",
    "a = -23.45654567875\n",
    "\n",
    "print(a)\n",
    "print(type(a))"
   ]
  },
  {
   "cell_type": "code",
   "execution_count": 29,
   "id": "3dd8544f",
   "metadata": {},
   "outputs": [],
   "source": [
    "# Dynamic programming language"
   ]
  },
  {
   "cell_type": "code",
   "execution_count": 36,
   "id": "ce351c5c",
   "metadata": {},
   "outputs": [],
   "source": [
    "# a:int = 123\n",
    "    \n",
    "debt = -2987654567898754"
   ]
  },
  {
   "cell_type": "code",
   "execution_count": 37,
   "id": "71b01baa",
   "metadata": {},
   "outputs": [
    {
     "name": "stdout",
     "output_type": "stream",
     "text": [
      "-2987654567898754\n"
     ]
    }
   ],
   "source": [
    "print(debt)"
   ]
  },
  {
   "cell_type": "code",
   "execution_count": 38,
   "id": "d7288715",
   "metadata": {},
   "outputs": [
    {
     "name": "stdout",
     "output_type": "stream",
     "text": [
      "<class 'int'>\n"
     ]
    }
   ],
   "source": [
    "print(type(debt))"
   ]
  },
  {
   "cell_type": "code",
   "execution_count": 44,
   "id": "5e662336",
   "metadata": {},
   "outputs": [
    {
     "name": "stdout",
     "output_type": "stream",
     "text": [
      "komal\n",
      "<class 'str'>\n"
     ]
    }
   ],
   "source": [
    "name = 'komal'\n",
    "print(name)\n",
    "print(type(name))"
   ]
  },
  {
   "cell_type": "code",
   "execution_count": 50,
   "id": "7bce570d",
   "metadata": {},
   "outputs": [
    {
     "name": "stdout",
     "output_type": "stream",
     "text": [
      "(34-567j)\n",
      "<class 'complex'>\n"
     ]
    }
   ],
   "source": [
    "# complex:\n",
    "# real+ img\n",
    "\n",
    "a = 34 - 567j\n",
    "print(a)\n",
    "print(type(a))"
   ]
  },
  {
   "cell_type": "code",
   "execution_count": 51,
   "id": "ae3ddfbc",
   "metadata": {},
   "outputs": [
    {
     "name": "stdout",
     "output_type": "stream",
     "text": [
      "japan\n",
      "<class 'str'>\n"
     ]
    }
   ],
   "source": [
    "# textual information:- string\n",
    "a  = 'japan'\n",
    "print(a)\n",
    "print(type(a))"
   ]
  },
  {
   "cell_type": "code",
   "execution_count": 53,
   "id": "aaeabe88",
   "metadata": {},
   "outputs": [
    {
     "name": "stdout",
     "output_type": "stream",
     "text": [
      "12345\n",
      "<class 'str'>\n"
     ]
    }
   ],
   "source": [
    "a  = '12345'\n",
    "print(a)\n",
    "print(type(a))"
   ]
  },
  {
   "cell_type": "code",
   "execution_count": 54,
   "id": "96410043",
   "metadata": {},
   "outputs": [
    {
     "name": "stdout",
     "output_type": "stream",
     "text": [
      "12345\n",
      "<class 'str'>\n"
     ]
    }
   ],
   "source": [
    "a  = \"12345\"\n",
    "print(a)\n",
    "print(type(a))"
   ]
  },
  {
   "cell_type": "code",
   "execution_count": 55,
   "id": "257dcbd5",
   "metadata": {},
   "outputs": [
    {
     "name": "stdout",
     "output_type": "stream",
     "text": [
      "ajay\n"
     ]
    }
   ],
   "source": [
    "# sequence data type:- collection\n",
    "\n",
    "name = 'ajay'\n",
    "print(name)"
   ]
  },
  {
   "cell_type": "code",
   "execution_count": 60,
   "id": "ae677d73",
   "metadata": {},
   "outputs": [
    {
     "name": "stdout",
     "output_type": "stream",
     "text": [
      "('ajay', 'mohit', 'ravi', 'komal', 'aadit')\n",
      "<class 'tuple'>\n"
     ]
    }
   ],
   "source": [
    "# Tuple\n",
    "students = 'ajay','mohit','ravi','komal','aadit'\n",
    "\n",
    "print(students)\n",
    "print(type(students))"
   ]
  },
  {
   "cell_type": "code",
   "execution_count": 61,
   "id": "d129c4ac",
   "metadata": {},
   "outputs": [
    {
     "name": "stdout",
     "output_type": "stream",
     "text": [
      "(2, 32, 34, 5, 5)\n",
      "<class 'tuple'>\n"
     ]
    }
   ],
   "source": [
    "a = 2,32,34,5,5\n",
    "\n",
    "print(a)\n",
    "print(type(a))"
   ]
  },
  {
   "cell_type": "code",
   "execution_count": 62,
   "id": "4636fee3",
   "metadata": {},
   "outputs": [
    {
     "name": "stdout",
     "output_type": "stream",
     "text": [
      "(1, 21, 3, 45.56, 'Ajay', 'Mohan')\n",
      "<class 'tuple'>\n"
     ]
    }
   ],
   "source": [
    "# tuple can store any data type sabhi\n",
    "\n",
    "mixed = (1,21,3,45.56,'Ajay',\"Mohan\")\n",
    "\n",
    "print(mixed)\n",
    "print(type(mixed))"
   ]
  },
  {
   "cell_type": "code",
   "execution_count": null,
   "id": "883c8532",
   "metadata": {},
   "outputs": [],
   "source": []
  },
  {
   "cell_type": "code",
   "execution_count": 63,
   "id": "f4dc6ce5",
   "metadata": {},
   "outputs": [
    {
     "name": "stdout",
     "output_type": "stream",
     "text": [
      "(1, 21, 3, 45.56, 'Ajay', 'Mohan', (1, 23, 234))\n",
      "<class 'tuple'>\n"
     ]
    }
   ],
   "source": [
    "# tuple can store any data type sabhi\n",
    "# we can create a nested tuple also\n",
    "# you can not change data inside tuple\n",
    "mixed = (1,21,3,45.56,'Ajay',\"Mohan\",(1,23,234),[12,43,5])\n",
    "\n",
    "print(mixed)\n",
    "print(type(mixed))"
   ]
  },
  {
   "cell_type": "code",
   "execution_count": 65,
   "id": "962b2f77",
   "metadata": {},
   "outputs": [
    {
     "name": "stdout",
     "output_type": "stream",
     "text": [
      "[12.45, -12, 32.43, (5-8j), 'Mohan', (12, 3, 354), [1, 23, 34]]\n",
      "<class 'list'>\n"
     ]
    }
   ],
   "source": [
    "# list data type:-\n",
    "# you can change data inside the list\n",
    "d = [12.45,-12,32.43,5-8j,'Mohan',(12,3,354),[1,23,34]]\n",
    "print(d)\n",
    "print(type(d))"
   ]
  },
  {
   "cell_type": "code",
   "execution_count": 67,
   "id": "7ed6f0e1",
   "metadata": {},
   "outputs": [
    {
     "name": "stdout",
     "output_type": "stream",
     "text": [
      "[1, 2, 22, 2, 3, 3, 3, 4, 4, 4, 44, 5, 5, 5, 5, 5, 6, 6, 6, 67, 7, 7, 7, 8, 8, 8, 8, 9, 9]\n",
      "<class 'list'>\n"
     ]
    }
   ],
   "source": [
    "data = [1,2,22,2,3,3,3,4,4,4,44,5,5,5,5,5,6,6,6,67,7,7,7,8,8,8,8,9,9]\n",
    "\n",
    "print(data)\n",
    "print(type(data))"
   ]
  },
  {
   "cell_type": "code",
   "execution_count": 75,
   "id": "289bddcc",
   "metadata": {},
   "outputs": [
    {
     "name": "stdout",
     "output_type": "stream",
     "text": [
      "{1, 2, 3, 4, 33, 5, 6, 67, 7, 11, 55}\n"
     ]
    }
   ],
   "source": [
    "# set:- set is an unordered unique collection of data type\n",
    "\n",
    "a = {1,1,1,11,2,2,2,2,2,2,2,2,3,3,33,3,3,3,4,4,4,4,4,55,5,6,6,6,67,7}\n",
    "\n",
    "print(a)"
   ]
  },
  {
   "cell_type": "code",
   "execution_count": 76,
   "id": "bfcfe828",
   "metadata": {},
   "outputs": [
    {
     "name": "stdout",
     "output_type": "stream",
     "text": [
      "{'mohan', 'ravi'}\n",
      "<class 'set'>\n"
     ]
    }
   ],
   "source": [
    "a = {'mohan','mohan','mohan','ravi','ravi'}\n",
    "print(a)\n",
    "print(type(a))"
   ]
  },
  {
   "cell_type": "code",
   "execution_count": 77,
   "id": "ca948dd8",
   "metadata": {},
   "outputs": [],
   "source": [
    "# passwords = ['chgchg@hgfh','jvhvj@jbjb','jhgjbj@bjh']\n",
    "\n"
   ]
  },
  {
   "cell_type": "code",
   "execution_count": 78,
   "id": "56faa50f",
   "metadata": {},
   "outputs": [
    {
     "name": "stdout",
     "output_type": "stream",
     "text": [
      "{'Shivani': 'hvjhvjhv@hjvjh', 'Mohan': 'gvhgvh', 'Ajay': 'yfjhvj'}\n",
      "<class 'dict'>\n"
     ]
    }
   ],
   "source": [
    "# dictionary dict: mapping,map,json,hash, key value\n",
    "\n",
    "a = {'Shivani':'hvjhvjhv@hjvjh','Mohan':'gvhgvh','Ajay':'yfjhvj'}\n",
    "#        key       value\n",
    "\n",
    "print(a)\n",
    "print(type(a))"
   ]
  },
  {
   "cell_type": "code",
   "execution_count": 80,
   "id": "b5edb42f",
   "metadata": {},
   "outputs": [
    {
     "name": "stdout",
     "output_type": "stream",
     "text": [
      "None\n",
      "<class 'NoneType'>\n"
     ]
    }
   ],
   "source": [
    "# you dont want to store any value in a variable\n",
    "\n",
    "\n",
    "pocket = None\n",
    "\n",
    "print(pocket)\n",
    "\n",
    "print(type(pocket))"
   ]
  },
  {
   "cell_type": "code",
   "execution_count": null,
   "id": "521a097a",
   "metadata": {},
   "outputs": [],
   "source": []
  },
  {
   "cell_type": "code",
   "execution_count": 81,
   "id": "c29f4ac6",
   "metadata": {},
   "outputs": [
    {
     "name": "stdout",
     "output_type": "stream",
     "text": [
      "True\n",
      "<class 'bool'>\n"
     ]
    }
   ],
   "source": [
    "# bool data type boolean True,False\n",
    "ajay = True\n",
    "print(ajay)\n",
    "print(type(ajay))"
   ]
  },
  {
   "cell_type": "code",
   "execution_count": 86,
   "id": "75fc1f1f",
   "metadata": {},
   "outputs": [
    {
     "name": "stdout",
     "output_type": "stream",
     "text": [
      "True\n",
      "<class 'bool'>\n"
     ]
    }
   ],
   "source": [
    "mohit = True\n",
    "print(mohit)\n",
    "print(type(mohit))"
   ]
  },
  {
   "cell_type": "code",
   "execution_count": 85,
   "id": "74c48a58",
   "metadata": {},
   "outputs": [],
   "source": [
    "# 1 == True"
   ]
  },
  {
   "cell_type": "code",
   "execution_count": 87,
   "id": "226a92de",
   "metadata": {},
   "outputs": [
    {
     "name": "stdout",
     "output_type": "stream",
     "text": [
      "True\n",
      "<class 'bool'>\n"
     ]
    }
   ],
   "source": [
    "a = bool(1)\n",
    "print(a)\n",
    "print(type(a))"
   ]
  },
  {
   "cell_type": "code",
   "execution_count": 88,
   "id": "0ea7fab8",
   "metadata": {},
   "outputs": [],
   "source": [
    "# Numerical:- int,float,complex\n",
    "# sequence:- string,tuple,list\n",
    "# set\n",
    "# dict\n",
    "# Bool\n",
    "# None"
   ]
  },
  {
   "attachments": {
    "Python-data-structure.jpg": {
     "image/jpeg": "[encoded data removed]"
    }
   },
   "cell_type": "markdown",
   "id": "8eb86823",
   "metadata": {},
   "source": [
    "![Python-data-structure.jpg](attachment:Python-data-structure.jpg)"
   ]
  },
  {
   "cell_type": "code",
   "execution_count": null,
   "id": "de4e4cfd",
   "metadata": {},
   "outputs": [],
   "source": []
  },
  {
   "cell_type": "code",
   "execution_count": 90,
   "id": "4af5c221",
   "metadata": {},
   "outputs": [
    {
     "name": "stdout",
     "output_type": "stream",
     "text": [
      "57\n"
     ]
    }
   ],
   "source": [
    "# operations\n",
    "\n",
    "a = 23\n",
    "b = 34\n",
    "\n",
    "print(a+b)"
   ]
  },
  {
   "cell_type": "code",
   "execution_count": 91,
   "id": "85a9a728",
   "metadata": {},
   "outputs": [],
   "source": [
    "# # Operators\n",
    "# 1>> Arithmetic\n",
    "# 2>> Assignment op\n",
    "# 3>> comparison/Relational op\n",
    "# 4>> membership op\n",
    "# 5>> identity op\n",
    "# 6>> Logical op\n",
    "# 7>> Bitwise op"
   ]
  },
  {
   "cell_type": "code",
   "execution_count": 93,
   "id": "e1256c2c",
   "metadata": {},
   "outputs": [
    {
     "name": "stdout",
     "output_type": "stream",
     "text": [
      "35\n"
     ]
    }
   ],
   "source": [
    "# 1>> Arithmetic\n",
    "\n",
    "# +,-,*,/,**,%,//\n",
    "\n",
    "a = 12\n",
    "b = 23\n",
    "\n",
    "print(a + b)"
   ]
  },
  {
   "cell_type": "code",
   "execution_count": 94,
   "id": "cdfdc7b7",
   "metadata": {},
   "outputs": [
    {
     "name": "stdout",
     "output_type": "stream",
     "text": [
      "-11\n"
     ]
    }
   ],
   "source": [
    "a = 12\n",
    "b = 23\n",
    "\n",
    "print(a - b)"
   ]
  },
  {
   "cell_type": "code",
   "execution_count": 95,
   "id": "cb44974e",
   "metadata": {},
   "outputs": [
    {
     "name": "stdout",
     "output_type": "stream",
     "text": [
      "276\n"
     ]
    }
   ],
   "source": [
    "a = 12\n",
    "b = 23\n",
    "\n",
    "print(a * b)"
   ]
  },
  {
   "cell_type": "code",
   "execution_count": 96,
   "id": "a4a57a1b",
   "metadata": {},
   "outputs": [
    {
     "name": "stdout",
     "output_type": "stream",
     "text": [
      "5.217391304347826\n"
     ]
    }
   ],
   "source": [
    "a = 120\n",
    "b = 23\n",
    "\n",
    "# Noraml div: /\n",
    "print(a / b)"
   ]
  },
  {
   "cell_type": "code",
   "execution_count": 97,
   "id": "1f4014f6",
   "metadata": {},
   "outputs": [
    {
     "name": "stdout",
     "output_type": "stream",
     "text": [
      "5\n"
     ]
    }
   ],
   "source": [
    "# floor div:- //\n",
    "\n",
    "\n",
    "a = 120\n",
    "b = 23\n",
    "\n",
    "print(a // b)"
   ]
  },
  {
   "cell_type": "code",
   "execution_count": 98,
   "id": "94441488",
   "metadata": {},
   "outputs": [
    {
     "name": "stdout",
     "output_type": "stream",
     "text": [
      "2\n"
     ]
    }
   ],
   "source": [
    "# Modulus div\n",
    "a = 23\n",
    "b = 7\n",
    "\n",
    "print(a % b)"
   ]
  },
  {
   "cell_type": "code",
   "execution_count": 100,
   "id": "d58fc273",
   "metadata": {},
   "outputs": [
    {
     "name": "stdout",
     "output_type": "stream",
     "text": [
      "196\n"
     ]
    }
   ],
   "source": [
    "# Power exponention\n",
    "\n",
    "a = 14\n",
    "\n",
    "print(a**2)"
   ]
  },
  {
   "cell_type": "code",
   "execution_count": 101,
   "id": "b31bc5da",
   "metadata": {},
   "outputs": [
    {
     "name": "stdout",
     "output_type": "stream",
     "text": [
      "537824\n"
     ]
    }
   ],
   "source": [
    "a = 14\n",
    "\n",
    "print(a*a*a*a*a)"
   ]
  },
  {
   "cell_type": "code",
   "execution_count": 102,
   "id": "e7306128",
   "metadata": {},
   "outputs": [
    {
     "name": "stdout",
     "output_type": "stream",
     "text": [
      "537824\n"
     ]
    }
   ],
   "source": [
    "print(a**5)"
   ]
  },
  {
   "cell_type": "code",
   "execution_count": 104,
   "id": "dd01651a",
   "metadata": {},
   "outputs": [
    {
     "name": "stdout",
     "output_type": "stream",
     "text": [
      "537824\n"
     ]
    }
   ],
   "source": [
    "print(pow(14,5))"
   ]
  },
  {
   "cell_type": "code",
   "execution_count": 105,
   "id": "7fe620c2",
   "metadata": {},
   "outputs": [
    {
     "name": "stdout",
     "output_type": "stream",
     "text": [
      "13\n"
     ]
    }
   ],
   "source": [
    "# 2>> Assignment op\n",
    "# =,+=,-=,*=,/=,//=,%=, **=\n",
    "a = 13\n",
    "print(a)"
   ]
  },
  {
   "cell_type": "code",
   "execution_count": 106,
   "id": "48ba565f",
   "metadata": {},
   "outputs": [
    {
     "name": "stdout",
     "output_type": "stream",
     "text": [
      "30\n"
     ]
    }
   ],
   "source": [
    "b = 10\n",
    "\n",
    "b = b + 20\n",
    "\n",
    "print(b)"
   ]
  },
  {
   "cell_type": "code",
   "execution_count": 107,
   "id": "326f5199",
   "metadata": {},
   "outputs": [
    {
     "name": "stdout",
     "output_type": "stream",
     "text": [
      "43\n"
     ]
    }
   ],
   "source": [
    "b = 23\n",
    "\n",
    "b += 20\n",
    "\n",
    "print(b)"
   ]
  },
  {
   "cell_type": "code",
   "execution_count": 108,
   "id": "0e3b9995",
   "metadata": {},
   "outputs": [
    {
     "name": "stdout",
     "output_type": "stream",
     "text": [
      "3\n"
     ]
    }
   ],
   "source": [
    "b = 23\n",
    "\n",
    "b -= 20\n",
    "\n",
    "print(b)"
   ]
  },
  {
   "cell_type": "code",
   "execution_count": 109,
   "id": "aff49b52",
   "metadata": {},
   "outputs": [
    {
     "name": "stdout",
     "output_type": "stream",
     "text": [
      "230\n"
     ]
    }
   ],
   "source": [
    "b = 23\n",
    "\n",
    "b *= 10\n",
    "\n",
    "print(b)"
   ]
  },
  {
   "cell_type": "code",
   "execution_count": 111,
   "id": "6fd933a2",
   "metadata": {},
   "outputs": [
    {
     "name": "stdout",
     "output_type": "stream",
     "text": [
      "32\n"
     ]
    }
   ],
   "source": [
    "b = 2\n",
    "\n",
    "b **= 5\n",
    "\n",
    "print(b)"
   ]
  },
  {
   "cell_type": "code",
   "execution_count": 112,
   "id": "b7c8cd6f",
   "metadata": {},
   "outputs": [
    {
     "name": "stdout",
     "output_type": "stream",
     "text": [
      "2\n"
     ]
    }
   ],
   "source": [
    "b = 23\n",
    "\n",
    "b %= 7\n",
    "\n",
    "print(b)"
   ]
  },
  {
   "cell_type": "code",
   "execution_count": 113,
   "id": "8e9027f9",
   "metadata": {},
   "outputs": [
    {
     "name": "stdout",
     "output_type": "stream",
     "text": [
      "3\n"
     ]
    }
   ],
   "source": [
    "b = 23\n",
    "\n",
    "b //= 7\n",
    "\n",
    "print(b)"
   ]
  },
  {
   "cell_type": "code",
   "execution_count": 114,
   "id": "4d14b573",
   "metadata": {},
   "outputs": [
    {
     "name": "stdout",
     "output_type": "stream",
     "text": [
      "3.2857142857142856\n"
     ]
    }
   ],
   "source": [
    "b = 23\n",
    "\n",
    "b /= 7\n",
    "\n",
    "print(b)"
   ]
  },
  {
   "cell_type": "code",
   "execution_count": 116,
   "id": "6da77021",
   "metadata": {},
   "outputs": [
    {
     "name": "stdout",
     "output_type": "stream",
     "text": [
      "False\n"
     ]
    }
   ],
   "source": [
    "# 3>> comparison/Relational op:- bool\n",
    "# <,>,<=,>=,==,!=\n",
    "\n",
    "a = 23\n",
    "b = 20\n",
    "\n",
    "print(a < b)"
   ]
  },
  {
   "cell_type": "code",
   "execution_count": 117,
   "id": "ba447735",
   "metadata": {},
   "outputs": [
    {
     "name": "stdout",
     "output_type": "stream",
     "text": [
      "True\n"
     ]
    }
   ],
   "source": [
    "a = 23\n",
    "b = 20\n",
    "\n",
    "print(a > b)"
   ]
  },
  {
   "cell_type": "code",
   "execution_count": 119,
   "id": "595a519c",
   "metadata": {},
   "outputs": [
    {
     "name": "stdout",
     "output_type": "stream",
     "text": [
      "False\n"
     ]
    }
   ],
   "source": [
    "a = 23\n",
    "b = 20\n",
    "\n",
    "print(a == b)"
   ]
  },
  {
   "cell_type": "code",
   "execution_count": 120,
   "id": "1f105861",
   "metadata": {},
   "outputs": [
    {
     "name": "stdout",
     "output_type": "stream",
     "text": [
      "True\n"
     ]
    }
   ],
   "source": [
    "a = 23\n",
    "b = 20\n",
    "\n",
    "print(a != b)"
   ]
  },
  {
   "cell_type": "code",
   "execution_count": 121,
   "id": "5038f8d5",
   "metadata": {},
   "outputs": [
    {
     "name": "stdout",
     "output_type": "stream",
     "text": [
      "False\n"
     ]
    }
   ],
   "source": [
    "a = 23\n",
    "b = 20\n",
    "\n",
    "print(a <= b)"
   ]
  },
  {
   "cell_type": "code",
   "execution_count": 123,
   "id": "37b45e9f",
   "metadata": {},
   "outputs": [
    {
     "name": "stdout",
     "output_type": "stream",
     "text": [
      "True\n"
     ]
    }
   ],
   "source": [
    "a = 20\n",
    "b = 20\n",
    "\n",
    "print(a >= b)"
   ]
  },
  {
   "cell_type": "code",
   "execution_count": 125,
   "id": "79a691c6",
   "metadata": {},
   "outputs": [
    {
     "name": "stdout",
     "output_type": "stream",
     "text": [
      "False\n"
     ]
    }
   ],
   "source": [
    "# 4>> membership op:- in, not in\n",
    "\n",
    "a = [1,2,324,123,2,3245,325,45,345,6,34,345,345,3,34,6,35,45,643,5,4,53,5654,65,123,423,5665,6321,32,456]\n",
    "\n",
    "print(565 in a)"
   ]
  },
  {
   "cell_type": "code",
   "execution_count": 127,
   "id": "887382d0",
   "metadata": {},
   "outputs": [
    {
     "name": "stdout",
     "output_type": "stream",
     "text": [
      "True\n"
     ]
    }
   ],
   "source": [
    "# 4>> membership op:- in, not in\n",
    "\n",
    "a = [1,2,324,123,2,3245,325,45,345,6,34,345,345,3,34,6,35,45,643,5,4,53,5654,65,123,423,5665,6321,32,456]\n",
    "\n",
    "print(565 not in a)"
   ]
  },
  {
   "cell_type": "code",
   "execution_count": 130,
   "id": "6409ab2d",
   "metadata": {},
   "outputs": [],
   "source": [
    "# 5>> identity op:- is , is not"
   ]
  },
  {
   "cell_type": "code",
   "execution_count": 132,
   "id": "f14ec924",
   "metadata": {},
   "outputs": [
    {
     "name": "stdout",
     "output_type": "stream",
     "text": [
      "True\n"
     ]
    }
   ],
   "source": [
    "a = 'shivani'\n",
    "b = 'shivani'\n",
    "\n",
    "\n",
    "print(a is b)"
   ]
  },
  {
   "cell_type": "code",
   "execution_count": 133,
   "id": "1ff7466f",
   "metadata": {},
   "outputs": [
    {
     "name": "stdout",
     "output_type": "stream",
     "text": [
      "False\n"
     ]
    }
   ],
   "source": [
    "a = [1,23,4]\n",
    "b = [1,23,4]\n",
    "\n",
    "\n",
    "print(a is b)"
   ]
  },
  {
   "cell_type": "code",
   "execution_count": 135,
   "id": "44b1a1a2",
   "metadata": {},
   "outputs": [],
   "source": [
    "# a == b"
   ]
  },
  {
   "cell_type": "code",
   "execution_count": 136,
   "id": "2c987473",
   "metadata": {},
   "outputs": [
    {
     "name": "stdout",
     "output_type": "stream",
     "text": [
      "2312410375168\n"
     ]
    }
   ],
   "source": [
    "print(id(a))"
   ]
  },
  {
   "cell_type": "code",
   "execution_count": 137,
   "id": "3c50258d",
   "metadata": {},
   "outputs": [
    {
     "data": {
      "text/plain": [
       "2312410375168"
      ]
     },
     "execution_count": 137,
     "metadata": {},
     "output_type": "execute_result"
    }
   ],
   "source": [
    "id(a)"
   ]
  },
  {
   "cell_type": "code",
   "execution_count": 138,
   "id": "2279118c",
   "metadata": {},
   "outputs": [
    {
     "data": {
      "text/plain": [
       "2312409685056"
      ]
     },
     "execution_count": 138,
     "metadata": {},
     "output_type": "execute_result"
    }
   ],
   "source": [
    "id(b)"
   ]
  },
  {
   "cell_type": "code",
   "execution_count": 139,
   "id": "82ac7b5c",
   "metadata": {},
   "outputs": [
    {
     "name": "stdout",
     "output_type": "stream",
     "text": [
      "False\n"
     ]
    }
   ],
   "source": [
    "print(a is b)"
   ]
  },
  {
   "cell_type": "code",
   "execution_count": 150,
   "id": "9d5a4820",
   "metadata": {},
   "outputs": [],
   "source": [
    "c = 1238765434567890987654356789876543\n",
    "d = 1238765434567890987654356789876543"
   ]
  },
  {
   "cell_type": "code",
   "execution_count": 151,
   "id": "70536e6d",
   "metadata": {},
   "outputs": [
    {
     "data": {
      "text/plain": [
       "2312390012352"
      ]
     },
     "execution_count": 151,
     "metadata": {},
     "output_type": "execute_result"
    }
   ],
   "source": [
    "id(c)"
   ]
  },
  {
   "cell_type": "code",
   "execution_count": 152,
   "id": "ac7369b5",
   "metadata": {},
   "outputs": [
    {
     "data": {
      "text/plain": [
       "2312408792496"
      ]
     },
     "execution_count": 152,
     "metadata": {},
     "output_type": "execute_result"
    }
   ],
   "source": [
    "id(d)"
   ]
  },
  {
   "cell_type": "code",
   "execution_count": 153,
   "id": "f7d5716b",
   "metadata": {},
   "outputs": [
    {
     "name": "stdout",
     "output_type": "stream",
     "text": [
      "False\n"
     ]
    }
   ],
   "source": [
    "print(c is d)"
   ]
  },
  {
   "cell_type": "code",
   "execution_count": 154,
   "id": "15238b17",
   "metadata": {},
   "outputs": [],
   "source": [
    "# 6>> Logical op\n",
    "# 7>> Bitwise op"
   ]
  },
  {
   "cell_type": "code",
   "execution_count": 156,
   "id": "4b925d28",
   "metadata": {},
   "outputs": [],
   "source": [
    "# 6>> Logical op more than one conditions to check you use logical\n",
    "# and, or, not"
   ]
  },
  {
   "cell_type": "code",
   "execution_count": 157,
   "id": "5c0ee6e8",
   "metadata": {},
   "outputs": [
    {
     "data": {
      "text/plain": [
       "False"
      ]
     },
     "execution_count": 157,
     "metadata": {},
     "output_type": "execute_result"
    }
   ],
   "source": [
    "temp = True\n",
    "\n",
    "pressure = False\n",
    "\n",
    "weather = False\n",
    "\n",
    "Engineer = True\n",
    "\n",
    "\n",
    "(temp == True)  and (pressure == True) and (weather == True) and (Engineer == True)\n",
    "#        T                    F                   F                      T\n",
    "\n",
    "\n"
   ]
  },
  {
   "cell_type": "code",
   "execution_count": 158,
   "id": "b1d2cbcc",
   "metadata": {},
   "outputs": [
    {
     "data": {
      "text/plain": [
       "True"
      ]
     },
     "execution_count": 158,
     "metadata": {},
     "output_type": "execute_result"
    }
   ],
   "source": [
    "temp = True\n",
    "\n",
    "pressure = True\n",
    "\n",
    "weather = True\n",
    "\n",
    "Engineer = True\n",
    "\n",
    "\n",
    "(temp == True)  and (pressure == True) and (weather == True) and (Engineer == True)\n",
    "#        T                    T                   T                      T\n",
    "\n",
    "\n"
   ]
  },
  {
   "cell_type": "code",
   "execution_count": 165,
   "id": "10921118",
   "metadata": {},
   "outputs": [
    {
     "data": {
      "text/plain": [
       "False"
      ]
     },
     "execution_count": 165,
     "metadata": {},
     "output_type": "execute_result"
    }
   ],
   "source": [
    "# or\n",
    "\n",
    "\n",
    "target = True\n",
    "\n",
    "strength = True\n",
    "\n",
    "weather = False\n",
    "\n",
    "Equipments = True\n",
    "\n",
    "\n",
    "\n",
    "not((target == True)  or (strength == True)  or (weather == True)  or (Equipments == True))\n",
    "\n",
    "\n",
    "#       t                      t                     f                        t\n",
    "\n",
    "\n"
   ]
  },
  {
   "cell_type": "code",
   "execution_count": 164,
   "id": "a29070e2",
   "metadata": {},
   "outputs": [
    {
     "name": "stdout",
     "output_type": "stream",
     "text": [
      "True\n"
     ]
    }
   ],
   "source": [
    "# not:- just reverse the result\n",
    "\n",
    "pizza_khhana_hai = False\n",
    "\n",
    "print(not(pizza_khhana_hai))"
   ]
  },
  {
   "cell_type": "code",
   "execution_count": 167,
   "id": "8f9947d1",
   "metadata": {},
   "outputs": [],
   "source": [
    "# # 7>> Bitwise op\n",
    "\n",
    "# &:- and\n",
    "# |:- or\n",
    "# ~:- not\n",
    "# ^:- XOR\n",
    "# <<:- Left shift\n",
    "# >>:- Right shift"
   ]
  },
  {
   "cell_type": "code",
   "execution_count": 168,
   "id": "26aa294c",
   "metadata": {},
   "outputs": [],
   "source": [
    "# when we want to perform bitlevel calculation in case of integer"
   ]
  },
  {
   "cell_type": "code",
   "execution_count": 169,
   "id": "5bc158a1",
   "metadata": {},
   "outputs": [],
   "source": [
    "# bin()"
   ]
  },
  {
   "cell_type": "code",
   "execution_count": 174,
   "id": "b5a7862c",
   "metadata": {},
   "outputs": [
    {
     "name": "stdout",
     "output_type": "stream",
     "text": [
      "17\n"
     ]
    }
   ],
   "source": [
    "# &\n",
    "a = 23   #10111\n",
    "b = 25   #11001\n",
    "         #10001\n",
    "\n",
    "print(a & b)"
   ]
  },
  {
   "cell_type": "code",
   "execution_count": 172,
   "id": "6b3fed7d",
   "metadata": {},
   "outputs": [
    {
     "data": {
      "text/plain": [
       "17"
      ]
     },
     "execution_count": 172,
     "metadata": {},
     "output_type": "execute_result"
    }
   ],
   "source": [
    "int('10001',2)"
   ]
  },
  {
   "cell_type": "code",
   "execution_count": 173,
   "id": "73df1b2b",
   "metadata": {},
   "outputs": [
    {
     "data": {
      "text/plain": [
       "'0b10001'"
      ]
     },
     "execution_count": 173,
     "metadata": {},
     "output_type": "execute_result"
    }
   ],
   "source": [
    "bin(17)"
   ]
  },
  {
   "cell_type": "code",
   "execution_count": 176,
   "id": "bdea5a51",
   "metadata": {},
   "outputs": [
    {
     "name": "stdout",
     "output_type": "stream",
     "text": [
      "31\n"
     ]
    }
   ],
   "source": [
    "# |\n",
    "a = 23   #10111\n",
    "b = 25   #11001\n",
    "         #11111\n",
    "\n",
    "print(a | b)"
   ]
  },
  {
   "cell_type": "code",
   "execution_count": 175,
   "id": "180f2cb1",
   "metadata": {},
   "outputs": [
    {
     "data": {
      "text/plain": [
       "31"
      ]
     },
     "execution_count": 175,
     "metadata": {},
     "output_type": "execute_result"
    }
   ],
   "source": [
    "# int('11111',2)"
   ]
  },
  {
   "cell_type": "code",
   "execution_count": 179,
   "id": "0625c50e",
   "metadata": {},
   "outputs": [
    {
     "name": "stdout",
     "output_type": "stream",
     "text": [
      "-16\n"
     ]
    }
   ],
   "source": [
    "# ~:- tilde\n",
    "\n",
    "a = 15\n",
    "\n",
    "print(~a)"
   ]
  },
  {
   "cell_type": "code",
   "execution_count": 181,
   "id": "747461cf",
   "metadata": {},
   "outputs": [
    {
     "name": "stdout",
     "output_type": "stream",
     "text": [
      "14\n"
     ]
    }
   ],
   "source": [
    "# ^:- XOR\n",
    "\n",
    "a = 23   #10111\n",
    "b = 25   #11001\n",
    "\n",
    "         #01110     \n",
    "    \n",
    "print(a ^ b)"
   ]
  },
  {
   "cell_type": "code",
   "execution_count": 180,
   "id": "28d18087",
   "metadata": {},
   "outputs": [
    {
     "data": {
      "text/plain": [
       "14"
      ]
     },
     "execution_count": 180,
     "metadata": {},
     "output_type": "execute_result"
    }
   ],
   "source": [
    "# int('1110',2)"
   ]
  },
  {
   "cell_type": "code",
   "execution_count": 182,
   "id": "091cf368",
   "metadata": {},
   "outputs": [],
   "source": [
    "# left shift op\n",
    "\n",
    "a = 23   #101110"
   ]
  },
  {
   "cell_type": "code",
   "execution_count": 183,
   "id": "a8f75d99",
   "metadata": {},
   "outputs": [
    {
     "data": {
      "text/plain": [
       "46"
      ]
     },
     "execution_count": 183,
     "metadata": {},
     "output_type": "execute_result"
    }
   ],
   "source": [
    "# int('101110',2)"
   ]
  },
  {
   "cell_type": "code",
   "execution_count": 185,
   "id": "36c39812",
   "metadata": {},
   "outputs": [
    {
     "name": "stdout",
     "output_type": "stream",
     "text": [
      "80\n"
     ]
    }
   ],
   "source": [
    "a = 10\n",
    "print(a<<3)"
   ]
  },
  {
   "cell_type": "code",
   "execution_count": 186,
   "id": "8ca8783b",
   "metadata": {},
   "outputs": [
    {
     "name": "stdout",
     "output_type": "stream",
     "text": [
      "80\n"
     ]
    }
   ],
   "source": [
    "a = 5\n",
    "print(a<<4)"
   ]
  },
  {
   "cell_type": "code",
   "execution_count": 191,
   "id": "c84ad842",
   "metadata": {},
   "outputs": [
    {
     "name": "stdout",
     "output_type": "stream",
     "text": [
      "2\n"
     ]
    }
   ],
   "source": [
    "# Right shift op:- divide\n",
    "\n",
    "a = 23   #1011\n",
    "\n",
    "print(a>>3)"
   ]
  },
  {
   "cell_type": "code",
   "execution_count": 192,
   "id": "45f0ef31",
   "metadata": {},
   "outputs": [],
   "source": [
    "# int('1011',2)"
   ]
  },
  {
   "cell_type": "code",
   "execution_count": null,
   "id": "5d66312d",
   "metadata": {},
   "outputs": [],
   "source": []
  },
  {
   "cell_type": "code",
   "execution_count": null,
   "id": "bba66858",
   "metadata": {},
   "outputs": [],
   "source": []
  },
  {
   "cell_type": "code",
   "execution_count": null,
   "id": "67fa6529",
   "metadata": {},
   "outputs": [],
   "source": []
  },
  {
   "cell_type": "code",
   "execution_count": 193,
   "id": "1426e0ff",
   "metadata": {},
   "outputs": [],
   "source": [
    "# variable rules"
   ]
  },
  {
   "cell_type": "code",
   "execution_count": 194,
   "id": "bcb75eaa",
   "metadata": {},
   "outputs": [
    {
     "ename": "SyntaxError",
     "evalue": "invalid decimal literal (4008409542.py, line 2)",
     "output_type": "error",
     "traceback": [
      "\u001b[1;36m  Cell \u001b[1;32mIn[194], line 2\u001b[1;36m\u001b[0m\n\u001b[1;33m    124324bnbn = 234\u001b[0m\n\u001b[1;37m         ^\u001b[0m\n\u001b[1;31mSyntaxError\u001b[0m\u001b[1;31m:\u001b[0m invalid decimal literal\n"
     ]
    }
   ],
   "source": [
    "# 1>> \n",
    "124324bnbn = 234\n",
    "print(124324bnbn)"
   ]
  },
  {
   "cell_type": "code",
   "execution_count": 195,
   "id": "7dea5621",
   "metadata": {},
   "outputs": [
    {
     "ename": "SyntaxError",
     "evalue": "invalid syntax (372527211.py, line 2)",
     "output_type": "error",
     "traceback": [
      "\u001b[1;36m  Cell \u001b[1;32mIn[195], line 2\u001b[1;36m\u001b[0m\n\u001b[1;33m    full name = 'roshan kumar'\u001b[0m\n\u001b[1;37m         ^\u001b[0m\n\u001b[1;31mSyntaxError\u001b[0m\u001b[1;31m:\u001b[0m invalid syntax\n"
     ]
    }
   ],
   "source": [
    "# space\n",
    "full name = 'roshan kumar'\n",
    "\n",
    "print(full name)"
   ]
  },
  {
   "cell_type": "code",
   "execution_count": 196,
   "id": "1c8ea18d",
   "metadata": {},
   "outputs": [
    {
     "name": "stdout",
     "output_type": "stream",
     "text": [
      "Ajay\n"
     ]
    }
   ],
   "source": [
    "# digit\n",
    "name1 = 'komal'\n",
    "m1s2 = 'Ajay'\n",
    "\n",
    "print(m1s2)"
   ]
  },
  {
   "cell_type": "code",
   "execution_count": 198,
   "id": "ef6d65bd",
   "metadata": {},
   "outputs": [
    {
     "ename": "SyntaxError",
     "evalue": "cannot assign to expression here. Maybe you meant '==' instead of '='? (2416293587.py, line 3)",
     "output_type": "error",
     "traceback": [
      "\u001b[1;36m  Cell \u001b[1;32mIn[198], line 3\u001b[1;36m\u001b[0m\n\u001b[1;33m    gfdjhfhg@345 = 'komal'\u001b[0m\n\u001b[1;37m    ^\u001b[0m\n\u001b[1;31mSyntaxError\u001b[0m\u001b[1;31m:\u001b[0m cannot assign to expression here. Maybe you meant '==' instead of '='?\n"
     ]
    }
   ],
   "source": [
    "# special\n",
    "# ~!@#$%^&*()+[]\n",
    "gfdjhfhg@345 = 'komal'\n",
    "print(gfdjhfhg@345)"
   ]
  },
  {
   "cell_type": "code",
   "execution_count": 199,
   "id": "a65a52a7",
   "metadata": {},
   "outputs": [
    {
     "name": "stdout",
     "output_type": "stream",
     "text": [
      "Ajay bagga\n"
     ]
    }
   ],
   "source": [
    "# underscore:- can use\n",
    "\n",
    "full_name = 'Ajay bagga'\n",
    "\n",
    "print(full_name)"
   ]
  },
  {
   "cell_type": "code",
   "execution_count": 200,
   "id": "c4cec99f",
   "metadata": {},
   "outputs": [
    {
     "name": "stdout",
     "output_type": "stream",
     "text": [
      "34\n"
     ]
    }
   ],
   "source": [
    "_a = 23\n",
    "__b = 34\n",
    "\n",
    "print(__b)"
   ]
  },
  {
   "cell_type": "code",
   "execution_count": 201,
   "id": "12134165",
   "metadata": {},
   "outputs": [
    {
     "name": "stdout",
     "output_type": "stream",
     "text": [
      "mohan\n"
     ]
    }
   ],
   "source": [
    "# python case sensitive language\n",
    "\n",
    "name = 'mohan'\n",
    "\n",
    "Name = 'Karan'\n",
    "\n",
    "print(name)"
   ]
  },
  {
   "cell_type": "code",
   "execution_count": 202,
   "id": "742aa9b2",
   "metadata": {},
   "outputs": [
    {
     "name": "stdout",
     "output_type": "stream",
     "text": [
      "Karan\n"
     ]
    }
   ],
   "source": [
    "print(Name)"
   ]
  },
  {
   "cell_type": "code",
   "execution_count": 204,
   "id": "342c42c8",
   "metadata": {},
   "outputs": [
    {
     "name": "stdout",
     "output_type": "stream",
     "text": [
      "\n",
      "Here is a list of the Python keywords.  Enter any keyword to get more help.\n",
      "\n",
      "False               class               from                or\n",
      "None                continue            global              pass\n",
      "True                def                 if                  raise\n",
      "and                 del                 import              return\n",
      "as                  elif                in                  try\n",
      "assert              else                is                  while\n",
      "async               except              lambda              with\n",
      "await               finally             nonlocal            yield\n",
      "break               for                 not                 \n",
      "\n"
     ]
    }
   ],
   "source": [
    "help('keywords')"
   ]
  },
  {
   "cell_type": "code",
   "execution_count": 205,
   "id": "93309afe",
   "metadata": {},
   "outputs": [
    {
     "ename": "SyntaxError",
     "evalue": "invalid syntax (1367623633.py, line 1)",
     "output_type": "error",
     "traceback": [
      "\u001b[1;36m  Cell \u001b[1;32mIn[205], line 1\u001b[1;36m\u001b[0m\n\u001b[1;33m    def  = 23\u001b[0m\n\u001b[1;37m         ^\u001b[0m\n\u001b[1;31mSyntaxError\u001b[0m\u001b[1;31m:\u001b[0m invalid syntax\n"
     ]
    }
   ],
   "source": [
    "def  = 23\n",
    "print(def)"
   ]
  },
  {
   "cell_type": "code",
   "execution_count": 206,
   "id": "35484fda",
   "metadata": {},
   "outputs": [
    {
     "data": {
      "text/plain": [
       "43213"
      ]
     },
     "execution_count": 206,
     "metadata": {},
     "output_type": "execute_result"
    }
   ],
   "source": [
    "# inbulit func\n",
    "\n",
    "a = [1,23,54,6,56,43213,4]\n",
    "\n",
    "max(a)"
   ]
  },
  {
   "cell_type": "code",
   "execution_count": 2,
   "id": "b23ef851",
   "metadata": {},
   "outputs": [],
   "source": [
    "# max = 45"
   ]
  },
  {
   "cell_type": "code",
   "execution_count": 1,
   "id": "2b16b86a",
   "metadata": {},
   "outputs": [
    {
     "data": {
      "text/plain": [
       "445"
      ]
     },
     "execution_count": 1,
     "metadata": {},
     "output_type": "execute_result"
    }
   ],
   "source": [
    "d = [1,23,445,324,43,5]\n",
    "\n",
    "max(d)"
   ]
  },
  {
   "cell_type": "code",
   "execution_count": 3,
   "id": "06c855a7",
   "metadata": {},
   "outputs": [],
   "source": [
    "# # Data types\n",
    "# int,float,complex\n",
    "# str\n",
    "# list\n",
    "# tuple\n",
    "# dict\n",
    "# set\n",
    "# if else\n",
    "# loop\n",
    "# pattern\n",
    "# func\n",
    "# modules\n",
    "# file\n",
    "# error:- except\n",
    "# threading\n",
    "# request\n",
    "# regex\n",
    "# oops\n",
    "# database:myssql,sql\n",
    "# webscarpping"
   ]
  },
  {
   "cell_type": "code",
   "execution_count": null,
   "id": "f12b7c76",
   "metadata": {},
   "outputs": [],
   "source": []
  }
 ],
 "metadata": {
  "kernelspec": {
   "display_name": "Python 3 (ipykernel)",
   "language": "python",
   "name": "python3"
  },
  "language_info": {
   "codemirror_mode": {
    "name": "ipython",
    "version": 3
   },
   "file_extension": ".py",
   "mimetype": "text/x-python",
   "name": "python",
   "nbconvert_exporter": "python",
   "pygments_lexer": "ipython3",
   "version": "3.11.3"
  }
 },
 "nbformat": 4,
 "nbformat_minor": 5
}

{
 "cells": [
  {
   "cell_type": "code",
   "execution_count": 1,
   "id": "664a4db0",
   "metadata": {},
   "outputs": [
    {
     "name": "stdout",
     "output_type": "stream",
     "text": [
      "12\n"
     ]
    }
   ],
   "source": [
    "a = 12   # bin(a)\n",
    "print(a)"
   ]
  },
  {
   "cell_type": "code",
   "execution_count": 2,
   "id": "1b232eba",
   "metadata": {},
   "outputs": [
    {
     "name": "stdout",
     "output_type": "stream",
     "text": [
      "{'Name': 'Ajay', 'Age': 23, 'Sec': 'A'}\n",
      "<class 'dict'>\n"
     ]
    }
   ],
   "source": [
    "data = {'Name':'Ajay','Age':23,'Sec':'A'}\n",
    "\n",
    "print(data)\n",
    "print(type(data))"
   ]
  },
  {
   "cell_type": "code",
   "execution_count": 3,
   "id": "34294346",
   "metadata": {},
   "outputs": [
    {
     "name": "stdout",
     "output_type": "stream",
     "text": [
      "{} <class 'dict'>\n"
     ]
    }
   ],
   "source": [
    "# empty dict\n",
    "\n",
    "empty_dict = {}\n",
    "\n",
    "print(empty_dict,type(empty_dict))"
   ]
  },
  {
   "cell_type": "code",
   "execution_count": 4,
   "id": "f926e357",
   "metadata": {},
   "outputs": [
    {
     "data": {
      "text/plain": [
       "3"
      ]
     },
     "execution_count": 4,
     "metadata": {},
     "output_type": "execute_result"
    }
   ],
   "source": [
    "data = {'Name':'Ajay','Age':23,'Sec':'A'}\n",
    "\n",
    "\n",
    "len(data)"
   ]
  },
  {
   "cell_type": "code",
   "execution_count": 5,
   "id": "55c2804e",
   "metadata": {},
   "outputs": [
    {
     "name": "stdout",
     "output_type": "stream",
     "text": [
      "1\n"
     ]
    }
   ],
   "source": [
    "my_data = {'Names':['Karan','Ajay','Mohit']}\n",
    "\n",
    "print(len(my_data))"
   ]
  },
  {
   "cell_type": "code",
   "execution_count": null,
   "id": "1e7890b2",
   "metadata": {},
   "outputs": [],
   "source": [
    "# int\n",
    "# float\n",
    "# complex\n",
    "# str\n",
    "# tuple\n",
    "# list\n",
    "# set\n",
    "# dict\n",
    "# bool\n",
    "# None\n",
    "# frozenset\n"
   ]
  },
  {
   "cell_type": "code",
   "execution_count": 6,
   "id": "04cc3928",
   "metadata": {},
   "outputs": [],
   "source": [
    "# keys: allowed:- int,float,str,tuple,complex,bool,None,frozenset\n",
    "# keys: not allowed:- list,dict,set\n",
    "\n",
    "\n",
    "# value:- all data types "
   ]
  },
  {
   "cell_type": "code",
   "execution_count": 11,
   "id": "d74f4f90",
   "metadata": {},
   "outputs": [],
   "source": [
    "d1 = {123:'Komal',\n",
    "      23.98:'Ajay',\n",
    "     34-9j:'karan',\n",
    "      True:'Ajay',\n",
    "      (1,2,3):'Jatin',\n",
    "      None: 'Mohit',\n",
    "      'Name':'Mohan',\n",
    "      frozenset((1,23,5)):'Akshay'}"
   ]
  },
  {
   "cell_type": "code",
   "execution_count": 12,
   "id": "b6cdfe64",
   "metadata": {},
   "outputs": [
    {
     "name": "stdout",
     "output_type": "stream",
     "text": [
      "{123: 'Komal', 23.98: 'Ajay', (34-9j): 'karan', True: 'Ajay', (1, 2, 3): 'Jatin', None: 'Mohit', 'Name': 'Mohan', frozenset({1, 5, 23}): 'Akshay'}\n"
     ]
    }
   ],
   "source": [
    "print(d1)"
   ]
  },
  {
   "cell_type": "code",
   "execution_count": 13,
   "id": "464aa64e",
   "metadata": {},
   "outputs": [
    {
     "name": "stdout",
     "output_type": "stream",
     "text": [
      "<class 'dict'>\n"
     ]
    }
   ],
   "source": [
    "print(type(d1))"
   ]
  },
  {
   "cell_type": "code",
   "execution_count": 14,
   "id": "9c5a9b13",
   "metadata": {},
   "outputs": [
    {
     "data": {
      "text/plain": [
       "8"
      ]
     },
     "execution_count": 14,
     "metadata": {},
     "output_type": "execute_result"
    }
   ],
   "source": [
    "len(d1)"
   ]
  },
  {
   "cell_type": "code",
   "execution_count": 15,
   "id": "3889c88d",
   "metadata": {},
   "outputs": [],
   "source": [
    "# list,dict,set"
   ]
  },
  {
   "cell_type": "code",
   "execution_count": 16,
   "id": "bce2b2e7",
   "metadata": {},
   "outputs": [
    {
     "ename": "TypeError",
     "evalue": "unhashable type: 'list'",
     "output_type": "error",
     "traceback": [
      "\u001b[1;31m---------------------------------------------------------------------------\u001b[0m",
      "\u001b[1;31mTypeError\u001b[0m                                 Traceback (most recent call last)",
      "Cell \u001b[1;32mIn[16], line 1\u001b[0m\n\u001b[1;32m----> 1\u001b[0m data \u001b[38;5;241m=\u001b[39m {[\u001b[38;5;241m12\u001b[39m,\u001b[38;5;241m34\u001b[39m,\u001b[38;5;241m35\u001b[39m]:\u001b[38;5;28;01mNone\u001b[39;00m}\n\u001b[0;32m      3\u001b[0m \u001b[38;5;28mprint\u001b[39m(data)\n",
      "\u001b[1;31mTypeError\u001b[0m: unhashable type: 'list'"
     ]
    }
   ],
   "source": [
    "data = {[12,34,35]:None}\n",
    "\n",
    "print(data)"
   ]
  },
  {
   "cell_type": "code",
   "execution_count": 17,
   "id": "a7d5bd8a",
   "metadata": {},
   "outputs": [
    {
     "ename": "TypeError",
     "evalue": "unhashable type: 'set'",
     "output_type": "error",
     "traceback": [
      "\u001b[1;31m---------------------------------------------------------------------------\u001b[0m",
      "\u001b[1;31mTypeError\u001b[0m                                 Traceback (most recent call last)",
      "Cell \u001b[1;32mIn[17], line 1\u001b[0m\n\u001b[1;32m----> 1\u001b[0m data \u001b[38;5;241m=\u001b[39m {{\u001b[38;5;241m12\u001b[39m,\u001b[38;5;241m34\u001b[39m,\u001b[38;5;241m35\u001b[39m}:\u001b[38;5;28;01mNone\u001b[39;00m}\n\u001b[0;32m      3\u001b[0m \u001b[38;5;28mprint\u001b[39m(data)\n",
      "\u001b[1;31mTypeError\u001b[0m: unhashable type: 'set'"
     ]
    }
   ],
   "source": [
    "data = {{12,34,35}:None}\n",
    "\n",
    "print(data)"
   ]
  },
  {
   "cell_type": "code",
   "execution_count": 18,
   "id": "98b46a2c",
   "metadata": {},
   "outputs": [
    {
     "ename": "TypeError",
     "evalue": "unhashable type: 'dict'",
     "output_type": "error",
     "traceback": [
      "\u001b[1;31m---------------------------------------------------------------------------\u001b[0m",
      "\u001b[1;31mTypeError\u001b[0m                                 Traceback (most recent call last)",
      "Cell \u001b[1;32mIn[18], line 1\u001b[0m\n\u001b[1;32m----> 1\u001b[0m data \u001b[38;5;241m=\u001b[39m {{\u001b[38;5;124m'\u001b[39m\u001b[38;5;124mName\u001b[39m\u001b[38;5;124m'\u001b[39m:\u001b[38;5;124m'\u001b[39m\u001b[38;5;124mAjay\u001b[39m\u001b[38;5;124m'\u001b[39m}:\u001b[38;5;28;01mNone\u001b[39;00m}\n\u001b[0;32m      3\u001b[0m \u001b[38;5;28mprint\u001b[39m(data)\n",
      "\u001b[1;31mTypeError\u001b[0m: unhashable type: 'dict'"
     ]
    }
   ],
   "source": [
    "data = {{'Name':'Ajay'}:None}\n",
    "\n",
    "print(data)"
   ]
  },
  {
   "cell_type": "code",
   "execution_count": 19,
   "id": "64a54c37",
   "metadata": {},
   "outputs": [],
   "source": [
    "# All data types allowed at value position"
   ]
  },
  {
   "cell_type": "code",
   "execution_count": 20,
   "id": "d0e4c678",
   "metadata": {},
   "outputs": [],
   "source": [
    "data = {'k1':12,\n",
    "       'k2':23.5,\n",
    "       'k3':67-98j,\n",
    "       'k4':(12,34,35),\n",
    "       'K5':[1,234,5],\n",
    "       'k6':{122,343,5},\n",
    "       'k7':{'Name':'mohan','Age':23},\n",
    "       'k8':None,\n",
    "       'k9':True,\n",
    "       'k10':'Jatin',\n",
    "       'K11':frozenset((1,23,5))}"
   ]
  },
  {
   "cell_type": "code",
   "execution_count": 21,
   "id": "cd05846d",
   "metadata": {},
   "outputs": [
    {
     "name": "stdout",
     "output_type": "stream",
     "text": [
      "{'k1': 12, 'k2': 23.5, 'k3': (67-98j), 'k4': (12, 34, 35), 'K5': [1, 234, 5], 'k6': {122, 5, 343}, 'k7': {'Name': 'mohan', 'Age': 23}, 'k8': None, 'k9': True, 'k10': 'Jatin', 'K11': frozenset({1, 5, 23})}\n"
     ]
    }
   ],
   "source": [
    "print(data)"
   ]
  },
  {
   "cell_type": "code",
   "execution_count": 22,
   "id": "8b678eb1",
   "metadata": {},
   "outputs": [
    {
     "name": "stdout",
     "output_type": "stream",
     "text": [
      "<class 'dict'>\n"
     ]
    }
   ],
   "source": [
    "print(type(data))"
   ]
  },
  {
   "cell_type": "code",
   "execution_count": 23,
   "id": "3d7cc19c",
   "metadata": {},
   "outputs": [
    {
     "data": {
      "text/plain": [
       "11"
      ]
     },
     "execution_count": 23,
     "metadata": {},
     "output_type": "execute_result"
    }
   ],
   "source": [
    "len(data)"
   ]
  },
  {
   "cell_type": "code",
   "execution_count": 24,
   "id": "3c9d47fc",
   "metadata": {},
   "outputs": [
    {
     "name": "stdout",
     "output_type": "stream",
     "text": [
      "{'name': 'Ajay', 'class': 12}\n",
      "{'sec': 'B', 'Address': 'Noida'}\n"
     ]
    }
   ],
   "source": [
    "# Basic op\n",
    "\n",
    "a = {'name':'Ajay','class':12}\n",
    "b = {'sec':'B','Address':'Noida'}\n",
    "\n",
    "\n",
    "print(a)\n",
    "print(b)"
   ]
  },
  {
   "cell_type": "code",
   "execution_count": 30,
   "id": "84a07207",
   "metadata": {},
   "outputs": [
    {
     "ename": "TypeError",
     "evalue": "unsupported operand type(s) for +: 'dict' and 'dict'",
     "output_type": "error",
     "traceback": [
      "\u001b[1;31m---------------------------------------------------------------------------\u001b[0m",
      "\u001b[1;31mTypeError\u001b[0m                                 Traceback (most recent call last)",
      "Cell \u001b[1;32mIn[30], line 1\u001b[0m\n\u001b[1;32m----> 1\u001b[0m \u001b[38;5;28mprint\u001b[39m(a \u001b[38;5;241m+\u001b[39m b)\n",
      "\u001b[1;31mTypeError\u001b[0m: unsupported operand type(s) for +: 'dict' and 'dict'"
     ]
    }
   ],
   "source": [
    "print(a + b)"
   ]
  },
  {
   "cell_type": "code",
   "execution_count": 31,
   "id": "8e0f6e84",
   "metadata": {},
   "outputs": [
    {
     "ename": "TypeError",
     "evalue": "unsupported operand type(s) for *: 'dict' and 'int'",
     "output_type": "error",
     "traceback": [
      "\u001b[1;31m---------------------------------------------------------------------------\u001b[0m",
      "\u001b[1;31mTypeError\u001b[0m                                 Traceback (most recent call last)",
      "Cell \u001b[1;32mIn[31], line 1\u001b[0m\n\u001b[1;32m----> 1\u001b[0m a\u001b[38;5;241m*\u001b[39m\u001b[38;5;241m2\u001b[39m\n",
      "\u001b[1;31mTypeError\u001b[0m: unsupported operand type(s) for *: 'dict' and 'int'"
     ]
    }
   ],
   "source": [
    "a*2"
   ]
  },
  {
   "cell_type": "code",
   "execution_count": 33,
   "id": "e9801850",
   "metadata": {},
   "outputs": [
    {
     "name": "stdout",
     "output_type": "stream",
     "text": [
      "{'Name': 'Mohan', 'Age': 12, 'Class': 10, 'Sec': 'A', 'class': 8}\n"
     ]
    }
   ],
   "source": [
    "# We can not create duplicate key in dictionary\n",
    "\n",
    "my_dict = {'Name':'Komal','Age':12,'Class':12,'Name':'Mohan','Sec':'A','Class':10,'class':8}\n",
    "\n",
    "print(my_dict)"
   ]
  },
  {
   "cell_type": "code",
   "execution_count": 34,
   "id": "558f35c0",
   "metadata": {},
   "outputs": [
    {
     "data": {
      "text/plain": [
       "5"
      ]
     },
     "execution_count": 34,
     "metadata": {},
     "output_type": "execute_result"
    }
   ],
   "source": [
    "len(my_dict)"
   ]
  },
  {
   "cell_type": "code",
   "execution_count": 35,
   "id": "e9c0583b",
   "metadata": {},
   "outputs": [],
   "source": [
    "# single element/item:- one key-value\n"
   ]
  },
  {
   "cell_type": "code",
   "execution_count": 36,
   "id": "b29a6264",
   "metadata": {},
   "outputs": [],
   "source": [
    "# all key value:- items"
   ]
  },
  {
   "cell_type": "code",
   "execution_count": 38,
   "id": "5a6f3abd",
   "metadata": {},
   "outputs": [
    {
     "data": {
      "text/plain": [
       "['M', 'M', 'M', 'M', 'M']"
      ]
     },
     "execution_count": 38,
     "metadata": {},
     "output_type": "execute_result"
    }
   ],
   "source": [
    "# some important uses\n",
    "['M']*5"
   ]
  },
  {
   "cell_type": "code",
   "execution_count": 52,
   "id": "5c09c3ac",
   "metadata": {},
   "outputs": [
    {
     "name": "stdout",
     "output_type": "stream",
     "text": [
      "{'Names': ['Mohit', 'Samsheer', 'sarwar', 'karan', 'Rahul'], 'Age': [23, 25, 22, 21, 20], 'Class': [12, 11, 12, 10, 11], 'Sec': ['A', 'B', 'A', 'C', 'B'], 'Address': ['Noida', 'Delhi', 'Faridabad', 'Gurgaon', 'Noida'], 'Gender': ['M', 'M', 'M', 'M', 'M']}\n"
     ]
    }
   ],
   "source": [
    "students_data = {'Names':['Mohit','Samsheer','sarwar','karan','Rahul'],\n",
    "                'Age':[23,25,22,21,20],\n",
    "                'Class':[12,11,12,10,11],\n",
    "                'Sec':['A','B','A','C','B'],\n",
    "                'Address':['Noida','Delhi','Faridabad','Gurgaon','Noida'],\n",
    "                'Gender':['M']*5}\n",
    "\n",
    "print(students_data)"
   ]
  },
  {
   "cell_type": "code",
   "execution_count": 53,
   "id": "2cdddc88",
   "metadata": {},
   "outputs": [],
   "source": [
    "import pandas as pd"
   ]
  },
  {
   "cell_type": "code",
   "execution_count": 55,
   "id": "605c8163",
   "metadata": {},
   "outputs": [
    {
     "data": {
      "text/html": [
       "<div>\n",
       "<style scoped>\n",
       "    .dataframe tbody tr th:only-of-type {\n",
       "        vertical-align: middle;\n",
       "    }\n",
       "\n",
       "    .dataframe tbody tr th {\n",
       "        vertical-align: top;\n",
       "    }\n",
       "\n",
       "    .dataframe thead th {\n",
       "        text-align: right;\n",
       "    }\n",
       "</style>\n",
       "<table border=\"1\" class=\"dataframe\">\n",
       "  <thead>\n",
       "    <tr style=\"text-align: right;\">\n",
       "      <th></th>\n",
       "      <th>Names</th>\n",
       "      <th>Age</th>\n",
       "      <th>Class</th>\n",
       "      <th>Sec</th>\n",
       "      <th>Address</th>\n",
       "      <th>Gender</th>\n",
       "    </tr>\n",
       "  </thead>\n",
       "  <tbody>\n",
       "    <tr>\n",
       "      <th>1</th>\n",
       "      <td>Mohit</td>\n",
       "      <td>23</td>\n",
       "      <td>12</td>\n",
       "      <td>A</td>\n",
       "      <td>Noida</td>\n",
       "      <td>M</td>\n",
       "    </tr>\n",
       "    <tr>\n",
       "      <th>2</th>\n",
       "      <td>Samsheer</td>\n",
       "      <td>25</td>\n",
       "      <td>11</td>\n",
       "      <td>B</td>\n",
       "      <td>Delhi</td>\n",
       "      <td>M</td>\n",
       "    </tr>\n",
       "    <tr>\n",
       "      <th>3</th>\n",
       "      <td>sarwar</td>\n",
       "      <td>22</td>\n",
       "      <td>12</td>\n",
       "      <td>A</td>\n",
       "      <td>Faridabad</td>\n",
       "      <td>M</td>\n",
       "    </tr>\n",
       "    <tr>\n",
       "      <th>4</th>\n",
       "      <td>karan</td>\n",
       "      <td>21</td>\n",
       "      <td>10</td>\n",
       "      <td>C</td>\n",
       "      <td>Gurgaon</td>\n",
       "      <td>M</td>\n",
       "    </tr>\n",
       "    <tr>\n",
       "      <th>5</th>\n",
       "      <td>Rahul</td>\n",
       "      <td>20</td>\n",
       "      <td>11</td>\n",
       "      <td>B</td>\n",
       "      <td>Noida</td>\n",
       "      <td>M</td>\n",
       "    </tr>\n",
       "  </tbody>\n",
       "</table>\n",
       "</div>"
      ],
      "text/plain": [
       "      Names  Age  Class Sec    Address Gender\n",
       "1     Mohit   23     12   A      Noida      M\n",
       "2  Samsheer   25     11   B      Delhi      M\n",
       "3    sarwar   22     12   A  Faridabad      M\n",
       "4     karan   21     10   C    Gurgaon      M\n",
       "5     Rahul   20     11   B      Noida      M"
      ]
     },
     "execution_count": 55,
     "metadata": {},
     "output_type": "execute_result"
    }
   ],
   "source": [
    "table = pd.DataFrame(students_data,index = range(1,len(students_data)))\n",
    "table"
   ]
  },
  {
   "cell_type": "code",
   "execution_count": 47,
   "id": "90b81644",
   "metadata": {},
   "outputs": [
    {
     "name": "stdout",
     "output_type": "stream",
     "text": [
      "done\n"
     ]
    }
   ],
   "source": [
    "table.to_excel('students_data.xlsx')\n",
    "print('done')"
   ]
  },
  {
   "cell_type": "code",
   "execution_count": 48,
   "id": "e0ec153e",
   "metadata": {},
   "outputs": [],
   "source": [
    "# employee data"
   ]
  },
  {
   "cell_type": "code",
   "execution_count": 56,
   "id": "12280a1b",
   "metadata": {},
   "outputs": [],
   "source": [
    "# features of dictionary\n",
    "# 1>> it does not support indexing\n",
    "# 2>> it does not support slicing\n",
    "# 3>> we can'not duplicate keys\n",
    "# 4>> we can chnage element or value with the help of key"
   ]
  },
  {
   "cell_type": "code",
   "execution_count": 57,
   "id": "637eae0d",
   "metadata": {},
   "outputs": [
    {
     "data": {
      "text/plain": [
       "{'Name': 'Ajay',\n",
       " 'Age': 23,\n",
       " 'Sec': 'A',\n",
       " 'Address': 'Delhi',\n",
       " 'contact': 9898787654}"
      ]
     },
     "execution_count": 57,
     "metadata": {},
     "output_type": "execute_result"
    }
   ],
   "source": [
    "data = {'Name':'Ajay','Age':23,'Sec':'A','Address':'Delhi','contact':9898787654}\n",
    "\n",
    "\n",
    "data"
   ]
  },
  {
   "cell_type": "code",
   "execution_count": 58,
   "id": "b78023ae",
   "metadata": {},
   "outputs": [
    {
     "ename": "KeyError",
     "evalue": "1",
     "output_type": "error",
     "traceback": [
      "\u001b[1;31m---------------------------------------------------------------------------\u001b[0m",
      "\u001b[1;31mKeyError\u001b[0m                                  Traceback (most recent call last)",
      "Cell \u001b[1;32mIn[58], line 1\u001b[0m\n\u001b[1;32m----> 1\u001b[0m data[\u001b[38;5;241m1\u001b[39m]\n",
      "\u001b[1;31mKeyError\u001b[0m: 1"
     ]
    }
   ],
   "source": [
    "data[1]"
   ]
  },
  {
   "cell_type": "code",
   "execution_count": 59,
   "id": "d5971304",
   "metadata": {},
   "outputs": [],
   "source": [
    "# data['keys name']"
   ]
  },
  {
   "cell_type": "code",
   "execution_count": 61,
   "id": "56f27d8f",
   "metadata": {},
   "outputs": [
    {
     "data": {
      "text/plain": [
       "'Ajay'"
      ]
     },
     "execution_count": 61,
     "metadata": {},
     "output_type": "execute_result"
    }
   ],
   "source": [
    "data['Name']"
   ]
  },
  {
   "cell_type": "code",
   "execution_count": 62,
   "id": "07080317",
   "metadata": {},
   "outputs": [
    {
     "ename": "KeyError",
     "evalue": "'name'",
     "output_type": "error",
     "traceback": [
      "\u001b[1;31m---------------------------------------------------------------------------\u001b[0m",
      "\u001b[1;31mKeyError\u001b[0m                                  Traceback (most recent call last)",
      "Cell \u001b[1;32mIn[62], line 1\u001b[0m\n\u001b[1;32m----> 1\u001b[0m data[\u001b[38;5;124m'\u001b[39m\u001b[38;5;124mname\u001b[39m\u001b[38;5;124m'\u001b[39m]\n",
      "\u001b[1;31mKeyError\u001b[0m: 'name'"
     ]
    }
   ],
   "source": [
    "data['name']"
   ]
  },
  {
   "cell_type": "code",
   "execution_count": 63,
   "id": "35ab8980",
   "metadata": {},
   "outputs": [],
   "source": [
    "# we can change element or value with the help of key"
   ]
  },
  {
   "cell_type": "code",
   "execution_count": 64,
   "id": "53039ea8",
   "metadata": {},
   "outputs": [
    {
     "data": {
      "text/plain": [
       "{'Name': 'Ajay',\n",
       " 'Age': 23,\n",
       " 'Sec': 'A',\n",
       " 'Address': 'Delhi',\n",
       " 'contact': 9898787654}"
      ]
     },
     "execution_count": 64,
     "metadata": {},
     "output_type": "execute_result"
    }
   ],
   "source": [
    "data"
   ]
  },
  {
   "cell_type": "code",
   "execution_count": 66,
   "id": "db19284c",
   "metadata": {},
   "outputs": [],
   "source": [
    "data['Sec'] = \"B\""
   ]
  },
  {
   "cell_type": "code",
   "execution_count": 67,
   "id": "7f729204",
   "metadata": {},
   "outputs": [
    {
     "name": "stdout",
     "output_type": "stream",
     "text": [
      "{'Name': 'Ajay', 'Age': 23, 'Sec': 'B', 'Address': 'Delhi', 'contact': 9898787654}\n"
     ]
    }
   ],
   "source": [
    "print(data)"
   ]
  },
  {
   "cell_type": "code",
   "execution_count": 69,
   "id": "5091cc3b",
   "metadata": {},
   "outputs": [],
   "source": [
    "data['Address'] = 'Gr Noida'"
   ]
  },
  {
   "cell_type": "code",
   "execution_count": 70,
   "id": "5ba97084",
   "metadata": {},
   "outputs": [
    {
     "name": "stdout",
     "output_type": "stream",
     "text": [
      "{'Name': 'Ajay', 'Age': 23, 'Sec': 'B', 'Address': 'Gr Noida', 'contact': 9898787654}\n"
     ]
    }
   ],
   "source": [
    "print(data)"
   ]
  },
  {
   "cell_type": "code",
   "execution_count": 71,
   "id": "b09373d3",
   "metadata": {},
   "outputs": [],
   "source": [
    "data['Contact'] = 8787676543"
   ]
  },
  {
   "cell_type": "code",
   "execution_count": 72,
   "id": "0d574ce4",
   "metadata": {},
   "outputs": [
    {
     "name": "stdout",
     "output_type": "stream",
     "text": [
      "{'Name': 'Ajay', 'Age': 23, 'Sec': 'B', 'Address': 'Gr Noida', 'contact': 9898787654, 'Contact': 8787676543}\n"
     ]
    }
   ],
   "source": [
    "print(data)"
   ]
  },
  {
   "cell_type": "code",
   "execution_count": null,
   "id": "d6245c08",
   "metadata": {},
   "outputs": [],
   "source": []
  },
  {
   "cell_type": "code",
   "execution_count": 75,
   "id": "7bd3ee77",
   "metadata": {},
   "outputs": [],
   "source": [
    "data['Age'] = 700"
   ]
  },
  {
   "cell_type": "code",
   "execution_count": 76,
   "id": "6212a4a9",
   "metadata": {},
   "outputs": [
    {
     "name": "stdout",
     "output_type": "stream",
     "text": [
      "{'Name': 'Ajay', 'Age': 700, 'Sec': 'B', 'Address': 'Gr Noida', 'contact': 9898787654, 'Contact': 8787676543}\n"
     ]
    }
   ],
   "source": [
    "print(data)"
   ]
  },
  {
   "cell_type": "code",
   "execution_count": 77,
   "id": "31ebc7fb",
   "metadata": {},
   "outputs": [
    {
     "data": {
      "text/plain": [
       "{'Names': ['Mohit', 'Samsheer', 'sarwar', 'karan', 'Rahul'],\n",
       " 'Age': [23, 25, 22, 21, 20],\n",
       " 'Class': [12, 11, 12, 10, 11],\n",
       " 'Sec': ['A', 'B', 'A', 'C', 'B'],\n",
       " 'Address': ['Noida', 'Delhi', 'Faridabad', 'Gurgaon', 'Noida'],\n",
       " 'Gender': ['M', 'M', 'M', 'M', 'M']}"
      ]
     },
     "execution_count": 77,
     "metadata": {},
     "output_type": "execute_result"
    }
   ],
   "source": [
    "students_data = {'Names':['Mohit','Samsheer','sarwar','karan','Rahul'],\n",
    "                'Age':[23,25,22,21,20],\n",
    "                'Class':[12,11,12,10,11],\n",
    "                'Sec':['A','B','A','C','B'],\n",
    "                'Address':['Noida','Delhi','Faridabad','Gurgaon','Noida'],\n",
    "                'Gender':['M']*5}\n",
    "\n",
    "\n",
    "students_data"
   ]
  },
  {
   "cell_type": "code",
   "execution_count": 80,
   "id": "bb6fc29e",
   "metadata": {},
   "outputs": [],
   "source": [
    "students_data['Names'][-2] = 'Karan Verma'"
   ]
  },
  {
   "cell_type": "code",
   "execution_count": 81,
   "id": "154b0eff",
   "metadata": {},
   "outputs": [
    {
     "data": {
      "text/plain": [
       "{'Names': ['Mohit', 'Samsheer', 'sarwar', 'Karan Verma', 'Rahul'],\n",
       " 'Age': [23, 25, 22, 21, 20],\n",
       " 'Class': [12, 11, 12, 10, 11],\n",
       " 'Sec': ['A', 'B', 'A', 'C', 'B'],\n",
       " 'Address': ['Noida', 'Delhi', 'Faridabad', 'Gurgaon', 'Noida'],\n",
       " 'Gender': ['M', 'M', 'M', 'M', 'M']}"
      ]
     },
     "execution_count": 81,
     "metadata": {},
     "output_type": "execute_result"
    }
   ],
   "source": [
    "students_data"
   ]
  },
  {
   "cell_type": "code",
   "execution_count": 83,
   "id": "75757ad7",
   "metadata": {},
   "outputs": [],
   "source": [
    "students_data['Address'][3] = 'Gurugram'"
   ]
  },
  {
   "cell_type": "code",
   "execution_count": 84,
   "id": "0b17eaf2",
   "metadata": {},
   "outputs": [
    {
     "data": {
      "text/plain": [
       "{'Names': ['Mohit', 'Samsheer', 'sarwar', 'Karan Verma', 'Rahul'],\n",
       " 'Age': [23, 25, 22, 21, 20],\n",
       " 'Class': [12, 11, 12, 10, 11],\n",
       " 'Sec': ['A', 'B', 'A', 'C', 'B'],\n",
       " 'Address': ['Noida', 'Delhi', 'Faridabad', 'Gurugram', 'Noida'],\n",
       " 'Gender': ['M', 'M', 'M', 'M', 'M']}"
      ]
     },
     "execution_count": 84,
     "metadata": {},
     "output_type": "execute_result"
    }
   ],
   "source": [
    "students_data"
   ]
  },
  {
   "cell_type": "code",
   "execution_count": 85,
   "id": "8063b77b",
   "metadata": {},
   "outputs": [],
   "source": [
    "# Final topic nested dict"
   ]
  },
  {
   "cell_type": "code",
   "execution_count": 87,
   "id": "6617b9dc",
   "metadata": {},
   "outputs": [
    {
     "data": {
      "text/plain": [
       "{'Banda': {'Noida': [{'Bank1': [{'L1': 200, 'L2': 400}],\n",
       "    'Bank2': [],\n",
       "    'Bank3': [{'Gold': None, 'Silver': None}]}],\n",
       "  'Delhi': []}}"
      ]
     },
     "execution_count": 87,
     "metadata": {},
     "output_type": "execute_result"
    }
   ],
   "source": [
    "complex_dict = {'Banda':{'Noida':[{'Bank1':[{'L1':200,'L2':400}],'Bank2':[],'Bank3':[{'Gold':None,'Silver':None}]}],\n",
    "                         'Delhi':[]}}\n",
    "\n",
    "complex_dict"
   ]
  },
  {
   "cell_type": "code",
   "execution_count": 94,
   "id": "ddc42233",
   "metadata": {},
   "outputs": [],
   "source": [
    "complex_dict['Banda']['Noida'][0]['Bank1'][0]['L1'] = 0"
   ]
  },
  {
   "cell_type": "code",
   "execution_count": 97,
   "id": "89da68d0",
   "metadata": {},
   "outputs": [],
   "source": [
    "# complex_dict\n",
    "complex_dict['Banda']['Noida'][0]['Bank1'][0]['L2'] = 0"
   ]
  },
  {
   "cell_type": "code",
   "execution_count": 98,
   "id": "f48438ea",
   "metadata": {},
   "outputs": [
    {
     "data": {
      "text/plain": [
       "{'Banda': {'Noida': [{'Bank1': [{'L1': 0, 'L2': 0}],\n",
       "    'Bank2': [],\n",
       "    'Bank3': [{'Gold': None, 'Silver': None}]}],\n",
       "  'Delhi': []}}"
      ]
     },
     "execution_count": 98,
     "metadata": {},
     "output_type": "execute_result"
    }
   ],
   "source": [
    "complex_dict"
   ]
  },
  {
   "cell_type": "code",
   "execution_count": 103,
   "id": "19368e49",
   "metadata": {},
   "outputs": [],
   "source": [
    "complex_dict['Banda']['Noida'][0]['Bank3'][0]['Gold'] = 200"
   ]
  },
  {
   "cell_type": "code",
   "execution_count": 106,
   "id": "7b648808",
   "metadata": {},
   "outputs": [],
   "source": [
    "# complex_dict\n",
    "\n",
    "complex_dict['Banda']['Noida'][0]['Bank3'][0]['Silver'] = 400"
   ]
  },
  {
   "cell_type": "code",
   "execution_count": 107,
   "id": "11ec0a19",
   "metadata": {},
   "outputs": [
    {
     "data": {
      "text/plain": [
       "{'Banda': {'Noida': [{'Bank1': [{'L1': 0, 'L2': 0}],\n",
       "    'Bank2': [],\n",
       "    'Bank3': [{'Gold': 200, 'Silver': 400}]}],\n",
       "  'Delhi': []}}"
      ]
     },
     "execution_count": 107,
     "metadata": {},
     "output_type": "execute_result"
    }
   ],
   "source": [
    "complex_dict"
   ]
  },
  {
   "cell_type": "code",
   "execution_count": 108,
   "id": "41b9c496",
   "metadata": {},
   "outputs": [
    {
     "data": {
      "text/plain": [
       "['__class__',\n",
       " '__class_getitem__',\n",
       " '__contains__',\n",
       " '__delattr__',\n",
       " '__delitem__',\n",
       " '__dir__',\n",
       " '__doc__',\n",
       " '__eq__',\n",
       " '__format__',\n",
       " '__ge__',\n",
       " '__getattribute__',\n",
       " '__getitem__',\n",
       " '__getstate__',\n",
       " '__gt__',\n",
       " '__hash__',\n",
       " '__init__',\n",
       " '__init_subclass__',\n",
       " '__ior__',\n",
       " '__iter__',\n",
       " '__le__',\n",
       " '__len__',\n",
       " '__lt__',\n",
       " '__ne__',\n",
       " '__new__',\n",
       " '__or__',\n",
       " '__reduce__',\n",
       " '__reduce_ex__',\n",
       " '__repr__',\n",
       " '__reversed__',\n",
       " '__ror__',\n",
       " '__setattr__',\n",
       " '__setitem__',\n",
       " '__sizeof__',\n",
       " '__str__',\n",
       " '__subclasshook__',\n",
       " 'clear',\n",
       " 'copy',\n",
       " 'fromkeys',\n",
       " 'get',\n",
       " 'items',\n",
       " 'keys',\n",
       " 'pop',\n",
       " 'popitem',\n",
       " 'setdefault',\n",
       " 'update',\n",
       " 'values']"
      ]
     },
     "execution_count": 108,
     "metadata": {},
     "output_type": "execute_result"
    }
   ],
   "source": [
    "dir(dict)"
   ]
  },
  {
   "cell_type": "code",
   "execution_count": 109,
   "id": "85b36276",
   "metadata": {},
   "outputs": [],
   "source": [
    "# 'clear',\n",
    "#  'copy',\n",
    "#  'fromkeys',\n",
    "#  'get',\n",
    "#  'items',\n",
    "#  'keys',\n",
    "#  'pop',\n",
    "#  'popitem',\n",
    "#  'setdefault',\n",
    "#  'update',\n",
    "#  'values']"
   ]
  },
  {
   "cell_type": "code",
   "execution_count": null,
   "id": "930a000a",
   "metadata": {},
   "outputs": [],
   "source": []
  }
 ],
 "metadata": {
  "kernelspec": {
   "display_name": "Python 3 (ipykernel)",
   "language": "python",
   "name": "python3"
  },
  "language_info": {
   "codemirror_mode": {
    "name": "ipython",
    "version": 3
   },
   "file_extension": ".py",
   "mimetype": "text/x-python",
   "name": "python",
   "nbconvert_exporter": "python",
   "pygments_lexer": "ipython3",
   "version": "3.11.3"
  }
 },
 "nbformat": 4,
 "nbformat_minor": 5
}

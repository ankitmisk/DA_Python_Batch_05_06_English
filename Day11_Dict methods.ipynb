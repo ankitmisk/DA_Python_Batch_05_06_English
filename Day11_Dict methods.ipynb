{
 "cells": [
  {
   "cell_type": "code",
   "execution_count": 1,
   "id": "3913927f",
   "metadata": {},
   "outputs": [
    {
     "name": "stdout",
     "output_type": "stream",
     "text": [
      "['__class__', '__class_getitem__', '__contains__', '__delattr__', '__delitem__', '__dir__', '__doc__', '__eq__', '__format__', '__ge__', '__getattribute__', '__getitem__', '__getstate__', '__gt__', '__hash__', '__init__', '__init_subclass__', '__ior__', '__iter__', '__le__', '__len__', '__lt__', '__ne__', '__new__', '__or__', '__reduce__', '__reduce_ex__', '__repr__', '__reversed__', '__ror__', '__setattr__', '__setitem__', '__sizeof__', '__str__', '__subclasshook__', 'clear', 'copy', 'fromkeys', 'get', 'items', 'keys', 'pop', 'popitem', 'setdefault', 'update', 'values']\n"
     ]
    }
   ],
   "source": [
    "print(dir(dict))"
   ]
  },
  {
   "cell_type": "code",
   "execution_count": 2,
   "id": "0720f58e",
   "metadata": {},
   "outputs": [],
   "source": [
    "all_methods = ['clear', 'copy', 'fromkeys', 'get', 'items', 'keys', 'pop', 'popitem', 'setdefault', 'update', 'values']"
   ]
  },
  {
   "cell_type": "code",
   "execution_count": 3,
   "id": "9d244dda",
   "metadata": {},
   "outputs": [
    {
     "name": "stdout",
     "output_type": "stream",
     "text": [
      "['clear', 'copy', 'fromkeys', 'get', 'items', 'keys', 'pop', 'popitem', 'setdefault', 'update', 'values']\n"
     ]
    }
   ],
   "source": [
    "print(all_methods)"
   ]
  },
  {
   "cell_type": "code",
   "execution_count": 4,
   "id": "ff0cf6ea",
   "metadata": {},
   "outputs": [
    {
     "data": {
      "text/plain": [
       "11"
      ]
     },
     "execution_count": 4,
     "metadata": {},
     "output_type": "execute_result"
    }
   ],
   "source": [
    "len(all_methods)"
   ]
  },
  {
   "cell_type": "code",
   "execution_count": 5,
   "id": "36271f4a",
   "metadata": {},
   "outputs": [],
   "source": [
    "a = {'name':'karan'}"
   ]
  },
  {
   "cell_type": "code",
   "execution_count": 6,
   "id": "6da34490",
   "metadata": {},
   "outputs": [
    {
     "name": "stdout",
     "output_type": "stream",
     "text": [
      "<class 'dict'>\n"
     ]
    }
   ],
   "source": [
    "print(type(a))"
   ]
  },
  {
   "cell_type": "code",
   "execution_count": 7,
   "id": "6f0d46f3",
   "metadata": {},
   "outputs": [],
   "source": [
    "# methods"
   ]
  },
  {
   "cell_type": "code",
   "execution_count": 8,
   "id": "88d60515",
   "metadata": {},
   "outputs": [
    {
     "name": "stdout",
     "output_type": "stream",
     "text": [
      "{'Name': 'Ajay', 'Age': 23, 'Class': 12, 'Sec': 'B', 'Address': 'Noida'}\n"
     ]
    }
   ],
   "source": [
    "data = {'Name':'Ajay',\n",
    "       'Age':23,\n",
    "       'Class':12,\n",
    "       'Sec':'B',\n",
    "       'Address':'Noida'}\n",
    "\n",
    "print(data)"
   ]
  },
  {
   "cell_type": "code",
   "execution_count": 9,
   "id": "f5a4c958",
   "metadata": {},
   "outputs": [
    {
     "data": {
      "text/plain": [
       "{'Name': 'Ajay', 'Age': 23, 'Class': 12, 'Sec': 'B', 'Address': 'Noida'}"
      ]
     },
     "execution_count": 9,
     "metadata": {},
     "output_type": "execute_result"
    }
   ],
   "source": [
    "data"
   ]
  },
  {
   "cell_type": "code",
   "execution_count": 10,
   "id": "d48aeeee",
   "metadata": {},
   "outputs": [],
   "source": [
    "data.clear()"
   ]
  },
  {
   "cell_type": "code",
   "execution_count": 11,
   "id": "2dba0794",
   "metadata": {},
   "outputs": [
    {
     "name": "stdout",
     "output_type": "stream",
     "text": [
      "{}\n"
     ]
    }
   ],
   "source": [
    "print(data)"
   ]
  },
  {
   "cell_type": "code",
   "execution_count": 12,
   "id": "74f23741",
   "metadata": {},
   "outputs": [],
   "source": [
    "# 'copy'\n",
    "# deep copy"
   ]
  },
  {
   "cell_type": "code",
   "execution_count": 13,
   "id": "793eecc1",
   "metadata": {},
   "outputs": [],
   "source": [
    "a = {'Name':'karan','Balance':23456}\n",
    "b = a"
   ]
  },
  {
   "cell_type": "code",
   "execution_count": 14,
   "id": "3d32e2a9",
   "metadata": {},
   "outputs": [
    {
     "name": "stdout",
     "output_type": "stream",
     "text": [
      "{'Name': 'karan', 'Balance': 23456}\n"
     ]
    }
   ],
   "source": [
    "print(b)"
   ]
  },
  {
   "cell_type": "code",
   "execution_count": 15,
   "id": "17fda9ec",
   "metadata": {},
   "outputs": [
    {
     "name": "stdout",
     "output_type": "stream",
     "text": [
      "{'Name': 'karan', 'Balance': 23456}\n"
     ]
    }
   ],
   "source": [
    "print(a)"
   ]
  },
  {
   "cell_type": "code",
   "execution_count": 17,
   "id": "88583b0a",
   "metadata": {},
   "outputs": [],
   "source": [
    "b['Balance'] = 987654567890987"
   ]
  },
  {
   "cell_type": "code",
   "execution_count": 18,
   "id": "0623b910",
   "metadata": {},
   "outputs": [
    {
     "name": "stdout",
     "output_type": "stream",
     "text": [
      "{'Name': 'karan', 'Balance': 987654567890987}\n"
     ]
    }
   ],
   "source": [
    "print(b)"
   ]
  },
  {
   "cell_type": "code",
   "execution_count": 19,
   "id": "fd2f655b",
   "metadata": {},
   "outputs": [
    {
     "name": "stdout",
     "output_type": "stream",
     "text": [
      "{'Name': 'karan', 'Balance': 987654567890987}\n"
     ]
    }
   ],
   "source": [
    "print(a)"
   ]
  },
  {
   "cell_type": "code",
   "execution_count": 20,
   "id": "d197a748",
   "metadata": {},
   "outputs": [],
   "source": [
    "# 'copy'\n",
    "# shallow copy"
   ]
  },
  {
   "cell_type": "code",
   "execution_count": 21,
   "id": "0fb24c68",
   "metadata": {},
   "outputs": [],
   "source": [
    "a = {'Name':'karan','Balance':23456}\n",
    "b = a.copy()"
   ]
  },
  {
   "cell_type": "code",
   "execution_count": 22,
   "id": "8d24db58",
   "metadata": {},
   "outputs": [
    {
     "name": "stdout",
     "output_type": "stream",
     "text": [
      "{'Name': 'karan', 'Balance': 23456}\n"
     ]
    }
   ],
   "source": [
    "print(b)"
   ]
  },
  {
   "cell_type": "code",
   "execution_count": 23,
   "id": "9da8b92b",
   "metadata": {},
   "outputs": [
    {
     "name": "stdout",
     "output_type": "stream",
     "text": [
      "{'Name': 'karan', 'Balance': 23456}\n"
     ]
    }
   ],
   "source": [
    "print(a)"
   ]
  },
  {
   "cell_type": "code",
   "execution_count": 25,
   "id": "bf4910cf",
   "metadata": {},
   "outputs": [],
   "source": [
    "a['Name'] = 'Mr Karan'"
   ]
  },
  {
   "cell_type": "code",
   "execution_count": 26,
   "id": "db465c9f",
   "metadata": {},
   "outputs": [
    {
     "name": "stdout",
     "output_type": "stream",
     "text": [
      "{'Name': 'Mr Karan', 'Balance': 23456}\n"
     ]
    }
   ],
   "source": [
    "print(a)"
   ]
  },
  {
   "cell_type": "code",
   "execution_count": 27,
   "id": "a5086283",
   "metadata": {},
   "outputs": [
    {
     "name": "stdout",
     "output_type": "stream",
     "text": [
      "{'Name': 'karan', 'Balance': 23456}\n"
     ]
    }
   ],
   "source": [
    "print(b)"
   ]
  },
  {
   "cell_type": "code",
   "execution_count": 28,
   "id": "e0c6e87e",
   "metadata": {},
   "outputs": [],
   "source": [
    "# get"
   ]
  },
  {
   "cell_type": "code",
   "execution_count": 31,
   "id": "6acfd391",
   "metadata": {},
   "outputs": [],
   "source": [
    "a['Balance'] = 0"
   ]
  },
  {
   "cell_type": "code",
   "execution_count": 32,
   "id": "2e7ddc03",
   "metadata": {},
   "outputs": [
    {
     "name": "stdout",
     "output_type": "stream",
     "text": [
      "{'Name': 'Mr Karan', 'Balance': 0}\n"
     ]
    }
   ],
   "source": [
    "print(a)"
   ]
  },
  {
   "cell_type": "code",
   "execution_count": 33,
   "id": "405c70cd",
   "metadata": {},
   "outputs": [
    {
     "data": {
      "text/plain": [
       "{'Name': 'karan', 'Balance': 23456}"
      ]
     },
     "execution_count": 33,
     "metadata": {},
     "output_type": "execute_result"
    }
   ],
   "source": [
    "b"
   ]
  },
  {
   "cell_type": "code",
   "execution_count": 34,
   "id": "cae99c4c",
   "metadata": {},
   "outputs": [
    {
     "data": {
      "text/plain": [
       "23456"
      ]
     },
     "execution_count": 34,
     "metadata": {},
     "output_type": "execute_result"
    }
   ],
   "source": [
    "b.get('Balance')"
   ]
  },
  {
   "cell_type": "code",
   "execution_count": 36,
   "id": "57499f01",
   "metadata": {},
   "outputs": [
    {
     "data": {
      "text/plain": [
       "False"
      ]
     },
     "execution_count": 36,
     "metadata": {},
     "output_type": "execute_result"
    }
   ],
   "source": [
    "b.get('Balance') == 98767875"
   ]
  },
  {
   "cell_type": "code",
   "execution_count": 37,
   "id": "8e404c43",
   "metadata": {},
   "outputs": [
    {
     "data": {
      "text/plain": [
       "{'Name': 'Ajay', 'Age': 23, 'Class': 12, 'Sec': 'B', 'Address': 'Noida'}"
      ]
     },
     "execution_count": 37,
     "metadata": {},
     "output_type": "execute_result"
    }
   ],
   "source": [
    "data = {'Name':'Ajay',\n",
    "       'Age':23,\n",
    "       'Class':12,\n",
    "       'Sec':'B',\n",
    "       'Address':'Noida'}\n",
    "\n",
    "data"
   ]
  },
  {
   "cell_type": "code",
   "execution_count": 39,
   "id": "ada51494",
   "metadata": {},
   "outputs": [
    {
     "data": {
      "text/plain": [
       "'Ajay'"
      ]
     },
     "execution_count": 39,
     "metadata": {},
     "output_type": "execute_result"
    }
   ],
   "source": [
    "data.get('Name')"
   ]
  },
  {
   "cell_type": "code",
   "execution_count": 40,
   "id": "aae3d775",
   "metadata": {},
   "outputs": [
    {
     "data": {
      "text/plain": [
       "dict_keys(['Name', 'Age', 'Class', 'Sec', 'Address'])"
      ]
     },
     "execution_count": 40,
     "metadata": {},
     "output_type": "execute_result"
    }
   ],
   "source": [
    "data.keys()"
   ]
  },
  {
   "cell_type": "code",
   "execution_count": 42,
   "id": "ea512864",
   "metadata": {},
   "outputs": [
    {
     "data": {
      "text/plain": [
       "dict_keys"
      ]
     },
     "execution_count": 42,
     "metadata": {},
     "output_type": "execute_result"
    }
   ],
   "source": [
    "type(data.keys())"
   ]
  },
  {
   "cell_type": "code",
   "execution_count": 47,
   "id": "4fe72f86",
   "metadata": {},
   "outputs": [
    {
     "data": {
      "text/plain": [
       "'Name'"
      ]
     },
     "execution_count": 47,
     "metadata": {},
     "output_type": "execute_result"
    }
   ],
   "source": [
    "tuple(data.keys())[0]"
   ]
  },
  {
   "cell_type": "code",
   "execution_count": 50,
   "id": "05025876",
   "metadata": {},
   "outputs": [
    {
     "data": {
      "text/plain": [
       "'Sec'"
      ]
     },
     "execution_count": 50,
     "metadata": {},
     "output_type": "execute_result"
    }
   ],
   "source": [
    "list(data.keys())[3]"
   ]
  },
  {
   "cell_type": "code",
   "execution_count": 52,
   "id": "ae39107b",
   "metadata": {},
   "outputs": [
    {
     "name": "stdout",
     "output_type": "stream",
     "text": [
      "['clear', 'copy', 'fromkeys', 'get', 'items', 'keys', 'pop', 'popitem', 'setdefault', 'update', 'values']\n"
     ]
    }
   ],
   "source": [
    "print(all_methods)"
   ]
  },
  {
   "cell_type": "code",
   "execution_count": 53,
   "id": "2d726517",
   "metadata": {},
   "outputs": [
    {
     "data": {
      "text/plain": [
       "{'Name': 'Ajay', 'Age': 23, 'Class': 12, 'Sec': 'B', 'Address': 'Noida'}"
      ]
     },
     "execution_count": 53,
     "metadata": {},
     "output_type": "execute_result"
    }
   ],
   "source": [
    "data"
   ]
  },
  {
   "cell_type": "code",
   "execution_count": 54,
   "id": "69392ce5",
   "metadata": {},
   "outputs": [
    {
     "data": {
      "text/plain": [
       "dict_values(['Ajay', 23, 12, 'B', 'Noida'])"
      ]
     },
     "execution_count": 54,
     "metadata": {},
     "output_type": "execute_result"
    }
   ],
   "source": [
    "data.values()"
   ]
  },
  {
   "cell_type": "code",
   "execution_count": 56,
   "id": "d6327f59",
   "metadata": {},
   "outputs": [
    {
     "data": {
      "text/plain": [
       "dict_values(['Ajay', 23, 12, 'B', 'Noida'])"
      ]
     },
     "execution_count": 56,
     "metadata": {},
     "output_type": "execute_result"
    }
   ],
   "source": [
    "data.values()"
   ]
  },
  {
   "cell_type": "code",
   "execution_count": 57,
   "id": "2ec60c6f",
   "metadata": {},
   "outputs": [
    {
     "data": {
      "text/plain": [
       "dict_items([('Name', 'Ajay'), ('Age', 23), ('Class', 12), ('Sec', 'B'), ('Address', 'Noida')])"
      ]
     },
     "execution_count": 57,
     "metadata": {},
     "output_type": "execute_result"
    }
   ],
   "source": [
    "data.items()"
   ]
  },
  {
   "cell_type": "code",
   "execution_count": 58,
   "id": "2c70598b",
   "metadata": {},
   "outputs": [
    {
     "data": {
      "text/plain": [
       "dict_items"
      ]
     },
     "execution_count": 58,
     "metadata": {},
     "output_type": "execute_result"
    }
   ],
   "source": [
    "type(data.items())"
   ]
  },
  {
   "cell_type": "code",
   "execution_count": 59,
   "id": "7f9c54a6",
   "metadata": {},
   "outputs": [
    {
     "data": {
      "text/plain": [
       "dict_keys(['Name', 'Age', 'Class', 'Sec', 'Address'])"
      ]
     },
     "execution_count": 59,
     "metadata": {},
     "output_type": "execute_result"
    }
   ],
   "source": [
    "data.keys()"
   ]
  },
  {
   "cell_type": "code",
   "execution_count": 64,
   "id": "43a226e4",
   "metadata": {},
   "outputs": [
    {
     "data": {
      "text/plain": [
       "{'Name': 'Ajay', 'Age': 23, 'Class': 12, 'Sec': 'B', 'Address': 'Noida'}"
      ]
     },
     "execution_count": 64,
     "metadata": {},
     "output_type": "execute_result"
    }
   ],
   "source": [
    "data"
   ]
  },
  {
   "cell_type": "code",
   "execution_count": 63,
   "id": "37c0772c",
   "metadata": {},
   "outputs": [
    {
     "data": {
      "text/plain": [
       "['Name', 'Age', 'Class', 'Sec', 'Address']"
      ]
     },
     "execution_count": 63,
     "metadata": {},
     "output_type": "execute_result"
    }
   ],
   "source": [
    "list(data)"
   ]
  },
  {
   "cell_type": "code",
   "execution_count": 65,
   "id": "6b099bb4",
   "metadata": {},
   "outputs": [
    {
     "data": {
      "text/plain": [
       "('Name', 'Age', 'Class', 'Sec', 'Address')"
      ]
     },
     "execution_count": 65,
     "metadata": {},
     "output_type": "execute_result"
    }
   ],
   "source": [
    "tuple(data)"
   ]
  },
  {
   "cell_type": "code",
   "execution_count": 68,
   "id": "4b4d7a81",
   "metadata": {},
   "outputs": [
    {
     "data": {
      "text/plain": [
       "['Name', 'Age', 'Class', 'Sec', 'Address']"
      ]
     },
     "execution_count": 68,
     "metadata": {},
     "output_type": "execute_result"
    }
   ],
   "source": [
    "all_keys = [*data]\n",
    "all_keys"
   ]
  },
  {
   "cell_type": "code",
   "execution_count": 69,
   "id": "f1ed1dd0",
   "metadata": {},
   "outputs": [
    {
     "data": {
      "text/plain": [
       "[1, 243, 5, 6]"
      ]
     },
     "execution_count": 69,
     "metadata": {},
     "output_type": "execute_result"
    }
   ],
   "source": [
    "b = (1,243,5,6)\n",
    "c = [*b]\n",
    "c"
   ]
  },
  {
   "cell_type": "code",
   "execution_count": 70,
   "id": "bb903865",
   "metadata": {},
   "outputs": [
    {
     "data": {
      "text/plain": [
       "(1, 234, 35, 213, 34, 67)"
      ]
     },
     "execution_count": 70,
     "metadata": {},
     "output_type": "execute_result"
    }
   ],
   "source": [
    "bag = 1,234,35,213,34,67\n",
    "\n",
    "\n",
    "bag"
   ]
  },
  {
   "cell_type": "code",
   "execution_count": 71,
   "id": "72afa401",
   "metadata": {},
   "outputs": [],
   "source": [
    "# unpacking\n",
    "\n",
    "b1,b2,b3,b4,b5,b6 = bag"
   ]
  },
  {
   "cell_type": "code",
   "execution_count": 74,
   "id": "bc88e2dd",
   "metadata": {},
   "outputs": [
    {
     "data": {
      "text/plain": [
       "34"
      ]
     },
     "execution_count": 74,
     "metadata": {},
     "output_type": "execute_result"
    }
   ],
   "source": [
    "b5"
   ]
  },
  {
   "cell_type": "code",
   "execution_count": 79,
   "id": "7379038d",
   "metadata": {},
   "outputs": [],
   "source": [
    "b1= bag"
   ]
  },
  {
   "cell_type": "code",
   "execution_count": 80,
   "id": "d64697b2",
   "metadata": {},
   "outputs": [
    {
     "data": {
      "text/plain": [
       "(1, 234, 35, 213, 34, 67)"
      ]
     },
     "execution_count": 80,
     "metadata": {},
     "output_type": "execute_result"
    }
   ],
   "source": [
    "b1"
   ]
  },
  {
   "cell_type": "code",
   "execution_count": 82,
   "id": "b2896177",
   "metadata": {},
   "outputs": [
    {
     "name": "stdout",
     "output_type": "stream",
     "text": [
      "['clear', 'copy', 'fromkeys', 'get', 'items', 'keys', 'pop', 'popitem', 'setdefault', 'update', 'values']\n"
     ]
    }
   ],
   "source": [
    "print(all_methods)"
   ]
  },
  {
   "cell_type": "code",
   "execution_count": 86,
   "id": "8365af07",
   "metadata": {},
   "outputs": [
    {
     "data": {
      "text/plain": [
       "{'Name': 'Ajay', 'Age': 23, 'Class': 12, 'Sec': 'B', 'Address': 'Noida'}"
      ]
     },
     "execution_count": 86,
     "metadata": {},
     "output_type": "execute_result"
    }
   ],
   "source": [
    "#  'pop', 'popitem'\n",
    "data"
   ]
  },
  {
   "cell_type": "code",
   "execution_count": 88,
   "id": "8fc8ae34",
   "metadata": {},
   "outputs": [
    {
     "data": {
      "text/plain": [
       "12"
      ]
     },
     "execution_count": 88,
     "metadata": {},
     "output_type": "execute_result"
    }
   ],
   "source": [
    "data.pop('Class')"
   ]
  },
  {
   "cell_type": "code",
   "execution_count": 89,
   "id": "8a09ebab",
   "metadata": {},
   "outputs": [
    {
     "data": {
      "text/plain": [
       "{'Name': 'Ajay', 'Age': 23, 'Sec': 'B', 'Address': 'Noida'}"
      ]
     },
     "execution_count": 89,
     "metadata": {},
     "output_type": "execute_result"
    }
   ],
   "source": [
    "data"
   ]
  },
  {
   "cell_type": "code",
   "execution_count": 90,
   "id": "3df37529",
   "metadata": {},
   "outputs": [
    {
     "data": {
      "text/plain": [
       "23"
      ]
     },
     "execution_count": 90,
     "metadata": {},
     "output_type": "execute_result"
    }
   ],
   "source": [
    "data.pop('Age')"
   ]
  },
  {
   "cell_type": "code",
   "execution_count": 91,
   "id": "ee193608",
   "metadata": {
    "scrolled": true
   },
   "outputs": [
    {
     "data": {
      "text/plain": [
       "{'Name': 'Ajay', 'Sec': 'B', 'Address': 'Noida'}"
      ]
     },
     "execution_count": 91,
     "metadata": {},
     "output_type": "execute_result"
    }
   ],
   "source": [
    "data"
   ]
  },
  {
   "cell_type": "code",
   "execution_count": 92,
   "id": "b0782b0d",
   "metadata": {},
   "outputs": [
    {
     "data": {
      "text/plain": [
       "('Address', 'Noida')"
      ]
     },
     "execution_count": 92,
     "metadata": {},
     "output_type": "execute_result"
    }
   ],
   "source": [
    "data.popitem()"
   ]
  },
  {
   "cell_type": "code",
   "execution_count": 93,
   "id": "92669ac3",
   "metadata": {},
   "outputs": [
    {
     "data": {
      "text/plain": [
       "{'Name': 'Ajay', 'Sec': 'B'}"
      ]
     },
     "execution_count": 93,
     "metadata": {},
     "output_type": "execute_result"
    }
   ],
   "source": [
    "data"
   ]
  },
  {
   "cell_type": "code",
   "execution_count": 94,
   "id": "9299e7f5",
   "metadata": {},
   "outputs": [
    {
     "data": {
      "text/plain": [
       "('Sec', 'B')"
      ]
     },
     "execution_count": 94,
     "metadata": {},
     "output_type": "execute_result"
    }
   ],
   "source": [
    "data.popitem()"
   ]
  },
  {
   "cell_type": "code",
   "execution_count": 95,
   "id": "1383232e",
   "metadata": {},
   "outputs": [
    {
     "data": {
      "text/plain": [
       "{'Name': 'Ajay'}"
      ]
     },
     "execution_count": 95,
     "metadata": {},
     "output_type": "execute_result"
    }
   ],
   "source": [
    "data"
   ]
  },
  {
   "cell_type": "code",
   "execution_count": 96,
   "id": "535ce14d",
   "metadata": {},
   "outputs": [
    {
     "data": {
      "text/plain": [
       "('Name', 'Ajay')"
      ]
     },
     "execution_count": 96,
     "metadata": {},
     "output_type": "execute_result"
    }
   ],
   "source": [
    "data.popitem()"
   ]
  },
  {
   "cell_type": "code",
   "execution_count": 97,
   "id": "758e1381",
   "metadata": {},
   "outputs": [
    {
     "data": {
      "text/plain": [
       "{}"
      ]
     },
     "execution_count": 97,
     "metadata": {},
     "output_type": "execute_result"
    }
   ],
   "source": [
    "data"
   ]
  },
  {
   "cell_type": "code",
   "execution_count": 98,
   "id": "a747f992",
   "metadata": {},
   "outputs": [
    {
     "ename": "KeyError",
     "evalue": "'popitem(): dictionary is empty'",
     "output_type": "error",
     "traceback": [
      "\u001b[1;31m---------------------------------------------------------------------------\u001b[0m",
      "\u001b[1;31mKeyError\u001b[0m                                  Traceback (most recent call last)",
      "Cell \u001b[1;32mIn[98], line 1\u001b[0m\n\u001b[1;32m----> 1\u001b[0m data\u001b[38;5;241m.\u001b[39mpopitem()\n",
      "\u001b[1;31mKeyError\u001b[0m: 'popitem(): dictionary is empty'"
     ]
    }
   ],
   "source": [
    "data.popitem()"
   ]
  },
  {
   "cell_type": "code",
   "execution_count": 99,
   "id": "9bdb59b3",
   "metadata": {},
   "outputs": [
    {
     "name": "stdout",
     "output_type": "stream",
     "text": [
      "['clear', 'copy', 'fromkeys', 'get', 'items', 'keys', 'pop', 'popitem', 'setdefault', 'update', 'values']\n"
     ]
    }
   ],
   "source": [
    "print(all_methods)"
   ]
  },
  {
   "cell_type": "code",
   "execution_count": 100,
   "id": "c32f06e4",
   "metadata": {},
   "outputs": [],
   "source": [
    "# 'fromkeys',\n",
    "# 'setdefault', 'update',"
   ]
  },
  {
   "cell_type": "code",
   "execution_count": 101,
   "id": "7b75707c",
   "metadata": {},
   "outputs": [
    {
     "data": {
      "text/plain": [
       "{'Name': 'Ajay', 'Age': 23, 'Class': 12, 'Sec': 'B', 'Address': 'Noida'}"
      ]
     },
     "execution_count": 101,
     "metadata": {},
     "output_type": "execute_result"
    }
   ],
   "source": [
    "data = {'Name':'Ajay',\n",
    "       'Age':23,\n",
    "       'Class':12,\n",
    "       'Sec':'B',\n",
    "       'Address':'Noida'}\n",
    "\n",
    "data"
   ]
  },
  {
   "cell_type": "code",
   "execution_count": 102,
   "id": "7922a04b",
   "metadata": {},
   "outputs": [],
   "source": [
    "copy_data = data.fromkeys(data)"
   ]
  },
  {
   "cell_type": "code",
   "execution_count": 103,
   "id": "eab39975",
   "metadata": {},
   "outputs": [
    {
     "data": {
      "text/plain": [
       "{'Name': None, 'Age': None, 'Class': None, 'Sec': None, 'Address': None}"
      ]
     },
     "execution_count": 103,
     "metadata": {},
     "output_type": "execute_result"
    }
   ],
   "source": [
    "copy_data"
   ]
  },
  {
   "cell_type": "code",
   "execution_count": 106,
   "id": "4a2c503f",
   "metadata": {},
   "outputs": [],
   "source": [
    "# {'Name':None,'Class':None,'Age':None}"
   ]
  },
  {
   "cell_type": "code",
   "execution_count": 110,
   "id": "6fa01d49",
   "metadata": {},
   "outputs": [],
   "source": [
    "copy_data_1 = data.fromkeys(['Bank1','Bank2'])"
   ]
  },
  {
   "cell_type": "code",
   "execution_count": 111,
   "id": "c86b4163",
   "metadata": {},
   "outputs": [
    {
     "data": {
      "text/plain": [
       "{'Bank1': None, 'Bank2': None}"
      ]
     },
     "execution_count": 111,
     "metadata": {},
     "output_type": "execute_result"
    }
   ],
   "source": [
    "copy_data_1"
   ]
  },
  {
   "cell_type": "code",
   "execution_count": 114,
   "id": "6de235d7",
   "metadata": {},
   "outputs": [
    {
     "data": {
      "text/plain": [
       "{'Name': None, 'Age': None, 'Class': None, 'Sec': None, 'Address': None}"
      ]
     },
     "execution_count": 114,
     "metadata": {},
     "output_type": "execute_result"
    }
   ],
   "source": [
    "final_copy = {'Tech':None}\n",
    "\n",
    "\n",
    "final_copy = final_copy.fromkeys(data)\n",
    "final_copy"
   ]
  },
  {
   "cell_type": "code",
   "execution_count": null,
   "id": "32412341",
   "metadata": {},
   "outputs": [],
   "source": []
  },
  {
   "cell_type": "code",
   "execution_count": 115,
   "id": "e22ee46b",
   "metadata": {},
   "outputs": [
    {
     "name": "stdout",
     "output_type": "stream",
     "text": [
      "['clear', 'copy', 'fromkeys', 'get', 'items', 'keys', 'pop', 'popitem', 'setdefault', 'update', 'values']\n"
     ]
    }
   ],
   "source": [
    "print(all_methods)"
   ]
  },
  {
   "cell_type": "code",
   "execution_count": 116,
   "id": "a0313f1c",
   "metadata": {},
   "outputs": [],
   "source": [
    "# setdefault', 'update'"
   ]
  },
  {
   "cell_type": "code",
   "execution_count": 117,
   "id": "389b44f0",
   "metadata": {},
   "outputs": [
    {
     "data": {
      "text/plain": [
       "{'Name': 'Ajay', 'Age': 23, 'Class': 12, 'Sec': 'B', 'Address': 'Noida'}"
      ]
     },
     "execution_count": 117,
     "metadata": {},
     "output_type": "execute_result"
    }
   ],
   "source": [
    "data"
   ]
  },
  {
   "cell_type": "code",
   "execution_count": 118,
   "id": "45c5ddbb",
   "metadata": {},
   "outputs": [
    {
     "data": {
      "text/plain": [
       "'Ajay'"
      ]
     },
     "execution_count": 118,
     "metadata": {},
     "output_type": "execute_result"
    }
   ],
   "source": [
    "data.setdefault('Name','jatin')"
   ]
  },
  {
   "cell_type": "code",
   "execution_count": 120,
   "id": "9613dfbc",
   "metadata": {},
   "outputs": [
    {
     "data": {
      "text/plain": [
       "'B'"
      ]
     },
     "execution_count": 120,
     "metadata": {},
     "output_type": "execute_result"
    }
   ],
   "source": [
    "data.setdefault('Sec','C')"
   ]
  },
  {
   "cell_type": "code",
   "execution_count": 121,
   "id": "268ad53b",
   "metadata": {},
   "outputs": [
    {
     "data": {
      "text/plain": [
       "{'Name': 'Ajay', 'Age': 23, 'Class': 12, 'Sec': 'B', 'Address': 'Noida'}"
      ]
     },
     "execution_count": 121,
     "metadata": {},
     "output_type": "execute_result"
    }
   ],
   "source": [
    "data"
   ]
  },
  {
   "cell_type": "code",
   "execution_count": 122,
   "id": "a27c55f3",
   "metadata": {},
   "outputs": [
    {
     "data": {
      "text/plain": [
       "987654321"
      ]
     },
     "execution_count": 122,
     "metadata": {},
     "output_type": "execute_result"
    }
   ],
   "source": [
    "data.setdefault('Kia',987654321)"
   ]
  },
  {
   "cell_type": "code",
   "execution_count": 124,
   "id": "04c59f35",
   "metadata": {},
   "outputs": [
    {
     "name": "stdout",
     "output_type": "stream",
     "text": [
      "{'Name': 'Ajay', 'Age': 23, 'Class': 12, 'Sec': 'B', 'Address': 'Noida', 'Kia': 987654321}\n"
     ]
    }
   ],
   "source": [
    "print(data)"
   ]
  },
  {
   "cell_type": "code",
   "execution_count": 125,
   "id": "9915be5c",
   "metadata": {},
   "outputs": [],
   "source": [
    "data.setdefault('phone')"
   ]
  },
  {
   "cell_type": "code",
   "execution_count": 127,
   "id": "ce212a28",
   "metadata": {},
   "outputs": [
    {
     "name": "stdout",
     "output_type": "stream",
     "text": [
      "{'Name': 'Ajay', 'Age': 23, 'Class': 12, 'Sec': 'B', 'Address': 'Noida', 'Kia': 987654321, 'phone': None}\n"
     ]
    }
   ],
   "source": [
    "print(data)"
   ]
  },
  {
   "cell_type": "code",
   "execution_count": 130,
   "id": "3cbd6be3",
   "metadata": {},
   "outputs": [],
   "source": [
    "data['phone'] = 98989"
   ]
  },
  {
   "cell_type": "code",
   "execution_count": 132,
   "id": "217d9148",
   "metadata": {},
   "outputs": [
    {
     "data": {
      "text/plain": [
       "{'Name': 'Ajay',\n",
       " 'Age': 23,\n",
       " 'Class': 12,\n",
       " 'Sec': 'B',\n",
       " 'Address': 'Noida',\n",
       " 'Kia': 987654321,\n",
       " 'phone': 98989}"
      ]
     },
     "execution_count": 132,
     "metadata": {},
     "output_type": "execute_result"
    }
   ],
   "source": [
    "data"
   ]
  },
  {
   "cell_type": "code",
   "execution_count": 133,
   "id": "ebb7e588",
   "metadata": {},
   "outputs": [],
   "source": [
    "# update"
   ]
  },
  {
   "cell_type": "code",
   "execution_count": 135,
   "id": "7c88a5d1",
   "metadata": {},
   "outputs": [
    {
     "name": "stdout",
     "output_type": "stream",
     "text": [
      "{'Name': 'Ajay', 'Age': 23, 'Class': 12, 'Sec': 'B', 'Address': 'Noida', 'Kia': 987654321, 'phone': 98989}\n"
     ]
    }
   ],
   "source": [
    "print(data)"
   ]
  },
  {
   "cell_type": "code",
   "execution_count": 136,
   "id": "1d2560f6",
   "metadata": {},
   "outputs": [],
   "source": [
    "data['Name'] = 'Ajay bansal'"
   ]
  },
  {
   "cell_type": "code",
   "execution_count": 138,
   "id": "3f7408b8",
   "metadata": {
    "scrolled": true
   },
   "outputs": [
    {
     "name": "stdout",
     "output_type": "stream",
     "text": [
      "{'Name': 'Ajay bansal', 'Age': 23, 'Class': 12, 'Sec': 'B', 'Address': 'Noida', 'Kia': 987654321, 'phone': 98989}\n"
     ]
    }
   ],
   "source": [
    "print(data)"
   ]
  },
  {
   "cell_type": "code",
   "execution_count": null,
   "id": "d882c837",
   "metadata": {},
   "outputs": [],
   "source": []
  },
  {
   "cell_type": "code",
   "execution_count": 139,
   "id": "5bba28eb",
   "metadata": {},
   "outputs": [],
   "source": [
    "data.update({'Name':'Mohan'})"
   ]
  },
  {
   "cell_type": "code",
   "execution_count": 140,
   "id": "7c8ecfb0",
   "metadata": {},
   "outputs": [
    {
     "name": "stdout",
     "output_type": "stream",
     "text": [
      "{'Name': 'Mohan', 'Age': 23, 'Class': 12, 'Sec': 'B', 'Address': 'Noida', 'Kia': 987654321, 'phone': 98989}\n"
     ]
    }
   ],
   "source": [
    "print(data)"
   ]
  },
  {
   "cell_type": "code",
   "execution_count": 141,
   "id": "79f64b85",
   "metadata": {},
   "outputs": [],
   "source": [
    "data.update({'Age':20,'Class':11,'Sec':'C','address':'Delhi'})"
   ]
  },
  {
   "cell_type": "code",
   "execution_count": 142,
   "id": "3c9cb39f",
   "metadata": {},
   "outputs": [
    {
     "name": "stdout",
     "output_type": "stream",
     "text": [
      "{'Name': 'Mohan', 'Age': 20, 'Class': 11, 'Sec': 'C', 'Address': 'Noida', 'Kia': 987654321, 'phone': 98989, 'address': 'Delhi'}\n"
     ]
    }
   ],
   "source": [
    "print(data)"
   ]
  },
  {
   "cell_type": "code",
   "execution_count": 143,
   "id": "4a00dc0a",
   "metadata": {},
   "outputs": [
    {
     "data": {
      "text/plain": [
       "dict_items([('Name', 'Mohan'), ('Age', 20), ('Class', 11), ('Sec', 'C'), ('Address', 'Noida'), ('Kia', 987654321), ('phone', 98989), ('address', 'Delhi')])"
      ]
     },
     "execution_count": 143,
     "metadata": {},
     "output_type": "execute_result"
    }
   ],
   "source": [
    "data.items()"
   ]
  },
  {
   "cell_type": "code",
   "execution_count": 144,
   "id": "79693b98",
   "metadata": {},
   "outputs": [
    {
     "data": {
      "text/plain": [
       "{'Name': 'Mohan',\n",
       " 'Age': 20,\n",
       " 'Class': 11,\n",
       " 'Sec': 'C',\n",
       " 'Address': 'Noida',\n",
       " 'Kia': 987654321,\n",
       " 'phone': 98989,\n",
       " 'address': 'Delhi'}"
      ]
     },
     "execution_count": 144,
     "metadata": {},
     "output_type": "execute_result"
    }
   ],
   "source": [
    "data"
   ]
  },
  {
   "cell_type": "code",
   "execution_count": 145,
   "id": "f8ca8da6",
   "metadata": {},
   "outputs": [],
   "source": [
    "data.update([('Name','Mr Ajay Verma'),('Address','Greater Noida')])"
   ]
  },
  {
   "cell_type": "code",
   "execution_count": 146,
   "id": "8bec1d23",
   "metadata": {},
   "outputs": [
    {
     "data": {
      "text/plain": [
       "{'Name': 'Mr Ajay Verma',\n",
       " 'Age': 20,\n",
       " 'Class': 11,\n",
       " 'Sec': 'C',\n",
       " 'Address': 'Greater Noida',\n",
       " 'Kia': 987654321,\n",
       " 'phone': 98989,\n",
       " 'address': 'Delhi'}"
      ]
     },
     "execution_count": 146,
     "metadata": {},
     "output_type": "execute_result"
    }
   ],
   "source": [
    "data"
   ]
  },
  {
   "cell_type": "code",
   "execution_count": 147,
   "id": "46475bdc",
   "metadata": {},
   "outputs": [],
   "source": [
    "data.update([['Name','Mr Ajay khanna'],['Address','Greater kailash']])"
   ]
  },
  {
   "cell_type": "code",
   "execution_count": 148,
   "id": "c59ab2ac",
   "metadata": {},
   "outputs": [
    {
     "data": {
      "text/plain": [
       "{'Name': 'Mr Ajay khanna',\n",
       " 'Age': 20,\n",
       " 'Class': 11,\n",
       " 'Sec': 'C',\n",
       " 'Address': 'Greater kailash',\n",
       " 'Kia': 987654321,\n",
       " 'phone': 98989,\n",
       " 'address': 'Delhi'}"
      ]
     },
     "execution_count": 148,
     "metadata": {},
     "output_type": "execute_result"
    }
   ],
   "source": [
    "data"
   ]
  },
  {
   "cell_type": "code",
   "execution_count": 149,
   "id": "f8d22620",
   "metadata": {},
   "outputs": [],
   "source": [
    "# data.update([('Name','Mr Ajay Verma'),('Address','Greater Noida')])\n",
    "# tuple of tuple\n",
    "# tuple of list"
   ]
  },
  {
   "cell_type": "code",
   "execution_count": 150,
   "id": "01ffb0cd",
   "metadata": {},
   "outputs": [
    {
     "data": {
      "text/plain": [
       "{'Name': 'Mr Ajay khanna',\n",
       " 'Age': 20,\n",
       " 'Class': 11,\n",
       " 'Sec': 'C',\n",
       " 'Address': 'Greater kailash',\n",
       " 'Kia': 987654321,\n",
       " 'phone': 98989,\n",
       " 'address': 'Delhi'}"
      ]
     },
     "execution_count": 150,
     "metadata": {},
     "output_type": "execute_result"
    }
   ],
   "source": [
    "data"
   ]
  },
  {
   "cell_type": "code",
   "execution_count": 154,
   "id": "32b5d783",
   "metadata": {},
   "outputs": [],
   "source": [
    "data.update(Age=29,Sec='D',Kia = 987678766545676565)"
   ]
  },
  {
   "cell_type": "code",
   "execution_count": 155,
   "id": "45831149",
   "metadata": {},
   "outputs": [
    {
     "data": {
      "text/plain": [
       "{'Name': 'Mr Ajay khanna',\n",
       " 'Age': 29,\n",
       " 'Class': 11,\n",
       " 'Sec': 'D',\n",
       " 'Address': 'Greater kailash',\n",
       " 'Kia': 987678766545676565,\n",
       " 'phone': 98989,\n",
       " 'address': 'Delhi'}"
      ]
     },
     "execution_count": 155,
     "metadata": {},
     "output_type": "execute_result"
    }
   ],
   "source": [
    "data"
   ]
  },
  {
   "cell_type": "code",
   "execution_count": 156,
   "id": "97b6fe01",
   "metadata": {},
   "outputs": [],
   "source": [
    "# unpacking of dict"
   ]
  },
  {
   "cell_type": "code",
   "execution_count": 157,
   "id": "ed139a82",
   "metadata": {},
   "outputs": [],
   "source": [
    "a = {'Name':'Ajay','Sec':'B'}\n",
    "b = {'Class':12,'Address':'Noida'}\n",
    "c = {'Phone':9898787654,'Roll No':45}"
   ]
  },
  {
   "cell_type": "code",
   "execution_count": 162,
   "id": "48bd16a0",
   "metadata": {},
   "outputs": [],
   "source": [
    "d = a,b,c"
   ]
  },
  {
   "cell_type": "code",
   "execution_count": 163,
   "id": "c898de4b",
   "metadata": {},
   "outputs": [
    {
     "name": "stdout",
     "output_type": "stream",
     "text": [
      "({'Name': 'Ajay', 'Sec': 'B'}, {'Class': 12, 'Address': 'Noida'}, {'Phone': 9898787654, 'Roll No': 45})\n"
     ]
    }
   ],
   "source": [
    "print(d)"
   ]
  },
  {
   "cell_type": "code",
   "execution_count": 173,
   "id": "6bd3d0ca",
   "metadata": {},
   "outputs": [
    {
     "name": "stdout",
     "output_type": "stream",
     "text": [
      "{'Name': 'Ajay', 'Sec': 'B', 'Class': 12, 'Address': 'Noida', 'Phone': 9898787654, 'Roll No': 45}\n"
     ]
    }
   ],
   "source": [
    "final_dict = {**a,**b,**c}\n",
    "print(final_dict)"
   ]
  },
  {
   "cell_type": "code",
   "execution_count": 174,
   "id": "66f72ff5",
   "metadata": {},
   "outputs": [
    {
     "data": {
      "text/plain": [
       "{'Name', 'Sec'}"
      ]
     },
     "execution_count": 174,
     "metadata": {},
     "output_type": "execute_result"
    }
   ],
   "source": [
    "{*a}"
   ]
  },
  {
   "cell_type": "code",
   "execution_count": 175,
   "id": "c6121e0b",
   "metadata": {},
   "outputs": [
    {
     "name": "stdout",
     "output_type": "stream",
     "text": [
      "<class 'dict'>\n"
     ]
    }
   ],
   "source": [
    "print(type(final_dict))"
   ]
  },
  {
   "cell_type": "code",
   "execution_count": 176,
   "id": "73753a11",
   "metadata": {},
   "outputs": [],
   "source": [
    "a = {'Name':'Ajay','Sec':'B'}\n",
    "b = {'Class':12,'Address':'Noida'}\n",
    "c = {'Phone':9898787654,'Roll No':45}\n",
    "\n",
    "\n",
    "d = {}"
   ]
  },
  {
   "cell_type": "code",
   "execution_count": 177,
   "id": "fba56571",
   "metadata": {},
   "outputs": [],
   "source": [
    "d.update(a)"
   ]
  },
  {
   "cell_type": "code",
   "execution_count": 178,
   "id": "01f075f1",
   "metadata": {},
   "outputs": [],
   "source": [
    "d.update(b)"
   ]
  },
  {
   "cell_type": "code",
   "execution_count": 179,
   "id": "c8c9830d",
   "metadata": {},
   "outputs": [],
   "source": [
    "d.update(c)"
   ]
  },
  {
   "cell_type": "code",
   "execution_count": 180,
   "id": "8ec3736b",
   "metadata": {},
   "outputs": [
    {
     "data": {
      "text/plain": [
       "{'Name': 'Ajay',\n",
       " 'Sec': 'B',\n",
       " 'Class': 12,\n",
       " 'Address': 'Noida',\n",
       " 'Phone': 9898787654,\n",
       " 'Roll No': 45}"
      ]
     },
     "execution_count": 180,
     "metadata": {},
     "output_type": "execute_result"
    }
   ],
   "source": [
    "d"
   ]
  },
  {
   "cell_type": "code",
   "execution_count": 182,
   "id": "7f752662",
   "metadata": {},
   "outputs": [],
   "source": [
    "e = {}\n",
    "\n",
    "e.update(**a,**b,**c)"
   ]
  },
  {
   "cell_type": "code",
   "execution_count": 183,
   "id": "332cd45c",
   "metadata": {},
   "outputs": [
    {
     "data": {
      "text/plain": [
       "{'Name': 'Ajay',\n",
       " 'Sec': 'B',\n",
       " 'Class': 12,\n",
       " 'Address': 'Noida',\n",
       " 'Phone': 9898787654,\n",
       " 'Roll No': 45}"
      ]
     },
     "execution_count": 183,
     "metadata": {},
     "output_type": "execute_result"
    }
   ],
   "source": [
    "e"
   ]
  },
  {
   "cell_type": "code",
   "execution_count": 184,
   "id": "97477183",
   "metadata": {},
   "outputs": [
    {
     "data": {
      "text/plain": [
       "{'Name': 'Ajay',\n",
       " 'Sec': 'B',\n",
       " 'Class': 12,\n",
       " 'Address': 'Noida',\n",
       " 'Phone': 9898787654,\n",
       " 'Roll No': 45}"
      ]
     },
     "execution_count": 184,
     "metadata": {},
     "output_type": "execute_result"
    }
   ],
   "source": [
    "e = {**a,**b,**c}\n",
    "e"
   ]
  },
  {
   "cell_type": "code",
   "execution_count": 185,
   "id": "23972677",
   "metadata": {},
   "outputs": [],
   "source": [
    "# data types\n",
    "# if else\n",
    "# loops\n",
    "# func\n",
    "# modules\n",
    "# file handling\n",
    "# exception handling\n",
    "# request\n",
    "# threading\n",
    "# regex\n",
    "# oops\n",
    "# mysql\n",
    "# webscrapping\n",
    "# project"
   ]
  },
  {
   "cell_type": "code",
   "execution_count": null,
   "id": "b3d5a31b",
   "metadata": {},
   "outputs": [],
   "source": []
  }
 ],
 "metadata": {
  "kernelspec": {
   "display_name": "Python 3 (ipykernel)",
   "language": "python",
   "name": "python3"
  },
  "language_info": {
   "codemirror_mode": {
    "name": "ipython",
    "version": 3
   },
   "file_extension": ".py",
   "mimetype": "text/x-python",
   "name": "python",
   "nbconvert_exporter": "python",
   "pygments_lexer": "ipython3",
   "version": "3.11.3"
  }
 },
 "nbformat": 4,
 "nbformat_minor": 5
}

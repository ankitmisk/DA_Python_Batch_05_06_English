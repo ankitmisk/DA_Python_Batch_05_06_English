{
 "cells": [
  {
   "cell_type": "code",
   "execution_count": 1,
   "id": "c9262fbd",
   "metadata": {},
   "outputs": [],
   "source": [
    "# String Methods"
   ]
  },
  {
   "cell_type": "code",
   "execution_count": 2,
   "id": "cb276a3f",
   "metadata": {},
   "outputs": [
    {
     "name": "stdout",
     "output_type": "stream",
     "text": [
      "Mohan\n"
     ]
    }
   ],
   "source": [
    "a = 'Mohan'\n",
    "\n",
    "print(a)"
   ]
  },
  {
   "cell_type": "code",
   "execution_count": 3,
   "id": "5427154a",
   "metadata": {},
   "outputs": [
    {
     "name": "stdout",
     "output_type": "stream",
     "text": [
      "MOHAN\n"
     ]
    }
   ],
   "source": [
    "print(a.upper())"
   ]
  },
  {
   "cell_type": "code",
   "execution_count": 4,
   "id": "585c9842",
   "metadata": {},
   "outputs": [
    {
     "name": "stdout",
     "output_type": "stream",
     "text": [
      "KOMAL\n",
      "komal\n"
     ]
    }
   ],
   "source": [
    "# lower\n",
    "\n",
    "g = 'KOMAL'\n",
    "\n",
    "print(g)\n",
    "\n",
    "print(g.lower())"
   ]
  },
  {
   "cell_type": "code",
   "execution_count": 6,
   "id": "8a9bdab7",
   "metadata": {},
   "outputs": [
    {
     "name": "stdout",
     "output_type": "stream",
     "text": [
      "Hello Karan\n"
     ]
    }
   ],
   "source": [
    "# input function\n",
    "name = 'Karan'\n",
    "\n",
    "print('Hello',name)"
   ]
  },
  {
   "cell_type": "code",
   "execution_count": 8,
   "id": "af778455",
   "metadata": {},
   "outputs": [
    {
     "name": "stdout",
     "output_type": "stream",
     "text": [
      "Ajay\n",
      "Hello Ajay\n"
     ]
    }
   ],
   "source": [
    "# input function\n",
    "name = input()\n",
    "\n",
    "print('Hello',name)"
   ]
  },
  {
   "cell_type": "code",
   "execution_count": null,
   "id": "87c643aa",
   "metadata": {},
   "outputs": [],
   "source": [
    "# Imp methods\n",
    "# upper\n",
    "# lower\n",
    "# count\n",
    "# find\n",
    "# index\n",
    "# strip\n"
   ]
  },
  {
   "cell_type": "code",
   "execution_count": 10,
   "id": "79937115",
   "metadata": {},
   "outputs": [
    {
     "name": "stdout",
     "output_type": "stream",
     "text": [
      "3\n"
     ]
    }
   ],
   "source": [
    "# count\n",
    "\n",
    "a = 'this is elon musk'\n",
    "\n",
    "print(a.count('s'))"
   ]
  },
  {
   "cell_type": "code",
   "execution_count": 12,
   "id": "85d88637",
   "metadata": {},
   "outputs": [
    {
     "name": "stdout",
     "output_type": "stream",
     "text": [
      "13\n"
     ]
    }
   ],
   "source": [
    "# find\n",
    "a = 'this is elon musk'\n",
    "\n",
    "print(a.find('m'))"
   ]
  },
  {
   "cell_type": "code",
   "execution_count": 13,
   "id": "51190988",
   "metadata": {},
   "outputs": [
    {
     "data": {
      "text/plain": [
       "'m'"
      ]
     },
     "execution_count": 13,
     "metadata": {},
     "output_type": "execute_result"
    }
   ],
   "source": [
    "a[13]"
   ]
  },
  {
   "cell_type": "code",
   "execution_count": 14,
   "id": "ee1902ed",
   "metadata": {},
   "outputs": [
    {
     "data": {
      "text/plain": [
       "8"
      ]
     },
     "execution_count": 14,
     "metadata": {},
     "output_type": "execute_result"
    }
   ],
   "source": [
    "a.find('elon')"
   ]
  },
  {
   "cell_type": "code",
   "execution_count": 16,
   "id": "1856e64e",
   "metadata": {},
   "outputs": [
    {
     "data": {
      "text/plain": [
       "'elon'"
      ]
     },
     "execution_count": 16,
     "metadata": {},
     "output_type": "execute_result"
    }
   ],
   "source": [
    "a[8:12]"
   ]
  },
  {
   "cell_type": "code",
   "execution_count": 18,
   "id": "922387a7",
   "metadata": {},
   "outputs": [
    {
     "data": {
      "text/plain": [
       "24"
      ]
     },
     "execution_count": 18,
     "metadata": {},
     "output_type": "execute_result"
    }
   ],
   "source": [
    "var = 'we are in Techvidya and learning Python'\n",
    "\n",
    "\n",
    "var.find('learning')"
   ]
  },
  {
   "cell_type": "code",
   "execution_count": 22,
   "id": "f019cedd",
   "metadata": {},
   "outputs": [
    {
     "data": {
      "text/plain": [
       "'learning'"
      ]
     },
     "execution_count": 22,
     "metadata": {},
     "output_type": "execute_result"
    }
   ],
   "source": [
    "var[24:32]"
   ]
  },
  {
   "cell_type": "code",
   "execution_count": 23,
   "id": "fb9faa64",
   "metadata": {},
   "outputs": [
    {
     "data": {
      "text/plain": [
       "-1"
      ]
     },
     "execution_count": 23,
     "metadata": {},
     "output_type": "execute_result"
    }
   ],
   "source": [
    "var.find('8')"
   ]
  },
  {
   "cell_type": "code",
   "execution_count": 24,
   "id": "4be747d6",
   "metadata": {},
   "outputs": [],
   "source": [
    "# index"
   ]
  },
  {
   "cell_type": "code",
   "execution_count": 27,
   "id": "788151b0",
   "metadata": {},
   "outputs": [
    {
     "data": {
      "text/plain": [
       "24"
      ]
     },
     "execution_count": 27,
     "metadata": {},
     "output_type": "execute_result"
    }
   ],
   "source": [
    "# var.find('learning')\n",
    "var.index('learning')"
   ]
  },
  {
   "cell_type": "code",
   "execution_count": 29,
   "id": "1364052b",
   "metadata": {},
   "outputs": [
    {
     "ename": "ValueError",
     "evalue": "substring not found",
     "output_type": "error",
     "traceback": [
      "\u001b[1;31m---------------------------------------------------------------------------\u001b[0m",
      "\u001b[1;31mValueError\u001b[0m                                Traceback (most recent call last)",
      "Cell \u001b[1;32mIn[29], line 1\u001b[0m\n\u001b[1;32m----> 1\u001b[0m var\u001b[38;5;241m.\u001b[39mindex(\u001b[38;5;124m'\u001b[39m\u001b[38;5;124m8\u001b[39m\u001b[38;5;124m'\u001b[39m)\n\u001b[0;32m      2\u001b[0m \u001b[38;5;28mprint\u001b[39m(\u001b[38;5;124m'\u001b[39m\u001b[38;5;124mHello world\u001b[39m\u001b[38;5;124m'\u001b[39m)\n",
      "\u001b[1;31mValueError\u001b[0m: substring not found"
     ]
    }
   ],
   "source": [
    "var.index('8')\n",
    "print('Hello world')"
   ]
  },
  {
   "cell_type": "code",
   "execution_count": 32,
   "id": "68ca145b",
   "metadata": {},
   "outputs": [
    {
     "ename": "ValueError",
     "evalue": "substring not found",
     "output_type": "error",
     "traceback": [
      "\u001b[1;31m---------------------------------------------------------------------------\u001b[0m",
      "\u001b[1;31mValueError\u001b[0m                                Traceback (most recent call last)",
      "Cell \u001b[1;32mIn[32], line 1\u001b[0m\n\u001b[1;32m----> 1\u001b[0m var\u001b[38;5;241m.\u001b[39mindex(\u001b[38;5;124m'\u001b[39m\u001b[38;5;124m8\u001b[39m\u001b[38;5;124m'\u001b[39m)\n\u001b[0;32m      2\u001b[0m \u001b[38;5;28mprint\u001b[39m(\u001b[38;5;124m'\u001b[39m\u001b[38;5;124mHello world\u001b[39m\u001b[38;5;124m'\u001b[39m)\n",
      "\u001b[1;31mValueError\u001b[0m: substring not found"
     ]
    }
   ],
   "source": [
    "var.index('8')\n",
    "print('Hello world')"
   ]
  },
  {
   "cell_type": "code",
   "execution_count": 34,
   "id": "d2b13288",
   "metadata": {},
   "outputs": [
    {
     "name": "stdout",
     "output_type": "stream",
     "text": [
      "10\n"
     ]
    }
   ],
   "source": [
    "# strip\n",
    "\n",
    "a = 'Md. Sarwar'\n",
    "\n",
    "\n",
    "print(len(a))"
   ]
  },
  {
   "cell_type": "code",
   "execution_count": 37,
   "id": "3bdf4add",
   "metadata": {},
   "outputs": [
    {
     "name": "stdout",
     "output_type": "stream",
     "text": [
      "7\n"
     ]
    }
   ],
   "source": [
    "\n",
    "s = 'Pyt hon'\n",
    "\n",
    "print(len(s))"
   ]
  },
  {
   "cell_type": "code",
   "execution_count": 38,
   "id": "90f0461e",
   "metadata": {},
   "outputs": [
    {
     "name": "stdout",
     "output_type": "stream",
     "text": [
      "9\n"
     ]
    }
   ],
   "source": [
    "# strip\n",
    "\n",
    "a = 'Md.Sarwar'\n",
    "\n",
    "\n",
    "print(len(a))"
   ]
  },
  {
   "cell_type": "code",
   "execution_count": 39,
   "id": "8659b24c",
   "metadata": {},
   "outputs": [
    {
     "name": "stdout",
     "output_type": "stream",
     "text": [
      "21\n"
     ]
    }
   ],
   "source": [
    "# strip\n",
    "\n",
    "a = '       Md.Sarwar     '\n",
    "\n",
    "\n",
    "print(len(a))"
   ]
  },
  {
   "cell_type": "code",
   "execution_count": 40,
   "id": "04606ec0",
   "metadata": {},
   "outputs": [],
   "source": [
    "# strip:- remove leading and trailing space"
   ]
  },
  {
   "cell_type": "code",
   "execution_count": 41,
   "id": "d974f220",
   "metadata": {},
   "outputs": [
    {
     "name": "stdout",
     "output_type": "stream",
     "text": [
      "       Md.Sarwar      21\n",
      "Md.Sarwar\n",
      "9\n"
     ]
    }
   ],
   "source": [
    "print(a,len(a))\n",
    "\n",
    "b = a.strip()\n",
    "\n",
    "print(b)\n",
    "print(len(b))"
   ]
  },
  {
   "cell_type": "code",
   "execution_count": 42,
   "id": "40a0627b",
   "metadata": {},
   "outputs": [
    {
     "data": {
      "text/plain": [
       "'       Md.Sarwar     '"
      ]
     },
     "execution_count": 42,
     "metadata": {},
     "output_type": "execute_result"
    }
   ],
   "source": [
    "a"
   ]
  },
  {
   "cell_type": "code",
   "execution_count": 43,
   "id": "c96bd8bb",
   "metadata": {},
   "outputs": [
    {
     "data": {
      "text/plain": [
       "'Md.Sarwar'"
      ]
     },
     "execution_count": 43,
     "metadata": {},
     "output_type": "execute_result"
    }
   ],
   "source": [
    "a.strip()"
   ]
  },
  {
   "cell_type": "code",
   "execution_count": 44,
   "id": "de9e9e61",
   "metadata": {},
   "outputs": [],
   "source": [
    "# replace\n",
    "# removeprefix\n",
    "# removesuffix\n",
    "# split\n",
    "# partiation\n",
    "# join\n",
    "# isalpha\n",
    "# title\n",
    "# capitalize\n",
    "# expandtabs\n"
   ]
  },
  {
   "cell_type": "code",
   "execution_count": 49,
   "id": "eeebdec2",
   "metadata": {},
   "outputs": [
    {
     "name": "stdout",
     "output_type": "stream",
     "text": [
      "This is Elon Musk\n",
      "This is Tesla Musk\n"
     ]
    }
   ],
   "source": [
    "a = 'This is Elon Musk'\n",
    "\n",
    "b = a.replace('Elon','Tesla')\n",
    "\n",
    "print(a)\n",
    "print(b)"
   ]
  },
  {
   "cell_type": "code",
   "execution_count": 50,
   "id": "d58d2fbe",
   "metadata": {},
   "outputs": [
    {
     "name": "stdout",
     "output_type": "stream",
     "text": [
      "Karan Sharma\n"
     ]
    }
   ],
   "source": [
    "name1 = 'Karan Verma'\n",
    "\n",
    "name1 = name1.replace('Verma','Sharma')\n",
    "\n",
    "print(name1)"
   ]
  },
  {
   "cell_type": "code",
   "execution_count": null,
   "id": "32b4f5a3",
   "metadata": {},
   "outputs": [],
   "source": []
  },
  {
   "cell_type": "code",
   "execution_count": null,
   "id": "cebf25d0",
   "metadata": {},
   "outputs": [],
   "source": []
  },
  {
   "cell_type": "code",
   "execution_count": 64,
   "id": "933e8b01",
   "metadata": {},
   "outputs": [
    {
     "data": {
      "text/plain": [
       "36"
      ]
     },
     "execution_count": 64,
     "metadata": {},
     "output_type": "execute_result"
    }
   ],
   "source": [
    "statement = 'we work in workforce and we love to welcome clients'\n",
    "\n",
    "\n",
    "statement.find('w',26)"
   ]
  },
  {
   "cell_type": "code",
   "execution_count": 65,
   "id": "cc225a97",
   "metadata": {},
   "outputs": [],
   "source": [
    "# removeprefix\n",
    "# removesuffix"
   ]
  },
  {
   "cell_type": "code",
   "execution_count": 67,
   "id": "0a99f664",
   "metadata": {},
   "outputs": [
    {
     "name": "stdout",
     "output_type": "stream",
     "text": [
      "Ajay Kumar\n"
     ]
    }
   ],
   "source": [
    "a = 'Mr. Ajay Kumar'\n",
    "\n",
    "a = a.removeprefix('Mr. ')\n",
    "print(a)"
   ]
  },
  {
   "cell_type": "code",
   "execution_count": 68,
   "id": "3f32f51c",
   "metadata": {},
   "outputs": [
    {
     "name": "stdout",
     "output_type": "stream",
     "text": [
      "Ajay Kumar\n"
     ]
    }
   ],
   "source": [
    "a = 'Mr. Ajay Kumar'\n",
    "\n",
    "a = a.replace('Mr. ','')\n",
    "print(a)"
   ]
  },
  {
   "cell_type": "code",
   "execution_count": 69,
   "id": "9cec3d37",
   "metadata": {},
   "outputs": [
    {
     "name": "stdout",
     "output_type": "stream",
     "text": [
      "Vikas\n"
     ]
    }
   ],
   "source": [
    "# removesuffix\n",
    "\n",
    "bande_ka_naam = 'Vikas kanpur waala'\n",
    "\n",
    "bande_ka_naam = bande_ka_naam.removesuffix(' kanpur waala')\n",
    "print(bande_ka_naam)"
   ]
  },
  {
   "cell_type": "code",
   "execution_count": 70,
   "id": "0167ac47",
   "metadata": {},
   "outputs": [
    {
     "name": "stdout",
     "output_type": "stream",
     "text": [
      "Vikas\n"
     ]
    }
   ],
   "source": [
    "# removesuffix\n",
    "\n",
    "bande_ka_naam = 'Vikas kanpur waala'\n",
    "\n",
    "bande_ka_naam = bande_ka_naam.replace(' kanpur waala','')\n",
    "print(bande_ka_naam)"
   ]
  },
  {
   "cell_type": "code",
   "execution_count": 71,
   "id": "84d49276",
   "metadata": {},
   "outputs": [],
   "source": [
    "# title\n",
    "# capitalize"
   ]
  },
  {
   "cell_type": "code",
   "execution_count": 74,
   "id": "4d5b417a",
   "metadata": {},
   "outputs": [
    {
     "name": "stdout",
     "output_type": "stream",
     "text": [
      "Python Is Awesome, And We Are Leaning Python\n"
     ]
    }
   ],
   "source": [
    "a = 'python is awesome, and we are leaning python'\n",
    "\n",
    "a = a.title()\n",
    "print(a)"
   ]
  },
  {
   "cell_type": "code",
   "execution_count": 82,
   "id": "5f8fdf79",
   "metadata": {},
   "outputs": [
    {
     "name": "stdout",
     "output_type": "stream",
     "text": [
      "Python is. awesome @#$%^&*()\n"
     ]
    }
   ],
   "source": [
    "a = 'python is. awesome @#$%^&*()'\n",
    "a = a.capitalize()\n",
    "print(a)"
   ]
  },
  {
   "cell_type": "code",
   "execution_count": 83,
   "id": "6cfacdf3",
   "metadata": {},
   "outputs": [],
   "source": [
    "# expandtabs"
   ]
  },
  {
   "cell_type": "code",
   "execution_count": 84,
   "id": "2cdb6b95",
   "metadata": {},
   "outputs": [],
   "source": [
    "# '\\n':- Enter\n",
    "# '\\t':- tab\n",
    "# '\\b':- 'Backspace'\n",
    "\n"
   ]
  },
  {
   "cell_type": "code",
   "execution_count": 88,
   "id": "44768790",
   "metadata": {},
   "outputs": [
    {
     "name": "stdout",
     "output_type": "stream",
     "text": [
      "This \n",
      " is \n",
      "a \n",
      " python \n",
      " class\n"
     ]
    }
   ],
   "source": [
    "a = 'This \\n is \\na \\n python \\n class'\n",
    "\n",
    "print(a)"
   ]
  },
  {
   "cell_type": "code",
   "execution_count": 104,
   "id": "b03014b0",
   "metadata": {},
   "outputs": [
    {
     "name": "stdout",
     "output_type": "stream",
     "text": [
      "This     \tis\ta\tpython\tclass\n"
     ]
    }
   ],
   "source": [
    "a = 'This     \\tis\\ta\\tpython\\tclass'\n",
    "\n",
    "print(a)"
   ]
  },
  {
   "cell_type": "code",
   "execution_count": 105,
   "id": "b8924ee6",
   "metadata": {},
   "outputs": [
    {
     "name": "stdout",
     "output_type": "stream",
     "text": [
      "This      is a python class\n"
     ]
    }
   ],
   "source": [
    "b = a.expandtabs(1)\n",
    "print(b)"
   ]
  },
  {
   "cell_type": "code",
   "execution_count": 110,
   "id": "ba60af45",
   "metadata": {},
   "outputs": [
    {
     "name": "stdout",
     "output_type": "stream",
     "text": [
      "we are in a\bNoida\n"
     ]
    }
   ],
   "source": [
    "a = 'we are in a\\bNoida'\n",
    "\n",
    "\n",
    "print(a)"
   ]
  },
  {
   "cell_type": "code",
   "execution_count": 114,
   "id": "14728490",
   "metadata": {},
   "outputs": [
    {
     "data": {
      "text/plain": [
       "True"
      ]
     },
     "execution_count": 114,
     "metadata": {},
     "output_type": "execute_result"
    }
   ],
   "source": [
    "# isalpha\n",
    "\n",
    "a = 'avvbejbfjh'\n",
    "\n",
    "a.isalpha()"
   ]
  },
  {
   "cell_type": "code",
   "execution_count": 116,
   "id": "5cb3254f",
   "metadata": {},
   "outputs": [
    {
     "data": {
      "text/plain": [
       "False"
      ]
     },
     "execution_count": 116,
     "metadata": {},
     "output_type": "execute_result"
    }
   ],
   "source": [
    "a = '67567hy'\n",
    "\n",
    "a.isdigit()"
   ]
  },
  {
   "cell_type": "code",
   "execution_count": null,
   "id": "f8f6dd29",
   "metadata": {},
   "outputs": [],
   "source": []
  }
 ],
 "metadata": {
  "kernelspec": {
   "display_name": "Python 3 (ipykernel)",
   "language": "python",
   "name": "python3"
  },
  "language_info": {
   "codemirror_mode": {
    "name": "ipython",
    "version": 3
   },
   "file_extension": ".py",
   "mimetype": "text/x-python",
   "name": "python",
   "nbconvert_exporter": "python",
   "pygments_lexer": "ipython3",
   "version": "3.11.3"
  }
 },
 "nbformat": 4,
 "nbformat_minor": 5
}

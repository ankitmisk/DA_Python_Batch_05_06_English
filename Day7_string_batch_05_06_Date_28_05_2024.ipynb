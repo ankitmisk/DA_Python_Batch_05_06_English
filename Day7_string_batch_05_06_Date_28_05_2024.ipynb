{
 "cells": [
  {
   "cell_type": "code",
   "execution_count": 1,
   "id": "e6686367",
   "metadata": {},
   "outputs": [],
   "source": [
    "# split\n",
    "# partiation\n",
    "# join\n",
    "# center\n",
    "# ljust\n",
    "# rjust\n",
    "# splitlines"
   ]
  },
  {
   "cell_type": "code",
   "execution_count": 2,
   "id": "d27a3875",
   "metadata": {},
   "outputs": [],
   "source": [
    "# a = 'Ajay'\n",
    "# a."
   ]
  },
  {
   "cell_type": "code",
   "execution_count": 3,
   "id": "73a4a314",
   "metadata": {},
   "outputs": [
    {
     "data": {
      "text/plain": [
       "'This is PYTHON class'"
      ]
     },
     "execution_count": 3,
     "metadata": {},
     "output_type": "execute_result"
    }
   ],
   "source": [
    "a = 'This is python class'\n",
    "\n",
    "a.replace('python','PYTHON')"
   ]
  },
  {
   "cell_type": "code",
   "execution_count": 6,
   "id": "41a886c7",
   "metadata": {},
   "outputs": [
    {
     "data": {
      "text/plain": [
       "'THIS IS PYTHON CLASS'"
      ]
     },
     "execution_count": 6,
     "metadata": {},
     "output_type": "execute_result"
    }
   ],
   "source": [
    "a.upper()"
   ]
  },
  {
   "cell_type": "code",
   "execution_count": 7,
   "id": "57175599",
   "metadata": {},
   "outputs": [
    {
     "name": "stdout",
     "output_type": "stream",
     "text": [
      "['__add__', '__class__', '__contains__', '__delattr__', '__dir__', '__doc__', '__eq__', '__format__', '__ge__', '__getattribute__', '__getitem__', '__getnewargs__', '__getstate__', '__gt__', '__hash__', '__init__', '__init_subclass__', '__iter__', '__le__', '__len__', '__lt__', '__mod__', '__mul__', '__ne__', '__new__', '__reduce__', '__reduce_ex__', '__repr__', '__rmod__', '__rmul__', '__setattr__', '__sizeof__', '__str__', '__subclasshook__', 'capitalize', 'casefold', 'center', 'count', 'encode', 'endswith', 'expandtabs', 'find', 'format', 'format_map', 'index', 'isalnum', 'isalpha', 'isascii', 'isdecimal', 'isdigit', 'isidentifier', 'islower', 'isnumeric', 'isprintable', 'isspace', 'istitle', 'isupper', 'join', 'ljust', 'lower', 'lstrip', 'maketrans', 'partition', 'removeprefix', 'removesuffix', 'replace', 'rfind', 'rindex', 'rjust', 'rpartition', 'rsplit', 'rstrip', 'split', 'splitlines', 'startswith', 'strip', 'swapcase', 'title', 'translate', 'upper', 'zfill']\n"
     ]
    }
   ],
   "source": [
    "print(dir(str))"
   ]
  },
  {
   "cell_type": "code",
   "execution_count": 8,
   "id": "d61bc1d2",
   "metadata": {},
   "outputs": [],
   "source": [
    "all_m = ['capitalize', 'casefold', 'center', 'count', 'encode', 'endswith', 'expandtabs', 'find', 'format', 'format_map', 'index', 'isalnum', 'isalpha', 'isascii', 'isdecimal', 'isdigit', 'isidentifier', 'islower', 'isnumeric', 'isprintable', 'isspace', 'istitle', 'isupper', 'join', 'ljust', 'lower', 'lstrip', 'maketrans', 'partition', 'removeprefix', 'removesuffix', 'replace', 'rfind', 'rindex', 'rjust', 'rpartition', 'rsplit', 'rstrip', 'split', 'splitlines', 'startswith', 'strip', 'swapcase', 'title', 'translate', 'upper', 'zfill']"
   ]
  },
  {
   "cell_type": "code",
   "execution_count": 9,
   "id": "8b0e49f6",
   "metadata": {},
   "outputs": [
    {
     "name": "stdout",
     "output_type": "stream",
     "text": [
      "['capitalize', 'casefold', 'center', 'count', 'encode', 'endswith', 'expandtabs', 'find', 'format', 'format_map', 'index', 'isalnum', 'isalpha', 'isascii', 'isdecimal', 'isdigit', 'isidentifier', 'islower', 'isnumeric', 'isprintable', 'isspace', 'istitle', 'isupper', 'join', 'ljust', 'lower', 'lstrip', 'maketrans', 'partition', 'removeprefix', 'removesuffix', 'replace', 'rfind', 'rindex', 'rjust', 'rpartition', 'rsplit', 'rstrip', 'split', 'splitlines', 'startswith', 'strip', 'swapcase', 'title', 'translate', 'upper', 'zfill']\n"
     ]
    }
   ],
   "source": [
    "print(all_m)"
   ]
  },
  {
   "cell_type": "code",
   "execution_count": 10,
   "id": "d7e93438",
   "metadata": {},
   "outputs": [
    {
     "name": "stdout",
     "output_type": "stream",
     "text": [
      "47\n"
     ]
    }
   ],
   "source": [
    "print(len(all_m))"
   ]
  },
  {
   "cell_type": "code",
   "execution_count": null,
   "id": "bccf06d4",
   "metadata": {},
   "outputs": [],
   "source": []
  },
  {
   "cell_type": "code",
   "execution_count": null,
   "id": "f2bcc05a",
   "metadata": {},
   "outputs": [],
   "source": []
  },
  {
   "cell_type": "code",
   "execution_count": null,
   "id": "617104e1",
   "metadata": {},
   "outputs": [],
   "source": []
  },
  {
   "cell_type": "code",
   "execution_count": 11,
   "id": "0c519f30",
   "metadata": {},
   "outputs": [],
   "source": [
    "# split\n",
    "# partiation\n",
    "# join\n",
    "# center\n",
    "# ljust\n",
    "# rjust\n",
    "# splitlines"
   ]
  },
  {
   "cell_type": "code",
   "execution_count": 13,
   "id": "010a64a6",
   "metadata": {},
   "outputs": [
    {
     "name": "stdout",
     "output_type": "stream",
     "text": [
      "['This', 'is', 'python', 'class']\n"
     ]
    }
   ],
   "source": [
    "a = 'This is python class'\n",
    "\n",
    "# ['This','is','python','class']\n",
    "\n",
    "result = a.split(' ')\n",
    "print(result)"
   ]
  },
  {
   "cell_type": "code",
   "execution_count": 14,
   "id": "9677b2d4",
   "metadata": {},
   "outputs": [
    {
     "data": {
      "text/plain": [
       "['We ', 're in Noid', ' ', 'nd le', 'rning Python']"
      ]
     },
     "execution_count": 14,
     "metadata": {},
     "output_type": "execute_result"
    }
   ],
   "source": [
    "paragraph = 'We are in Noida and learning Python'\n",
    "\n",
    "paragraph.split('a')"
   ]
  },
  {
   "cell_type": "code",
   "execution_count": 16,
   "id": "821fdb12",
   "metadata": {},
   "outputs": [
    {
     "name": "stdout",
     "output_type": "stream",
     "text": [
      "['We', 'are', 'in', 'Noida', 'and', 'learning', 'Python']\n"
     ]
    }
   ],
   "source": [
    "paragraph = 'We,are,in,Noida,and,learning,Python'\n",
    "\n",
    "print(paragraph.split(','))"
   ]
  },
  {
   "cell_type": "code",
   "execution_count": 18,
   "id": "653e17e4",
   "metadata": {},
   "outputs": [],
   "source": [
    "students = 'mohan,ajay,karan,ravi,akshay'\n",
    "\n",
    "all_students = students.split(',')"
   ]
  },
  {
   "cell_type": "code",
   "execution_count": 19,
   "id": "a7caa388",
   "metadata": {},
   "outputs": [
    {
     "name": "stdout",
     "output_type": "stream",
     "text": [
      "['mohan', 'ajay', 'karan', 'ravi', 'akshay']\n"
     ]
    }
   ],
   "source": [
    "print(all_students)"
   ]
  },
  {
   "cell_type": "code",
   "execution_count": 20,
   "id": "4180bb98",
   "metadata": {},
   "outputs": [
    {
     "data": {
      "text/plain": [
       "['This is Elon Musk ', ' we are in Noida']"
      ]
     },
     "execution_count": 20,
     "metadata": {},
     "output_type": "execute_result"
    }
   ],
   "source": [
    "a = 'This is Elon Musk & we are in Noida'\n",
    "\n",
    "a.split('&')"
   ]
  },
  {
   "cell_type": "code",
   "execution_count": 23,
   "id": "2a91c193",
   "metadata": {},
   "outputs": [
    {
     "data": {
      "text/plain": [
       "('This is Elon Musk ', 'and', ' we are in Noida and Python')"
      ]
     },
     "execution_count": 23,
     "metadata": {},
     "output_type": "execute_result"
    }
   ],
   "source": [
    "a = 'This is Elon Musk and we are in Noida and Python'\n",
    "\n",
    "a.partition('and')"
   ]
  },
  {
   "cell_type": "code",
   "execution_count": 24,
   "id": "b7dd0092",
   "metadata": {},
   "outputs": [
    {
     "data": {
      "text/plain": [
       "['This is Elon Musk ', ' we are in Noida ', ' Python']"
      ]
     },
     "execution_count": 24,
     "metadata": {},
     "output_type": "execute_result"
    }
   ],
   "source": [
    "a = 'This is Elon Musk and we are in Noida and Python'\n",
    "\n",
    "a.split('and')"
   ]
  },
  {
   "cell_type": "code",
   "execution_count": 29,
   "id": "9753a5b2",
   "metadata": {},
   "outputs": [
    {
     "data": {
      "text/plain": [
       "('This is Elon Musk and we are in Noida ', 'and', ' Python')"
      ]
     },
     "execution_count": 29,
     "metadata": {},
     "output_type": "execute_result"
    }
   ],
   "source": [
    "a = 'This is Elon Musk and we are in Noida and Python'\n",
    "\n",
    "a.rpartition('and')"
   ]
  },
  {
   "cell_type": "code",
   "execution_count": null,
   "id": "fff5f9c0",
   "metadata": {},
   "outputs": [],
   "source": []
  },
  {
   "cell_type": "code",
   "execution_count": 30,
   "id": "f265d228",
   "metadata": {},
   "outputs": [],
   "source": [
    "# join"
   ]
  },
  {
   "cell_type": "code",
   "execution_count": 31,
   "id": "aa641e87",
   "metadata": {},
   "outputs": [],
   "source": [
    "# 'Python'\n",
    "\n",
    "# 'P*y*t*h*o*n'"
   ]
  },
  {
   "cell_type": "code",
   "execution_count": 32,
   "id": "a277aede",
   "metadata": {},
   "outputs": [
    {
     "data": {
      "text/plain": [
       "'P*y*t*h*o*n'"
      ]
     },
     "execution_count": 32,
     "metadata": {},
     "output_type": "execute_result"
    }
   ],
   "source": [
    "'*'.join('Python')"
   ]
  },
  {
   "cell_type": "code",
   "execution_count": 33,
   "id": "1e736ff1",
   "metadata": {},
   "outputs": [],
   "source": [
    "# 'P*y*t*h*o*n'"
   ]
  },
  {
   "cell_type": "code",
   "execution_count": 34,
   "id": "a97bf9e3",
   "metadata": {},
   "outputs": [],
   "source": [
    "data = 'PYTHON'\n",
    "\n",
    "# 'P  Y  T  H  O  N'"
   ]
  },
  {
   "cell_type": "code",
   "execution_count": 35,
   "id": "d7339588",
   "metadata": {},
   "outputs": [
    {
     "data": {
      "text/plain": [
       "'P  Y  T  H  O  N'"
      ]
     },
     "execution_count": 35,
     "metadata": {},
     "output_type": "execute_result"
    }
   ],
   "source": [
    "'  '.join(data)"
   ]
  },
  {
   "cell_type": "code",
   "execution_count": 37,
   "id": "53b32cab",
   "metadata": {},
   "outputs": [],
   "source": [
    "data = 'Ajay Mohan Karan Ravi Anil'\n",
    "\n",
    "split_names = data.split(' ')"
   ]
  },
  {
   "cell_type": "code",
   "execution_count": 38,
   "id": "d3e71d01",
   "metadata": {},
   "outputs": [
    {
     "name": "stdout",
     "output_type": "stream",
     "text": [
      "['Ajay', 'Mohan', 'Karan', 'Ravi', 'Anil']\n"
     ]
    }
   ],
   "source": [
    "print(split_names)"
   ]
  },
  {
   "cell_type": "code",
   "execution_count": 43,
   "id": "d09be8ba",
   "metadata": {},
   "outputs": [],
   "source": [
    "my_data = ',#'.join(split_names)"
   ]
  },
  {
   "cell_type": "code",
   "execution_count": 44,
   "id": "29a4c09e",
   "metadata": {},
   "outputs": [
    {
     "name": "stdout",
     "output_type": "stream",
     "text": [
      "Ajay,#Mohan,#Karan,#Ravi,#Anil\n"
     ]
    }
   ],
   "source": [
    "print(my_data)"
   ]
  },
  {
   "cell_type": "code",
   "execution_count": 45,
   "id": "8e07d399",
   "metadata": {},
   "outputs": [
    {
     "data": {
      "text/plain": [
       "'#Ajay,#Mohan,#Karan,#Ravi,#Anil'"
      ]
     },
     "execution_count": 45,
     "metadata": {},
     "output_type": "execute_result"
    }
   ],
   "source": [
    "'#'+my_data"
   ]
  },
  {
   "cell_type": "code",
   "execution_count": 46,
   "id": "d32aefa5",
   "metadata": {},
   "outputs": [],
   "source": [
    "# center\n"
   ]
  },
  {
   "cell_type": "code",
   "execution_count": 53,
   "id": "add8ef46",
   "metadata": {},
   "outputs": [],
   "source": [
    "a = '                                                   Welcome Candidates!!'"
   ]
  },
  {
   "cell_type": "code",
   "execution_count": 54,
   "id": "4ed2d444",
   "metadata": {},
   "outputs": [
    {
     "name": "stdout",
     "output_type": "stream",
     "text": [
      "                                                   Welcome Candidates!!\n"
     ]
    }
   ],
   "source": [
    "print(a)"
   ]
  },
  {
   "cell_type": "code",
   "execution_count": 58,
   "id": "b13e9f57",
   "metadata": {},
   "outputs": [
    {
     "name": "stdout",
     "output_type": "stream",
     "text": [
      "18\n"
     ]
    },
    {
     "data": {
      "text/plain": [
       "'*****Welcome to India!!****'"
      ]
     },
     "execution_count": 58,
     "metadata": {},
     "output_type": "execute_result"
    }
   ],
   "source": [
    "a = 'Welcome to India!!'\n",
    "print(len(a))\n",
    "a.center(27,'*')"
   ]
  },
  {
   "cell_type": "code",
   "execution_count": 63,
   "id": "0f51818b",
   "metadata": {},
   "outputs": [
    {
     "name": "stdout",
     "output_type": "stream",
     "text": [
      "                                                   Welcome to India!!                                                   \n"
     ]
    }
   ],
   "source": [
    "a = 'Welcome to India!!'\n",
    "print(a.center(120,' '))"
   ]
  },
  {
   "cell_type": "code",
   "execution_count": 64,
   "id": "9a0e3629",
   "metadata": {},
   "outputs": [],
   "source": [
    "# ljust\n",
    "# rjust"
   ]
  },
  {
   "cell_type": "code",
   "execution_count": 78,
   "id": "f53d9aa6",
   "metadata": {},
   "outputs": [
    {
     "name": "stdout",
     "output_type": "stream",
     "text": [
      "Welcome!!**\n"
     ]
    }
   ],
   "source": [
    "# ljust\n",
    "\n",
    "a = 'Welcome!!'\n",
    "print(a.ljust(11,'*'))"
   ]
  },
  {
   "cell_type": "code",
   "execution_count": 76,
   "id": "ce2470f7",
   "metadata": {},
   "outputs": [
    {
     "name": "stdout",
     "output_type": "stream",
     "text": [
      "**Welcome!!\n"
     ]
    }
   ],
   "source": [
    "# ljust\n",
    "\n",
    "a = 'Welcome!!'\n",
    "print(a.rjust(11,'*'))"
   ]
  },
  {
   "cell_type": "code",
   "execution_count": 79,
   "id": "ef2c9b40",
   "metadata": {},
   "outputs": [
    {
     "name": "stdout",
     "output_type": "stream",
     "text": [
      "**goa in mumbai***\n"
     ]
    }
   ],
   "source": [
    "# ljust\n",
    "\n",
    "a = 'goa in mumbai'\n",
    "print(a.center(18,'*'))"
   ]
  },
  {
   "cell_type": "code",
   "execution_count": 83,
   "id": "16c58309",
   "metadata": {},
   "outputs": [
    {
     "data": {
      "text/plain": [
       "['we', 'are', 'in', 'Noida']"
      ]
     },
     "execution_count": 83,
     "metadata": {},
     "output_type": "execute_result"
    }
   ],
   "source": [
    "a = 'we\\nare\\nin\\nNoida'\n",
    "\n",
    "a.splitlines()"
   ]
  },
  {
   "cell_type": "code",
   "execution_count": 84,
   "id": "79c7f7d3",
   "metadata": {},
   "outputs": [
    {
     "data": {
      "text/plain": [
       "['we', 'are', 'in', 'Noida']"
      ]
     },
     "execution_count": 84,
     "metadata": {},
     "output_type": "execute_result"
    }
   ],
   "source": [
    "a = 'we\\nare\\nin\\nNoida'\n",
    "\n",
    "a.split('\\n')"
   ]
  },
  {
   "cell_type": "code",
   "execution_count": null,
   "id": "f3dbd06d",
   "metadata": {},
   "outputs": [],
   "source": []
  },
  {
   "cell_type": "code",
   "execution_count": null,
   "id": "94e59eea",
   "metadata": {},
   "outputs": [],
   "source": []
  },
  {
   "cell_type": "code",
   "execution_count": 91,
   "id": "6d238aac",
   "metadata": {},
   "outputs": [
    {
     "name": "stdout",
     "output_type": "stream",
     "text": [
      "Enter your name: lucky\n",
      "Hello lucky\n"
     ]
    }
   ],
   "source": [
    "name = input('Enter your name: ')\n",
    "\n",
    "print('Hello',name)"
   ]
  },
  {
   "cell_type": "code",
   "execution_count": 94,
   "id": "dcba5af7",
   "metadata": {},
   "outputs": [
    {
     "name": "stdout",
     "output_type": "stream",
     "text": [
      "Enter your name: karan\n",
      "Hello Mr karan .How are you??\n"
     ]
    }
   ],
   "source": [
    "name = input('Enter your name: ')\n",
    "\n",
    "print('Hello','Mr '+name,'.How are you??')"
   ]
  },
  {
   "cell_type": "code",
   "execution_count": 96,
   "id": "19768869",
   "metadata": {},
   "outputs": [
    {
     "name": "stdout",
     "output_type": "stream",
     "text": [
      "Enter your name: lucky\n",
      "Hello Mr LUCKY .How are you??\n"
     ]
    }
   ],
   "source": [
    "name = input('Enter your name: ').upper()\n",
    "\n",
    "print('Hello','Mr '+name,'.How are you??')"
   ]
  },
  {
   "cell_type": "code",
   "execution_count": 98,
   "id": "06162789",
   "metadata": {},
   "outputs": [],
   "source": [
    "# format method\n",
    "# fstring"
   ]
  },
  {
   "cell_type": "code",
   "execution_count": 104,
   "id": "a32b7e87",
   "metadata": {},
   "outputs": [
    {
     "name": "stdout",
     "output_type": "stream",
     "text": [
      "I have a BMW car, having Price is Rs 98765 and Model is 2024.\n"
     ]
    }
   ],
   "source": [
    "car = 'BMW'\n",
    "price = 98765\n",
    "model = 2024\n",
    "\n",
    "print('I have a {0} car, having Price is Rs {1} and Model is {2}.'.format(car,price,model))"
   ]
  },
  {
   "cell_type": "code",
   "execution_count": 110,
   "id": "f94fd7b9",
   "metadata": {},
   "outputs": [
    {
     "name": "stdout",
     "output_type": "stream",
     "text": [
      "I have a BMW car, having Price is Rs 98765 and Model is 2024.\n"
     ]
    }
   ],
   "source": [
    "# fstring method\n",
    "car = 'BMW'\n",
    "price = 98765\n",
    "model = 2024\n",
    "\n",
    "print(f'I have a {car} car, having Price is Rs {price} and Model is {model}.')"
   ]
  },
  {
   "cell_type": "code",
   "execution_count": null,
   "id": "049dfa81",
   "metadata": {},
   "outputs": [],
   "source": []
  },
  {
   "cell_type": "code",
   "execution_count": null,
   "id": "e9143098",
   "metadata": {},
   "outputs": [],
   "source": []
  },
  {
   "cell_type": "code",
   "execution_count": 116,
   "id": "319cdf46",
   "metadata": {},
   "outputs": [
    {
     "name": "stdout",
     "output_type": "stream",
     "text": [
      "Enter your name: mohan\n",
      "Hello {name}, How are you??\n",
      "😊\n"
     ]
    }
   ],
   "source": [
    "name = input('Enter your name: ').upper()\n",
    "\n",
    "print(f'Hello {name}, How are you??\\n😊')"
   ]
  },
  {
   "cell_type": "code",
   "execution_count": null,
   "id": "519e9318",
   "metadata": {},
   "outputs": [],
   "source": []
  }
 ],
 "metadata": {
  "kernelspec": {
   "display_name": "Python 3 (ipykernel)",
   "language": "python",
   "name": "python3"
  },
  "language_info": {
   "codemirror_mode": {
    "name": "ipython",
    "version": 3
   },
   "file_extension": ".py",
   "mimetype": "text/x-python",
   "name": "python",
   "nbconvert_exporter": "python",
   "pygments_lexer": "ipython3",
   "version": "3.11.3"
  }
 },
 "nbformat": 4,
 "nbformat_minor": 5
}

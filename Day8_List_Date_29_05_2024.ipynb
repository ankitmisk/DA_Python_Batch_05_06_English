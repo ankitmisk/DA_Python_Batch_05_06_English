{
 "cells": [
  {
   "cell_type": "code",
   "execution_count": 1,
   "id": "20a1ed77",
   "metadata": {},
   "outputs": [
    {
     "name": "stdout",
     "output_type": "stream",
     "text": [
      "[1, 123, 45, 45, 3241, 45]\n"
     ]
    }
   ],
   "source": [
    "a = [1,123,45,45,3241,45]\n",
    "print(a)"
   ]
  },
  {
   "cell_type": "code",
   "execution_count": 2,
   "id": "fd126f0e",
   "metadata": {},
   "outputs": [
    {
     "name": "stdout",
     "output_type": "stream",
     "text": [
      "<class 'list'>\n"
     ]
    }
   ],
   "source": [
    "print(type(a))"
   ]
  },
  {
   "cell_type": "code",
   "execution_count": 3,
   "id": "8d42a666",
   "metadata": {},
   "outputs": [
    {
     "name": "stdout",
     "output_type": "stream",
     "text": [
      "[]\n"
     ]
    }
   ],
   "source": [
    "# how to create an empty list\n",
    "\n",
    "b = []\n",
    "\n",
    "print(b)"
   ]
  },
  {
   "cell_type": "code",
   "execution_count": 4,
   "id": "e7f6f440",
   "metadata": {},
   "outputs": [
    {
     "name": "stdout",
     "output_type": "stream",
     "text": [
      "<class 'list'>\n"
     ]
    }
   ],
   "source": [
    "print(type(b))"
   ]
  },
  {
   "cell_type": "code",
   "execution_count": 5,
   "id": "ab783fe4",
   "metadata": {},
   "outputs": [
    {
     "name": "stdout",
     "output_type": "stream",
     "text": [
      "0\n"
     ]
    }
   ],
   "source": [
    "print(len(b))"
   ]
  },
  {
   "cell_type": "code",
   "execution_count": 6,
   "id": "e7fcd95c",
   "metadata": {},
   "outputs": [
    {
     "name": "stdout",
     "output_type": "stream",
     "text": [
      "[]\n"
     ]
    }
   ],
   "source": [
    "# we can use list constructor\n",
    "\n",
    "d = list()\n",
    "\n",
    "print(d)"
   ]
  },
  {
   "cell_type": "code",
   "execution_count": 7,
   "id": "f586c8d3",
   "metadata": {},
   "outputs": [
    {
     "name": "stdout",
     "output_type": "stream",
     "text": [
      "0\n"
     ]
    }
   ],
   "source": [
    "print(len(d))"
   ]
  },
  {
   "cell_type": "code",
   "execution_count": 8,
   "id": "152196b8",
   "metadata": {},
   "outputs": [
    {
     "name": "stdout",
     "output_type": "stream",
     "text": [
      "[12, 34.6, None, True, 'Mohan', (21, 32, 4), [1, 124, 35]]\n"
     ]
    }
   ],
   "source": [
    "# we can store any data with in a list\n",
    "# int,float,complex,str,tuple,dict,None,set,bool,list\n",
    "\n",
    "my_list = [12,34.6,None,True,'Mohan',(21,32,4),[1,124,35]]\n",
    "print(my_list)\n"
   ]
  },
  {
   "cell_type": "code",
   "execution_count": 9,
   "id": "2fc7a265",
   "metadata": {},
   "outputs": [
    {
     "name": "stdout",
     "output_type": "stream",
     "text": [
      "<class 'list'>\n"
     ]
    }
   ],
   "source": [
    "print(type(my_list))"
   ]
  },
  {
   "cell_type": "code",
   "execution_count": 10,
   "id": "18a5629b",
   "metadata": {},
   "outputs": [
    {
     "name": "stdout",
     "output_type": "stream",
     "text": [
      "[1, 23, 5, [1, 2, 35, [112, 32, 98]]]\n"
     ]
    }
   ],
   "source": [
    "# we can store list inside list and so on\n",
    "\n",
    "nested_list = [1,23,5,[1,2,35,[112,32,98]]]\n",
    "\n",
    "print(nested_list)"
   ]
  },
  {
   "cell_type": "code",
   "execution_count": 11,
   "id": "0b879e21",
   "metadata": {},
   "outputs": [
    {
     "name": "stdout",
     "output_type": "stream",
     "text": [
      "<class 'list'>\n"
     ]
    }
   ],
   "source": [
    "print(type(nested_list))"
   ]
  },
  {
   "cell_type": "code",
   "execution_count": 12,
   "id": "2cfc8a44",
   "metadata": {},
   "outputs": [
    {
     "name": "stdout",
     "output_type": "stream",
     "text": [
      "435\n"
     ]
    }
   ],
   "source": [
    "# list supports indexing, positive, negative\n",
    "a = [1,2343,254,421,435,'Ajay','karan']\n",
    "\n",
    "print(a[4])"
   ]
  },
  {
   "cell_type": "code",
   "execution_count": 13,
   "id": "0dd8666d",
   "metadata": {},
   "outputs": [
    {
     "data": {
      "text/plain": [
       "254"
      ]
     },
     "execution_count": 13,
     "metadata": {},
     "output_type": "execute_result"
    }
   ],
   "source": [
    "a[2]"
   ]
  },
  {
   "cell_type": "code",
   "execution_count": 15,
   "id": "6b4133da",
   "metadata": {},
   "outputs": [
    {
     "name": "stdout",
     "output_type": "stream",
     "text": [
      "Ajay\n"
     ]
    }
   ],
   "source": [
    "print(a[5])"
   ]
  },
  {
   "cell_type": "code",
   "execution_count": 17,
   "id": "0df6ea08",
   "metadata": {},
   "outputs": [
    {
     "name": "stdout",
     "output_type": "stream",
     "text": [
      "Ajay\n"
     ]
    }
   ],
   "source": [
    "print(a[-2])"
   ]
  },
  {
   "cell_type": "code",
   "execution_count": 18,
   "id": "3aceb2b8",
   "metadata": {},
   "outputs": [
    {
     "name": "stdout",
     "output_type": "stream",
     "text": [
      "421\n"
     ]
    }
   ],
   "source": [
    "print(a[-4])"
   ]
  },
  {
   "cell_type": "code",
   "execution_count": 19,
   "id": "041dd416",
   "metadata": {},
   "outputs": [
    {
     "name": "stdout",
     "output_type": "stream",
     "text": [
      "['mohan', 'ajay', 'sarwar', 'karan', 'mohit', 'Adnan', 'Akshay']\n"
     ]
    }
   ],
   "source": [
    "# list also supports slicing\n",
    "\n",
    "names = ['mohan','ajay','sarwar','karan','mohit','Adnan','Akshay']\n",
    "\n",
    "print(names)"
   ]
  },
  {
   "cell_type": "code",
   "execution_count": 21,
   "id": "ddc2cfcd",
   "metadata": {},
   "outputs": [
    {
     "name": "stdout",
     "output_type": "stream",
     "text": [
      "['ajay', 'sarwar', 'karan', 'mohit']\n"
     ]
    }
   ],
   "source": [
    "print(names[1:5])"
   ]
  },
  {
   "cell_type": "code",
   "execution_count": 22,
   "id": "7023efed",
   "metadata": {},
   "outputs": [
    {
     "name": "stdout",
     "output_type": "stream",
     "text": [
      "['sarwar', 'karan', 'mohit', 'Adnan']\n"
     ]
    }
   ],
   "source": [
    "print(names[2:6])"
   ]
  },
  {
   "cell_type": "code",
   "execution_count": 23,
   "id": "4d004b99",
   "metadata": {},
   "outputs": [
    {
     "name": "stdout",
     "output_type": "stream",
     "text": [
      "['mohan', 'sarwar', 'mohit', 'Akshay']\n"
     ]
    }
   ],
   "source": [
    "print(names[::2])"
   ]
  },
  {
   "cell_type": "code",
   "execution_count": 24,
   "id": "1f1147d7",
   "metadata": {},
   "outputs": [
    {
     "name": "stdout",
     "output_type": "stream",
     "text": [
      "[1, 23, 5, [1, 2, 35, [112, 32, 98]]]\n"
     ]
    }
   ],
   "source": [
    "nested_list = [1,23,5,[1,2,35,[112,32,98]]]\n",
    "print(nested_list)"
   ]
  },
  {
   "cell_type": "code",
   "execution_count": 27,
   "id": "a4d0dfd8",
   "metadata": {},
   "outputs": [
    {
     "name": "stdout",
     "output_type": "stream",
     "text": [
      "35\n"
     ]
    }
   ],
   "source": [
    "print(nested_list[3][2])"
   ]
  },
  {
   "cell_type": "code",
   "execution_count": 30,
   "id": "5cddc6a6",
   "metadata": {},
   "outputs": [
    {
     "data": {
      "text/plain": [
       "32"
      ]
     },
     "execution_count": 30,
     "metadata": {},
     "output_type": "execute_result"
    }
   ],
   "source": [
    "nested_list[3][3][1]"
   ]
  },
  {
   "cell_type": "code",
   "execution_count": 33,
   "id": "0e2c7966",
   "metadata": {},
   "outputs": [],
   "source": [
    "# list are mutable:- we can change the elements of list:\n",
    "# list support item assignment"
   ]
  },
  {
   "cell_type": "code",
   "execution_count": 32,
   "id": "0308c659",
   "metadata": {},
   "outputs": [
    {
     "name": "stdout",
     "output_type": "stream",
     "text": [
      "['mohan', 'ajay', 'sarwar', 'karan', 'mohit', 'Adnan', 'Akshay']\n"
     ]
    }
   ],
   "source": [
    "names = ['mohan','ajay','sarwar','karan','mohit','Adnan','Akshay']\n",
    "print(names)"
   ]
  },
  {
   "cell_type": "code",
   "execution_count": 36,
   "id": "c2b32499",
   "metadata": {},
   "outputs": [],
   "source": [
    "names[2] = 'Md Sarwar'"
   ]
  },
  {
   "cell_type": "code",
   "execution_count": 37,
   "id": "8a1758d3",
   "metadata": {},
   "outputs": [
    {
     "name": "stdout",
     "output_type": "stream",
     "text": [
      "['mohan', 'ajay', 'Md Sarwar', 'karan', 'mohit', 'Adnan', 'Akshay']\n"
     ]
    }
   ],
   "source": [
    "print(names)"
   ]
  },
  {
   "cell_type": "code",
   "execution_count": 39,
   "id": "42962246",
   "metadata": {},
   "outputs": [],
   "source": [
    "names[4] = 'Mohit Khanna'"
   ]
  },
  {
   "cell_type": "code",
   "execution_count": 40,
   "id": "3908928e",
   "metadata": {},
   "outputs": [
    {
     "name": "stdout",
     "output_type": "stream",
     "text": [
      "['mohan', 'ajay', 'Md Sarwar', 'karan', 'Mohit Khanna', 'Adnan', 'Akshay']\n"
     ]
    }
   ],
   "source": [
    "print(names)"
   ]
  },
  {
   "cell_type": "code",
   "execution_count": 41,
   "id": "99af44db",
   "metadata": {},
   "outputs": [
    {
     "name": "stdout",
     "output_type": "stream",
     "text": [
      "[12, 34.6, None, True, 'Mohan', (21, 32, 4), [1, 124, 35]]\n"
     ]
    }
   ],
   "source": [
    "my_list = [12,34.6,None,True,'Mohan',(21,32,4),[1,124,35]]\n",
    "print(my_list)"
   ]
  },
  {
   "cell_type": "code",
   "execution_count": 43,
   "id": "5265a4c1",
   "metadata": {},
   "outputs": [],
   "source": [
    "my_list[3] = False"
   ]
  },
  {
   "cell_type": "code",
   "execution_count": 44,
   "id": "63394d37",
   "metadata": {},
   "outputs": [
    {
     "name": "stdout",
     "output_type": "stream",
     "text": [
      "[12, 34.6, None, False, 'Mohan', (21, 32, 4), [1, 124, 35]]\n"
     ]
    }
   ],
   "source": [
    "print(my_list)"
   ]
  },
  {
   "cell_type": "code",
   "execution_count": 49,
   "id": "c265659c",
   "metadata": {},
   "outputs": [],
   "source": [
    "my_list[-1][-1] = '007'"
   ]
  },
  {
   "cell_type": "code",
   "execution_count": 50,
   "id": "7dd9fc21",
   "metadata": {},
   "outputs": [
    {
     "name": "stdout",
     "output_type": "stream",
     "text": [
      "[12, 34.6, None, False, 'Mohan', (21, 32, 4), [1, 124, '007']]\n"
     ]
    }
   ],
   "source": [
    "print(my_list)"
   ]
  },
  {
   "cell_type": "code",
   "execution_count": 51,
   "id": "8cecb41e",
   "metadata": {},
   "outputs": [],
   "source": [
    "complex_list = [1,2,34,[1,23,24,['Mohan','Karan'],56,[1,2,34,[1,24,35]]]]"
   ]
  },
  {
   "cell_type": "code",
   "execution_count": 52,
   "id": "128744a8",
   "metadata": {},
   "outputs": [
    {
     "name": "stdout",
     "output_type": "stream",
     "text": [
      "[1, 2, 34, [1, 23, 24, ['Mohan', 'Karan'], 56, [1, 2, 34, [1, 24, 35]]]]\n"
     ]
    }
   ],
   "source": [
    "print(complex_list)"
   ]
  },
  {
   "cell_type": "code",
   "execution_count": 57,
   "id": "c1f094f5",
   "metadata": {},
   "outputs": [],
   "source": [
    "complex_list[3][3][0] = 'Mr Mohan'"
   ]
  },
  {
   "cell_type": "code",
   "execution_count": 58,
   "id": "b25f735e",
   "metadata": {},
   "outputs": [
    {
     "name": "stdout",
     "output_type": "stream",
     "text": [
      "[1, 2, 34, [1, 23, 24, ['Mr Mohan', 'Karan'], 56, [1, 2, 34, [1, 24, 35]]]]\n"
     ]
    }
   ],
   "source": [
    "print(complex_list)"
   ]
  },
  {
   "cell_type": "code",
   "execution_count": 59,
   "id": "b8a43d48",
   "metadata": {},
   "outputs": [],
   "source": [
    "complex_list[3][3][1] = 'Mr karan'"
   ]
  },
  {
   "cell_type": "code",
   "execution_count": 60,
   "id": "50bba6a0",
   "metadata": {},
   "outputs": [
    {
     "name": "stdout",
     "output_type": "stream",
     "text": [
      "[1, 2, 34, [1, 23, 24, ['Mr Mohan', 'Mr karan'], 56, [1, 2, 34, [1, 24, 35]]]]\n"
     ]
    }
   ],
   "source": [
    "print(complex_list)"
   ]
  },
  {
   "cell_type": "code",
   "execution_count": 61,
   "id": "2a63a89f",
   "metadata": {},
   "outputs": [],
   "source": [
    "# Basic operations"
   ]
  },
  {
   "cell_type": "code",
   "execution_count": 62,
   "id": "77882a66",
   "metadata": {},
   "outputs": [],
   "source": [
    "# h/w\n",
    "# +,-,*,"
   ]
  },
  {
   "cell_type": "code",
   "execution_count": 64,
   "id": "991960ba",
   "metadata": {},
   "outputs": [
    {
     "name": "stdout",
     "output_type": "stream",
     "text": [
      "[1, 23, 25, 2, 43, 5, 1, 1, 1]\n"
     ]
    }
   ],
   "source": [
    "a = [1,23,25]\n",
    "b = [2,43,5]\n",
    "c = [1,1,1]\n",
    "\n",
    "print(a + b + c)"
   ]
  },
  {
   "cell_type": "code",
   "execution_count": 65,
   "id": "aafd7954",
   "metadata": {},
   "outputs": [
    {
     "ename": "TypeError",
     "evalue": "unsupported operand type(s) for -: 'list' and 'list'",
     "output_type": "error",
     "traceback": [
      "\u001b[1;31m---------------------------------------------------------------------------\u001b[0m",
      "\u001b[1;31mTypeError\u001b[0m                                 Traceback (most recent call last)",
      "Cell \u001b[1;32mIn[65], line 1\u001b[0m\n\u001b[1;32m----> 1\u001b[0m \u001b[38;5;28mprint\u001b[39m(a \u001b[38;5;241m-\u001b[39m b \u001b[38;5;241m-\u001b[39m c)\n",
      "\u001b[1;31mTypeError\u001b[0m: unsupported operand type(s) for -: 'list' and 'list'"
     ]
    }
   ],
   "source": [
    "print(a - b - c)"
   ]
  },
  {
   "cell_type": "code",
   "execution_count": 67,
   "id": "db8803a8",
   "metadata": {},
   "outputs": [
    {
     "name": "stdout",
     "output_type": "stream",
     "text": [
      "[1, 23, 25, 1, 23, 25, 1, 23, 25, 1, 23, 25, 1, 23, 25]\n"
     ]
    }
   ],
   "source": [
    "a = [1,23,25]\n",
    "\n",
    "print(a*5)"
   ]
  },
  {
   "cell_type": "code",
   "execution_count": 70,
   "id": "92fb76b2",
   "metadata": {},
   "outputs": [
    {
     "name": "stdout",
     "output_type": "stream",
     "text": [
      "100\n"
     ]
    }
   ],
   "source": [
    "# basic func\n",
    "\n",
    "a = [100,2343,254354,421,435,3762,45456789763,587]\n",
    "\n",
    "print(min(a))"
   ]
  },
  {
   "cell_type": "code",
   "execution_count": 71,
   "id": "b0b76440",
   "metadata": {},
   "outputs": [
    {
     "name": "stdout",
     "output_type": "stream",
     "text": [
      "45456789763\n"
     ]
    }
   ],
   "source": [
    "a = [100,2343,254354,421,435,3762,45456789763,587]\n",
    "\n",
    "print(max(a))"
   ]
  },
  {
   "cell_type": "code",
   "execution_count": 73,
   "id": "8f903fb6",
   "metadata": {},
   "outputs": [
    {
     "name": "stdout",
     "output_type": "stream",
     "text": [
      "45457051765\n"
     ]
    }
   ],
   "source": [
    "a = [100,2343,254354,421,435,3762,45456789763,587]\n",
    "\n",
    "print(sum(a))"
   ]
  },
  {
   "cell_type": "code",
   "execution_count": 74,
   "id": "69b79910",
   "metadata": {},
   "outputs": [
    {
     "data": {
      "text/plain": [
       "2544054917888"
      ]
     },
     "execution_count": 74,
     "metadata": {},
     "output_type": "execute_result"
    }
   ],
   "source": [
    "id(a)"
   ]
  },
  {
   "cell_type": "code",
   "execution_count": 72,
   "id": "89b2520f",
   "metadata": {},
   "outputs": [
    {
     "name": "stdout",
     "output_type": "stream",
     "text": [
      "8\n"
     ]
    }
   ],
   "source": [
    "print(len(a))"
   ]
  },
  {
   "cell_type": "code",
   "execution_count": null,
   "id": "cb061342",
   "metadata": {},
   "outputs": [],
   "source": []
  },
  {
   "cell_type": "code",
   "execution_count": 75,
   "id": "b223bcbb",
   "metadata": {},
   "outputs": [
    {
     "name": "stdout",
     "output_type": "stream",
     "text": [
      "[1, 2, 3, 4, 5, 6, 7, 8, 9, 10]\n"
     ]
    }
   ],
   "source": [
    "data = [1,2,3,4,5,6,7,8,9,10]\n",
    "print(data)"
   ]
  },
  {
   "cell_type": "code",
   "execution_count": 83,
   "id": "33ecbe87",
   "metadata": {},
   "outputs": [
    {
     "name": "stdout",
     "output_type": "stream",
     "text": [
      "[1, 2, 3, 4, 5, 6, 7, 8, 9, 10, 11, 12, 13, 14, 15, 16, 17, 18, 19, 20, 21, 22, 23, 24, 25, 26, 27, 28, 29, 30, 31, 32, 33, 34, 35, 36, 37, 38, 39, 40, 41, 42, 43, 44, 45, 46, 47, 48, 49, 50, 51, 52, 53, 54, 55, 56, 57, 58, 59, 60, 61, 62, 63, 64, 65, 66, 67, 68, 69, 70, 71, 72, 73, 74, 75, 76, 77, 78, 79, 80, 81, 82, 83, 84, 85, 86, 87, 88, 89, 90, 91, 92, 93, 94, 95, 96, 97, 98, 99, 100]\n"
     ]
    }
   ],
   "source": [
    "# range(start,stop,step)\n",
    "\n",
    "\n",
    "a = list(range(1,101))\n",
    "print(a)"
   ]
  },
  {
   "cell_type": "code",
   "execution_count": 87,
   "id": "45a6df61",
   "metadata": {},
   "outputs": [
    {
     "name": "stdout",
     "output_type": "stream",
     "text": [
      "[2, 4, 6, 8, 10, 12, 14, 16, 18, 20, 22, 24, 26, 28, 30, 32, 34, 36, 38, 40, 42, 44, 46, 48, 50, 52, 54, 56, 58, 60, 62, 64, 66, 68, 70, 72, 74, 76, 78, 80, 82, 84, 86, 88, 90, 92, 94, 96, 98, 100]\n"
     ]
    }
   ],
   "source": [
    "# range(start,stop,step)\n",
    "\n",
    "\n",
    "a = list(range(2,101,2))\n",
    "print(a)"
   ]
  },
  {
   "cell_type": "code",
   "execution_count": 90,
   "id": "847af7cc",
   "metadata": {},
   "outputs": [
    {
     "data": {
      "text/plain": [
       "[1, 2, 3, 4, 5, 6, 7, 8, 9, 10]"
      ]
     },
     "execution_count": 90,
     "metadata": {},
     "output_type": "execute_result"
    }
   ],
   "source": [
    "# [range(1,11)]\n",
    "[i for i in range(1,11)]"
   ]
  },
  {
   "cell_type": "code",
   "execution_count": 91,
   "id": "8a418ceb",
   "metadata": {},
   "outputs": [
    {
     "name": "stdout",
     "output_type": "stream",
     "text": [
      "[1, 243, 5, 21, 4534, 635]\n"
     ]
    }
   ],
   "source": [
    "# List methods\n",
    "\n",
    "a = [1,243,5,21,4534,635]\n",
    "print(a)"
   ]
  },
  {
   "cell_type": "code",
   "execution_count": 92,
   "id": "bf60e1b1",
   "metadata": {},
   "outputs": [
    {
     "name": "stdout",
     "output_type": "stream",
     "text": [
      "['__add__', '__class__', '__class_getitem__', '__contains__', '__delattr__', '__delitem__', '__dir__', '__doc__', '__eq__', '__format__', '__ge__', '__getattribute__', '__getitem__', '__getstate__', '__gt__', '__hash__', '__iadd__', '__imul__', '__init__', '__init_subclass__', '__iter__', '__le__', '__len__', '__lt__', '__mul__', '__ne__', '__new__', '__reduce__', '__reduce_ex__', '__repr__', '__reversed__', '__rmul__', '__setattr__', '__setitem__', '__sizeof__', '__str__', '__subclasshook__', 'append', 'clear', 'copy', 'count', 'extend', 'index', 'insert', 'pop', 'remove', 'reverse', 'sort']\n"
     ]
    }
   ],
   "source": [
    "print(dir(list))"
   ]
  },
  {
   "cell_type": "code",
   "execution_count": 94,
   "id": "6b2ed07e",
   "metadata": {},
   "outputs": [],
   "source": [
    "all_methods = ['append', 'clear', 'copy', 'count', 'extend', 'index', 'insert', 'pop', 'remove', 'reverse', 'sort']"
   ]
  },
  {
   "cell_type": "code",
   "execution_count": 95,
   "id": "73be5b7b",
   "metadata": {},
   "outputs": [
    {
     "name": "stdout",
     "output_type": "stream",
     "text": [
      "['append', 'clear', 'copy', 'count', 'extend', 'index', 'insert', 'pop', 'remove', 'reverse', 'sort']\n"
     ]
    }
   ],
   "source": [
    "print(all_methods)"
   ]
  },
  {
   "cell_type": "code",
   "execution_count": 96,
   "id": "8f07266c",
   "metadata": {},
   "outputs": [
    {
     "name": "stdout",
     "output_type": "stream",
     "text": [
      "11\n"
     ]
    }
   ],
   "source": [
    "print(len(all_methods))"
   ]
  },
  {
   "cell_type": "code",
   "execution_count": 97,
   "id": "d6654282",
   "metadata": {},
   "outputs": [
    {
     "name": "stdout",
     "output_type": "stream",
     "text": [
      "[21, 3, 4, 3256, 46]\n"
     ]
    }
   ],
   "source": [
    "a = [21,3,4,3256,46]\n",
    "\n",
    "print(a)"
   ]
  },
  {
   "cell_type": "code",
   "execution_count": 98,
   "id": "28c91858",
   "metadata": {},
   "outputs": [],
   "source": [
    "a.append(100)"
   ]
  },
  {
   "cell_type": "code",
   "execution_count": 99,
   "id": "eabc86ac",
   "metadata": {},
   "outputs": [
    {
     "name": "stdout",
     "output_type": "stream",
     "text": [
      "[21, 3, 4, 3256, 46, 100]\n"
     ]
    }
   ],
   "source": [
    "print(a)"
   ]
  },
  {
   "cell_type": "code",
   "execution_count": 100,
   "id": "7637a4b9",
   "metadata": {},
   "outputs": [],
   "source": [
    "a.append('Mohan')"
   ]
  },
  {
   "cell_type": "code",
   "execution_count": 101,
   "id": "ec83b1a6",
   "metadata": {},
   "outputs": [
    {
     "name": "stdout",
     "output_type": "stream",
     "text": [
      "[21, 3, 4, 3256, 46, 100, 'Mohan']\n"
     ]
    }
   ],
   "source": [
    "print(a)"
   ]
  },
  {
   "cell_type": "code",
   "execution_count": 102,
   "id": "69be52cf",
   "metadata": {},
   "outputs": [
    {
     "ename": "TypeError",
     "evalue": "list.append() takes exactly one argument (2 given)",
     "output_type": "error",
     "traceback": [
      "\u001b[1;31m---------------------------------------------------------------------------\u001b[0m",
      "\u001b[1;31mTypeError\u001b[0m                                 Traceback (most recent call last)",
      "Cell \u001b[1;32mIn[102], line 1\u001b[0m\n\u001b[1;32m----> 1\u001b[0m a\u001b[38;5;241m.\u001b[39mappend(\u001b[38;5;124m'\u001b[39m\u001b[38;5;124mkaran\u001b[39m\u001b[38;5;124m'\u001b[39m,\u001b[38;5;124m'\u001b[39m\u001b[38;5;124majay\u001b[39m\u001b[38;5;124m'\u001b[39m)\n",
      "\u001b[1;31mTypeError\u001b[0m: list.append() takes exactly one argument (2 given)"
     ]
    }
   ],
   "source": [
    "a.append('karan','ajay')"
   ]
  },
  {
   "cell_type": "code",
   "execution_count": 103,
   "id": "d0e01b6f",
   "metadata": {},
   "outputs": [],
   "source": [
    "a.append(('karan','ajay'))"
   ]
  },
  {
   "cell_type": "code",
   "execution_count": 104,
   "id": "6b80249d",
   "metadata": {},
   "outputs": [
    {
     "name": "stdout",
     "output_type": "stream",
     "text": [
      "[21, 3, 4, 3256, 46, 100, 'Mohan', ('karan', 'ajay')]\n"
     ]
    }
   ],
   "source": [
    "print(a)"
   ]
  },
  {
   "cell_type": "code",
   "execution_count": 105,
   "id": "96b1db0e",
   "metadata": {},
   "outputs": [
    {
     "name": "stdout",
     "output_type": "stream",
     "text": [
      "done\n"
     ]
    }
   ],
   "source": [
    "a.append(['Mohan','Ravi','Akshay'])\n",
    "\n",
    "print('done')"
   ]
  },
  {
   "cell_type": "code",
   "execution_count": 106,
   "id": "0b255c7e",
   "metadata": {},
   "outputs": [
    {
     "name": "stdout",
     "output_type": "stream",
     "text": [
      "[21, 3, 4, 3256, 46, 100, 'Mohan', ('karan', 'ajay'), ['Mohan', 'Ravi', 'Akshay']]\n"
     ]
    }
   ],
   "source": [
    "print(a)"
   ]
  },
  {
   "cell_type": "code",
   "execution_count": 107,
   "id": "381c2924",
   "metadata": {},
   "outputs": [
    {
     "name": "stdout",
     "output_type": "stream",
     "text": [
      "[21, 3, 4, 3256, 46, 100, 'Mohan', ('karan', 'ajay'), ['Mohan', 'Ravi', 'Akshay']]\n"
     ]
    }
   ],
   "source": [
    "#'clear'\n",
    "\n",
    "print(a)"
   ]
  },
  {
   "cell_type": "code",
   "execution_count": 108,
   "id": "e583a97f",
   "metadata": {},
   "outputs": [],
   "source": [
    "a.clear()"
   ]
  },
  {
   "cell_type": "code",
   "execution_count": 109,
   "id": "8223746f",
   "metadata": {},
   "outputs": [
    {
     "name": "stdout",
     "output_type": "stream",
     "text": [
      "[]\n"
     ]
    }
   ],
   "source": [
    "print(a)"
   ]
  },
  {
   "cell_type": "code",
   "execution_count": null,
   "id": "7aa4900e",
   "metadata": {},
   "outputs": [],
   "source": []
  }
 ],
 "metadata": {
  "kernelspec": {
   "display_name": "Python 3 (ipykernel)",
   "language": "python",
   "name": "python3"
  },
  "language_info": {
   "codemirror_mode": {
    "name": "ipython",
    "version": 3
   },
   "file_extension": ".py",
   "mimetype": "text/x-python",
   "name": "python",
   "nbconvert_exporter": "python",
   "pygments_lexer": "ipython3",
   "version": "3.11.3"
  }
 },
 "nbformat": 4,
 "nbformat_minor": 5
}

{
 "cells": [
  {
   "cell_type": "code",
   "execution_count": 1,
   "id": "20a1ed77",
   "metadata": {},
   "outputs": [
    {
     "name": "stdout",
     "output_type": "stream",
     "text": [
      "[1, 123, 45, 45, 3241, 45]\n"
     ]
    }
   ],
   "source": [
    "a = [1,123,45,45,3241,45]\n",
    "print(a)"
   ]
  },
  {
   "cell_type": "code",
   "execution_count": 2,
   "id": "fd126f0e",
   "metadata": {},
   "outputs": [
    {
     "name": "stdout",
     "output_type": "stream",
     "text": [
      "<class 'list'>\n"
     ]
    }
   ],
   "source": [
    "print(type(a))"
   ]
  },
  {
   "cell_type": "code",
   "execution_count": 3,
   "id": "8d42a666",
   "metadata": {},
   "outputs": [
    {
     "name": "stdout",
     "output_type": "stream",
     "text": [
      "[]\n"
     ]
    }
   ],
   "source": [
    "# how to create an empty list\n",
    "\n",
    "b = []\n",
    "\n",
    "print(b)"
   ]
  },
  {
   "cell_type": "code",
   "execution_count": 4,
   "id": "e7f6f440",
   "metadata": {},
   "outputs": [
    {
     "name": "stdout",
     "output_type": "stream",
     "text": [
      "<class 'list'>\n"
     ]
    }
   ],
   "source": [
    "print(type(b))"
   ]
  },
  {
   "cell_type": "code",
   "execution_count": 5,
   "id": "ab783fe4",
   "metadata": {},
   "outputs": [
    {
     "name": "stdout",
     "output_type": "stream",
     "text": [
      "0\n"
     ]
    }
   ],
   "source": [
    "print(len(b))"
   ]
  },
  {
   "cell_type": "code",
   "execution_count": 6,
   "id": "e7fcd95c",
   "metadata": {},
   "outputs": [
    {
     "name": "stdout",
     "output_type": "stream",
     "text": [
      "[]\n"
     ]
    }
   ],
   "source": [
    "# we can use list constructor\n",
    "\n",
    "d = list()\n",
    "\n",
    "print(d)"
   ]
  },
  {
   "cell_type": "code",
   "execution_count": 7,
   "id": "f586c8d3",
   "metadata": {},
   "outputs": [
    {
     "name": "stdout",
     "output_type": "stream",
     "text": [
      "0\n"
     ]
    }
   ],
   "source": [
    "print(len(d))"
   ]
  },
  {
   "cell_type": "code",
   "execution_count": 8,
   "id": "152196b8",
   "metadata": {},
   "outputs": [
    {
     "name": "stdout",
     "output_type": "stream",
     "text": [
      "[12, 34.6, None, True, 'Mohan', (21, 32, 4), [1, 124, 35]]\n"
     ]
    }
   ],
   "source": [
    "# we can store any data with in a list\n",
    "# int,float,complex,str,tuple,dict,None,set,bool,list\n",
    "\n",
    "my_list = [12,34.6,None,True,'Mohan',(21,32,4),[1,124,35]]\n",
    "print(my_list)\n"
   ]
  },
  {
   "cell_type": "code",
   "execution_count": 9,
   "id": "2fc7a265",
   "metadata": {},
   "outputs": [
    {
     "name": "stdout",
     "output_type": "stream",
     "text": [
      "<class 'list'>\n"
     ]
    }
   ],
   "source": [
    "print(type(my_list))"
   ]
  },
  {
   "cell_type": "code",
   "execution_count": 10,
   "id": "18a5629b",
   "metadata": {},
   "outputs": [
    {
     "name": "stdout",
     "output_type": "stream",
     "text": [
      "[1, 23, 5, [1, 2, 35, [112, 32, 98]]]\n"
     ]
    }
   ],
   "source": [
    "# we can store list inside list and so on\n",
    "\n",
    "nested_list = [1,23,5,[1,2,35,[112,32,98]]]\n",
    "\n",
    "print(nested_list)"
   ]
  },
  {
   "cell_type": "code",
   "execution_count": 11,
   "id": "0b879e21",
   "metadata": {},
   "outputs": [
    {
     "name": "stdout",
     "output_type": "stream",
     "text": [
      "<class 'list'>\n"
     ]
    }
   ],
   "source": [
    "print(type(nested_list))"
   ]
  },
  {
   "cell_type": "code",
   "execution_count": 12,
   "id": "2cfc8a44",
   "metadata": {},
   "outputs": [
    {
     "name": "stdout",
     "output_type": "stream",
     "text": [
      "435\n"
     ]
    }
   ],
   "source": [
    "# list supports indexing, positive, negative\n",
    "a = [1,2343,254,421,435,'Ajay','karan']\n",
    "\n",
    "print(a[4])"
   ]
  },
  {
   "cell_type": "code",
   "execution_count": 13,
   "id": "0dd8666d",
   "metadata": {},
   "outputs": [
    {
     "data": {
      "text/plain": [
       "254"
      ]
     },
     "execution_count": 13,
     "metadata": {},
     "output_type": "execute_result"
    }
   ],
   "source": [
    "a[2]"
   ]
  },
  {
   "cell_type": "code",
   "execution_count": 15,
   "id": "6b4133da",
   "metadata": {},
   "outputs": [
    {
     "name": "stdout",
     "output_type": "stream",
     "text": [
      "Ajay\n"
     ]
    }
   ],
   "source": [
    "print(a[5])"
   ]
  },
  {
   "cell_type": "code",
   "execution_count": 17,
   "id": "0df6ea08",
   "metadata": {},
   "outputs": [
    {
     "name": "stdout",
     "output_type": "stream",
     "text": [
      "Ajay\n"
     ]
    }
   ],
   "source": [
    "print(a[-2])"
   ]
  },
  {
   "cell_type": "code",
   "execution_count": 18,
   "id": "3aceb2b8",
   "metadata": {},
   "outputs": [
    {
     "name": "stdout",
     "output_type": "stream",
     "text": [
      "421\n"
     ]
    }
   ],
   "source": [
    "print(a[-4])"
   ]
  },
  {
   "cell_type": "code",
   "execution_count": 19,
   "id": "041dd416",
   "metadata": {},
   "outputs": [
    {
     "name": "stdout",
     "output_type": "stream",
     "text": [
      "['mohan', 'ajay', 'sarwar', 'karan', 'mohit', 'Adnan', 'Akshay']\n"
     ]
    }
   ],
   "source": [
    "# list also supports slicing\n",
    "\n",
    "names = ['mohan','ajay','sarwar','karan','mohit','Adnan','Akshay']\n",
    "\n",
    "print(names)"
   ]
  },
  {
   "cell_type": "code",
   "execution_count": 21,
   "id": "ddc2cfcd",
   "metadata": {},
   "outputs": [
    {
     "name": "stdout",
     "output_type": "stream",
     "text": [
      "['ajay', 'sarwar', 'karan', 'mohit']\n"
     ]
    }
   ],
   "source": [
    "print(names[1:5])"
   ]
  },
  {
   "cell_type": "code",
   "execution_count": 22,
   "id": "7023efed",
   "metadata": {},
   "outputs": [
    {
     "name": "stdout",
     "output_type": "stream",
     "text": [
      "['sarwar', 'karan', 'mohit', 'Adnan']\n"
     ]
    }
   ],
   "source": [
    "print(names[2:6])"
   ]
  },
  {
   "cell_type": "code",
   "execution_count": 23,
   "id": "4d004b99",
   "metadata": {},
   "outputs": [
    {
     "name": "stdout",
     "output_type": "stream",
     "text": [
      "['mohan', 'sarwar', 'mohit', 'Akshay']\n"
     ]
    }
   ],
   "source": [
    "print(names[::2])"
   ]
  },
  {
   "cell_type": "code",
   "execution_count": 24,
   "id": "1f1147d7",
   "metadata": {},
   "outputs": [
    {
     "name": "stdout",
     "output_type": "stream",
     "text": [
      "[1, 23, 5, [1, 2, 35, [112, 32, 98]]]\n"
     ]
    }
   ],
   "source": [
    "nested_list = [1,23,5,[1,2,35,[112,32,98]]]\n",
    "print(nested_list)"
   ]
  },
  {
   "cell_type": "code",
   "execution_count": 27,
   "id": "a4d0dfd8",
   "metadata": {},
   "outputs": [
    {
     "name": "stdout",
     "output_type": "stream",
     "text": [
      "35\n"
     ]
    }
   ],
   "source": [
    "print(nested_list[3][2])"
   ]
  },
  {
   "cell_type": "code",
   "execution_count": 30,
   "id": "5cddc6a6",
   "metadata": {},
   "outputs": [
    {
     "data": {
      "text/plain": [
       "32"
      ]
     },
     "execution_count": 30,
     "metadata": {},
     "output_type": "execute_result"
    }
   ],
   "source": [
    "nested_list[3][3][1]"
   ]
  },
  {
   "cell_type": "code",
   "execution_count": 33,
   "id": "0e2c7966",
   "metadata": {},
   "outputs": [],
   "source": [
    "# list are mutable:- we can change the elements of list:\n",
    "# list support item assignment"
   ]
  },
  {
   "cell_type": "code",
   "execution_count": 32,
   "id": "0308c659",
   "metadata": {},
   "outputs": [
    {
     "name": "stdout",
     "output_type": "stream",
     "text": [
      "['mohan', 'ajay', 'sarwar', 'karan', 'mohit', 'Adnan', 'Akshay']\n"
     ]
    }
   ],
   "source": [
    "names = ['mohan','ajay','sarwar','karan','mohit','Adnan','Akshay']\n",
    "print(names)"
   ]
  },
  {
   "cell_type": "code",
   "execution_count": 36,
   "id": "c2b32499",
   "metadata": {},
   "outputs": [],
   "source": [
    "names[2] = 'Md Sarwar'"
   ]
  },
  {
   "cell_type": "code",
   "execution_count": 37,
   "id": "8a1758d3",
   "metadata": {},
   "outputs": [
    {
     "name": "stdout",
     "output_type": "stream",
     "text": [
      "['mohan', 'ajay', 'Md Sarwar', 'karan', 'mohit', 'Adnan', 'Akshay']\n"
     ]
    }
   ],
   "source": [
    "print(names)"
   ]
  },
  {
   "cell_type": "code",
   "execution_count": 39,
   "id": "42962246",
   "metadata": {},
   "outputs": [],
   "source": [
    "names[4] = 'Mohit Khanna'"
   ]
  },
  {
   "cell_type": "code",
   "execution_count": 40,
   "id": "3908928e",
   "metadata": {},
   "outputs": [
    {
     "name": "stdout",
     "output_type": "stream",
     "text": [
      "['mohan', 'ajay', 'Md Sarwar', 'karan', 'Mohit Khanna', 'Adnan', 'Akshay']\n"
     ]
    }
   ],
   "source": [
    "print(names)"
   ]
  },
  {
   "cell_type": "code",
   "execution_count": 41,
   "id": "99af44db",
   "metadata": {},
   "outputs": [
    {
     "name": "stdout",
     "output_type": "stream",
     "text": [
      "[12, 34.6, None, True, 'Mohan', (21, 32, 4), [1, 124, 35]]\n"
     ]
    }
   ],
   "source": [
    "my_list = [12,34.6,None,True,'Mohan',(21,32,4),[1,124,35]]\n",
    "print(my_list)"
   ]
  },
  {
   "cell_type": "code",
   "execution_count": 43,
   "id": "5265a4c1",
   "metadata": {},
   "outputs": [],
   "source": [
    "my_list[3] = False"
   ]
  },
  {
   "cell_type": "code",
   "execution_count": 44,
   "id": "63394d37",
   "metadata": {},
   "outputs": [
    {
     "name": "stdout",
     "output_type": "stream",
     "text": [
      "[12, 34.6, None, False, 'Mohan', (21, 32, 4), [1, 124, 35]]\n"
     ]
    }
   ],
   "source": [
    "print(my_list)"
   ]
  },
  {
   "cell_type": "code",
   "execution_count": 49,
   "id": "c265659c",
   "metadata": {},
   "outputs": [],
   "source": [
    "my_list[-1][-1] = '007'"
   ]
  },
  {
   "cell_type": "code",
   "execution_count": 50,
   "id": "7dd9fc21",
   "metadata": {},
   "outputs": [
    {
     "name": "stdout",
     "output_type": "stream",
     "text": [
      "[12, 34.6, None, False, 'Mohan', (21, 32, 4), [1, 124, '007']]\n"
     ]
    }
   ],
   "source": [
    "print(my_list)"
   ]
  },
  {
   "cell_type": "code",
   "execution_count": 51,
   "id": "8cecb41e",
   "metadata": {},
   "outputs": [],
   "source": [
    "complex_list = [1,2,34,[1,23,24,['Mohan','Karan'],56,[1,2,34,[1,24,35]]]]"
   ]
  },
  {
   "cell_type": "code",
   "execution_count": 52,
   "id": "128744a8",
   "metadata": {},
   "outputs": [
    {
     "name": "stdout",
     "output_type": "stream",
     "text": [
      "[1, 2, 34, [1, 23, 24, ['Mohan', 'Karan'], 56, [1, 2, 34, [1, 24, 35]]]]\n"
     ]
    }
   ],
   "source": [
    "print(complex_list)"
   ]
  },
  {
   "cell_type": "code",
   "execution_count": 57,
   "id": "c1f094f5",
   "metadata": {},
   "outputs": [],
   "source": [
    "complex_list[3][3][0] = 'Mr Mohan'"
   ]
  },
  {
   "cell_type": "code",
   "execution_count": 58,
   "id": "b25f735e",
   "metadata": {},
   "outputs": [
    {
     "name": "stdout",
     "output_type": "stream",
     "text": [
      "[1, 2, 34, [1, 23, 24, ['Mr Mohan', 'Karan'], 56, [1, 2, 34, [1, 24, 35]]]]\n"
     ]
    }
   ],
   "source": [
    "print(complex_list)"
   ]
  },
  {
   "cell_type": "code",
   "execution_count": 59,
   "id": "b8a43d48",
   "metadata": {},
   "outputs": [],
   "source": [
    "complex_list[3][3][1] = 'Mr karan'"
   ]
  },
  {
   "cell_type": "code",
   "execution_count": 60,
   "id": "50bba6a0",
   "metadata": {},
   "outputs": [
    {
     "name": "stdout",
     "output_type": "stream",
     "text": [
      "[1, 2, 34, [1, 23, 24, ['Mr Mohan', 'Mr karan'], 56, [1, 2, 34, [1, 24, 35]]]]\n"
     ]
    }
   ],
   "source": [
    "print(complex_list)"
   ]
  },
  {
   "cell_type": "code",
   "execution_count": 61,
   "id": "2a63a89f",
   "metadata": {},
   "outputs": [],
   "source": [
    "# Basic operations"
   ]
  },
  {
   "cell_type": "code",
   "execution_count": 62,
   "id": "77882a66",
   "metadata": {},
   "outputs": [],
   "source": [
    "# h/w\n",
    "# +,-,*,"
   ]
  },
  {
   "cell_type": "code",
   "execution_count": 64,
   "id": "991960ba",
   "metadata": {},
   "outputs": [
    {
     "name": "stdout",
     "output_type": "stream",
     "text": [
      "[1, 23, 25, 2, 43, 5, 1, 1, 1]\n"
     ]
    }
   ],
   "source": [
    "a = [1,23,25]\n",
    "b = [2,43,5]\n",
    "c = [1,1,1]\n",
    "\n",
    "print(a + b + c)"
   ]
  },
  {
   "cell_type": "code",
   "execution_count": 65,
   "id": "aafd7954",
   "metadata": {},
   "outputs": [
    {
     "ename": "TypeError",
     "evalue": "unsupported operand type(s) for -: 'list' and 'list'",
     "output_type": "error",
     "traceback": [
      "\u001b[1;31m---------------------------------------------------------------------------\u001b[0m",
      "\u001b[1;31mTypeError\u001b[0m                                 Traceback (most recent call last)",
      "Cell \u001b[1;32mIn[65], line 1\u001b[0m\n\u001b[1;32m----> 1\u001b[0m \u001b[38;5;28mprint\u001b[39m(a \u001b[38;5;241m-\u001b[39m b \u001b[38;5;241m-\u001b[39m c)\n",
      "\u001b[1;31mTypeError\u001b[0m: unsupported operand type(s) for -: 'list' and 'list'"
     ]
    }
   ],
   "source": [
    "print(a - b - c)"
   ]
  },
  {
   "cell_type": "code",
   "execution_count": 67,
   "id": "db8803a8",
   "metadata": {},
   "outputs": [
    {
     "name": "stdout",
     "output_type": "stream",
     "text": [
      "[1, 23, 25, 1, 23, 25, 1, 23, 25, 1, 23, 25, 1, 23, 25]\n"
     ]
    }
   ],
   "source": [
    "a = [1,23,25]\n",
    "\n",
    "print(a*5)"
   ]
  },
  {
   "cell_type": "code",
   "execution_count": 70,
   "id": "92fb76b2",
   "metadata": {},
   "outputs": [
    {
     "name": "stdout",
     "output_type": "stream",
     "text": [
      "100\n"
     ]
    }
   ],
   "source": [
    "# basic func\n",
    "\n",
    "a = [100,2343,254354,421,435,3762,45456789763,587]\n",
    "\n",
    "print(min(a))"
   ]
  },
  {
   "cell_type": "code",
   "execution_count": 71,
   "id": "b0b76440",
   "metadata": {},
   "outputs": [
    {
     "name": "stdout",
     "output_type": "stream",
     "text": [
      "45456789763\n"
     ]
    }
   ],
   "source": [
    "a = [100,2343,254354,421,435,3762,45456789763,587]\n",
    "\n",
    "print(max(a))"
   ]
  },
  {
   "cell_type": "code",
   "execution_count": 73,
   "id": "8f903fb6",
   "metadata": {},
   "outputs": [
    {
     "name": "stdout",
     "output_type": "stream",
     "text": [
      "45457051765\n"
     ]
    }
   ],
   "source": [
    "a = [100,2343,254354,421,435,3762,45456789763,587]\n",
    "\n",
    "print(sum(a))"
   ]
  },
  {
   "cell_type": "code",
   "execution_count": 74,
   "id": "69b79910",
   "metadata": {},
   "outputs": [
    {
     "data": {
      "text/plain": [
       "2544054917888"
      ]
     },
     "execution_count": 74,
     "metadata": {},
     "output_type": "execute_result"
    }
   ],
   "source": [
    "id(a)"
   ]
  },
  {
   "cell_type": "code",
   "execution_count": 72,
   "id": "89b2520f",
   "metadata": {},
   "outputs": [
    {
     "name": "stdout",
     "output_type": "stream",
     "text": [
      "8\n"
     ]
    }
   ],
   "source": [
    "print(len(a))"
   ]
  },
  {
   "cell_type": "code",
   "execution_count": null,
   "id": "cb061342",
   "metadata": {},
   "outputs": [],
   "source": []
  },
  {
   "cell_type": "code",
   "execution_count": 75,
   "id": "b223bcbb",
   "metadata": {},
   "outputs": [
    {
     "name": "stdout",
     "output_type": "stream",
     "text": [
      "[1, 2, 3, 4, 5, 6, 7, 8, 9, 10]\n"
     ]
    }
   ],
   "source": [
    "data = [1,2,3,4,5,6,7,8,9,10]\n",
    "print(data)"
   ]
  },
  {
   "cell_type": "code",
   "execution_count": 83,
   "id": "33ecbe87",
   "metadata": {},
   "outputs": [
    {
     "name": "stdout",
     "output_type": "stream",
     "text": [
      "[1, 2, 3, 4, 5, 6, 7, 8, 9, 10, 11, 12, 13, 14, 15, 16, 17, 18, 19, 20, 21, 22, 23, 24, 25, 26, 27, 28, 29, 30, 31, 32, 33, 34, 35, 36, 37, 38, 39, 40, 41, 42, 43, 44, 45, 46, 47, 48, 49, 50, 51, 52, 53, 54, 55, 56, 57, 58, 59, 60, 61, 62, 63, 64, 65, 66, 67, 68, 69, 70, 71, 72, 73, 74, 75, 76, 77, 78, 79, 80, 81, 82, 83, 84, 85, 86, 87, 88, 89, 90, 91, 92, 93, 94, 95, 96, 97, 98, 99, 100]\n"
     ]
    }
   ],
   "source": [
    "# range(start,stop,step)\n",
    "\n",
    "\n",
    "a = list(range(1,101))\n",
    "print(a)"
   ]
  },
  {
   "cell_type": "code",
   "execution_count": 87,
   "id": "45a6df61",
   "metadata": {},
   "outputs": [
    {
     "name": "stdout",
     "output_type": "stream",
     "text": [
      "[2, 4, 6, 8, 10, 12, 14, 16, 18, 20, 22, 24, 26, 28, 30, 32, 34, 36, 38, 40, 42, 44, 46, 48, 50, 52, 54, 56, 58, 60, 62, 64, 66, 68, 70, 72, 74, 76, 78, 80, 82, 84, 86, 88, 90, 92, 94, 96, 98, 100]\n"
     ]
    }
   ],
   "source": [
    "# range(start,stop,step)\n",
    "\n",
    "\n",
    "a = list(range(2,101,2))\n",
    "print(a)"
   ]
  },
  {
   "cell_type": "code",
   "execution_count": 90,
   "id": "847af7cc",
   "metadata": {},
   "outputs": [
    {
     "data": {
      "text/plain": [
       "[1, 2, 3, 4, 5, 6, 7, 8, 9, 10]"
      ]
     },
     "execution_count": 90,
     "metadata": {},
     "output_type": "execute_result"
    }
   ],
   "source": [
    "# [range(1,11)]\n",
    "[i for i in range(1,11)]"
   ]
  },
  {
   "cell_type": "code",
   "execution_count": 91,
   "id": "8a418ceb",
   "metadata": {},
   "outputs": [
    {
     "name": "stdout",
     "output_type": "stream",
     "text": [
      "[1, 243, 5, 21, 4534, 635]\n"
     ]
    }
   ],
   "source": [
    "# List methods\n",
    "\n",
    "a = [1,243,5,21,4534,635]\n",
    "print(a)"
   ]
  },
  {
   "cell_type": "code",
   "execution_count": 92,
   "id": "bf60e1b1",
   "metadata": {},
   "outputs": [
    {
     "name": "stdout",
     "output_type": "stream",
     "text": [
      "['__add__', '__class__', '__class_getitem__', '__contains__', '__delattr__', '__delitem__', '__dir__', '__doc__', '__eq__', '__format__', '__ge__', '__getattribute__', '__getitem__', '__getstate__', '__gt__', '__hash__', '__iadd__', '__imul__', '__init__', '__init_subclass__', '__iter__', '__le__', '__len__', '__lt__', '__mul__', '__ne__', '__new__', '__reduce__', '__reduce_ex__', '__repr__', '__reversed__', '__rmul__', '__setattr__', '__setitem__', '__sizeof__', '__str__', '__subclasshook__', 'append', 'clear', 'copy', 'count', 'extend', 'index', 'insert', 'pop', 'remove', 'reverse', 'sort']\n"
     ]
    }
   ],
   "source": [
    "print(dir(list))"
   ]
  },
  {
   "cell_type": "code",
   "execution_count": 94,
   "id": "6b2ed07e",
   "metadata": {},
   "outputs": [],
   "source": [
    "all_methods = ['append', 'clear', 'copy', 'count', 'extend', 'index', 'insert', 'pop', 'remove', 'reverse', 'sort']"
   ]
  },
  {
   "cell_type": "code",
   "execution_count": 95,
   "id": "73be5b7b",
   "metadata": {},
   "outputs": [
    {
     "name": "stdout",
     "output_type": "stream",
     "text": [
      "['append', 'clear', 'copy', 'count', 'extend', 'index', 'insert', 'pop', 'remove', 'reverse', 'sort']\n"
     ]
    }
   ],
   "source": [
    "print(all_methods)"
   ]
  },
  {
   "cell_type": "code",
   "execution_count": 96,
   "id": "8f07266c",
   "metadata": {},
   "outputs": [
    {
     "name": "stdout",
     "output_type": "stream",
     "text": [
      "11\n"
     ]
    }
   ],
   "source": [
    "print(len(all_methods))"
   ]
  },
  {
   "cell_type": "code",
   "execution_count": 97,
   "id": "d6654282",
   "metadata": {},
   "outputs": [
    {
     "name": "stdout",
     "output_type": "stream",
     "text": [
      "[21, 3, 4, 3256, 46]\n"
     ]
    }
   ],
   "source": [
    "a = [21,3,4,3256,46]\n",
    "\n",
    "print(a)"
   ]
  },
  {
   "cell_type": "code",
   "execution_count": 98,
   "id": "28c91858",
   "metadata": {},
   "outputs": [],
   "source": [
    "a.append(100)"
   ]
  },
  {
   "cell_type": "code",
   "execution_count": 99,
   "id": "eabc86ac",
   "metadata": {},
   "outputs": [
    {
     "name": "stdout",
     "output_type": "stream",
     "text": [
      "[21, 3, 4, 3256, 46, 100]\n"
     ]
    }
   ],
   "source": [
    "print(a)"
   ]
  },
  {
   "cell_type": "code",
   "execution_count": 100,
   "id": "7637a4b9",
   "metadata": {},
   "outputs": [],
   "source": [
    "a.append('Mohan')"
   ]
  },
  {
   "cell_type": "code",
   "execution_count": 101,
   "id": "ec83b1a6",
   "metadata": {},
   "outputs": [
    {
     "name": "stdout",
     "output_type": "stream",
     "text": [
      "[21, 3, 4, 3256, 46, 100, 'Mohan']\n"
     ]
    }
   ],
   "source": [
    "print(a)"
   ]
  },
  {
   "cell_type": "code",
   "execution_count": 102,
   "id": "69be52cf",
   "metadata": {},
   "outputs": [
    {
     "ename": "TypeError",
     "evalue": "list.append() takes exactly one argument (2 given)",
     "output_type": "error",
     "traceback": [
      "\u001b[1;31m---------------------------------------------------------------------------\u001b[0m",
      "\u001b[1;31mTypeError\u001b[0m                                 Traceback (most recent call last)",
      "Cell \u001b[1;32mIn[102], line 1\u001b[0m\n\u001b[1;32m----> 1\u001b[0m a\u001b[38;5;241m.\u001b[39mappend(\u001b[38;5;124m'\u001b[39m\u001b[38;5;124mkaran\u001b[39m\u001b[38;5;124m'\u001b[39m,\u001b[38;5;124m'\u001b[39m\u001b[38;5;124majay\u001b[39m\u001b[38;5;124m'\u001b[39m)\n",
      "\u001b[1;31mTypeError\u001b[0m: list.append() takes exactly one argument (2 given)"
     ]
    }
   ],
   "source": [
    "a.append('karan','ajay')"
   ]
  },
  {
   "cell_type": "code",
   "execution_count": 103,
   "id": "d0e01b6f",
   "metadata": {},
   "outputs": [],
   "source": [
    "a.append(('karan','ajay'))"
   ]
  },
  {
   "cell_type": "code",
   "execution_count": 104,
   "id": "6b80249d",
   "metadata": {},
   "outputs": [
    {
     "name": "stdout",
     "output_type": "stream",
     "text": [
      "[21, 3, 4, 3256, 46, 100, 'Mohan', ('karan', 'ajay')]\n"
     ]
    }
   ],
   "source": [
    "print(a)"
   ]
  },
  {
   "cell_type": "code",
   "execution_count": 105,
   "id": "96b1db0e",
   "metadata": {},
   "outputs": [
    {
     "name": "stdout",
     "output_type": "stream",
     "text": [
      "done\n"
     ]
    }
   ],
   "source": [
    "a.append(['Mohan','Ravi','Akshay'])\n",
    "\n",
    "print('done')"
   ]
  },
  {
   "cell_type": "code",
   "execution_count": 106,
   "id": "0b255c7e",
   "metadata": {},
   "outputs": [
    {
     "name": "stdout",
     "output_type": "stream",
     "text": [
      "[21, 3, 4, 3256, 46, 100, 'Mohan', ('karan', 'ajay'), ['Mohan', 'Ravi', 'Akshay']]\n"
     ]
    }
   ],
   "source": [
    "print(a)"
   ]
  },
  {
   "cell_type": "code",
   "execution_count": 107,
   "id": "381c2924",
   "metadata": {},
   "outputs": [
    {
     "name": "stdout",
     "output_type": "stream",
     "text": [
      "[21, 3, 4, 3256, 46, 100, 'Mohan', ('karan', 'ajay'), ['Mohan', 'Ravi', 'Akshay']]\n"
     ]
    }
   ],
   "source": [
    "#'clear'\n",
    "\n",
    "print(a)"
   ]
  },
  {
   "cell_type": "code",
   "execution_count": 108,
   "id": "e583a97f",
   "metadata": {},
   "outputs": [],
   "source": [
    "a.clear()"
   ]
  },
  {
   "cell_type": "code",
   "execution_count": 109,
   "id": "8223746f",
   "metadata": {
    "scrolled": true
   },
   "outputs": [
    {
     "name": "stdout",
     "output_type": "stream",
     "text": [
      "[]\n"
     ]
    }
   ],
   "source": [
    "print(a)"
   ]
  },
  {
   "cell_type": "markdown",
   "id": "db504972",
   "metadata": {},
   "source": [
    "# Day 9"
   ]
  },
  {
   "cell_type": "code",
   "execution_count": null,
   "id": "7aa4900e",
   "metadata": {},
   "outputs": [],
   "source": [
    "# 'copy', 'count', 'extend', 'index', 'insert', 'pop', 'remove', 'reverse', 'sort'"
   ]
  },
  {
   "cell_type": "code",
   "execution_count": 4,
   "id": "effed6ee",
   "metadata": {},
   "outputs": [
    {
     "name": "stdout",
     "output_type": "stream",
     "text": [
      "[1, 24, 325, 43241, 25]\n"
     ]
    }
   ],
   "source": [
    "#deep copy\n",
    "a = [1,24,325,43241,25]\n",
    "\n",
    "b = a\n",
    "\n",
    "print(b)"
   ]
  },
  {
   "cell_type": "code",
   "execution_count": 2,
   "id": "7a67c21b",
   "metadata": {},
   "outputs": [
    {
     "data": {
      "text/plain": [
       "1829147512256"
      ]
     },
     "execution_count": 2,
     "metadata": {},
     "output_type": "execute_result"
    }
   ],
   "source": [
    "id(a)"
   ]
  },
  {
   "cell_type": "code",
   "execution_count": 3,
   "id": "454aec87",
   "metadata": {},
   "outputs": [
    {
     "data": {
      "text/plain": [
       "1829147512256"
      ]
     },
     "execution_count": 3,
     "metadata": {},
     "output_type": "execute_result"
    }
   ],
   "source": [
    "id(b)"
   ]
  },
  {
   "cell_type": "code",
   "execution_count": 5,
   "id": "6a79f0ff",
   "metadata": {},
   "outputs": [
    {
     "name": "stdout",
     "output_type": "stream",
     "text": [
      "[1, 23, 254, 2, 5]\n"
     ]
    }
   ],
   "source": [
    "a = [1,23,254,2,5]\n",
    "\n",
    "print(a)"
   ]
  },
  {
   "cell_type": "code",
   "execution_count": 6,
   "id": "414b1739",
   "metadata": {},
   "outputs": [],
   "source": [
    "b = a"
   ]
  },
  {
   "cell_type": "code",
   "execution_count": 7,
   "id": "5a760159",
   "metadata": {},
   "outputs": [
    {
     "name": "stdout",
     "output_type": "stream",
     "text": [
      "[1, 23, 254, 2, 5]\n"
     ]
    }
   ],
   "source": [
    "print(b)"
   ]
  },
  {
   "cell_type": "code",
   "execution_count": 8,
   "id": "e4136dc4",
   "metadata": {},
   "outputs": [],
   "source": [
    "b.append(10000)"
   ]
  },
  {
   "cell_type": "code",
   "execution_count": 9,
   "id": "97123304",
   "metadata": {},
   "outputs": [
    {
     "name": "stdout",
     "output_type": "stream",
     "text": [
      "[1, 23, 254, 2, 5, 10000]\n"
     ]
    }
   ],
   "source": [
    "print(b)"
   ]
  },
  {
   "cell_type": "code",
   "execution_count": 10,
   "id": "fc142775",
   "metadata": {},
   "outputs": [
    {
     "name": "stdout",
     "output_type": "stream",
     "text": [
      "[1, 23, 254, 2, 5, 10000]\n"
     ]
    }
   ],
   "source": [
    "print(a)"
   ]
  },
  {
   "cell_type": "code",
   "execution_count": 11,
   "id": "f69cbb0d",
   "metadata": {},
   "outputs": [
    {
     "data": {
      "text/plain": [
       "1829147372928"
      ]
     },
     "execution_count": 11,
     "metadata": {},
     "output_type": "execute_result"
    }
   ],
   "source": [
    "id(a)"
   ]
  },
  {
   "cell_type": "code",
   "execution_count": 12,
   "id": "76b24f47",
   "metadata": {},
   "outputs": [
    {
     "data": {
      "text/plain": [
       "1829147372928"
      ]
     },
     "execution_count": 12,
     "metadata": {},
     "output_type": "execute_result"
    }
   ],
   "source": [
    "id(b)"
   ]
  },
  {
   "cell_type": "code",
   "execution_count": 13,
   "id": "fc70ca1f",
   "metadata": {},
   "outputs": [],
   "source": [
    "# 'copy':- this will return a shallow copy object"
   ]
  },
  {
   "cell_type": "code",
   "execution_count": 14,
   "id": "3ce1ba3b",
   "metadata": {},
   "outputs": [
    {
     "name": "stdout",
     "output_type": "stream",
     "text": [
      "[1000, 2000]\n"
     ]
    }
   ],
   "source": [
    "x = [1000,2000]\n",
    "y = x.copy()\n",
    "\n",
    "print(y)"
   ]
  },
  {
   "cell_type": "code",
   "execution_count": 15,
   "id": "464b8e3b",
   "metadata": {},
   "outputs": [
    {
     "name": "stdout",
     "output_type": "stream",
     "text": [
      "[1000, 2000]\n"
     ]
    }
   ],
   "source": [
    "print(x)"
   ]
  },
  {
   "cell_type": "code",
   "execution_count": 16,
   "id": "e4407896",
   "metadata": {},
   "outputs": [],
   "source": [
    "y.append(9898765432)"
   ]
  },
  {
   "cell_type": "code",
   "execution_count": 17,
   "id": "6e312561",
   "metadata": {},
   "outputs": [
    {
     "name": "stdout",
     "output_type": "stream",
     "text": [
      "[1000, 2000, 9898765432]\n"
     ]
    }
   ],
   "source": [
    "print(y)"
   ]
  },
  {
   "cell_type": "code",
   "execution_count": 18,
   "id": "e82f37ee",
   "metadata": {},
   "outputs": [
    {
     "name": "stdout",
     "output_type": "stream",
     "text": [
      "[1000, 2000]\n"
     ]
    }
   ],
   "source": [
    "print(x)"
   ]
  },
  {
   "cell_type": "code",
   "execution_count": 20,
   "id": "7ed60308",
   "metadata": {},
   "outputs": [],
   "source": [
    "bank1 = [1,2,3,4,5]\n",
    "\n",
    "\n",
    "bank2 = bank1[:]"
   ]
  },
  {
   "cell_type": "code",
   "execution_count": 21,
   "id": "2ba774af",
   "metadata": {},
   "outputs": [
    {
     "name": "stdout",
     "output_type": "stream",
     "text": [
      "[1, 2, 3, 4, 5]\n"
     ]
    }
   ],
   "source": [
    "print(bank2)"
   ]
  },
  {
   "cell_type": "code",
   "execution_count": 22,
   "id": "6c42d177",
   "metadata": {},
   "outputs": [
    {
     "name": "stdout",
     "output_type": "stream",
     "text": [
      "[1, 2, 3, 4, 5]\n"
     ]
    }
   ],
   "source": [
    "print(bank1)"
   ]
  },
  {
   "cell_type": "code",
   "execution_count": 23,
   "id": "de442c4c",
   "metadata": {},
   "outputs": [],
   "source": [
    "bank2.append(9876543234690)"
   ]
  },
  {
   "cell_type": "code",
   "execution_count": 24,
   "id": "1fec7b60",
   "metadata": {},
   "outputs": [
    {
     "name": "stdout",
     "output_type": "stream",
     "text": [
      "[1, 2, 3, 4, 5, 9876543234690]\n"
     ]
    }
   ],
   "source": [
    "print(bank2)"
   ]
  },
  {
   "cell_type": "code",
   "execution_count": 25,
   "id": "becb458d",
   "metadata": {},
   "outputs": [
    {
     "name": "stdout",
     "output_type": "stream",
     "text": [
      "[1, 2, 3, 4, 5]\n"
     ]
    }
   ],
   "source": [
    "print(bank1)"
   ]
  },
  {
   "cell_type": "code",
   "execution_count": 26,
   "id": "15e96c37",
   "metadata": {},
   "outputs": [],
   "source": [
    "# 'count',"
   ]
  },
  {
   "cell_type": "code",
   "execution_count": 28,
   "id": "d036250a",
   "metadata": {},
   "outputs": [
    {
     "name": "stdout",
     "output_type": "stream",
     "text": [
      "6\n"
     ]
    }
   ],
   "source": [
    "a = [1,1,1,1,2,2,2,2,3,3,3,4,4,4,4,4,4,44,5,5,5,56,6]\n",
    "\n",
    "\n",
    "print(a.count(4))"
   ]
  },
  {
   "cell_type": "code",
   "execution_count": 29,
   "id": "08cc1d4a",
   "metadata": {},
   "outputs": [],
   "source": [
    "# 'extend'"
   ]
  },
  {
   "cell_type": "code",
   "execution_count": 31,
   "id": "dd6c8391",
   "metadata": {},
   "outputs": [
    {
     "name": "stdout",
     "output_type": "stream",
     "text": [
      "[1, 23, 34, 5, 464, 55]\n"
     ]
    }
   ],
   "source": [
    "a = [1,23,34,5,464,55]\n",
    "\n",
    "print(a)"
   ]
  },
  {
   "cell_type": "code",
   "execution_count": 33,
   "id": "43b15e13",
   "metadata": {},
   "outputs": [],
   "source": [
    "a.append([56,57,58])"
   ]
  },
  {
   "cell_type": "code",
   "execution_count": 34,
   "id": "de0914aa",
   "metadata": {},
   "outputs": [
    {
     "name": "stdout",
     "output_type": "stream",
     "text": [
      "[1, 23, 34, 5, 464, 55, [56, 57, 58]]\n"
     ]
    }
   ],
   "source": [
    "print(a)"
   ]
  },
  {
   "cell_type": "code",
   "execution_count": 35,
   "id": "09fce70b",
   "metadata": {},
   "outputs": [
    {
     "name": "stdout",
     "output_type": "stream",
     "text": [
      "[1, 23, 25, 46, 6]\n"
     ]
    }
   ],
   "source": [
    "# extend\n",
    "b = [1,23,25,46,6]\n",
    "\n",
    "print(b)"
   ]
  },
  {
   "cell_type": "code",
   "execution_count": 36,
   "id": "c7f4f294",
   "metadata": {},
   "outputs": [],
   "source": [
    "b.extend(['Mohit',True,45.8])"
   ]
  },
  {
   "cell_type": "code",
   "execution_count": 37,
   "id": "17d6d08f",
   "metadata": {},
   "outputs": [
    {
     "name": "stdout",
     "output_type": "stream",
     "text": [
      "[1, 23, 25, 46, 6, 'Mohit', True, 45.8]\n"
     ]
    }
   ],
   "source": [
    "print(b)"
   ]
  },
  {
   "cell_type": "code",
   "execution_count": 39,
   "id": "5d50748d",
   "metadata": {},
   "outputs": [
    {
     "ename": "ValueError",
     "evalue": "540 is not in list",
     "output_type": "error",
     "traceback": [
      "\u001b[1;31m---------------------------------------------------------------------------\u001b[0m",
      "\u001b[1;31mValueError\u001b[0m                                Traceback (most recent call last)",
      "Cell \u001b[1;32mIn[39], line 3\u001b[0m\n\u001b[0;32m      1\u001b[0m a \u001b[38;5;241m=\u001b[39m [\u001b[38;5;241m1\u001b[39m,\u001b[38;5;241m234\u001b[39m,\u001b[38;5;241m31\u001b[39m,\u001b[38;5;241m434\u001b[39m,\u001b[38;5;241m54\u001b[39m,\u001b[38;5;241m65\u001b[39m,\u001b[38;5;241m4\u001b[39m,\u001b[38;5;241m364\u001b[39m]\n\u001b[1;32m----> 3\u001b[0m a\u001b[38;5;241m.\u001b[39mindex(\u001b[38;5;241m540\u001b[39m)\n",
      "\u001b[1;31mValueError\u001b[0m: 540 is not in list"
     ]
    }
   ],
   "source": [
    "a = [1,234,31,434,54,65,4,364]\n",
    "\n",
    "a.index(540)"
   ]
  },
  {
   "cell_type": "code",
   "execution_count": 44,
   "id": "61fcbf1c",
   "metadata": {},
   "outputs": [
    {
     "ename": "ValueError",
     "evalue": "2 is not in list",
     "output_type": "error",
     "traceback": [
      "\u001b[1;31m---------------------------------------------------------------------------\u001b[0m",
      "\u001b[1;31mValueError\u001b[0m                                Traceback (most recent call last)",
      "Cell \u001b[1;32mIn[44], line 3\u001b[0m\n\u001b[0;32m      1\u001b[0m b \u001b[38;5;241m=\u001b[39m [\u001b[38;5;241m12\u001b[39m,\u001b[38;5;241m43\u001b[39m,\u001b[38;5;241m4\u001b[39m,\u001b[38;5;241m2\u001b[39m,\u001b[38;5;241m1434\u001b[39m,\u001b[38;5;241m5\u001b[39m,\u001b[38;5;241m2\u001b[39m,\u001b[38;5;241m3\u001b[39m,\u001b[38;5;241m5\u001b[39m,\u001b[38;5;241m45\u001b[39m,\u001b[38;5;241m2\u001b[39m,\u001b[38;5;241m23\u001b[39m,\u001b[38;5;241m443\u001b[39m,\u001b[38;5;241m6\u001b[39m,\u001b[38;5;241m2\u001b[39m,\u001b[38;5;241m3\u001b[39m,\u001b[38;5;241m54\u001b[39m]\n\u001b[1;32m----> 3\u001b[0m b\u001b[38;5;241m.\u001b[39mindex(\u001b[38;5;241m2\u001b[39m,\u001b[38;5;241m15\u001b[39m)\n",
      "\u001b[1;31mValueError\u001b[0m: 2 is not in list"
     ]
    }
   ],
   "source": [
    "b = [12,43,4,2,1434,5,2,3,5,45,2,23,443,6,2,3,54]\n",
    "\n",
    "b.index(2,15)"
   ]
  },
  {
   "cell_type": "code",
   "execution_count": 70,
   "id": "569086d0",
   "metadata": {},
   "outputs": [
    {
     "name": "stdout",
     "output_type": "stream",
     "text": [
      "[12, 43, 4, 2, 1434, 5, 2, 3, 5, 45, 2, 23, 443, 6, 2, 3, 54]\n"
     ]
    }
   ],
   "source": [
    "b = [12,43,4,2,1434,5,2,3,5,45,2,23,443,6,2,3,54]\n",
    "\n",
    "print(b)"
   ]
  },
  {
   "cell_type": "code",
   "execution_count": 71,
   "id": "eda39ccb",
   "metadata": {},
   "outputs": [
    {
     "data": {
      "text/plain": [
       "54"
      ]
     },
     "execution_count": 71,
     "metadata": {},
     "output_type": "execute_result"
    }
   ],
   "source": [
    "b.pop()"
   ]
  },
  {
   "cell_type": "code",
   "execution_count": 68,
   "id": "982ad935",
   "metadata": {},
   "outputs": [
    {
     "name": "stdout",
     "output_type": "stream",
     "text": [
      "[]\n"
     ]
    }
   ],
   "source": [
    "print(b)"
   ]
  },
  {
   "cell_type": "code",
   "execution_count": 72,
   "id": "292fd6a2",
   "metadata": {},
   "outputs": [
    {
     "name": "stdout",
     "output_type": "stream",
     "text": [
      "[12, 234, 5, 24, 53, 532]\n"
     ]
    }
   ],
   "source": [
    "c = [12,234,5,24,53,532]\n",
    "\n",
    "print(c)"
   ]
  },
  {
   "cell_type": "code",
   "execution_count": 73,
   "id": "2168392a",
   "metadata": {},
   "outputs": [],
   "source": [
    "c.remove(53)"
   ]
  },
  {
   "cell_type": "code",
   "execution_count": 74,
   "id": "26246d2e",
   "metadata": {},
   "outputs": [
    {
     "name": "stdout",
     "output_type": "stream",
     "text": [
      "[12, 234, 5, 24, 532]\n"
     ]
    }
   ],
   "source": [
    "print(c)"
   ]
  },
  {
   "cell_type": "code",
   "execution_count": 75,
   "id": "737e359e",
   "metadata": {},
   "outputs": [
    {
     "name": "stdout",
     "output_type": "stream",
     "text": [
      "[1, 24, 325, 5, 4215, 36]\n"
     ]
    }
   ],
   "source": [
    "d = [1,24,325,5,4215,36]\n",
    "\n",
    "print(d)"
   ]
  },
  {
   "cell_type": "code",
   "execution_count": 76,
   "id": "167589fa",
   "metadata": {},
   "outputs": [
    {
     "data": {
      "text/plain": [
       "325"
      ]
     },
     "execution_count": 76,
     "metadata": {},
     "output_type": "execute_result"
    }
   ],
   "source": [
    "d.pop(2)"
   ]
  },
  {
   "cell_type": "code",
   "execution_count": 77,
   "id": "72d30524",
   "metadata": {},
   "outputs": [
    {
     "name": "stdout",
     "output_type": "stream",
     "text": [
      "[1, 24, 5, 4215, 36]\n"
     ]
    }
   ],
   "source": [
    "print(d)"
   ]
  },
  {
   "cell_type": "code",
   "execution_count": 78,
   "id": "072628bc",
   "metadata": {},
   "outputs": [
    {
     "name": "stdout",
     "output_type": "stream",
     "text": [
      "[12, 234, 5, 24, 53, 532]\n"
     ]
    }
   ],
   "source": [
    "c = [12,234,5,24,53,532]\n",
    "\n",
    "print(c)"
   ]
  },
  {
   "cell_type": "code",
   "execution_count": 79,
   "id": "84f9c601",
   "metadata": {},
   "outputs": [
    {
     "ename": "ValueError",
     "evalue": "list.remove(x): x not in list",
     "output_type": "error",
     "traceback": [
      "\u001b[1;31m---------------------------------------------------------------------------\u001b[0m",
      "\u001b[1;31mValueError\u001b[0m                                Traceback (most recent call last)",
      "Cell \u001b[1;32mIn[79], line 1\u001b[0m\n\u001b[1;32m----> 1\u001b[0m c\u001b[38;5;241m.\u001b[39mremove(\u001b[38;5;124m'\u001b[39m\u001b[38;5;124mrahul\u001b[39m\u001b[38;5;124m'\u001b[39m)\n",
      "\u001b[1;31mValueError\u001b[0m: list.remove(x): x not in list"
     ]
    }
   ],
   "source": [
    "c.remove('rahul')"
   ]
  },
  {
   "cell_type": "code",
   "execution_count": 80,
   "id": "6215aa0a",
   "metadata": {},
   "outputs": [
    {
     "name": "stdout",
     "output_type": "stream",
     "text": [
      "[1, 2, 3, 14, 234, 3]\n"
     ]
    }
   ],
   "source": [
    "s = [1,2,3,14,234,3]\n",
    "\n",
    "print(s)"
   ]
  },
  {
   "cell_type": "code",
   "execution_count": 81,
   "id": "ac04c9c5",
   "metadata": {},
   "outputs": [],
   "source": [
    "s.reverse()"
   ]
  },
  {
   "cell_type": "code",
   "execution_count": 82,
   "id": "c9b2d622",
   "metadata": {},
   "outputs": [
    {
     "name": "stdout",
     "output_type": "stream",
     "text": [
      "[3, 234, 14, 3, 2, 1]\n"
     ]
    }
   ],
   "source": [
    "print(s)"
   ]
  },
  {
   "cell_type": "code",
   "execution_count": 83,
   "id": "56fab2a3",
   "metadata": {},
   "outputs": [
    {
     "name": "stdout",
     "output_type": "stream",
     "text": [
      "[1, 243, 54, 214, 345, 35, 64]\n"
     ]
    }
   ],
   "source": [
    "f = [1,243,54,214,345,35,64]\n",
    "\n",
    "\n",
    "print(f)"
   ]
  },
  {
   "cell_type": "code",
   "execution_count": 84,
   "id": "07e055a3",
   "metadata": {},
   "outputs": [],
   "source": [
    "f.sort()"
   ]
  },
  {
   "cell_type": "code",
   "execution_count": 85,
   "id": "5d259c2b",
   "metadata": {},
   "outputs": [
    {
     "name": "stdout",
     "output_type": "stream",
     "text": [
      "[1, 35, 54, 64, 214, 243, 345]\n"
     ]
    }
   ],
   "source": [
    "print(f)"
   ]
  },
  {
   "cell_type": "code",
   "execution_count": 87,
   "id": "dcdcf76e",
   "metadata": {},
   "outputs": [
    {
     "name": "stdout",
     "output_type": "stream",
     "text": [
      "[1, 243, 54, 214, 345, 35, 64]\n"
     ]
    }
   ],
   "source": [
    "g = [1,243,54,214,345,35,64]\n",
    "\n",
    "\n",
    "print(g)"
   ]
  },
  {
   "cell_type": "code",
   "execution_count": 88,
   "id": "c7fcb60e",
   "metadata": {},
   "outputs": [],
   "source": [
    "g.sort(reverse=True)"
   ]
  },
  {
   "cell_type": "code",
   "execution_count": 89,
   "id": "294d9ecc",
   "metadata": {},
   "outputs": [
    {
     "name": "stdout",
     "output_type": "stream",
     "text": [
      "[345, 243, 214, 64, 54, 35, 1]\n"
     ]
    }
   ],
   "source": [
    "print(g)"
   ]
  },
  {
   "cell_type": "code",
   "execution_count": 90,
   "id": "46346b85",
   "metadata": {},
   "outputs": [
    {
     "name": "stdout",
     "output_type": "stream",
     "text": [
      "[1, 24, 325, 125, 345]\n"
     ]
    }
   ],
   "source": [
    "v = [1,24,325,125,345]\n",
    "print(v)"
   ]
  },
  {
   "cell_type": "code",
   "execution_count": 91,
   "id": "4dd0e21a",
   "metadata": {},
   "outputs": [],
   "source": [
    "v.sort()"
   ]
  },
  {
   "cell_type": "code",
   "execution_count": 93,
   "id": "37d8111e",
   "metadata": {},
   "outputs": [
    {
     "name": "stdout",
     "output_type": "stream",
     "text": [
      "[345, 325, 125, 24, 1]\n"
     ]
    }
   ],
   "source": [
    "print(v[::-1])"
   ]
  },
  {
   "cell_type": "markdown",
   "id": "5ace3ecf",
   "metadata": {},
   "source": [
    "# tuple"
   ]
  },
  {
   "cell_type": "code",
   "execution_count": 94,
   "id": "34e222d1",
   "metadata": {},
   "outputs": [
    {
     "name": "stdout",
     "output_type": "stream",
     "text": [
      "(1, 24, 321, 43, 543, 67)\n"
     ]
    }
   ],
   "source": [
    "a  = (1,24,321,43,543,67)\n",
    "\n",
    "print(a)"
   ]
  },
  {
   "cell_type": "code",
   "execution_count": 95,
   "id": "cd563621",
   "metadata": {},
   "outputs": [
    {
     "name": "stdout",
     "output_type": "stream",
     "text": [
      "<class 'tuple'>\n"
     ]
    }
   ],
   "source": [
    "print(type(a))"
   ]
  },
  {
   "cell_type": "code",
   "execution_count": 97,
   "id": "007fef2f",
   "metadata": {},
   "outputs": [
    {
     "ename": "TypeError",
     "evalue": "'tuple' object does not support item assignment",
     "output_type": "error",
     "traceback": [
      "\u001b[1;31m---------------------------------------------------------------------------\u001b[0m",
      "\u001b[1;31mTypeError\u001b[0m                                 Traceback (most recent call last)",
      "Cell \u001b[1;32mIn[97], line 1\u001b[0m\n\u001b[1;32m----> 1\u001b[0m a[\u001b[38;5;241m4\u001b[39m] \u001b[38;5;241m=\u001b[39m \u001b[38;5;241m9874\u001b[39m\n",
      "\u001b[1;31mTypeError\u001b[0m: 'tuple' object does not support item assignment"
     ]
    }
   ],
   "source": [
    "a[4] = 9874"
   ]
  },
  {
   "cell_type": "code",
   "execution_count": 98,
   "id": "f20b4323",
   "metadata": {},
   "outputs": [
    {
     "name": "stdout",
     "output_type": "stream",
     "text": [
      "(1, 24, 321, 43, 543, 67)\n"
     ]
    }
   ],
   "source": [
    "a  = (1,24,321,43,543,67)\n",
    "\n",
    "print(a)"
   ]
  },
  {
   "cell_type": "code",
   "execution_count": 99,
   "id": "3d843c72",
   "metadata": {},
   "outputs": [],
   "source": [
    "# typecast"
   ]
  },
  {
   "cell_type": "code",
   "execution_count": 100,
   "id": "198487e8",
   "metadata": {},
   "outputs": [
    {
     "name": "stdout",
     "output_type": "stream",
     "text": [
      "<class 'tuple'>\n"
     ]
    }
   ],
   "source": [
    "print(type(a))"
   ]
  },
  {
   "cell_type": "code",
   "execution_count": 106,
   "id": "7ff13554",
   "metadata": {},
   "outputs": [
    {
     "name": "stdout",
     "output_type": "stream",
     "text": [
      "(1, 24, 9000, 43, 543, 67)\n"
     ]
    }
   ],
   "source": [
    "a = list(a)\n",
    "a[2] = 9000\n",
    "# print(a)\n",
    "\n",
    "a = tuple(a)\n",
    "print(a)"
   ]
  },
  {
   "cell_type": "code",
   "execution_count": 107,
   "id": "d4ae93e3",
   "metadata": {},
   "outputs": [],
   "source": [
    "# indexing,slicing"
   ]
  },
  {
   "cell_type": "code",
   "execution_count": 108,
   "id": "461cfcc7",
   "metadata": {},
   "outputs": [
    {
     "data": {
      "text/plain": [
       "(1, 24, 9000, 43, 543, 67)"
      ]
     },
     "execution_count": 108,
     "metadata": {},
     "output_type": "execute_result"
    }
   ],
   "source": [
    "a"
   ]
  },
  {
   "cell_type": "code",
   "execution_count": 109,
   "id": "699cea97",
   "metadata": {},
   "outputs": [
    {
     "data": {
      "text/plain": [
       "3"
      ]
     },
     "execution_count": 109,
     "metadata": {},
     "output_type": "execute_result"
    }
   ],
   "source": [
    "a = (1,1,1,2,2,2,3,34)\n",
    "\n",
    "a.count(1)"
   ]
  },
  {
   "cell_type": "code",
   "execution_count": 111,
   "id": "66d6a67e",
   "metadata": {},
   "outputs": [
    {
     "name": "stdout",
     "output_type": "stream",
     "text": [
      "8\n"
     ]
    }
   ],
   "source": [
    "print(len(a))"
   ]
  },
  {
   "cell_type": "code",
   "execution_count": 113,
   "id": "f65c46d7",
   "metadata": {},
   "outputs": [
    {
     "data": {
      "text/plain": [
       "-2"
      ]
     },
     "execution_count": 113,
     "metadata": {},
     "output_type": "execute_result"
    }
   ],
   "source": [
    "a.index(3)-len(a)"
   ]
  },
  {
   "cell_type": "markdown",
   "id": "e8382b23",
   "metadata": {},
   "source": [
    "# Some basic imp funcs"
   ]
  },
  {
   "cell_type": "code",
   "execution_count": 131,
   "id": "71104adf",
   "metadata": {},
   "outputs": [],
   "source": [
    "# id()\n",
    "# len()\n",
    "# min()\n",
    "# max()\n",
    "# sum()\n",
    "# print()\n",
    "# range()\n",
    "# bin()\n",
    "# chr()\n",
    "# ord()\n",
    "# execfile()\n",
    "# input()"
   ]
  },
  {
   "cell_type": "code",
   "execution_count": 120,
   "id": "bb689aab",
   "metadata": {},
   "outputs": [
    {
     "data": {
      "text/plain": [
       "122"
      ]
     },
     "execution_count": 120,
     "metadata": {},
     "output_type": "execute_result"
    }
   ],
   "source": [
    "ord('z')"
   ]
  },
  {
   "cell_type": "code",
   "execution_count": 121,
   "id": "43edeab4",
   "metadata": {},
   "outputs": [
    {
     "data": {
      "text/plain": [
       "2309"
      ]
     },
     "execution_count": 121,
     "metadata": {},
     "output_type": "execute_result"
    }
   ],
   "source": [
    "ord('अ')"
   ]
  },
  {
   "cell_type": "code",
   "execution_count": 125,
   "id": "cbbd704e",
   "metadata": {},
   "outputs": [
    {
     "data": {
      "text/plain": [
       "'ई'"
      ]
     },
     "execution_count": 125,
     "metadata": {},
     "output_type": "execute_result"
    }
   ],
   "source": [
    "chr(2312)"
   ]
  },
  {
   "cell_type": "code",
   "execution_count": 127,
   "id": "e329fbb5",
   "metadata": {},
   "outputs": [
    {
     "data": {
      "text/plain": [
       "128522"
      ]
     },
     "execution_count": 127,
     "metadata": {},
     "output_type": "execute_result"
    }
   ],
   "source": [
    "ord('😊')"
   ]
  },
  {
   "cell_type": "code",
   "execution_count": 130,
   "id": "53626fab",
   "metadata": {},
   "outputs": [
    {
     "data": {
      "text/plain": [
       "'😏'"
      ]
     },
     "execution_count": 130,
     "metadata": {},
     "output_type": "execute_result"
    }
   ],
   "source": [
    "chr(128527)"
   ]
  },
  {
   "cell_type": "code",
   "execution_count": null,
   "id": "10c4abc7",
   "metadata": {},
   "outputs": [],
   "source": []
  },
  {
   "cell_type": "code",
   "execution_count": null,
   "id": "f0ddf0ff",
   "metadata": {},
   "outputs": [],
   "source": []
  },
  {
   "cell_type": "code",
   "execution_count": 135,
   "id": "6d65be00",
   "metadata": {},
   "outputs": [
    {
     "name": "stdout",
     "output_type": "stream",
     "text": [
      "Enter your name: komal\n",
      "Hello komal,How are you??\n",
      "We are in Techvidya!!\n"
     ]
    }
   ],
   "source": [
    "execfile(r\"C:\\Users\\Lenovo\\Desktop\\mohit.py\")"
   ]
  },
  {
   "cell_type": "code",
   "execution_count": 136,
   "id": "aa887527",
   "metadata": {},
   "outputs": [
    {
     "name": "stdout",
     "output_type": "stream",
     "text": [
      "Enter your age: 23\n",
      "You are 23 your old!!\n"
     ]
    }
   ],
   "source": [
    "execfile(r\"C:\\Users\\Lenovo\\Desktop\\torav.py\")"
   ]
  },
  {
   "cell_type": "code",
   "execution_count": 1,
   "id": "63c83496",
   "metadata": {},
   "outputs": [
    {
     "name": "stdout",
     "output_type": "stream",
     "text": [
      "Enter your age: 23\n",
      "You are 23 your old!!\n"
     ]
    }
   ],
   "source": [
    "execfile(\"C:\\\\Users\\\\Lenovo\\\\Desktop\\\\torav.py\")"
   ]
  },
  {
   "cell_type": "code",
   "execution_count": 2,
   "id": "3db48a9a",
   "metadata": {},
   "outputs": [
    {
     "name": "stdout",
     "output_type": "stream",
     "text": [
      "Enter your age: 34\n",
      "You are 34 your old!!\n"
     ]
    }
   ],
   "source": [
    "execfile(\"C:/Users/Lenovo/Desktop/torav.py\")"
   ]
  },
  {
   "cell_type": "code",
   "execution_count": null,
   "id": "c81fa93b",
   "metadata": {},
   "outputs": [],
   "source": []
  }
 ],
 "metadata": {
  "kernelspec": {
   "display_name": "Python 3 (ipykernel)",
   "language": "python",
   "name": "python3"
  },
  "language_info": {
   "codemirror_mode": {
    "name": "ipython",
    "version": 3
   },
   "file_extension": ".py",
   "mimetype": "text/x-python",
   "name": "python",
   "nbconvert_exporter": "python",
   "pygments_lexer": "ipython3",
   "version": "3.11.3"
  }
 },
 "nbformat": 4,
 "nbformat_minor": 5
}

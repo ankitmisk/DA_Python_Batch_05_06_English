{
 "cells": [
  {
   "cell_type": "code",
   "execution_count": 1,
   "id": "31933acd",
   "metadata": {},
   "outputs": [],
   "source": [
    "# Exception handling:- Errors Handle"
   ]
  },
  {
   "cell_type": "code",
   "execution_count": 2,
   "id": "b5c0aae4",
   "metadata": {},
   "outputs": [
    {
     "name": "stdout",
     "output_type": "stream",
     "text": [
      "Enter a: 34\n",
      "Enter b: 2\n"
     ]
    },
    {
     "ename": "TypeError",
     "evalue": "unsupported operand type(s) for /: 'str' and 'str'",
     "output_type": "error",
     "traceback": [
      "\u001b[1;31m---------------------------------------------------------------------------\u001b[0m",
      "\u001b[1;31mTypeError\u001b[0m                                 Traceback (most recent call last)",
      "Cell \u001b[1;32mIn[2], line 5\u001b[0m\n\u001b[0;32m      1\u001b[0m a \u001b[38;5;241m=\u001b[39m \u001b[38;5;28minput\u001b[39m(\u001b[38;5;124m'\u001b[39m\u001b[38;5;124mEnter a: \u001b[39m\u001b[38;5;124m'\u001b[39m)\n\u001b[0;32m      3\u001b[0m b \u001b[38;5;241m=\u001b[39m \u001b[38;5;28minput\u001b[39m(\u001b[38;5;124m'\u001b[39m\u001b[38;5;124mEnter b: \u001b[39m\u001b[38;5;124m'\u001b[39m)\n\u001b[1;32m----> 5\u001b[0m \u001b[38;5;28mprint\u001b[39m(\u001b[38;5;124m'\u001b[39m\u001b[38;5;124mAns of a/b is: \u001b[39m\u001b[38;5;124m'\u001b[39m,a\u001b[38;5;241m/\u001b[39mb)\n",
      "\u001b[1;31mTypeError\u001b[0m: unsupported operand type(s) for /: 'str' and 'str'"
     ]
    }
   ],
   "source": [
    "a = input('Enter a: ')\n",
    "\n",
    "b = input('Enter b: ')\n",
    "\n",
    "print('Ans of a/b is: ',a/b)"
   ]
  },
  {
   "cell_type": "code",
   "execution_count": 3,
   "id": "113d0421",
   "metadata": {},
   "outputs": [
    {
     "name": "stdout",
     "output_type": "stream",
     "text": [
      "Enter a: 35\n",
      "Enter b: 5\n",
      "Ans of a/b is:  7.0\n"
     ]
    }
   ],
   "source": [
    "a = int(input('Enter a: '))\n",
    "\n",
    "b = int(input('Enter b: '))\n",
    "\n",
    "print('Ans of a/b is: ',a/b)"
   ]
  },
  {
   "cell_type": "code",
   "execution_count": null,
   "id": "f5dc8738",
   "metadata": {},
   "outputs": [],
   "source": []
  },
  {
   "cell_type": "code",
   "execution_count": 4,
   "id": "1e6d4668",
   "metadata": {},
   "outputs": [
    {
     "ename": "ZeroDivisionError",
     "evalue": "division by zero",
     "output_type": "error",
     "traceback": [
      "\u001b[1;31m---------------------------------------------------------------------------\u001b[0m",
      "\u001b[1;31mZeroDivisionError\u001b[0m                         Traceback (most recent call last)",
      "Cell \u001b[1;32mIn[4], line 1\u001b[0m\n\u001b[1;32m----> 1\u001b[0m \u001b[38;5;28mprint\u001b[39m(\u001b[38;5;241m2345\u001b[39m\u001b[38;5;241m/\u001b[39m\u001b[38;5;241m0\u001b[39m)\n",
      "\u001b[1;31mZeroDivisionError\u001b[0m: division by zero"
     ]
    }
   ],
   "source": [
    "print(2345/0)"
   ]
  },
  {
   "cell_type": "code",
   "execution_count": 6,
   "id": "2ade50d8",
   "metadata": {},
   "outputs": [],
   "source": [
    "a = [12,34,32,4,6]\n",
    "\n",
    "\n",
    "a[-2] = 40"
   ]
  },
  {
   "cell_type": "code",
   "execution_count": 7,
   "id": "a0dc2282",
   "metadata": {},
   "outputs": [
    {
     "name": "stdout",
     "output_type": "stream",
     "text": [
      "[12, 34, 32, 40, 6]\n"
     ]
    }
   ],
   "source": [
    "print(a)"
   ]
  },
  {
   "cell_type": "code",
   "execution_count": 8,
   "id": "b7243de5",
   "metadata": {},
   "outputs": [
    {
     "ename": "IndexError",
     "evalue": "list index out of range",
     "output_type": "error",
     "traceback": [
      "\u001b[1;31m---------------------------------------------------------------------------\u001b[0m",
      "\u001b[1;31mIndexError\u001b[0m                                Traceback (most recent call last)",
      "Cell \u001b[1;32mIn[8], line 1\u001b[0m\n\u001b[1;32m----> 1\u001b[0m a[\u001b[38;5;241m-\u001b[39m\u001b[38;5;241m30\u001b[39m]\n",
      "\u001b[1;31mIndexError\u001b[0m: list index out of range"
     ]
    }
   ],
   "source": [
    "a[-30]"
   ]
  },
  {
   "cell_type": "code",
   "execution_count": 11,
   "id": "0ab29888",
   "metadata": {},
   "outputs": [
    {
     "name": "stdout",
     "output_type": "stream",
     "text": [
      "Something went wrong!!\n",
      "Hello world\n",
      "We are in Techvidya\n"
     ]
    }
   ],
   "source": [
    "try:\n",
    "    a = [12,34,234,52,4,34]\n",
    "    c = a/0\n",
    "    print(c)\n",
    "    \n",
    "except:\n",
    "    print('Something went wrong!!')\n",
    "    \n",
    "print('Hello world')\n",
    "print('We are in Techvidya')"
   ]
  },
  {
   "cell_type": "code",
   "execution_count": 12,
   "id": "4ddc09fc",
   "metadata": {},
   "outputs": [
    {
     "ename": "TypeError",
     "evalue": "unsupported operand type(s) for /: 'list' and 'int'",
     "output_type": "error",
     "traceback": [
      "\u001b[1;31m---------------------------------------------------------------------------\u001b[0m",
      "\u001b[1;31mTypeError\u001b[0m                                 Traceback (most recent call last)",
      "Cell \u001b[1;32mIn[12], line 2\u001b[0m\n\u001b[0;32m      1\u001b[0m a \u001b[38;5;241m=\u001b[39m [\u001b[38;5;241m12\u001b[39m,\u001b[38;5;241m34\u001b[39m,\u001b[38;5;241m234\u001b[39m,\u001b[38;5;241m52\u001b[39m,\u001b[38;5;241m4\u001b[39m,\u001b[38;5;241m34\u001b[39m]\n\u001b[1;32m----> 2\u001b[0m c \u001b[38;5;241m=\u001b[39m a\u001b[38;5;241m/\u001b[39m\u001b[38;5;241m0\u001b[39m\n\u001b[0;32m      3\u001b[0m \u001b[38;5;28mprint\u001b[39m(c)\n\u001b[0;32m      5\u001b[0m \u001b[38;5;28mprint\u001b[39m(\u001b[38;5;124m'\u001b[39m\u001b[38;5;124mHello world\u001b[39m\u001b[38;5;124m'\u001b[39m)\n",
      "\u001b[1;31mTypeError\u001b[0m: unsupported operand type(s) for /: 'list' and 'int'"
     ]
    }
   ],
   "source": [
    "a = [12,34,234,52,4,34]\n",
    "c = a/0\n",
    "print(c)\n",
    "\n",
    "print('Hello world')\n",
    "print('We are in Techvidya')"
   ]
  },
  {
   "cell_type": "code",
   "execution_count": null,
   "id": "a3894980",
   "metadata": {},
   "outputs": [],
   "source": []
  },
  {
   "cell_type": "code",
   "execution_count": 13,
   "id": "2e75e617",
   "metadata": {},
   "outputs": [
    {
     "name": "stdout",
     "output_type": "stream",
     "text": [
      "Try block nahi chala!!\n",
      "Hello World!!\n",
      "Hello World!!\n",
      "Hello World!!\n",
      "Hello World!!\n",
      "Hello World!!\n"
     ]
    }
   ],
   "source": [
    "try:\n",
    "    print(karan)\n",
    "    a = {'name':'Mohan','Age':123}\n",
    "    \n",
    "    a['Address'].append('Noida')\n",
    "    \n",
    "    \n",
    "except:\n",
    "    print('Try block nahi chala!!')\n",
    "\n",
    "    \n",
    "\n",
    "for i in range(5):\n",
    "    print('Hello World!!')"
   ]
  },
  {
   "cell_type": "code",
   "execution_count": null,
   "id": "64f31e2e",
   "metadata": {},
   "outputs": [],
   "source": []
  },
  {
   "cell_type": "code",
   "execution_count": null,
   "id": "6d821833",
   "metadata": {},
   "outputs": [],
   "source": []
  },
  {
   "cell_type": "code",
   "execution_count": 14,
   "id": "10127d41",
   "metadata": {},
   "outputs": [
    {
     "name": "stdout",
     "output_type": "stream",
     "text": [
      "karan\n",
      "{'name': 'Mohan', 'Age': 45}\n",
      "Try block chal gaya!!\n",
      "Hello World!!\n",
      "Hello World!!\n",
      "Hello World!!\n",
      "Hello World!!\n",
      "Hello World!!\n"
     ]
    }
   ],
   "source": [
    "try:\n",
    "    print(\"karan\")\n",
    "    a = {'name':'Mohan','Age':123}\n",
    "    \n",
    "    a['Age'] = 45\n",
    "    \n",
    "    print(a)\n",
    "    \n",
    "    print('Try block chal gaya!!')\n",
    "    \n",
    "    \n",
    "except:\n",
    "    print('Try block nahi chala!!')\n",
    "\n",
    "    \n",
    "\n",
    "for i in range(5):\n",
    "    print('Hello World!!')"
   ]
  },
  {
   "cell_type": "code",
   "execution_count": null,
   "id": "3d1b8abe",
   "metadata": {},
   "outputs": [],
   "source": []
  },
  {
   "cell_type": "code",
   "execution_count": null,
   "id": "66b9f5ed",
   "metadata": {},
   "outputs": [],
   "source": []
  },
  {
   "cell_type": "code",
   "execution_count": 15,
   "id": "5c7a344b",
   "metadata": {},
   "outputs": [
    {
     "name": "stdout",
     "output_type": "stream",
     "text": [
      "karan\n",
      "Try block nahi chala!!\n",
      "Hello World!!\n",
      "Hello World!!\n",
      "Hello World!!\n",
      "Hello World!!\n",
      "Hello World!!\n"
     ]
    }
   ],
   "source": [
    "try:\n",
    "    print(\"karan\")\n",
    "    a = {'name':'Mohan','Age':123}\n",
    "    \n",
    "    a['Agee'].append(45)\n",
    "    \n",
    "    print(a)\n",
    "    \n",
    "    print('Try block chal gaya!!')\n",
    "    \n",
    "    \n",
    "except:\n",
    "    print('Try block nahi chala!!')\n",
    "\n",
    "    \n",
    "\n",
    "for i in range(5):\n",
    "    print('Hello World!!')"
   ]
  },
  {
   "cell_type": "code",
   "execution_count": 16,
   "id": "0e168423",
   "metadata": {},
   "outputs": [
    {
     "name": "stdout",
     "output_type": "stream",
     "text": [
      "karan\n"
     ]
    },
    {
     "ename": "KeyError",
     "evalue": "'Agee'",
     "output_type": "error",
     "traceback": [
      "\u001b[1;31m---------------------------------------------------------------------------\u001b[0m",
      "\u001b[1;31mKeyError\u001b[0m                                  Traceback (most recent call last)",
      "Cell \u001b[1;32mIn[16], line 4\u001b[0m\n\u001b[0;32m      1\u001b[0m \u001b[38;5;28mprint\u001b[39m(\u001b[38;5;124m\"\u001b[39m\u001b[38;5;124mkaran\u001b[39m\u001b[38;5;124m\"\u001b[39m)\n\u001b[0;32m      2\u001b[0m a \u001b[38;5;241m=\u001b[39m {\u001b[38;5;124m'\u001b[39m\u001b[38;5;124mname\u001b[39m\u001b[38;5;124m'\u001b[39m:\u001b[38;5;124m'\u001b[39m\u001b[38;5;124mMohan\u001b[39m\u001b[38;5;124m'\u001b[39m,\u001b[38;5;124m'\u001b[39m\u001b[38;5;124mAge\u001b[39m\u001b[38;5;124m'\u001b[39m:\u001b[38;5;241m123\u001b[39m}\n\u001b[1;32m----> 4\u001b[0m a[\u001b[38;5;124m'\u001b[39m\u001b[38;5;124mAgee\u001b[39m\u001b[38;5;124m'\u001b[39m]\u001b[38;5;241m.\u001b[39mappend(\u001b[38;5;241m45\u001b[39m)\n\u001b[0;32m      6\u001b[0m \u001b[38;5;28mprint\u001b[39m(a)\n\u001b[0;32m      8\u001b[0m \u001b[38;5;28mprint\u001b[39m(\u001b[38;5;124m'\u001b[39m\u001b[38;5;124mTry block chal gaya!!\u001b[39m\u001b[38;5;124m'\u001b[39m)\n",
      "\u001b[1;31mKeyError\u001b[0m: 'Agee'"
     ]
    }
   ],
   "source": [
    "print(\"karan\")\n",
    "a = {'name':'Mohan','Age':123}\n",
    "\n",
    "a['Agee'].append(45)\n",
    "\n",
    "print(a)\n",
    "\n",
    "print('Try block chal gaya!!')"
   ]
  },
  {
   "cell_type": "code",
   "execution_count": null,
   "id": "d88ddd9c",
   "metadata": {},
   "outputs": [],
   "source": []
  },
  {
   "cell_type": "code",
   "execution_count": 17,
   "id": "b500802d",
   "metadata": {},
   "outputs": [
    {
     "ename": "ZeroDivisionError",
     "evalue": "division by zero",
     "output_type": "error",
     "traceback": [
      "\u001b[1;31m---------------------------------------------------------------------------\u001b[0m",
      "\u001b[1;31mZeroDivisionError\u001b[0m                         Traceback (most recent call last)",
      "Cell \u001b[1;32mIn[17], line 1\u001b[0m\n\u001b[1;32m----> 1\u001b[0m \u001b[38;5;28mprint\u001b[39m(\u001b[38;5;241m1\u001b[39m\u001b[38;5;241m/\u001b[39m\u001b[38;5;241m0\u001b[39m)\n",
      "\u001b[1;31mZeroDivisionError\u001b[0m: division by zero"
     ]
    }
   ],
   "source": [
    "print(1/0)"
   ]
  },
  {
   "cell_type": "code",
   "execution_count": 20,
   "id": "9c4390fa",
   "metadata": {},
   "outputs": [
    {
     "name": "stdout",
     "output_type": "stream",
     "text": [
      "karan\n",
      "Try block nahi chala!! division by zero\n",
      "Hello World!!\n",
      "Hello World!!\n",
      "Hello World!!\n",
      "Hello World!!\n",
      "Hello World!!\n"
     ]
    }
   ],
   "source": [
    "try:\n",
    "    print(\"karan\")\n",
    "    a = {'name':'Mohan','Age':123}\n",
    "    \n",
    "    print(1/0)\n",
    "    \n",
    "    print(a)\n",
    "    \n",
    "    print('Try block chal gaya!!')\n",
    "    \n",
    "    \n",
    "except Exception as sarwar:\n",
    "    print('Try block nahi chala!!',sarwar)\n",
    "\n",
    "    \n",
    "\n",
    "for i in range(5):\n",
    "    print('Hello World!!')"
   ]
  },
  {
   "cell_type": "code",
   "execution_count": null,
   "id": "e0559e18",
   "metadata": {},
   "outputs": [],
   "source": []
  },
  {
   "cell_type": "code",
   "execution_count": null,
   "id": "a492a3cb",
   "metadata": {},
   "outputs": [],
   "source": []
  },
  {
   "cell_type": "code",
   "execution_count": 21,
   "id": "8b669576",
   "metadata": {},
   "outputs": [
    {
     "name": "stdout",
     "output_type": "stream",
     "text": [
      "Try block nahi chala!! name 'karan' is not defined\n",
      "Hello World!!\n",
      "Hello World!!\n",
      "Hello World!!\n",
      "Hello World!!\n",
      "Hello World!!\n"
     ]
    }
   ],
   "source": [
    "try:\n",
    "    print(karan)\n",
    "    a = {'name':'Mohan','Age':123}\n",
    "    \n",
    "    print(1/0)\n",
    "    \n",
    "    print(a)\n",
    "    \n",
    "    print('Try block chal gaya!!')\n",
    "    \n",
    "    \n",
    "except Exception as sarwar:\n",
    "    print('Try block nahi chala!!',sarwar)\n",
    "\n",
    "    \n",
    "\n",
    "for i in range(5):\n",
    "    print('Hello World!!')"
   ]
  },
  {
   "cell_type": "code",
   "execution_count": 24,
   "id": "2f60e65e",
   "metadata": {},
   "outputs": [],
   "source": [
    "# address = 'Noida'\n",
    "# print(address)"
   ]
  },
  {
   "cell_type": "code",
   "execution_count": 26,
   "id": "ef850179",
   "metadata": {},
   "outputs": [
    {
     "name": "stdout",
     "output_type": "stream",
     "text": [
      "One\n",
      "two\n",
      "Try block nahi chala kyunki unsupported operand type(s) for /: 'list' and 'list'\n"
     ]
    }
   ],
   "source": [
    "try:\n",
    "    print('One')\n",
    "    print('two')\n",
    "    print([12,3,34,456]/[12,43,456])\n",
    "    \n",
    "    \n",
    "except Exception as err:\n",
    "    print('Try block nahi chala kyunki',err)\n",
    "    \n",
    "else:\n",
    "    print('ye tabhi chalega jab try block pura sucessfully chalega!!')\n",
    "    \n",
    "    "
   ]
  },
  {
   "cell_type": "code",
   "execution_count": null,
   "id": "53ce38f7",
   "metadata": {},
   "outputs": [],
   "source": []
  },
  {
   "cell_type": "code",
   "execution_count": null,
   "id": "0889dc54",
   "metadata": {},
   "outputs": [],
   "source": []
  },
  {
   "cell_type": "code",
   "execution_count": 28,
   "id": "21041521",
   "metadata": {},
   "outputs": [
    {
     "name": "stdout",
     "output_type": "stream",
     "text": [
      "One\n",
      "two\n",
      "Except block------------------------\n",
      "Try block nahi chala kyunki unsupported operand type(s) for /: 'list' and 'list'\n",
      "Finally block-------------------------------\n",
      "ye chalana hi chalana hai!!\n",
      "not dependent on any block!!\n"
     ]
    }
   ],
   "source": [
    "try:\n",
    "    print('One')\n",
    "    print('two')\n",
    "    print([12,3,34,456]/[12,43,456])\n",
    "    print('Try block-----------------')\n",
    "    \n",
    "except Exception as err:\n",
    "    print('Except block------------------------')\n",
    "    print('Try block nahi chala kyunki',err)\n",
    "    \n",
    "else:\n",
    "    print('Else block-------------------------------')\n",
    "    print('ye tabhi chalega jab try block pura sucessfully chalega!!')\n",
    "    \n",
    "finally:\n",
    "    print('Finally block-------------------------------')\n",
    "    print('ye chalana hi chalana hai!!')\n",
    "    print('not dependent on any block!!')"
   ]
  },
  {
   "cell_type": "code",
   "execution_count": 29,
   "id": "8ba2b574",
   "metadata": {},
   "outputs": [],
   "source": [
    "# exception Handling\n",
    "\n",
    "try:\n",
    "    pass\n",
    "\n",
    "except:\n",
    "    pass\n",
    "\n",
    "else:\n",
    "    pass\n",
    "\n",
    "finally:\n",
    "    pass\n"
   ]
  },
  {
   "cell_type": "code",
   "execution_count": null,
   "id": "7104e122",
   "metadata": {},
   "outputs": [],
   "source": []
  },
  {
   "cell_type": "code",
   "execution_count": null,
   "id": "90b27b56",
   "metadata": {},
   "outputs": [],
   "source": []
  },
  {
   "cell_type": "code",
   "execution_count": 30,
   "id": "c2d01bd2",
   "metadata": {},
   "outputs": [],
   "source": [
    "# nested exception Handling\n",
    "\n",
    "try:\n",
    "    try:\n",
    "        pass\n",
    "    except:\n",
    "        pass\n",
    "\n",
    "except:\n",
    "    try:\n",
    "        pass\n",
    "    except:\n",
    "        pass\n",
    "\n",
    "else:\n",
    "    try:\n",
    "        try:\n",
    "            pass\n",
    "        except:\n",
    "            pass\n",
    "        else:\n",
    "            pass\n",
    "        finally:\n",
    "            pass\n",
    "        \n",
    "    except:\n",
    "        pass\n",
    "    \n",
    "\n",
    "finally:\n",
    "    try:\n",
    "        pass\n",
    "    except:\n",
    "        pass\n"
   ]
  },
  {
   "cell_type": "code",
   "execution_count": 31,
   "id": "803d89fb",
   "metadata": {},
   "outputs": [],
   "source": [
    "# if we know the possible errors "
   ]
  },
  {
   "cell_type": "code",
   "execution_count": 41,
   "id": "6ca55d62",
   "metadata": {},
   "outputs": [
    {
     "name": "stdout",
     "output_type": "stream",
     "text": [
      "done\n",
      "'dict' object has no attribute 'append'\n"
     ]
    }
   ],
   "source": [
    "try:\n",
    "    print('done')\n",
    "    \n",
    "    a = [1,2,35,36,47]\n",
    "    \n",
    "#     print(a[56])\n",
    "    \n",
    "#     c = 1/0\n",
    "#     print(c)\n",
    "    \n",
    "#     d = 23+'56'\n",
    "    \n",
    "#     print(d)\n",
    "    \n",
    "    a = {'name':'mohan'}\n",
    "    a.append('karan')\n",
    "    \n",
    "    \n",
    "except NameError:\n",
    "    print('bhai shayad galat variable name call kar liya hai use correct karo!!')\n",
    "    \n",
    "    \n",
    "\n",
    "except IndexError:\n",
    "    print('List ya tuple ka sahi index call karo galat likha hai aapne!!')\n",
    "    \n",
    "except ZeroDivisionError:\n",
    "    print('kisi bhi number ko zero se divide nahi kar sakte, use correct karo!!')\n",
    "    \n",
    "except TypeError:\n",
    "    print('You can not perform operation b/w two different data type instances like str and int')\n",
    "    \n",
    "    \n",
    "except Exception as err:\n",
    "    print(err)"
   ]
  },
  {
   "cell_type": "code",
   "execution_count": null,
   "id": "51252913",
   "metadata": {},
   "outputs": [],
   "source": []
  },
  {
   "cell_type": "code",
   "execution_count": null,
   "id": "727bf68e",
   "metadata": {},
   "outputs": [],
   "source": []
  },
  {
   "cell_type": "code",
   "execution_count": 42,
   "id": "6286afc6",
   "metadata": {},
   "outputs": [],
   "source": [
    "# raise error"
   ]
  },
  {
   "cell_type": "code",
   "execution_count": 43,
   "id": "10033453",
   "metadata": {},
   "outputs": [
    {
     "ename": "ZeroDivisionError",
     "evalue": "division by zero",
     "output_type": "error",
     "traceback": [
      "\u001b[1;31m---------------------------------------------------------------------------\u001b[0m",
      "\u001b[1;31mZeroDivisionError\u001b[0m                         Traceback (most recent call last)",
      "Cell \u001b[1;32mIn[43], line 1\u001b[0m\n\u001b[1;32m----> 1\u001b[0m \u001b[38;5;28mprint\u001b[39m(\u001b[38;5;241m1\u001b[39m\u001b[38;5;241m/\u001b[39m\u001b[38;5;241m0\u001b[39m)\n",
      "\u001b[1;31mZeroDivisionError\u001b[0m: division by zero"
     ]
    }
   ],
   "source": [
    "print(1/0)"
   ]
  },
  {
   "cell_type": "code",
   "execution_count": 44,
   "id": "8a225729",
   "metadata": {},
   "outputs": [
    {
     "name": "stdout",
     "output_type": "stream",
     "text": [
      "Enter your age: 16\n"
     ]
    },
    {
     "ename": "Exception",
     "evalue": "beta abhi bacche ho 18 saal ke baad aana!!",
     "output_type": "error",
     "traceback": [
      "\u001b[1;31m---------------------------------------------------------------------------\u001b[0m",
      "\u001b[1;31mException\u001b[0m                                 Traceback (most recent call last)",
      "Cell \u001b[1;32mIn[44], line 4\u001b[0m\n\u001b[0;32m      1\u001b[0m age \u001b[38;5;241m=\u001b[39m \u001b[38;5;28mint\u001b[39m(\u001b[38;5;28minput\u001b[39m(\u001b[38;5;124m'\u001b[39m\u001b[38;5;124mEnter your age: \u001b[39m\u001b[38;5;124m'\u001b[39m))\n\u001b[0;32m      3\u001b[0m \u001b[38;5;28;01mif\u001b[39;00m age\u001b[38;5;241m<\u001b[39m\u001b[38;5;241m18\u001b[39m:\n\u001b[1;32m----> 4\u001b[0m     \u001b[38;5;28;01mraise\u001b[39;00m \u001b[38;5;167;01mException\u001b[39;00m(\u001b[38;5;124m'\u001b[39m\u001b[38;5;124mbeta abhi bacche ho 18 saal ke baad aana!!\u001b[39m\u001b[38;5;124m'\u001b[39m)\n\u001b[0;32m      7\u001b[0m \u001b[38;5;28;01melse\u001b[39;00m:\n\u001b[0;32m      8\u001b[0m     \u001b[38;5;28mprint\u001b[39m(\u001b[38;5;124m'\u001b[39m\u001b[38;5;124mWelcome sir!!\u001b[39m\u001b[38;5;124m'\u001b[39m)\n",
      "\u001b[1;31mException\u001b[0m: beta abhi bacche ho 18 saal ke baad aana!!"
     ]
    }
   ],
   "source": [
    "age = int(input('Enter your age: '))\n",
    "\n",
    "if age<18:\n",
    "    raise Exception('beta abhi bacche ho 18 saal ke baad aana!!')\n",
    "    \n",
    "    \n",
    "else:\n",
    "    print('Welcome sir!!')"
   ]
  },
  {
   "cell_type": "code",
   "execution_count": 46,
   "id": "3cd0356d",
   "metadata": {},
   "outputs": [
    {
     "name": "stdout",
     "output_type": "stream",
     "text": [
      "Enter your age: 56\n",
      "Welcome sir!!\n"
     ]
    }
   ],
   "source": [
    "age = int(input('Enter your age: '))\n",
    "\n",
    "if age<18:\n",
    "    raise Exception('beta abhi bacche ho 18 saal ke baad aana!!')\n",
    "    \n",
    "    \n",
    "else:\n",
    "    print('Welcome sir!!')"
   ]
  },
  {
   "cell_type": "code",
   "execution_count": 47,
   "id": "4af96bc1",
   "metadata": {},
   "outputs": [],
   "source": [
    "class Beta_abhi_bache_ho_Error(Exception):\n",
    "    pass"
   ]
  },
  {
   "cell_type": "code",
   "execution_count": null,
   "id": "74a76cda",
   "metadata": {},
   "outputs": [],
   "source": []
  },
  {
   "cell_type": "code",
   "execution_count": null,
   "id": "635ca577",
   "metadata": {},
   "outputs": [],
   "source": []
  },
  {
   "cell_type": "code",
   "execution_count": null,
   "id": "1c7f32f0",
   "metadata": {},
   "outputs": [],
   "source": []
  },
  {
   "cell_type": "code",
   "execution_count": null,
   "id": "057c7341",
   "metadata": {},
   "outputs": [],
   "source": []
  },
  {
   "cell_type": "code",
   "execution_count": null,
   "id": "524715ab",
   "metadata": {},
   "outputs": [],
   "source": []
  },
  {
   "cell_type": "code",
   "execution_count": 48,
   "id": "e75d5a65",
   "metadata": {},
   "outputs": [
    {
     "name": "stdout",
     "output_type": "stream",
     "text": [
      "Enter your age: 2\n"
     ]
    },
    {
     "ename": "Beta_abhi_bache_ho_Error",
     "evalue": "beta abhi bacche ho 18 saal ke baad aana!!",
     "output_type": "error",
     "traceback": [
      "\u001b[1;31m---------------------------------------------------------------------------\u001b[0m",
      "\u001b[1;31mBeta_abhi_bache_ho_Error\u001b[0m                  Traceback (most recent call last)",
      "Cell \u001b[1;32mIn[48], line 4\u001b[0m\n\u001b[0;32m      1\u001b[0m age \u001b[38;5;241m=\u001b[39m \u001b[38;5;28mint\u001b[39m(\u001b[38;5;28minput\u001b[39m(\u001b[38;5;124m'\u001b[39m\u001b[38;5;124mEnter your age: \u001b[39m\u001b[38;5;124m'\u001b[39m))\n\u001b[0;32m      3\u001b[0m \u001b[38;5;28;01mif\u001b[39;00m age\u001b[38;5;241m<\u001b[39m\u001b[38;5;241m18\u001b[39m:\n\u001b[1;32m----> 4\u001b[0m     \u001b[38;5;28;01mraise\u001b[39;00m Beta_abhi_bache_ho_Error(\u001b[38;5;124m'\u001b[39m\u001b[38;5;124mbeta abhi bacche ho 18 saal ke baad aana!!\u001b[39m\u001b[38;5;124m'\u001b[39m)\n\u001b[0;32m      7\u001b[0m \u001b[38;5;28;01melse\u001b[39;00m:\n\u001b[0;32m      8\u001b[0m     \u001b[38;5;28mprint\u001b[39m(\u001b[38;5;124m'\u001b[39m\u001b[38;5;124mWelcome sir!!\u001b[39m\u001b[38;5;124m'\u001b[39m)\n",
      "\u001b[1;31mBeta_abhi_bache_ho_Error\u001b[0m: beta abhi bacche ho 18 saal ke baad aana!!"
     ]
    }
   ],
   "source": [
    "age = int(input('Enter your age: '))\n",
    "\n",
    "if age<18:\n",
    "    raise Beta_abhi_bache_ho_Error('beta abhi bacche ho 18 saal ke baad aana!!')\n",
    "    \n",
    "    \n",
    "else:\n",
    "    print('Welcome sir!!')"
   ]
  },
  {
   "cell_type": "code",
   "execution_count": null,
   "id": "0ee550b4",
   "metadata": {},
   "outputs": [],
   "source": []
  },
  {
   "cell_type": "code",
   "execution_count": 50,
   "id": "cfdd5840",
   "metadata": {},
   "outputs": [
    {
     "name": "stdout",
     "output_type": "stream",
     "text": [
      "\n",
      "Here is a list of the Python keywords.  Enter any keyword to get more help.\n",
      "\n",
      "False               class               from                or\n",
      "None                continue            global              pass\n",
      "True                def                 if                  raise\n",
      "and                 del                 import              return\n",
      "as                  elif                in                  try\n",
      "assert              else                is                  while\n",
      "async               except              lambda              with\n",
      "await               finally             nonlocal            yield\n",
      "break               for                 not                 \n",
      "\n"
     ]
    }
   ],
   "source": [
    "help('keywords')"
   ]
  },
  {
   "cell_type": "code",
   "execution_count": null,
   "id": "d4b8b859",
   "metadata": {},
   "outputs": [],
   "source": []
  }
 ],
 "metadata": {
  "kernelspec": {
   "display_name": "Python 3 (ipykernel)",
   "language": "python",
   "name": "python3"
  },
  "language_info": {
   "codemirror_mode": {
    "name": "ipython",
    "version": 3
   },
   "file_extension": ".py",
   "mimetype": "text/x-python",
   "name": "python",
   "nbconvert_exporter": "python",
   "pygments_lexer": "ipython3",
   "version": "3.11.3"
  }
 },
 "nbformat": 4,
 "nbformat_minor": 5
}

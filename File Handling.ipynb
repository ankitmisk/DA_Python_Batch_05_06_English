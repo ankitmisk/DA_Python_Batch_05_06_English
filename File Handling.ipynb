{
 "cells": [
  {
   "cell_type": "code",
   "execution_count": 1,
   "id": "1f639f84",
   "metadata": {},
   "outputs": [],
   "source": [
    "# How to Handle File in Python:\n",
    "\n",
    "# text\n",
    "# mp3\n",
    "# mp4\n",
    "# excel:- xlsx\n",
    "# csv\n",
    "# pdf\n",
    "\n",
    "\n",
    "# delete, write, new file, copy file, read, "
   ]
  },
  {
   "cell_type": "code",
   "execution_count": 3,
   "id": "617928c6",
   "metadata": {},
   "outputs": [],
   "source": [
    "# <!-- # 2 Types\n",
    "\n",
    "# 1>> Textual File:- Jo human read kar sake,\n",
    "# that can be opened with notepad, and we can read content of that file \n",
    "# Ex:- txt, .csv, .py, .java, .html, \n",
    "\n",
    "\n",
    "# 2>> Binary file:- Jo human read Na kar sake,\n",
    "# that can not be opened with notepad, and we can not read content of that file \n",
    "\n",
    "# to open or read this file we need some software\n",
    "\n",
    "# Ex:- excel, xlsx, mp3, mp4, pdf, exe, jpg, png, zip, ppt\n",
    "\n",
    "#  -->\n",
    "\n",
    "\n",
    "# handle:- read, write, delete, file delete, new file create, file data add, Python"
   ]
  },
  {
   "cell_type": "markdown",
   "id": "116621e5",
   "metadata": {},
   "source": [
    "# File handling:- Textual"
   ]
  },
  {
   "cell_type": "code",
   "execution_count": 4,
   "id": "60709660",
   "metadata": {},
   "outputs": [],
   "source": [
    "# how to read data of txt file"
   ]
  },
  {
   "cell_type": "code",
   "execution_count": 16,
   "id": "637f3bf6",
   "metadata": {},
   "outputs": [],
   "source": [
    "file = open(r'C:\\Users\\Lenovo\\Desktop\\mohit.txt')"
   ]
  },
  {
   "cell_type": "code",
   "execution_count": 19,
   "id": "3ec3ee90",
   "metadata": {},
   "outputs": [
    {
     "ename": "ValueError",
     "evalue": "I/O operation on closed file.",
     "output_type": "error",
     "traceback": [
      "\u001b[1;31m---------------------------------------------------------------------------\u001b[0m",
      "\u001b[1;31mValueError\u001b[0m                                Traceback (most recent call last)",
      "Cell \u001b[1;32mIn[19], line 1\u001b[0m\n\u001b[1;32m----> 1\u001b[0m \u001b[38;5;28mprint\u001b[39m(file\u001b[38;5;241m.\u001b[39mread())\n",
      "\u001b[1;31mValueError\u001b[0m: I/O operation on closed file."
     ]
    }
   ],
   "source": [
    "print(file.read())"
   ]
  },
  {
   "cell_type": "code",
   "execution_count": 18,
   "id": "abcf4d9a",
   "metadata": {},
   "outputs": [
    {
     "name": "stdout",
     "output_type": "stream",
     "text": [
      "closed\n"
     ]
    }
   ],
   "source": [
    "file.close()\n",
    "print('closed')"
   ]
  },
  {
   "cell_type": "code",
   "execution_count": null,
   "id": "587d1c74",
   "metadata": {},
   "outputs": [],
   "source": []
  },
  {
   "cell_type": "code",
   "execution_count": null,
   "id": "9d3c44a8",
   "metadata": {},
   "outputs": [],
   "source": []
  },
  {
   "cell_type": "code",
   "execution_count": 30,
   "id": "670ce7a3",
   "metadata": {},
   "outputs": [],
   "source": [
    "file = open(r'C:\\Users\\Lenovo\\Desktop\\mohit.txt')"
   ]
  },
  {
   "cell_type": "code",
   "execution_count": 31,
   "id": "7e4e0f06",
   "metadata": {},
   "outputs": [
    {
     "name": "stdout",
     "output_type": "stream",
     "text": [
      "We are in Techvidya\n",
      "Python is Awesome\n",
      "Py\n"
     ]
    }
   ],
   "source": [
    "print(file.read(40))"
   ]
  },
  {
   "cell_type": "code",
   "execution_count": 32,
   "id": "18160951",
   "metadata": {},
   "outputs": [
    {
     "name": "stdout",
     "output_type": "stream",
     "text": [
      "done\n"
     ]
    }
   ],
   "source": [
    "file.close()\n",
    "print('done')"
   ]
  },
  {
   "cell_type": "code",
   "execution_count": null,
   "id": "a3056817",
   "metadata": {},
   "outputs": [],
   "source": []
  },
  {
   "cell_type": "code",
   "execution_count": null,
   "id": "d47b4783",
   "metadata": {},
   "outputs": [],
   "source": [
    "# write"
   ]
  },
  {
   "cell_type": "code",
   "execution_count": 33,
   "id": "049b8893",
   "metadata": {},
   "outputs": [],
   "source": [
    "new_file = open(r'C:\\Users\\Lenovo\\Desktop\\Rohit.txt',mode = 'w')  # new file create"
   ]
  },
  {
   "cell_type": "code",
   "execution_count": 34,
   "id": "46f029bc",
   "metadata": {},
   "outputs": [
    {
     "name": "stdout",
     "output_type": "stream",
     "text": [
      "done\n"
     ]
    }
   ],
   "source": [
    "new_file.write('This is a new file!!\\n')\n",
    "new_file.write('This is a line number 2\\n')\n",
    "new_file.write('We are in Techvidya\\n')\n",
    "new_file.write('Python is Awesome')\n",
    "print('done')"
   ]
  },
  {
   "cell_type": "code",
   "execution_count": 35,
   "id": "ea978e5d",
   "metadata": {},
   "outputs": [
    {
     "name": "stdout",
     "output_type": "stream",
     "text": [
      "done\n"
     ]
    }
   ],
   "source": [
    "new_file.close()\n",
    "print('done')"
   ]
  },
  {
   "cell_type": "code",
   "execution_count": null,
   "id": "6ea1758e",
   "metadata": {},
   "outputs": [],
   "source": []
  },
  {
   "cell_type": "code",
   "execution_count": null,
   "id": "5a015be1",
   "metadata": {},
   "outputs": [],
   "source": []
  },
  {
   "cell_type": "code",
   "execution_count": 37,
   "id": "e56317c9",
   "metadata": {},
   "outputs": [
    {
     "name": "stdout",
     "output_type": "stream",
     "text": [
      "done\n"
     ]
    }
   ],
   "source": [
    "new_file = open(r'C:\\Users\\Lenovo\\Desktop\\Rohit.txt',mode = 'w')  # new file create\n",
    "\n",
    "# purana data delete ho jata hai\n",
    "\n",
    "print('done')"
   ]
  },
  {
   "cell_type": "code",
   "execution_count": 38,
   "id": "066e7ab1",
   "metadata": {},
   "outputs": [],
   "source": [
    "new_file.write('Mohit Rohit File!!')\n",
    "\n",
    "new_file.close()"
   ]
  },
  {
   "cell_type": "code",
   "execution_count": null,
   "id": "901812f9",
   "metadata": {},
   "outputs": [],
   "source": []
  },
  {
   "cell_type": "code",
   "execution_count": null,
   "id": "1f299112",
   "metadata": {},
   "outputs": [],
   "source": []
  },
  {
   "cell_type": "code",
   "execution_count": 42,
   "id": "e6e53b66",
   "metadata": {},
   "outputs": [
    {
     "name": "stdout",
     "output_type": "stream",
     "text": [
      "opened\n"
     ]
    }
   ],
   "source": [
    "# mode:- a:- append\n",
    "\n",
    "\n",
    "new_file = open(r'C:\\Users\\Lenovo\\Desktop\\Rohit.txt',mode = 'a')  # append mode\n",
    "\n",
    "# new data usi line se add ho jayega\n",
    "\n",
    "\n",
    "print('opened')"
   ]
  },
  {
   "cell_type": "code",
   "execution_count": 44,
   "id": "e27f336e",
   "metadata": {},
   "outputs": [
    {
     "name": "stdout",
     "output_type": "stream",
     "text": [
      "done\n"
     ]
    }
   ],
   "source": [
    "new_file.write('\\nNew data This is a new line data')\n",
    "new_file.write('\\nNew data This is a again a line data')\n",
    "new_file.write('\\nnew data This is a File handling Topic in Python')\n",
    "\n",
    "new_file.close()\n",
    "print('done')"
   ]
  },
  {
   "cell_type": "code",
   "execution_count": 45,
   "id": "9a5911f1",
   "metadata": {},
   "outputs": [],
   "source": [
    "# Types of file\n",
    "# textual file binary file\n",
    "# read: all data\n",
    "# read(10)\n",
    "# write:- \\n, \n",
    "# close\n",
    "# methods:- r, w, a"
   ]
  },
  {
   "cell_type": "code",
   "execution_count": 52,
   "id": "596fcd54",
   "metadata": {},
   "outputs": [
    {
     "name": "stdout",
     "output_type": "stream",
     "text": [
      "done\n"
     ]
    }
   ],
   "source": [
    "new_file = open(r'C:\\Users\\Lenovo\\Desktop\\Rohit_new_file.txt',mode = 'w')  # append mode\n",
    "\n",
    "# loop concept\n",
    "\n",
    "print('done')"
   ]
  },
  {
   "cell_type": "code",
   "execution_count": 53,
   "id": "fe9d3f07",
   "metadata": {},
   "outputs": [
    {
     "name": "stdout",
     "output_type": "stream",
     "text": [
      "['Easy', 'to', 'use', 'and', 'learn.', 'Python', 'has', 'a', 'simple', 'syntax', 'that', 'is', 'easy', 'to', 'learn.', '...\\nMulti-Paradigm.', 'Python', 'supports', 'multiple', 'programming', 'paradigms.', '...\\nOpen', 'Source.', 'Python', 'is', 'an', 'open-source', 'language.', '...\\nLarge', 'Standard', 'Library.', '...\\nObject-Oriented', 'Programming', 'Language.', '...\\nDynamically', 'Typed.', '...\\nLarge', 'Community', 'Support.', '...\\nPortable.']\n"
     ]
    }
   ],
   "source": [
    "data = '''Easy to use and learn. Python has a simple syntax that is easy to learn. ...\n",
    "Multi-Paradigm. Python supports multiple programming paradigms. ...\n",
    "Open Source. Python is an open-source language. ...\n",
    "Large Standard Library. ...\n",
    "Object-Oriented Programming Language. ...\n",
    "Dynamically Typed. ...\n",
    "Large Community Support. ...\n",
    "Portable.'''\n",
    "\n",
    "\n",
    "\n",
    "data = data.split(' ')\n",
    "print(data)"
   ]
  },
  {
   "cell_type": "code",
   "execution_count": 54,
   "id": "d6158bfe",
   "metadata": {},
   "outputs": [
    {
     "name": "stdout",
     "output_type": "stream",
     "text": [
      "done\n"
     ]
    }
   ],
   "source": [
    "for i in data:\n",
    "    new_file.write(i+' ')\n",
    "    \n",
    "new_file.close()\n",
    "\n",
    "print('done')"
   ]
  },
  {
   "cell_type": "code",
   "execution_count": null,
   "id": "4845b049",
   "metadata": {},
   "outputs": [],
   "source": []
  },
  {
   "cell_type": "code",
   "execution_count": null,
   "id": "302fbdd2",
   "metadata": {},
   "outputs": [],
   "source": []
  },
  {
   "cell_type": "code",
   "execution_count": null,
   "id": "5a7b268b",
   "metadata": {},
   "outputs": [],
   "source": []
  },
  {
   "cell_type": "code",
   "execution_count": 56,
   "id": "62c6dc38",
   "metadata": {},
   "outputs": [
    {
     "name": "stdout",
     "output_type": "stream",
     "text": [
      "Easy to use and learn. Python has a simple syntax that is easy to learn. ...\n",
      "Multi-Paradigm. Python supports multiple programming paradigms. ...\n",
      "Open Source. Python is an open-source language. ...\n",
      "Large Standard Library. ...\n",
      "Object-Oriented Programming Language. ...\n",
      "Dynamically Typed. ...\n",
      "Large Community Support. ...\n",
      "Portable.\n"
     ]
    }
   ],
   "source": [
    "data = '''Easy to use and learn. Python has a simple syntax that is easy to learn. ...\n",
    "Multi-Paradigm. Python supports multiple programming paradigms. ...\n",
    "Open Source. Python is an open-source language. ...\n",
    "Large Standard Library. ...\n",
    "Object-Oriented Programming Language. ...\n",
    "Dynamically Typed. ...\n",
    "Large Community Support. ...\n",
    "Portable.'''\n",
    "\n",
    "\n",
    "\n",
    "print(data)"
   ]
  },
  {
   "cell_type": "code",
   "execution_count": 57,
   "id": "2c4a2907",
   "metadata": {},
   "outputs": [
    {
     "name": "stdout",
     "output_type": "stream",
     "text": [
      "done\n"
     ]
    }
   ],
   "source": [
    "new_file = open(r'C:\\Users\\Lenovo\\Desktop\\Rohit_new_file.txt',mode = 'w')  \n",
    "\n",
    "\n",
    "new_file.write(data)\n",
    "\n",
    "new_file.close()\n",
    "print('done')"
   ]
  },
  {
   "cell_type": "code",
   "execution_count": null,
   "id": "aacc30e0",
   "metadata": {},
   "outputs": [],
   "source": []
  },
  {
   "cell_type": "code",
   "execution_count": 59,
   "id": "66e79a99",
   "metadata": {},
   "outputs": [
    {
     "name": "stdout",
     "output_type": "stream",
     "text": [
      "done\n"
     ]
    }
   ],
   "source": [
    "copy_file = open(r'C:\\Users\\Lenovo\\Desktop\\Rohit_new_file_copy.txt',mode = 'w')\n",
    "\n",
    "old_file = open(r'C:\\Users\\Lenovo\\Desktop\\Rohit_new_file.txt',mode = 'r')\n",
    "\n",
    "\n",
    "data = old_file.read()\n",
    "\n",
    "copy_file.write(data)\n",
    "\n",
    "old_file.close()\n",
    "copy_file.close()\n",
    "\n",
    "print('done')"
   ]
  },
  {
   "cell_type": "code",
   "execution_count": null,
   "id": "79224085",
   "metadata": {},
   "outputs": [],
   "source": []
  },
  {
   "cell_type": "code",
   "execution_count": null,
   "id": "606fa1c1",
   "metadata": {},
   "outputs": [],
   "source": []
  },
  {
   "cell_type": "code",
   "execution_count": null,
   "id": "33ee360a",
   "metadata": {},
   "outputs": [],
   "source": []
  },
  {
   "cell_type": "code",
   "execution_count": 61,
   "id": "e0d9386e",
   "metadata": {},
   "outputs": [
    {
     "name": "stdout",
     "output_type": "stream",
     "text": [
      "done\n"
     ]
    }
   ],
   "source": [
    "copy_file = open(r'C:\\Users\\Lenovo\\Desktop\\Rohit_new_file_copy.txt',mode = 'w')\n",
    "\n",
    "old_file = open(r'C:\\Users\\Lenovo\\Desktop\\Rohit_new_file.txt',mode = 'r')\n",
    "\n",
    "copy_file.write(old_file.read())\n",
    "old_file.close()\n",
    "copy_file.close()\n",
    "\n",
    "print('done')"
   ]
  },
  {
   "cell_type": "code",
   "execution_count": null,
   "id": "7517541e",
   "metadata": {},
   "outputs": [],
   "source": []
  },
  {
   "cell_type": "code",
   "execution_count": null,
   "id": "897c80b2",
   "metadata": {},
   "outputs": [],
   "source": []
  },
  {
   "cell_type": "code",
   "execution_count": 62,
   "id": "97ffb5b9",
   "metadata": {},
   "outputs": [],
   "source": [
    "# aaj ka last topic\n",
    "\n",
    "# mode = x:- ye sirf new file banata hai, agar koi file pehle se hai to use open nahi karega"
   ]
  },
  {
   "cell_type": "code",
   "execution_count": null,
   "id": "2a25230d",
   "metadata": {},
   "outputs": [],
   "source": []
  },
  {
   "cell_type": "code",
   "execution_count": null,
   "id": "078f7a74",
   "metadata": {},
   "outputs": [],
   "source": []
  },
  {
   "cell_type": "code",
   "execution_count": 65,
   "id": "8ff9a736",
   "metadata": {},
   "outputs": [
    {
     "ename": "FileExistsError",
     "evalue": "[Errno 17] File exists: 'C:\\\\Users\\\\Lenovo\\\\Desktop\\\\Mohit_new_file.txt'",
     "output_type": "error",
     "traceback": [
      "\u001b[1;31m---------------------------------------------------------------------------\u001b[0m",
      "\u001b[1;31mFileExistsError\u001b[0m                           Traceback (most recent call last)",
      "Cell \u001b[1;32mIn[65], line 1\u001b[0m\n\u001b[1;32m----> 1\u001b[0m file \u001b[38;5;241m=\u001b[39m \u001b[38;5;28mopen\u001b[39m(\u001b[38;5;124mr\u001b[39m\u001b[38;5;124m'\u001b[39m\u001b[38;5;124mC:\u001b[39m\u001b[38;5;124m\\\u001b[39m\u001b[38;5;124mUsers\u001b[39m\u001b[38;5;124m\\\u001b[39m\u001b[38;5;124mLenovo\u001b[39m\u001b[38;5;124m\\\u001b[39m\u001b[38;5;124mDesktop\u001b[39m\u001b[38;5;124m\\\u001b[39m\u001b[38;5;124mMohit_new_file.txt\u001b[39m\u001b[38;5;124m'\u001b[39m,mode \u001b[38;5;241m=\u001b[39m \u001b[38;5;124m'\u001b[39m\u001b[38;5;124mx\u001b[39m\u001b[38;5;124m'\u001b[39m)\n\u001b[0;32m      2\u001b[0m file\u001b[38;5;241m.\u001b[39mwrite(\u001b[38;5;124m'\u001b[39m\u001b[38;5;124mise Bana do..\u001b[39m\u001b[38;5;124m'\u001b[39m)\n\u001b[0;32m      3\u001b[0m file\u001b[38;5;241m.\u001b[39mclose()\n",
      "File \u001b[1;32m~\\anaconda3\\Lib\\site-packages\\IPython\\core\\interactiveshell.py:310\u001b[0m, in \u001b[0;36m_modified_open\u001b[1;34m(file, *args, **kwargs)\u001b[0m\n\u001b[0;32m    303\u001b[0m \u001b[38;5;28;01mif\u001b[39;00m file \u001b[38;5;129;01min\u001b[39;00m {\u001b[38;5;241m0\u001b[39m, \u001b[38;5;241m1\u001b[39m, \u001b[38;5;241m2\u001b[39m}:\n\u001b[0;32m    304\u001b[0m     \u001b[38;5;28;01mraise\u001b[39;00m \u001b[38;5;167;01mValueError\u001b[39;00m(\n\u001b[0;32m    305\u001b[0m         \u001b[38;5;124mf\u001b[39m\u001b[38;5;124m\"\u001b[39m\u001b[38;5;124mIPython won\u001b[39m\u001b[38;5;124m'\u001b[39m\u001b[38;5;124mt let you open fd=\u001b[39m\u001b[38;5;132;01m{\u001b[39;00mfile\u001b[38;5;132;01m}\u001b[39;00m\u001b[38;5;124m by default \u001b[39m\u001b[38;5;124m\"\u001b[39m\n\u001b[0;32m    306\u001b[0m         \u001b[38;5;124m\"\u001b[39m\u001b[38;5;124mas it is likely to crash IPython. If you know what you are doing, \u001b[39m\u001b[38;5;124m\"\u001b[39m\n\u001b[0;32m    307\u001b[0m         \u001b[38;5;124m\"\u001b[39m\u001b[38;5;124myou can use builtins\u001b[39m\u001b[38;5;124m'\u001b[39m\u001b[38;5;124m open.\u001b[39m\u001b[38;5;124m\"\u001b[39m\n\u001b[0;32m    308\u001b[0m     )\n\u001b[1;32m--> 310\u001b[0m \u001b[38;5;28;01mreturn\u001b[39;00m io_open(file, \u001b[38;5;241m*\u001b[39margs, \u001b[38;5;241m*\u001b[39m\u001b[38;5;241m*\u001b[39mkwargs)\n",
      "\u001b[1;31mFileExistsError\u001b[0m: [Errno 17] File exists: 'C:\\\\Users\\\\Lenovo\\\\Desktop\\\\Mohit_new_file.txt'"
     ]
    }
   ],
   "source": [
    "file = open(r'C:\\Users\\Lenovo\\Desktop\\Mohit_new_file.txt',mode = 'x')\n",
    "file.write('ise Bana do..')\n",
    "file.close()\n",
    "print('done')"
   ]
  },
  {
   "cell_type": "code",
   "execution_count": 66,
   "id": "41f2f995",
   "metadata": {},
   "outputs": [],
   "source": [
    "# mode:- r, x, w, a"
   ]
  },
  {
   "cell_type": "code",
   "execution_count": null,
   "id": "1967102c",
   "metadata": {},
   "outputs": [],
   "source": []
  }
 ],
 "metadata": {
  "kernelspec": {
   "display_name": "Python 3 (ipykernel)",
   "language": "python",
   "name": "python3"
  },
  "language_info": {
   "codemirror_mode": {
    "name": "ipython",
    "version": 3
   },
   "file_extension": ".py",
   "mimetype": "text/x-python",
   "name": "python",
   "nbconvert_exporter": "python",
   "pygments_lexer": "ipython3",
   "version": "3.11.3"
  }
 },
 "nbformat": 4,
 "nbformat_minor": 5
}

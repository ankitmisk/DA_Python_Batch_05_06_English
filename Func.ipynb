{
 "cells": [
  {
   "cell_type": "code",
   "execution_count": null,
   "id": "b1d9a400",
   "metadata": {},
   "outputs": [],
   "source": [
    "# conditional programming\n",
    "#     if else, loops, break, continue, pass\n",
    "#     while data types methods\n",
    "\n",
    "# functional programming\n",
    "# OOPS"
   ]
  },
  {
   "cell_type": "code",
   "execution_count": 1,
   "id": "0f95277a",
   "metadata": {},
   "outputs": [],
   "source": [
    "data = [1,234,21,324565,4534,56]\n",
    "\n",
    "even = []\n",
    "odd = []\n",
    "\n",
    "for i in data:\n",
    "    if i%2==0:\n",
    "        even.append(i)\n",
    "        \n",
    "    else:\n",
    "        odd.append(i)"
   ]
  },
  {
   "cell_type": "code",
   "execution_count": 2,
   "id": "c8b6a78c",
   "metadata": {},
   "outputs": [
    {
     "name": "stdout",
     "output_type": "stream",
     "text": [
      "[234, 4534, 56]\n"
     ]
    }
   ],
   "source": [
    "print(even)"
   ]
  },
  {
   "cell_type": "code",
   "execution_count": 3,
   "id": "aa1a6a9d",
   "metadata": {},
   "outputs": [
    {
     "name": "stdout",
     "output_type": "stream",
     "text": [
      "[1, 21, 324565]\n"
     ]
    }
   ],
   "source": [
    "print(odd)"
   ]
  },
  {
   "cell_type": "code",
   "execution_count": null,
   "id": "cbdb5ecb",
   "metadata": {},
   "outputs": [],
   "source": []
  },
  {
   "cell_type": "code",
   "execution_count": null,
   "id": "1bb859c7",
   "metadata": {},
   "outputs": [],
   "source": []
  },
  {
   "cell_type": "code",
   "execution_count": null,
   "id": "2e617925",
   "metadata": {},
   "outputs": [],
   "source": []
  },
  {
   "cell_type": "code",
   "execution_count": null,
   "id": "36cd0f3a",
   "metadata": {},
   "outputs": [],
   "source": []
  },
  {
   "cell_type": "code",
   "execution_count": null,
   "id": "c6f3173f",
   "metadata": {},
   "outputs": [],
   "source": []
  },
  {
   "cell_type": "code",
   "execution_count": null,
   "id": "71c97f2d",
   "metadata": {},
   "outputs": [],
   "source": []
  },
  {
   "cell_type": "code",
   "execution_count": null,
   "id": "f0fcc903",
   "metadata": {},
   "outputs": [],
   "source": []
  },
  {
   "cell_type": "code",
   "execution_count": null,
   "id": "b47a8d08",
   "metadata": {},
   "outputs": [],
   "source": []
  },
  {
   "cell_type": "code",
   "execution_count": null,
   "id": "e372539f",
   "metadata": {},
   "outputs": [],
   "source": []
  },
  {
   "cell_type": "code",
   "execution_count": null,
   "id": "2107c6cd",
   "metadata": {},
   "outputs": [],
   "source": []
  },
  {
   "cell_type": "code",
   "execution_count": null,
   "id": "0fea0071",
   "metadata": {},
   "outputs": [],
   "source": []
  },
  {
   "cell_type": "code",
   "execution_count": null,
   "id": "820575c1",
   "metadata": {},
   "outputs": [],
   "source": []
  },
  {
   "cell_type": "code",
   "execution_count": null,
   "id": "51b45057",
   "metadata": {},
   "outputs": [],
   "source": []
  },
  {
   "cell_type": "code",
   "execution_count": 9,
   "id": "420f4c7e",
   "metadata": {},
   "outputs": [],
   "source": [
    "def give_even_odd(data):\n",
    "    even = []\n",
    "    odd = []\n",
    "\n",
    "    for i in data:\n",
    "        if i%2==0:\n",
    "            even.append(i)\n",
    "\n",
    "        else:\n",
    "            odd.append(i)\n",
    "            \n",
    "    print(\"Even List\",even)\n",
    "    print('Odd List',odd)"
   ]
  },
  {
   "cell_type": "code",
   "execution_count": null,
   "id": "6184ad0d",
   "metadata": {},
   "outputs": [],
   "source": []
  },
  {
   "cell_type": "code",
   "execution_count": null,
   "id": "e7525f81",
   "metadata": {},
   "outputs": [],
   "source": []
  },
  {
   "cell_type": "code",
   "execution_count": null,
   "id": "bf7100a1",
   "metadata": {},
   "outputs": [],
   "source": []
  },
  {
   "cell_type": "code",
   "execution_count": 12,
   "id": "89cf7e31",
   "metadata": {},
   "outputs": [
    {
     "name": "stdout",
     "output_type": "stream",
     "text": [
      "Even List [2, 342, 4]\n",
      "Odd List [41]\n"
     ]
    }
   ],
   "source": [
    "give_even_odd([2,41,342,4])"
   ]
  },
  {
   "cell_type": "code",
   "execution_count": null,
   "id": "27bcd7eb",
   "metadata": {},
   "outputs": [],
   "source": []
  },
  {
   "cell_type": "code",
   "execution_count": null,
   "id": "896f5205",
   "metadata": {},
   "outputs": [],
   "source": []
  },
  {
   "cell_type": "code",
   "execution_count": null,
   "id": "1dc784c0",
   "metadata": {},
   "outputs": [],
   "source": []
  },
  {
   "cell_type": "code",
   "execution_count": null,
   "id": "fd006265",
   "metadata": {},
   "outputs": [],
   "source": []
  },
  {
   "cell_type": "code",
   "execution_count": null,
   "id": "7820746b",
   "metadata": {},
   "outputs": [],
   "source": []
  },
  {
   "cell_type": "code",
   "execution_count": null,
   "id": "97873db0",
   "metadata": {},
   "outputs": [],
   "source": []
  },
  {
   "cell_type": "code",
   "execution_count": null,
   "id": "acd1ecdd",
   "metadata": {},
   "outputs": [],
   "source": []
  },
  {
   "cell_type": "code",
   "execution_count": null,
   "id": "714cdb1c",
   "metadata": {},
   "outputs": [],
   "source": []
  },
  {
   "cell_type": "code",
   "execution_count": null,
   "id": "4c25f461",
   "metadata": {},
   "outputs": [],
   "source": []
  },
  {
   "cell_type": "code",
   "execution_count": null,
   "id": "cad270b5",
   "metadata": {},
   "outputs": [],
   "source": []
  },
  {
   "cell_type": "code",
   "execution_count": null,
   "id": "33224b59",
   "metadata": {},
   "outputs": [],
   "source": []
  },
  {
   "cell_type": "code",
   "execution_count": null,
   "id": "0bb90b4f",
   "metadata": {},
   "outputs": [],
   "source": []
  },
  {
   "cell_type": "code",
   "execution_count": null,
   "id": "c3434a6e",
   "metadata": {},
   "outputs": [],
   "source": []
  },
  {
   "cell_type": "code",
   "execution_count": null,
   "id": "af826c5b",
   "metadata": {},
   "outputs": [],
   "source": []
  },
  {
   "cell_type": "code",
   "execution_count": null,
   "id": "84283a96",
   "metadata": {},
   "outputs": [],
   "source": []
  },
  {
   "cell_type": "code",
   "execution_count": null,
   "id": "84b84d08",
   "metadata": {},
   "outputs": [],
   "source": []
  },
  {
   "cell_type": "code",
   "execution_count": null,
   "id": "a56ebe85",
   "metadata": {},
   "outputs": [],
   "source": []
  },
  {
   "cell_type": "code",
   "execution_count": null,
   "id": "6b48ad7c",
   "metadata": {},
   "outputs": [],
   "source": []
  },
  {
   "cell_type": "code",
   "execution_count": null,
   "id": "6d8c3e31",
   "metadata": {},
   "outputs": [],
   "source": []
  },
  {
   "cell_type": "code",
   "execution_count": null,
   "id": "6b0cc6a6",
   "metadata": {},
   "outputs": [],
   "source": []
  },
  {
   "cell_type": "code",
   "execution_count": null,
   "id": "f13002ca",
   "metadata": {},
   "outputs": [],
   "source": []
  },
  {
   "cell_type": "code",
   "execution_count": null,
   "id": "e14a075e",
   "metadata": {},
   "outputs": [],
   "source": []
  },
  {
   "cell_type": "code",
   "execution_count": null,
   "id": "e5ee249f",
   "metadata": {},
   "outputs": [],
   "source": []
  },
  {
   "cell_type": "code",
   "execution_count": null,
   "id": "6be4dd65",
   "metadata": {},
   "outputs": [],
   "source": []
  },
  {
   "cell_type": "code",
   "execution_count": null,
   "id": "0a61175f",
   "metadata": {},
   "outputs": [],
   "source": []
  },
  {
   "cell_type": "code",
   "execution_count": 13,
   "id": "a0bb8ea6",
   "metadata": {},
   "outputs": [
    {
     "name": "stdout",
     "output_type": "stream",
     "text": [
      "Even List [234, 456]\n",
      "Odd List [1, 5]\n"
     ]
    }
   ],
   "source": [
    "give_even_odd([1,234,5,456])"
   ]
  },
  {
   "cell_type": "code",
   "execution_count": null,
   "id": "10faadea",
   "metadata": {},
   "outputs": [],
   "source": []
  },
  {
   "cell_type": "code",
   "execution_count": 14,
   "id": "f4b2cc9c",
   "metadata": {},
   "outputs": [],
   "source": [
    "# func:- inbuilt func\n",
    "# user defined"
   ]
  },
  {
   "cell_type": "code",
   "execution_count": 15,
   "id": "f13b1bb7",
   "metadata": {},
   "outputs": [],
   "source": [
    "# give_even_odd()\n",
    "# sum()"
   ]
  },
  {
   "cell_type": "code",
   "execution_count": 17,
   "id": "f374e475",
   "metadata": {},
   "outputs": [
    {
     "data": {
      "text/plain": [
       "builtin_function_or_method"
      ]
     },
     "execution_count": 17,
     "metadata": {},
     "output_type": "execute_result"
    }
   ],
   "source": [
    "type(sum)"
   ]
  },
  {
   "cell_type": "code",
   "execution_count": 18,
   "id": "9d7f1c60",
   "metadata": {},
   "outputs": [
    {
     "data": {
      "text/plain": [
       "function"
      ]
     },
     "execution_count": 18,
     "metadata": {},
     "output_type": "execute_result"
    }
   ],
   "source": [
    "type(give_even_odd)"
   ]
  },
  {
   "cell_type": "code",
   "execution_count": 20,
   "id": "3b9a6cbb",
   "metadata": {},
   "outputs": [],
   "source": [
    "# sum()\n",
    "# len()\n",
    "# id()\n",
    "# type()\n",
    "# max()\n",
    "# min()\n",
    "# exec()\n",
    "# execfile()\n",
    "# print()\n",
    "# int() :- constructor/ func/Datatypes\n",
    "# float()\n",
    "# "
   ]
  },
  {
   "cell_type": "code",
   "execution_count": 22,
   "id": "5162122b",
   "metadata": {},
   "outputs": [
    {
     "data": {
      "text/plain": [
       "type"
      ]
     },
     "execution_count": 22,
     "metadata": {},
     "output_type": "execute_result"
    }
   ],
   "source": [
    "type(float)"
   ]
  },
  {
   "cell_type": "code",
   "execution_count": 27,
   "id": "55e00741",
   "metadata": {},
   "outputs": [
    {
     "name": "stdout",
     "output_type": "stream",
     "text": [
      "Requirement already satisfied: cowsay in c:\\users\\lenovo\\anaconda3\\lib\\site-packages (5.0)\n"
     ]
    },
    {
     "name": "stderr",
     "output_type": "stream",
     "text": [
      "\n",
      "[notice] A new release of pip is available: 24.0 -> 24.1.2\n",
      "[notice] To update, run: python.exe -m pip install --upgrade pip\n"
     ]
    }
   ],
   "source": [
    "# modules func\n",
    "!pip install cowsay"
   ]
  },
  {
   "cell_type": "code",
   "execution_count": 24,
   "id": "b33f8da9",
   "metadata": {},
   "outputs": [],
   "source": [
    "import cowsay"
   ]
  },
  {
   "cell_type": "code",
   "execution_count": 25,
   "id": "5da60296",
   "metadata": {},
   "outputs": [
    {
     "name": "stdout",
     "output_type": "stream",
     "text": [
      "  _____\n",
      "| Hello |\n",
      "  =====\n",
      "     \\\n",
      "      \\\n",
      "        ^__^\n",
      "        (oo)\\_______\n",
      "        (__)\\       )\\/\\\n",
      "            ||----w |\n",
      "            ||     ||\n"
     ]
    }
   ],
   "source": [
    "cowsay.cow('Hello')"
   ]
  },
  {
   "cell_type": "code",
   "execution_count": 28,
   "id": "f05549f0",
   "metadata": {},
   "outputs": [
    {
     "name": "stdout",
     "output_type": "stream",
     "text": [
      "  _____\n",
      "| Hello |\n",
      "  =====\n",
      "            \\\n",
      "             \\\n",
      "              \\\n",
      "               \\\n",
      "                  .-=-==--==--.\n",
      "            ..-==\"  ,'o`)      `.\n",
      "          ,'         `\"'         \\\n",
      "         :  (                     `.__...._\n",
      "         |                  )    /         `-=-.\n",
      "         :       ,vv.-._   /    /               `---==-._\n",
      "          \\/\\/\\/VV ^ d88`;'    /                         `.\n",
      "              ``  ^/d88P!'    /             ,              `._\n",
      "                 ^/    !'   ,.      ,      /                  \"-,,__,,--'\"\"\"\"-.\n",
      "                ^/    !'  ,'  \\ . .(      (         _           )  ) ) ) ))_,-.\\\n",
      "               ^(__ ,!',\"'   ;:+.:%:a.     \\:.. . ,'          )  )  ) ) ,\"'    '\n",
      "               ',,,'','     /o:::\":%:%a.    \\:.:.:         .    )  ) _,'\n",
      "                \"\"\"'       ;':::'' `+%%%a._  \\%:%|         ;.). _,-\"\"\n",
      "                       ,-='_.-'      ``:%::)  )%:|        /:._,\"\n",
      "                      (/(/\"           ,\" ,'_,'%%%:       (_,'\n",
      "                                     (  (//(`.___;        \\\n",
      "                                      \\     \\    `         `\n",
      "                                       `.    `.   `.        :\n",
      "                                         \\. . .\\    : . . . :\n",
      "                                          \\. . .:    `.. . .:\n",
      "                                           `..:.:\\     \\:...\\\n",
      "                                            ;:.:.;      ::...:\n",
      "                                            ):%::       :::::;\n",
      "                                        __,::%:(        :::::\n",
      "                                     ,;:%%%%%%%:        ;:%::\n",
      "                                       ;,--\"\"-.`\\  ,=--':%:%:\\\n",
      "                                      /\"       \"| /-\".:%%%%%%%\\\n",
      "                                                      ;,-\"'`)%%)\n",
      "                                                     /\"      \"|\n"
     ]
    }
   ],
   "source": [
    "cowsay.trex('Hello')"
   ]
  },
  {
   "cell_type": "code",
   "execution_count": 29,
   "id": "46f6d566",
   "metadata": {},
   "outputs": [
    {
     "data": {
      "text/plain": [
       "function"
      ]
     },
     "execution_count": 29,
     "metadata": {},
     "output_type": "execute_result"
    }
   ],
   "source": [
    "type(cowsay.cow)"
   ]
  },
  {
   "cell_type": "code",
   "execution_count": 30,
   "id": "70d7c9fa",
   "metadata": {},
   "outputs": [],
   "source": [
    "import calendar"
   ]
  },
  {
   "cell_type": "code",
   "execution_count": 32,
   "id": "e36ded4a",
   "metadata": {},
   "outputs": [
    {
     "name": "stdout",
     "output_type": "stream",
     "text": [
      "                                  2025\n",
      "\n",
      "      January                   February                   March\n",
      "Mo Tu We Th Fr Sa Su      Mo Tu We Th Fr Sa Su      Mo Tu We Th Fr Sa Su\n",
      "       1  2  3  4  5                      1  2                      1  2\n",
      " 6  7  8  9 10 11 12       3  4  5  6  7  8  9       3  4  5  6  7  8  9\n",
      "13 14 15 16 17 18 19      10 11 12 13 14 15 16      10 11 12 13 14 15 16\n",
      "20 21 22 23 24 25 26      17 18 19 20 21 22 23      17 18 19 20 21 22 23\n",
      "27 28 29 30 31            24 25 26 27 28            24 25 26 27 28 29 30\n",
      "                                                    31\n",
      "\n",
      "       April                      May                       June\n",
      "Mo Tu We Th Fr Sa Su      Mo Tu We Th Fr Sa Su      Mo Tu We Th Fr Sa Su\n",
      "    1  2  3  4  5  6                1  2  3  4                         1\n",
      " 7  8  9 10 11 12 13       5  6  7  8  9 10 11       2  3  4  5  6  7  8\n",
      "14 15 16 17 18 19 20      12 13 14 15 16 17 18       9 10 11 12 13 14 15\n",
      "21 22 23 24 25 26 27      19 20 21 22 23 24 25      16 17 18 19 20 21 22\n",
      "28 29 30                  26 27 28 29 30 31         23 24 25 26 27 28 29\n",
      "                                                    30\n",
      "\n",
      "        July                     August                  September\n",
      "Mo Tu We Th Fr Sa Su      Mo Tu We Th Fr Sa Su      Mo Tu We Th Fr Sa Su\n",
      "    1  2  3  4  5  6                   1  2  3       1  2  3  4  5  6  7\n",
      " 7  8  9 10 11 12 13       4  5  6  7  8  9 10       8  9 10 11 12 13 14\n",
      "14 15 16 17 18 19 20      11 12 13 14 15 16 17      15 16 17 18 19 20 21\n",
      "21 22 23 24 25 26 27      18 19 20 21 22 23 24      22 23 24 25 26 27 28\n",
      "28 29 30 31               25 26 27 28 29 30 31      29 30\n",
      "\n",
      "      October                   November                  December\n",
      "Mo Tu We Th Fr Sa Su      Mo Tu We Th Fr Sa Su      Mo Tu We Th Fr Sa Su\n",
      "       1  2  3  4  5                      1  2       1  2  3  4  5  6  7\n",
      " 6  7  8  9 10 11 12       3  4  5  6  7  8  9       8  9 10 11 12 13 14\n",
      "13 14 15 16 17 18 19      10 11 12 13 14 15 16      15 16 17 18 19 20 21\n",
      "20 21 22 23 24 25 26      17 18 19 20 21 22 23      22 23 24 25 26 27 28\n",
      "27 28 29 30 31            24 25 26 27 28 29 30      29 30 31\n",
      "\n"
     ]
    }
   ],
   "source": [
    "print(calendar.calendar(2025))"
   ]
  },
  {
   "cell_type": "code",
   "execution_count": 34,
   "id": "638b9d8d",
   "metadata": {},
   "outputs": [
    {
     "name": "stdout",
     "output_type": "stream",
     "text": [
      "<class 'method'>\n"
     ]
    }
   ],
   "source": [
    "print(type(calendar.calendar))"
   ]
  },
  {
   "cell_type": "code",
   "execution_count": 35,
   "id": "92fc2d3e",
   "metadata": {},
   "outputs": [
    {
     "name": "stdout",
     "output_type": "stream",
     "text": [
      "  _____\n",
      "| Joker |\n",
      "  =====\n",
      "          \\\n",
      "           \\\n",
      "            \\\n",
      "                  _------~~-,\n",
      "               ,'            ,\n",
      "               /               \\\\\n",
      "              /                :\n",
      "             |                  '\n",
      "             |                  |\n",
      "             |                  |\n",
      "              |   _--           |\n",
      "              _| =-.     .-.   ||\n",
      "              o|/o/       _.   |\n",
      "              /  ~          \\\\ |\n",
      "            (____\\@)  ___~    |\n",
      "               |_===~~~.`    |\n",
      "            _______.--~     |\n",
      "            \\\\________       |\n",
      "                     \\\\      |\n",
      "                   __/-___-- -__\n",
      "                  /            _ \\\\\n"
     ]
    }
   ],
   "source": [
    "cowsay.beavis('Joker')"
   ]
  },
  {
   "cell_type": "code",
   "execution_count": 36,
   "id": "bab90697",
   "metadata": {},
   "outputs": [],
   "source": [
    "# user defined"
   ]
  },
  {
   "cell_type": "code",
   "execution_count": 38,
   "id": "639e3640",
   "metadata": {},
   "outputs": [],
   "source": [
    "# 1. with parameter:- kuch input lena hai\n",
    "# 2. without parameter:- blank/no input"
   ]
  },
  {
   "cell_type": "code",
   "execution_count": 41,
   "id": "2c638634",
   "metadata": {},
   "outputs": [],
   "source": [
    "# without parameter\n",
    "\n",
    "def greet():\n",
    "    print('hello')"
   ]
  },
  {
   "cell_type": "code",
   "execution_count": 43,
   "id": "a036607d",
   "metadata": {},
   "outputs": [
    {
     "name": "stdout",
     "output_type": "stream",
     "text": [
      "hello\n",
      "hello\n",
      "hello\n"
     ]
    }
   ],
   "source": [
    "greet()\n",
    "greet()\n",
    "greet()"
   ]
  },
  {
   "cell_type": "code",
   "execution_count": 45,
   "id": "d026bcff",
   "metadata": {},
   "outputs": [],
   "source": [
    "for i in range(5):\n",
    "    greet"
   ]
  },
  {
   "cell_type": "code",
   "execution_count": 47,
   "id": "b982e10e",
   "metadata": {},
   "outputs": [
    {
     "name": "stdout",
     "output_type": "stream",
     "text": [
      "hello\n"
     ]
    }
   ],
   "source": [
    "greet()"
   ]
  },
  {
   "cell_type": "code",
   "execution_count": 48,
   "id": "8ec3877e",
   "metadata": {},
   "outputs": [],
   "source": [
    "# modules"
   ]
  },
  {
   "cell_type": "code",
   "execution_count": 51,
   "id": "17ebc890",
   "metadata": {},
   "outputs": [],
   "source": [
    "def or_bhai_kya_haal_hai():\n",
    "    print('Sab Badhiya bhai,tu bata??')"
   ]
  },
  {
   "cell_type": "code",
   "execution_count": 52,
   "id": "4ac4f269",
   "metadata": {},
   "outputs": [
    {
     "name": "stdout",
     "output_type": "stream",
     "text": [
      "Sab Badhiya bhai,tu bata??\n"
     ]
    }
   ],
   "source": [
    "or_bhai_kya_haal_hai()"
   ]
  },
  {
   "cell_type": "code",
   "execution_count": 53,
   "id": "9edfba61",
   "metadata": {},
   "outputs": [],
   "source": [
    "# without parameter"
   ]
  },
  {
   "cell_type": "code",
   "execution_count": 54,
   "id": "09c56114",
   "metadata": {},
   "outputs": [],
   "source": [
    "def say_hello():\n",
    "    name = input('Enter your name: ')\n",
    "    \n",
    "    print(f'Hello {name}, how are you?')"
   ]
  },
  {
   "cell_type": "code",
   "execution_count": 56,
   "id": "0fc7775c",
   "metadata": {},
   "outputs": [
    {
     "name": "stdout",
     "output_type": "stream",
     "text": [
      "Enter your name: Ajay\n",
      "Hello Ajay, how are you?\n"
     ]
    }
   ],
   "source": [
    "say_hello()"
   ]
  },
  {
   "cell_type": "code",
   "execution_count": 57,
   "id": "f77b1374",
   "metadata": {},
   "outputs": [],
   "source": [
    "# with parameter set\n",
    "\n",
    "# parameter se\n",
    "def say_hello_2(name):\n",
    "    print(f'Hello {name}, how are you?')"
   ]
  },
  {
   "cell_type": "code",
   "execution_count": 59,
   "id": "da88b563",
   "metadata": {},
   "outputs": [
    {
     "name": "stdout",
     "output_type": "stream",
     "text": [
      "Hello komal, how are you?\n"
     ]
    }
   ],
   "source": [
    "# argument set\n",
    "say_hello_2('komal')"
   ]
  },
  {
   "cell_type": "code",
   "execution_count": 62,
   "id": "d675738d",
   "metadata": {},
   "outputs": [
    {
     "name": "stdout",
     "output_type": "stream",
     "text": [
      "Even List [12, 3456]\n",
      "Odd List [43, 45, 213]\n"
     ]
    }
   ],
   "source": [
    "give_even_odd([12,43,45,213,3456])"
   ]
  },
  {
   "cell_type": "code",
   "execution_count": null,
   "id": "4d55860c",
   "metadata": {},
   "outputs": [],
   "source": []
  },
  {
   "cell_type": "code",
   "execution_count": 64,
   "id": "bfdebc43",
   "metadata": {},
   "outputs": [],
   "source": [
    "# multiparameter\n",
    "# param/params\n",
    "\n",
    "def give_intro(name,address,sec,Class,roll_no):\n",
    "    print(f'Your name is : {name}')\n",
    "    print(f'Your address is : {address}')\n",
    "    print(f'Your sec is : {sec}')\n",
    "    print(f'Your class is : {Class}')\n",
    "    print(f'Your Roll_no is : {roll_no}')    "
   ]
  },
  {
   "cell_type": "code",
   "execution_count": null,
   "id": "fce27db1",
   "metadata": {},
   "outputs": [],
   "source": []
  },
  {
   "cell_type": "code",
   "execution_count": 70,
   "id": "efc1aa6a",
   "metadata": {},
   "outputs": [],
   "source": [
    "import calendar"
   ]
  },
  {
   "cell_type": "code",
   "execution_count": 71,
   "id": "fc1bbcd6",
   "metadata": {
    "scrolled": true
   },
   "outputs": [
    {
     "name": "stdout",
     "output_type": "stream",
     "text": [
      "                                  2025\n",
      "\n",
      "      January                   February                   March\n",
      "Mo Tu We Th Fr Sa Su      Mo Tu We Th Fr Sa Su      Mo Tu We Th Fr Sa Su\n",
      "       1  2  3  4  5                      1  2                      1  2\n",
      " 6  7  8  9 10 11 12       3  4  5  6  7  8  9       3  4  5  6  7  8  9\n",
      "13 14 15 16 17 18 19      10 11 12 13 14 15 16      10 11 12 13 14 15 16\n",
      "20 21 22 23 24 25 26      17 18 19 20 21 22 23      17 18 19 20 21 22 23\n",
      "27 28 29 30 31            24 25 26 27 28            24 25 26 27 28 29 30\n",
      "                                                    31\n",
      "\n",
      "       April                      May                       June\n",
      "Mo Tu We Th Fr Sa Su      Mo Tu We Th Fr Sa Su      Mo Tu We Th Fr Sa Su\n",
      "    1  2  3  4  5  6                1  2  3  4                         1\n",
      " 7  8  9 10 11 12 13       5  6  7  8  9 10 11       2  3  4  5  6  7  8\n",
      "14 15 16 17 18 19 20      12 13 14 15 16 17 18       9 10 11 12 13 14 15\n",
      "21 22 23 24 25 26 27      19 20 21 22 23 24 25      16 17 18 19 20 21 22\n",
      "28 29 30                  26 27 28 29 30 31         23 24 25 26 27 28 29\n",
      "                                                    30\n",
      "\n",
      "        July                     August                  September\n",
      "Mo Tu We Th Fr Sa Su      Mo Tu We Th Fr Sa Su      Mo Tu We Th Fr Sa Su\n",
      "    1  2  3  4  5  6                   1  2  3       1  2  3  4  5  6  7\n",
      " 7  8  9 10 11 12 13       4  5  6  7  8  9 10       8  9 10 11 12 13 14\n",
      "14 15 16 17 18 19 20      11 12 13 14 15 16 17      15 16 17 18 19 20 21\n",
      "21 22 23 24 25 26 27      18 19 20 21 22 23 24      22 23 24 25 26 27 28\n",
      "28 29 30 31               25 26 27 28 29 30 31      29 30\n",
      "\n",
      "      October                   November                  December\n",
      "Mo Tu We Th Fr Sa Su      Mo Tu We Th Fr Sa Su      Mo Tu We Th Fr Sa Su\n",
      "       1  2  3  4  5                      1  2       1  2  3  4  5  6  7\n",
      " 6  7  8  9 10 11 12       3  4  5  6  7  8  9       8  9 10 11 12 13 14\n",
      "13 14 15 16 17 18 19      10 11 12 13 14 15 16      15 16 17 18 19 20 21\n",
      "20 21 22 23 24 25 26      17 18 19 20 21 22 23      22 23 24 25 26 27 28\n",
      "27 28 29 30 31            24 25 26 27 28 29 30      29 30 31\n",
      "\n"
     ]
    }
   ],
   "source": [
    "print(calendar.calendar(2025))"
   ]
  },
  {
   "cell_type": "code",
   "execution_count": 76,
   "id": "d41de22e",
   "metadata": {},
   "outputs": [
    {
     "ename": "ImportError",
     "evalue": "cannot import name 'ravi' from 'calendar' (C:\\Users\\Lenovo\\anaconda3\\Lib\\calendar.py)",
     "output_type": "error",
     "traceback": [
      "\u001b[1;31m---------------------------------------------------------------------------\u001b[0m",
      "\u001b[1;31mImportError\u001b[0m                               Traceback (most recent call last)",
      "Cell \u001b[1;32mIn[76], line 1\u001b[0m\n\u001b[1;32m----> 1\u001b[0m \u001b[38;5;28;01mfrom\u001b[39;00m \u001b[38;5;21;01mcalendar\u001b[39;00m \u001b[38;5;28;01mimport\u001b[39;00m ravi\n",
      "\u001b[1;31mImportError\u001b[0m: cannot import name 'ravi' from 'calendar' (C:\\Users\\Lenovo\\anaconda3\\Lib\\calendar.py)"
     ]
    }
   ],
   "source": [
    "from calendar import ravi"
   ]
  },
  {
   "cell_type": "code",
   "execution_count": 73,
   "id": "f67e3a99",
   "metadata": {},
   "outputs": [],
   "source": [
    "# multiparameter\n",
    "# param/params\n",
    "\n",
    "def give_intro(name,address,sec,Class,roll_no):\n",
    "    '''This is user defined func\n",
    "    give_intro\n",
    "    ex: give_intro('komal','Noida','A',5,34)\n",
    "    👍👍'''\n",
    "    \n",
    "    print(f'Your name is : {name}')\n",
    "    print(f'Your address is : {address}')\n",
    "    print(f'Your sec is : {sec}')\n",
    "    print(f'Your class is : {Class}')\n",
    "    print(f'Your Roll_no is : {roll_no}')    "
   ]
  },
  {
   "cell_type": "code",
   "execution_count": 74,
   "id": "42964e8d",
   "metadata": {},
   "outputs": [
    {
     "name": "stdout",
     "output_type": "stream",
     "text": [
      "Your name is : komal\n",
      "Your address is : Noida\n",
      "Your sec is : A\n",
      "Your class is : 5\n",
      "Your Roll_no is : 34\n"
     ]
    }
   ],
   "source": [
    "give_intro('komal','Noida','A',5,34)"
   ]
  },
  {
   "cell_type": "code",
   "execution_count": null,
   "id": "5f9d59de",
   "metadata": {},
   "outputs": [],
   "source": []
  },
  {
   "cell_type": "code",
   "execution_count": null,
   "id": "579603bb",
   "metadata": {},
   "outputs": [],
   "source": []
  },
  {
   "cell_type": "code",
   "execution_count": 75,
   "id": "a828b8f6",
   "metadata": {},
   "outputs": [],
   "source": [
    "import IPython"
   ]
  },
  {
   "cell_type": "code",
   "execution_count": 78,
   "id": "bf7eb65c",
   "metadata": {},
   "outputs": [],
   "source": [
    "# IPython.display.Code(r'C:\\Users\\Lenovo\\anaconda3\\Lib\\calendar.py')"
   ]
  },
  {
   "cell_type": "code",
   "execution_count": 79,
   "id": "7750982a",
   "metadata": {},
   "outputs": [
    {
     "name": "stdout",
     "output_type": "stream",
     "text": [
      "Your name is : Delhi\n",
      "Your address is : 23\n",
      "Your sec is : Naman\n",
      "Your class is : 56\n",
      "Your Roll_no is : A\n"
     ]
    }
   ],
   "source": [
    "give_intro('Delhi',23,'Naman',56,'A')"
   ]
  },
  {
   "cell_type": "code",
   "execution_count": 81,
   "id": "2c2757ad",
   "metadata": {},
   "outputs": [
    {
     "name": "stdout",
     "output_type": "stream",
     "text": [
      "Your name is : Ajay\n",
      "Your address is : Delhi\n",
      "Your sec is : B\n",
      "Your class is : 10\n",
      "Your Roll_no is : 23\n"
     ]
    }
   ],
   "source": [
    "give_intro(address='Delhi',name = 'Ajay',roll_no=23,Class=10,sec='B')"
   ]
  },
  {
   "cell_type": "code",
   "execution_count": 84,
   "id": "e41ca20b",
   "metadata": {},
   "outputs": [],
   "source": [
    "# return statement\n",
    "# vs\n",
    "# print"
   ]
  },
  {
   "cell_type": "code",
   "execution_count": 85,
   "id": "ba2f41be",
   "metadata": {},
   "outputs": [],
   "source": [
    "def paisa_do(paisa):\n",
    "    print(paisa)"
   ]
  },
  {
   "cell_type": "code",
   "execution_count": 86,
   "id": "9cd3e4ad",
   "metadata": {},
   "outputs": [],
   "source": [
    "def paisa_do_2(paisa):\n",
    "    return paisa"
   ]
  },
  {
   "cell_type": "code",
   "execution_count": 89,
   "id": "e6236ca6",
   "metadata": {},
   "outputs": [
    {
     "name": "stdout",
     "output_type": "stream",
     "text": [
      "100\n"
     ]
    },
    {
     "ename": "TypeError",
     "evalue": "unsupported operand type(s) for +: 'NoneType' and 'int'",
     "output_type": "error",
     "traceback": [
      "\u001b[1;31m---------------------------------------------------------------------------\u001b[0m",
      "\u001b[1;31mTypeError\u001b[0m                                 Traceback (most recent call last)",
      "Cell \u001b[1;32mIn[89], line 1\u001b[0m\n\u001b[1;32m----> 1\u001b[0m paisa_do(\u001b[38;5;241m100\u001b[39m)\u001b[38;5;241m+\u001b[39m\u001b[38;5;241m100\u001b[39m\n",
      "\u001b[1;31mTypeError\u001b[0m: unsupported operand type(s) for +: 'NoneType' and 'int'"
     ]
    }
   ],
   "source": [
    "paisa_do(100)+100"
   ]
  },
  {
   "cell_type": "code",
   "execution_count": 90,
   "id": "fb6f2cbc",
   "metadata": {},
   "outputs": [
    {
     "data": {
      "text/plain": [
       "200"
      ]
     },
     "execution_count": 90,
     "metadata": {},
     "output_type": "execute_result"
    }
   ],
   "source": [
    "paisa_do_2(100)+100"
   ]
  },
  {
   "cell_type": "code",
   "execution_count": null,
   "id": "7834ce2d",
   "metadata": {},
   "outputs": [],
   "source": []
  },
  {
   "cell_type": "code",
   "execution_count": null,
   "id": "0d84a06c",
   "metadata": {},
   "outputs": [],
   "source": []
  },
  {
   "cell_type": "code",
   "execution_count": null,
   "id": "b3c64e1c",
   "metadata": {},
   "outputs": [],
   "source": []
  },
  {
   "cell_type": "code",
   "execution_count": 91,
   "id": "80847bd8",
   "metadata": {},
   "outputs": [],
   "source": [
    "def even_odd():\n",
    "    data=[]\n",
    "    even=[]\n",
    "    odd=[]\n",
    "    n=int(input(\"enter how many numbers you want\"))\n",
    "    for j in range(n):\n",
    "        num=int(input(\"enter the number\"))\n",
    "        data.append(num)\n",
    "        \n",
    "    for i in data:\n",
    "        if i==1:\n",
    "            continue\n",
    "        elif i%2==0:\n",
    "            even.append(i)\n",
    "        else:\n",
    "            odd.append(i)\n",
    "    print(even)\n",
    "    print(odd)"
   ]
  },
  {
   "cell_type": "code",
   "execution_count": 92,
   "id": "d421e027",
   "metadata": {},
   "outputs": [
    {
     "name": "stdout",
     "output_type": "stream",
     "text": [
      "enter how many numbers you want5\n",
      "enter the number4\n",
      "enter the number2\n",
      "enter the number5\n",
      "enter the number7\n",
      "enter the number9\n",
      "[4, 2]\n",
      "[5, 7, 9]\n"
     ]
    }
   ],
   "source": [
    "even_odd()"
   ]
  },
  {
   "cell_type": "code",
   "execution_count": 1,
   "id": "60eecfa5",
   "metadata": {},
   "outputs": [],
   "source": [
    "# day 2"
   ]
  },
  {
   "cell_type": "code",
   "execution_count": 5,
   "id": "dc8d1da8",
   "metadata": {},
   "outputs": [],
   "source": [
    "def my():\n",
    "    a = 'karan'\n",
    "    if a == 'karan':\n",
    "        return 2"
   ]
  },
  {
   "cell_type": "code",
   "execution_count": 6,
   "id": "9b42153b",
   "metadata": {},
   "outputs": [
    {
     "data": {
      "text/plain": [
       "2"
      ]
     },
     "execution_count": 6,
     "metadata": {},
     "output_type": "execute_result"
    }
   ],
   "source": [
    "my()"
   ]
  },
  {
   "cell_type": "code",
   "execution_count": 9,
   "id": "c19a444f",
   "metadata": {},
   "outputs": [
    {
     "ename": "SyntaxError",
     "evalue": "'return' outside function (2057957463.py, line 3)",
     "output_type": "error",
     "traceback": [
      "\u001b[1;36m  Cell \u001b[1;32mIn[9], line 3\u001b[1;36m\u001b[0m\n\u001b[1;33m    return(2)\u001b[0m\n\u001b[1;37m    ^\u001b[0m\n\u001b[1;31mSyntaxError\u001b[0m\u001b[1;31m:\u001b[0m 'return' outside function\n"
     ]
    }
   ],
   "source": [
    "a = 'karan'\n",
    "if a == 'karan':\n",
    "    return(2)"
   ]
  },
  {
   "cell_type": "code",
   "execution_count": 17,
   "id": "2875793f",
   "metadata": {},
   "outputs": [
    {
     "name": "stdout",
     "output_type": "stream",
     "text": [
      "23\n"
     ]
    }
   ],
   "source": [
    "a = 23\n",
    "\n",
    "print(a)"
   ]
  },
  {
   "cell_type": "code",
   "execution_count": 18,
   "id": "178914e8",
   "metadata": {},
   "outputs": [],
   "source": [
    "del a"
   ]
  },
  {
   "cell_type": "code",
   "execution_count": 19,
   "id": "cf076c8e",
   "metadata": {},
   "outputs": [
    {
     "ename": "NameError",
     "evalue": "name 'a' is not defined",
     "output_type": "error",
     "traceback": [
      "\u001b[1;31m---------------------------------------------------------------------------\u001b[0m",
      "\u001b[1;31mNameError\u001b[0m                                 Traceback (most recent call last)",
      "Cell \u001b[1;32mIn[19], line 1\u001b[0m\n\u001b[1;32m----> 1\u001b[0m \u001b[38;5;28mprint\u001b[39m(a)\n",
      "\u001b[1;31mNameError\u001b[0m: name 'a' is not defined"
     ]
    }
   ],
   "source": [
    "print(a)"
   ]
  },
  {
   "cell_type": "code",
   "execution_count": 20,
   "id": "b6243327",
   "metadata": {},
   "outputs": [],
   "source": [
    "# print()\n",
    "# id()\n",
    "# min()"
   ]
  },
  {
   "cell_type": "markdown",
   "id": "bff7d6c6",
   "metadata": {},
   "source": [
    "# day 2 Func"
   ]
  },
  {
   "cell_type": "code",
   "execution_count": 21,
   "id": "3ecf4016",
   "metadata": {},
   "outputs": [],
   "source": [
    "# func\n",
    "# types\n",
    "# used defined\n",
    "# inbuilt\n",
    "# with param\n",
    "# without param\n",
    "# docstring\n",
    "# return vs print"
   ]
  },
  {
   "cell_type": "code",
   "execution_count": 22,
   "id": "e9e32472",
   "metadata": {},
   "outputs": [],
   "source": [
    "# Today Topic\n",
    "\n",
    "# datatype in func\n",
    "# default arguments\n",
    "# return\n",
    "# *args\n",
    "# **kwargs\n",
    "# nested func\n",
    "# scope in python\n",
    "\n",
    "\n",
    "# some important func"
   ]
  },
  {
   "cell_type": "code",
   "execution_count": 33,
   "id": "29fe48fb",
   "metadata": {},
   "outputs": [],
   "source": [
    "data = ['ola','uber','kia','meta','tata','adani']\n",
    "\n",
    "def give_vowels(data:'list[str,str...]')->list:\n",
    "    '''This is a docstring!!'''\n",
    "    vowels = []\n",
    "    for i in data:\n",
    "        if i[0].lower() in 'aeiou':\n",
    "            vowels.append(i)\n",
    "    return vowels"
   ]
  },
  {
   "cell_type": "code",
   "execution_count": 34,
   "id": "243d9c3a",
   "metadata": {},
   "outputs": [
    {
     "data": {
      "text/plain": [
       "['ola', 'uber', 'adani']"
      ]
     },
     "execution_count": 34,
     "metadata": {},
     "output_type": "execute_result"
    }
   ],
   "source": [
    "a = ['ola','uber','kia','meta','tata','adani']\n",
    "\n",
    "give_vowels(a)"
   ]
  },
  {
   "cell_type": "code",
   "execution_count": null,
   "id": "97782d7d",
   "metadata": {},
   "outputs": [],
   "source": [
    "print()"
   ]
  },
  {
   "cell_type": "code",
   "execution_count": null,
   "id": "5d52b3a3",
   "metadata": {},
   "outputs": [],
   "source": []
  },
  {
   "cell_type": "code",
   "execution_count": null,
   "id": "734c72b5",
   "metadata": {},
   "outputs": [],
   "source": []
  },
  {
   "cell_type": "code",
   "execution_count": 39,
   "id": "8a3202b1",
   "metadata": {},
   "outputs": [],
   "source": [
    "def give_intro(name:'str',address:'str',sec:'str',Class:'int',   roll_no  :  'int')    ->   None:\n",
    "    '''This is user defined func\n",
    "    give_intro\n",
    "    ex: give_intro('komal','Noida','A',5,34)\n",
    "    👍👍'''\n",
    "    \n",
    "    print(f'Your name is : {name}')\n",
    "    print(f'Your address is : {address}')\n",
    "    print(f'Your sec is : {sec}')\n",
    "    print(f'Your class is : {Class}')\n",
    "    print(f'Your Roll_no is : {roll_no}')  "
   ]
  },
  {
   "cell_type": "code",
   "execution_count": null,
   "id": "dc55fd62",
   "metadata": {},
   "outputs": [],
   "source": [
    "give_intro()"
   ]
  },
  {
   "cell_type": "code",
   "execution_count": null,
   "id": "cda8b762",
   "metadata": {},
   "outputs": [],
   "source": []
  },
  {
   "cell_type": "code",
   "execution_count": null,
   "id": "de72a902",
   "metadata": {},
   "outputs": [],
   "source": [
    "# # default arguments"
   ]
  },
  {
   "cell_type": "code",
   "execution_count": 45,
   "id": "1c612a68",
   "metadata": {},
   "outputs": [],
   "source": [
    "\n",
    "def give_intro(name = 'Other',\n",
    "               address = 'Noida',\n",
    "               sec = None,\n",
    "               Class = None,\n",
    "               roll_no = None,\n",
    "              paisa = False):\n",
    "    '''This is user defined func\n",
    "    give_intro\n",
    "    ex: give_intro('komal','Noida','A',5,34)\n",
    "    👍👍'''\n",
    "    \n",
    "    print(f'Your name is : {name}')\n",
    "    print(f'Your address is : {address}')\n",
    "    print(f'Your sec is : {sec}')\n",
    "    print(f'Your class is : {Class}')\n",
    "    print(f'Your Roll_no is : {roll_no}')\n",
    "    print(f'Paisa is {paisa}')"
   ]
  },
  {
   "cell_type": "code",
   "execution_count": 50,
   "id": "649081ee",
   "metadata": {},
   "outputs": [
    {
     "name": "stdout",
     "output_type": "stream",
     "text": [
      "Your name is : komal\n",
      "Your address is : Delhi\n",
      "Your sec is : None\n",
      "Your class is : None\n",
      "Your Roll_no is : 98\n",
      "Paisa is False\n"
     ]
    }
   ],
   "source": [
    "give_intro(name = 'komal',roll_no=98,address = 'Delhi')"
   ]
  },
  {
   "cell_type": "code",
   "execution_count": null,
   "id": "9e1bd806",
   "metadata": {},
   "outputs": [],
   "source": []
  },
  {
   "cell_type": "code",
   "execution_count": null,
   "id": "fbb7f6d1",
   "metadata": {},
   "outputs": [],
   "source": []
  },
  {
   "cell_type": "code",
   "execution_count": null,
   "id": "b36a6c5f",
   "metadata": {},
   "outputs": [],
   "source": []
  },
  {
   "cell_type": "code",
   "execution_count": 51,
   "id": "957aa1bf",
   "metadata": {},
   "outputs": [],
   "source": [
    "\n",
    "def give_intro(name:'str' = 'Other',\n",
    "               address:'str' = 'Noida',\n",
    "               sec:'str or None' = None,\n",
    "               Class:'int | None' = None,\n",
    "               roll_no:'int | None' = None,\n",
    "              paisa:'bool' = False):\n",
    "    '''This is user defined func\n",
    "    give_intro\n",
    "    ex: give_intro('komal','Noida','A',5,34)\n",
    "    👍👍'''\n",
    "    \n",
    "    print(f'Your name is : {name}')\n",
    "    print(f'Your address is : {address}')\n",
    "    print(f'Your sec is : {sec}')\n",
    "    print(f'Your class is : {Class}')\n",
    "    print(f'Your Roll_no is : {roll_no}')\n",
    "    print(f'Paisa is {paisa}')"
   ]
  },
  {
   "cell_type": "code",
   "execution_count": 52,
   "id": "6c7bf97c",
   "metadata": {},
   "outputs": [
    {
     "name": "stdout",
     "output_type": "stream",
     "text": [
      "Your name is : Other\n",
      "Your address is : Noida\n",
      "Your sec is : None\n",
      "Your class is : None\n",
      "Your Roll_no is : None\n",
      "Paisa is False\n"
     ]
    }
   ],
   "source": [
    "give_intro()"
   ]
  },
  {
   "cell_type": "code",
   "execution_count": 55,
   "id": "4e6db99f",
   "metadata": {},
   "outputs": [],
   "source": [
    "from calendar import calendar"
   ]
  },
  {
   "cell_type": "code",
   "execution_count": 66,
   "id": "d67d529e",
   "metadata": {},
   "outputs": [
    {
     "name": "stdout",
     "output_type": "stream",
     "text": [
      "        2024\n",
      "\n",
      "      January\n",
      "Mo Tu We Th Fr Sa Su\n",
      " 1  2  3  4  5  6  7\n",
      " 8  9 10 11 12 13 14\n",
      "15 16 17 18 19 20 21\n",
      "22 23 24 25 26 27 28\n",
      "29 30 31\n",
      "\n",
      "      February\n",
      "Mo Tu We Th Fr Sa Su\n",
      "          1  2  3  4\n",
      " 5  6  7  8  9 10 11\n",
      "12 13 14 15 16 17 18\n",
      "19 20 21 22 23 24 25\n",
      "26 27 28 29\n",
      "\n",
      "       March\n",
      "Mo Tu We Th Fr Sa Su\n",
      "             1  2  3\n",
      " 4  5  6  7  8  9 10\n",
      "11 12 13 14 15 16 17\n",
      "18 19 20 21 22 23 24\n",
      "25 26 27 28 29 30 31\n",
      "\n",
      "       April\n",
      "Mo Tu We Th Fr Sa Su\n",
      " 1  2  3  4  5  6  7\n",
      " 8  9 10 11 12 13 14\n",
      "15 16 17 18 19 20 21\n",
      "22 23 24 25 26 27 28\n",
      "29 30\n",
      "\n",
      "        May\n",
      "Mo Tu We Th Fr Sa Su\n",
      "       1  2  3  4  5\n",
      " 6  7  8  9 10 11 12\n",
      "13 14 15 16 17 18 19\n",
      "20 21 22 23 24 25 26\n",
      "27 28 29 30 31\n",
      "\n",
      "        June\n",
      "Mo Tu We Th Fr Sa Su\n",
      "                1  2\n",
      " 3  4  5  6  7  8  9\n",
      "10 11 12 13 14 15 16\n",
      "17 18 19 20 21 22 23\n",
      "24 25 26 27 28 29 30\n",
      "\n",
      "        July\n",
      "Mo Tu We Th Fr Sa Su\n",
      " 1  2  3  4  5  6  7\n",
      " 8  9 10 11 12 13 14\n",
      "15 16 17 18 19 20 21\n",
      "22 23 24 25 26 27 28\n",
      "29 30 31\n",
      "\n",
      "       August\n",
      "Mo Tu We Th Fr Sa Su\n",
      "          1  2  3  4\n",
      " 5  6  7  8  9 10 11\n",
      "12 13 14 15 16 17 18\n",
      "19 20 21 22 23 24 25\n",
      "26 27 28 29 30 31\n",
      "\n",
      "     September\n",
      "Mo Tu We Th Fr Sa Su\n",
      "                   1\n",
      " 2  3  4  5  6  7  8\n",
      " 9 10 11 12 13 14 15\n",
      "16 17 18 19 20 21 22\n",
      "23 24 25 26 27 28 29\n",
      "30\n",
      "\n",
      "      October\n",
      "Mo Tu We Th Fr Sa Su\n",
      "    1  2  3  4  5  6\n",
      " 7  8  9 10 11 12 13\n",
      "14 15 16 17 18 19 20\n",
      "21 22 23 24 25 26 27\n",
      "28 29 30 31\n",
      "\n",
      "      November\n",
      "Mo Tu We Th Fr Sa Su\n",
      "             1  2  3\n",
      " 4  5  6  7  8  9 10\n",
      "11 12 13 14 15 16 17\n",
      "18 19 20 21 22 23 24\n",
      "25 26 27 28 29 30\n",
      "\n",
      "      December\n",
      "Mo Tu We Th Fr Sa Su\n",
      "                   1\n",
      " 2  3  4  5  6  7  8\n",
      " 9 10 11 12 13 14 15\n",
      "16 17 18 19 20 21 22\n",
      "23 24 25 26 27 28 29\n",
      "30 31\n",
      "\n"
     ]
    }
   ],
   "source": [
    "print(calendar(2024,m = 1))"
   ]
  },
  {
   "cell_type": "code",
   "execution_count": 67,
   "id": "7c5f84cf",
   "metadata": {},
   "outputs": [],
   "source": [
    "def add(a,b):\n",
    "    return a+b"
   ]
  },
  {
   "cell_type": "code",
   "execution_count": 68,
   "id": "bdc27c90",
   "metadata": {},
   "outputs": [
    {
     "data": {
      "text/plain": [
       "244"
      ]
     },
     "execution_count": 68,
     "metadata": {},
     "output_type": "execute_result"
    }
   ],
   "source": [
    "add(10,234)"
   ]
  },
  {
   "cell_type": "code",
   "execution_count": 70,
   "id": "f47302bc",
   "metadata": {},
   "outputs": [
    {
     "ename": "TypeError",
     "evalue": "add() takes 2 positional arguments but 5 were given",
     "output_type": "error",
     "traceback": [
      "\u001b[1;31m---------------------------------------------------------------------------\u001b[0m",
      "\u001b[1;31mTypeError\u001b[0m                                 Traceback (most recent call last)",
      "Cell \u001b[1;32mIn[70], line 1\u001b[0m\n\u001b[1;32m----> 1\u001b[0m add(\u001b[38;5;241m10\u001b[39m,\u001b[38;5;241m234\u001b[39m,\u001b[38;5;241m9876\u001b[39m,\u001b[38;5;241m3456\u001b[39m,\u001b[38;5;241m345\u001b[39m)\n",
      "\u001b[1;31mTypeError\u001b[0m: add() takes 2 positional arguments but 5 were given"
     ]
    }
   ],
   "source": [
    "add(10,234,9876,3456,345)"
   ]
  },
  {
   "cell_type": "code",
   "execution_count": 73,
   "id": "ba9bd60e",
   "metadata": {},
   "outputs": [],
   "source": [
    "def my_sum(*numbers):\n",
    "    print(numbers)\n",
    "    print(type(numbers))"
   ]
  },
  {
   "cell_type": "code",
   "execution_count": 74,
   "id": "842ff82d",
   "metadata": {},
   "outputs": [
    {
     "name": "stdout",
     "output_type": "stream",
     "text": [
      "(12, 34, 455, 64, 5)\n",
      "<class 'tuple'>\n"
     ]
    }
   ],
   "source": [
    "my_sum(12,34,455,64,5)"
   ]
  },
  {
   "cell_type": "code",
   "execution_count": null,
   "id": "0cd4cebc",
   "metadata": {},
   "outputs": [],
   "source": []
  },
  {
   "cell_type": "code",
   "execution_count": null,
   "id": "d1604ff1",
   "metadata": {},
   "outputs": [],
   "source": []
  },
  {
   "cell_type": "code",
   "execution_count": 75,
   "id": "0bfb37f9",
   "metadata": {},
   "outputs": [],
   "source": [
    "def my_sum(*numbers):\n",
    "    result = 0\n",
    "    for i in numbers:\n",
    "        result += i\n",
    "        \n",
    "    return result"
   ]
  },
  {
   "cell_type": "code",
   "execution_count": 76,
   "id": "f8e66848",
   "metadata": {},
   "outputs": [
    {
     "data": {
      "text/plain": [
       "547"
      ]
     },
     "execution_count": 76,
     "metadata": {},
     "output_type": "execute_result"
    }
   ],
   "source": [
    "my_sum(2,34,421,34,56)"
   ]
  },
  {
   "cell_type": "code",
   "execution_count": 79,
   "id": "59b6a158",
   "metadata": {},
   "outputs": [
    {
     "data": {
      "text/plain": [
       "547"
      ]
     },
     "execution_count": 79,
     "metadata": {},
     "output_type": "execute_result"
    }
   ],
   "source": [
    "d = [2,34,421,34,56]\n",
    "\n",
    "sum(d)"
   ]
  },
  {
   "cell_type": "code",
   "execution_count": 81,
   "id": "e369652e",
   "metadata": {},
   "outputs": [
    {
     "data": {
      "text/plain": [
       "547"
      ]
     },
     "execution_count": 81,
     "metadata": {},
     "output_type": "execute_result"
    }
   ],
   "source": [
    "my_sum(2,34,421,34,56)"
   ]
  },
  {
   "cell_type": "code",
   "execution_count": 82,
   "id": "ca2b5abe",
   "metadata": {},
   "outputs": [],
   "source": [
    "def mera_sum(*args):\n",
    "    res = 0\n",
    "    for i in args:\n",
    "        res += i\n",
    "    return res"
   ]
  },
  {
   "cell_type": "code",
   "execution_count": 83,
   "id": "d2c54e32",
   "metadata": {},
   "outputs": [
    {
     "data": {
      "text/plain": [
       "241"
      ]
     },
     "execution_count": 83,
     "metadata": {},
     "output_type": "execute_result"
    }
   ],
   "source": [
    "mera_sum(1,234,6)"
   ]
  },
  {
   "cell_type": "code",
   "execution_count": 84,
   "id": "b2f09759",
   "metadata": {},
   "outputs": [
    {
     "name": "stdout",
     "output_type": "stream",
     "text": [
      "1 2 3 komal\n"
     ]
    }
   ],
   "source": [
    "print(1,2,3,'komal')"
   ]
  },
  {
   "cell_type": "code",
   "execution_count": 98,
   "id": "13052b7b",
   "metadata": {},
   "outputs": [],
   "source": [
    "def mera_print(*args):\n",
    "    for i in args:\n",
    "        print(i,end = ' ')"
   ]
  },
  {
   "cell_type": "code",
   "execution_count": 99,
   "id": "8e38d9e6",
   "metadata": {},
   "outputs": [
    {
     "name": "stdout",
     "output_type": "stream",
     "text": [
      "1 2 3 komal "
     ]
    }
   ],
   "source": [
    "mera_print(1,2,3,'komal')"
   ]
  },
  {
   "cell_type": "code",
   "execution_count": 101,
   "id": "0865ac48",
   "metadata": {},
   "outputs": [
    {
     "name": "stdout",
     "output_type": "stream",
     "text": [
      "1<>2<>3<>komal\n"
     ]
    }
   ],
   "source": [
    "print(1,2,3,'komal',sep='<>')"
   ]
  },
  {
   "cell_type": "code",
   "execution_count": null,
   "id": "9bec531e",
   "metadata": {},
   "outputs": [],
   "source": []
  },
  {
   "cell_type": "code",
   "execution_count": null,
   "id": "4c5f3f40",
   "metadata": {},
   "outputs": [],
   "source": []
  },
  {
   "cell_type": "code",
   "execution_count": null,
   "id": "d20cfa36",
   "metadata": {},
   "outputs": [],
   "source": []
  },
  {
   "cell_type": "code",
   "execution_count": 102,
   "id": "2bead020",
   "metadata": {},
   "outputs": [],
   "source": [
    "def give_intro(name,address,sec,Class,roll_no):\n",
    "    '''This is user defined func\n",
    "    give_intro\n",
    "    ex: give_intro('komal','Noida','A',5,34)\n",
    "    👍👍'''\n",
    "    \n",
    "    print(f'Your name is : {name}')\n",
    "    print(f'Your address is : {address}')\n",
    "    print(f'Your sec is : {sec}')\n",
    "    print(f'Your class is : {Class}')\n",
    "    print(f'Your Roll_no is : {roll_no}')    "
   ]
  },
  {
   "cell_type": "code",
   "execution_count": 103,
   "id": "a07ba845",
   "metadata": {},
   "outputs": [
    {
     "name": "stdout",
     "output_type": "stream",
     "text": [
      "Your name is : karan\n",
      "Your address is : Noida\n",
      "Your sec is : A\n",
      "Your class is : 5\n",
      "Your Roll_no is : 34\n"
     ]
    }
   ],
   "source": [
    "give_intro('karan','Noida','A',5,34)"
   ]
  },
  {
   "cell_type": "code",
   "execution_count": 104,
   "id": "14e20dfe",
   "metadata": {},
   "outputs": [
    {
     "ename": "TypeError",
     "evalue": "give_intro() missing 1 required positional argument: 'roll_no'",
     "output_type": "error",
     "traceback": [
      "\u001b[1;31m---------------------------------------------------------------------------\u001b[0m",
      "\u001b[1;31mTypeError\u001b[0m                                 Traceback (most recent call last)",
      "Cell \u001b[1;32mIn[104], line 1\u001b[0m\n\u001b[1;32m----> 1\u001b[0m give_intro(\u001b[38;5;124m'\u001b[39m\u001b[38;5;124mkaran\u001b[39m\u001b[38;5;124m'\u001b[39m,\u001b[38;5;124m'\u001b[39m\u001b[38;5;124mNoida\u001b[39m\u001b[38;5;124m'\u001b[39m,\u001b[38;5;124m'\u001b[39m\u001b[38;5;124mA\u001b[39m\u001b[38;5;124m'\u001b[39m,\u001b[38;5;241m5\u001b[39m)\n",
      "\u001b[1;31mTypeError\u001b[0m: give_intro() missing 1 required positional argument: 'roll_no'"
     ]
    }
   ],
   "source": [
    "give_intro('karan','Noida','A',5)"
   ]
  },
  {
   "cell_type": "code",
   "execution_count": 105,
   "id": "f3670d20",
   "metadata": {},
   "outputs": [
    {
     "ename": "TypeError",
     "evalue": "give_intro() takes 5 positional arguments but 7 were given",
     "output_type": "error",
     "traceback": [
      "\u001b[1;31m---------------------------------------------------------------------------\u001b[0m",
      "\u001b[1;31mTypeError\u001b[0m                                 Traceback (most recent call last)",
      "Cell \u001b[1;32mIn[105], line 1\u001b[0m\n\u001b[1;32m----> 1\u001b[0m give_intro(\u001b[38;5;124m'\u001b[39m\u001b[38;5;124mkaran\u001b[39m\u001b[38;5;124m'\u001b[39m,\u001b[38;5;124m'\u001b[39m\u001b[38;5;124mNoida\u001b[39m\u001b[38;5;124m'\u001b[39m,\u001b[38;5;124m'\u001b[39m\u001b[38;5;124mA\u001b[39m\u001b[38;5;124m'\u001b[39m,\u001b[38;5;241m5\u001b[39m,\u001b[38;5;241m34\u001b[39m,\u001b[38;5;241m35\u001b[39m,\u001b[38;5;241m3456\u001b[39m)\n",
      "\u001b[1;31mTypeError\u001b[0m: give_intro() takes 5 positional arguments but 7 were given"
     ]
    }
   ],
   "source": [
    "give_intro('karan','Noida','A',5,34,35,3456)"
   ]
  },
  {
   "cell_type": "code",
   "execution_count": 107,
   "id": "9fcc6421",
   "metadata": {},
   "outputs": [],
   "source": [
    "# **kwargs:- keyword args:- dict "
   ]
  },
  {
   "cell_type": "code",
   "execution_count": 108,
   "id": "ed951aa1",
   "metadata": {},
   "outputs": [],
   "source": [
    "def give_intro(**kwargs):\n",
    "    print(kwargs)"
   ]
  },
  {
   "cell_type": "code",
   "execution_count": 110,
   "id": "df456eeb",
   "metadata": {},
   "outputs": [
    {
     "name": "stdout",
     "output_type": "stream",
     "text": [
      "{'name': 'komal', 'age': '65', 'sub': 'Math'}\n"
     ]
    }
   ],
   "source": [
    "give_intro(name = 'komal',age = '65',sub = 'Math')"
   ]
  },
  {
   "cell_type": "code",
   "execution_count": null,
   "id": "0763ed00",
   "metadata": {},
   "outputs": [],
   "source": []
  },
  {
   "cell_type": "code",
   "execution_count": null,
   "id": "42f1017f",
   "metadata": {},
   "outputs": [],
   "source": []
  },
  {
   "cell_type": "code",
   "execution_count": 113,
   "id": "9e3bc978",
   "metadata": {},
   "outputs": [],
   "source": [
    "def give_intro(**kwargs):\n",
    "    for i in kwargs:\n",
    "        print(f'your {i} is : {kwargs[i]}')\n",
    "        # your {key} is : {value}"
   ]
  },
  {
   "cell_type": "code",
   "execution_count": 125,
   "id": "7efd2a75",
   "metadata": {},
   "outputs": [
    {
     "name": "stdout",
     "output_type": "stream",
     "text": [
      "your name is : karan\n",
      "your money is : True\n",
      "your address is : Noida\n",
      "your father_name is : Verma ji\n",
      "your classs is : 6\n",
      "your home is : Greater Noida\n",
      "your love is : india\n"
     ]
    }
   ],
   "source": [
    "give_intro(name = 'karan',\n",
    "           money = True,\n",
    "           address = 'Noida',father_name = 'Verma ji',classs = 6,\n",
    "          home = 'Greater Noida',\n",
    "          love = 'india')"
   ]
  },
  {
   "cell_type": "code",
   "execution_count": 120,
   "id": "7661a256",
   "metadata": {},
   "outputs": [],
   "source": [
    "data = {'name':'mohan'}"
   ]
  },
  {
   "cell_type": "code",
   "execution_count": 123,
   "id": "59343050",
   "metadata": {},
   "outputs": [],
   "source": [
    "# kwargs[i]"
   ]
  },
  {
   "cell_type": "code",
   "execution_count": null,
   "id": "3b4d1c70",
   "metadata": {},
   "outputs": [],
   "source": []
  },
  {
   "cell_type": "code",
   "execution_count": null,
   "id": "2f003c72",
   "metadata": {},
   "outputs": [],
   "source": []
  },
  {
   "cell_type": "code",
   "execution_count": 135,
   "id": "58484b66",
   "metadata": {},
   "outputs": [],
   "source": [
    "# nested func\n",
    "def a():\n",
    "    print('I am a')\n",
    "    \n",
    "    def b():\n",
    "        print('I am b')\n",
    "        \n",
    "    b()"
   ]
  },
  {
   "cell_type": "code",
   "execution_count": 136,
   "id": "bbbf77ae",
   "metadata": {},
   "outputs": [
    {
     "name": "stdout",
     "output_type": "stream",
     "text": [
      "I am a\n",
      "I am b\n"
     ]
    }
   ],
   "source": [
    "a()"
   ]
  },
  {
   "cell_type": "code",
   "execution_count": 147,
   "id": "e9bbf1f6",
   "metadata": {},
   "outputs": [],
   "source": [
    "def outer():\n",
    "    print('I am Outer func')\n",
    "    \n",
    "    def inner_one():\n",
    "        print('I am inner One func')\n",
    "        \n",
    "        def sub_inner():\n",
    "            print('I am sub inner')\n",
    "        \n",
    "        sub_inner()\n",
    "        \n",
    "            \n",
    "    inner_one()     "
   ]
  },
  {
   "cell_type": "code",
   "execution_count": 146,
   "id": "02b33c6b",
   "metadata": {},
   "outputs": [
    {
     "name": "stdout",
     "output_type": "stream",
     "text": [
      "I am Outer func\n",
      "I am inner One func\n",
      "I am sub inner\n"
     ]
    }
   ],
   "source": [
    "outer()"
   ]
  },
  {
   "cell_type": "code",
   "execution_count": null,
   "id": "72d903dd",
   "metadata": {},
   "outputs": [],
   "source": []
  },
  {
   "cell_type": "code",
   "execution_count": 154,
   "id": "41991193",
   "metadata": {},
   "outputs": [],
   "source": [
    "def a():\n",
    "    print('I am a')\n",
    "    \n",
    "    def b():\n",
    "        print('I am b')\n",
    "        \n",
    "        def c():\n",
    "            print('I am c')\n",
    "            \n",
    "        c()\n",
    "            \n",
    "        def d():\n",
    "            print('I am d')\n",
    "            \n",
    "        d()\n",
    "        \n",
    "    def e():\n",
    "        print('I am e')\n",
    "        \n",
    "    b()\n"
   ]
  },
  {
   "cell_type": "code",
   "execution_count": 155,
   "id": "4464e305",
   "metadata": {},
   "outputs": [
    {
     "name": "stdout",
     "output_type": "stream",
     "text": [
      "I am a\n",
      "I am b\n",
      "I am c\n",
      "I am d\n"
     ]
    }
   ],
   "source": [
    "a()"
   ]
  },
  {
   "cell_type": "code",
   "execution_count": 156,
   "id": "9df091b2",
   "metadata": {},
   "outputs": [],
   "source": [
    "# Write a function find_longest_word() that takes a list of words and returns the length of the longest one."
   ]
  },
  {
   "cell_type": "code",
   "execution_count": 162,
   "id": "043d88f3",
   "metadata": {},
   "outputs": [],
   "source": [
    "def give_longest_word(data):\n",
    "    my_len = 0\n",
    "    word = ''\n",
    "    for i in data:\n",
    "        if len(i) > my_len:\n",
    "            my_len = len(i)\n",
    "            word = i\n",
    "    return my_len,word"
   ]
  },
  {
   "cell_type": "code",
   "execution_count": 165,
   "id": "d39dd9ea",
   "metadata": {},
   "outputs": [
    {
     "data": {
      "text/plain": [
       "(19, 'ubemnvbjbjvjhbjhgvr')"
      ]
     },
     "execution_count": 165,
     "metadata": {},
     "output_type": "execute_result"
    }
   ],
   "source": [
    "data = ['ola','ubemnvbjbjvjhbjhgvr','mahindrajhvjhvh','datascience']\n",
    "give_longest_word(data)"
   ]
  },
  {
   "cell_type": "code",
   "execution_count": null,
   "id": "e98936b7",
   "metadata": {},
   "outputs": [],
   "source": []
  },
  {
   "cell_type": "code",
   "execution_count": null,
   "id": "5612e11d",
   "metadata": {},
   "outputs": [],
   "source": []
  },
  {
   "cell_type": "markdown",
   "id": "102be985",
   "metadata": {},
   "source": [
    "# day 3\n",
    "\n",
    "- scope in python\n",
    "- some important func\n",
    "- lambda\n",
    "- recursive\n",
    "- decorator\n",
    "- yield\n",
    "\n",
    "# Modules"
   ]
  },
  {
   "cell_type": "code",
   "execution_count": 1,
   "id": "2ce961c3",
   "metadata": {},
   "outputs": [],
   "source": [
    "# scope in python:- local,variable, global variable, non local variable"
   ]
  },
  {
   "cell_type": "code",
   "execution_count": 9,
   "id": "bd659847",
   "metadata": {},
   "outputs": [],
   "source": [
    "def my():\n",
    "    name = 'karan'  # local variable\n",
    "    age = 23 # local variable\n",
    "    \n",
    "    print(f'My name is {name} and I am {age} years old')"
   ]
  },
  {
   "cell_type": "code",
   "execution_count": 6,
   "id": "fa21b3b1",
   "metadata": {},
   "outputs": [
    {
     "name": "stdout",
     "output_type": "stream",
     "text": [
      "My name is karan and I am 23 years old\n"
     ]
    }
   ],
   "source": [
    "my()"
   ]
  },
  {
   "cell_type": "code",
   "execution_count": 7,
   "id": "846e6a98",
   "metadata": {},
   "outputs": [
    {
     "ename": "NameError",
     "evalue": "name 'age' is not defined",
     "output_type": "error",
     "traceback": [
      "\u001b[1;31m---------------------------------------------------------------------------\u001b[0m",
      "\u001b[1;31mNameError\u001b[0m                                 Traceback (most recent call last)",
      "Cell \u001b[1;32mIn[7], line 1\u001b[0m\n\u001b[1;32m----> 1\u001b[0m \u001b[38;5;28mprint\u001b[39m(age)\n",
      "\u001b[1;31mNameError\u001b[0m: name 'age' is not defined"
     ]
    }
   ],
   "source": [
    "print(age)"
   ]
  },
  {
   "cell_type": "code",
   "execution_count": 8,
   "id": "59a891cb",
   "metadata": {},
   "outputs": [
    {
     "ename": "NameError",
     "evalue": "name 'name' is not defined",
     "output_type": "error",
     "traceback": [
      "\u001b[1;31m---------------------------------------------------------------------------\u001b[0m",
      "\u001b[1;31mNameError\u001b[0m                                 Traceback (most recent call last)",
      "Cell \u001b[1;32mIn[8], line 1\u001b[0m\n\u001b[1;32m----> 1\u001b[0m \u001b[38;5;28mprint\u001b[39m(name)\n",
      "\u001b[1;31mNameError\u001b[0m: name 'name' is not defined"
     ]
    }
   ],
   "source": [
    "print(name)"
   ]
  },
  {
   "cell_type": "code",
   "execution_count": 10,
   "id": "cec1a78e",
   "metadata": {},
   "outputs": [],
   "source": [
    "def hello():\n",
    "    a = 23\n",
    "    b = 45\n",
    "    \n",
    "    print(a + b)"
   ]
  },
  {
   "cell_type": "code",
   "execution_count": 11,
   "id": "15266e83",
   "metadata": {},
   "outputs": [
    {
     "name": "stdout",
     "output_type": "stream",
     "text": [
      "68\n"
     ]
    }
   ],
   "source": [
    "hello()"
   ]
  },
  {
   "cell_type": "code",
   "execution_count": 12,
   "id": "ab423f32",
   "metadata": {},
   "outputs": [
    {
     "ename": "NameError",
     "evalue": "name 'a' is not defined",
     "output_type": "error",
     "traceback": [
      "\u001b[1;31m---------------------------------------------------------------------------\u001b[0m",
      "\u001b[1;31mNameError\u001b[0m                                 Traceback (most recent call last)",
      "Cell \u001b[1;32mIn[12], line 1\u001b[0m\n\u001b[1;32m----> 1\u001b[0m \u001b[38;5;28mprint\u001b[39m(a)\n",
      "\u001b[1;31mNameError\u001b[0m: name 'a' is not defined"
     ]
    }
   ],
   "source": [
    "print(a)"
   ]
  },
  {
   "cell_type": "code",
   "execution_count": 13,
   "id": "0bc12399",
   "metadata": {},
   "outputs": [
    {
     "ename": "NameError",
     "evalue": "name 'b' is not defined",
     "output_type": "error",
     "traceback": [
      "\u001b[1;31m---------------------------------------------------------------------------\u001b[0m",
      "\u001b[1;31mNameError\u001b[0m                                 Traceback (most recent call last)",
      "Cell \u001b[1;32mIn[13], line 1\u001b[0m\n\u001b[1;32m----> 1\u001b[0m \u001b[38;5;28mprint\u001b[39m(b)\n",
      "\u001b[1;31mNameError\u001b[0m: name 'b' is not defined"
     ]
    }
   ],
   "source": [
    "print(b)"
   ]
  },
  {
   "cell_type": "code",
   "execution_count": 32,
   "id": "dc9b8765",
   "metadata": {},
   "outputs": [
    {
     "name": "stdout",
     "output_type": "stream",
     "text": [
      "Mohan\n"
     ]
    }
   ],
   "source": [
    "# global\n",
    "print(y)"
   ]
  },
  {
   "cell_type": "code",
   "execution_count": 26,
   "id": "8f7fcc0e",
   "metadata": {},
   "outputs": [],
   "source": [
    "def my_func():\n",
    "    global x , y, z\n",
    "    x = 34\n",
    "    y = 'Mohan'\n",
    "    \n",
    "    z = 56\n",
    "    \n",
    "    print(x)\n",
    "    print(y)\n",
    "    print(z)"
   ]
  },
  {
   "cell_type": "code",
   "execution_count": 27,
   "id": "5727349f",
   "metadata": {},
   "outputs": [
    {
     "name": "stdout",
     "output_type": "stream",
     "text": [
      "34\n",
      "Mohan\n",
      "56\n"
     ]
    }
   ],
   "source": [
    "my_func()"
   ]
  },
  {
   "cell_type": "code",
   "execution_count": 28,
   "id": "457e306e",
   "metadata": {},
   "outputs": [
    {
     "name": "stdout",
     "output_type": "stream",
     "text": [
      "34\n"
     ]
    }
   ],
   "source": [
    "print(x)"
   ]
  },
  {
   "cell_type": "code",
   "execution_count": 29,
   "id": "85bdd35e",
   "metadata": {},
   "outputs": [
    {
     "name": "stdout",
     "output_type": "stream",
     "text": [
      "Mohan\n"
     ]
    }
   ],
   "source": [
    "print(y)"
   ]
  },
  {
   "cell_type": "code",
   "execution_count": 30,
   "id": "a72180f6",
   "metadata": {},
   "outputs": [
    {
     "name": "stdout",
     "output_type": "stream",
     "text": [
      "56\n"
     ]
    }
   ],
   "source": [
    "print(z)"
   ]
  },
  {
   "cell_type": "code",
   "execution_count": 38,
   "id": "cec85d02",
   "metadata": {},
   "outputs": [],
   "source": [
    "def give_intro():\n",
    "    \n",
    "    \n",
    "    print(\"Your course is:\",course)\n",
    "    print(\"your address is:\",address)\n",
    "    print(\"Your salary is:\",salary)\n",
    "    print(mindset)"
   ]
  },
  {
   "cell_type": "code",
   "execution_count": 39,
   "id": "429d0fb9",
   "metadata": {},
   "outputs": [
    {
     "name": "stdout",
     "output_type": "stream",
     "text": [
      "Your course is: Python\n",
      "your address is: Noida\n",
      "Your salary is: 23456789\n",
      "No\n"
     ]
    }
   ],
   "source": [
    "course = 'Python'\n",
    "address = 'Noida'\n",
    "salary = 23456789\n",
    "# global varaible\n",
    "\n",
    "mindset = 'No'\n",
    "\n",
    "give_intro()"
   ]
  },
  {
   "cell_type": "code",
   "execution_count": 41,
   "id": "408e0ef8",
   "metadata": {},
   "outputs": [],
   "source": [
    "# scope:- scope of variable accessibility\n",
    "# variable :- already global\n",
    "# variable inside function:- local\n",
    "# we have to use global statement to make local a global variable "
   ]
  },
  {
   "cell_type": "code",
   "execution_count": 47,
   "id": "f53b608b",
   "metadata": {},
   "outputs": [],
   "source": [
    "# non local variable\n",
    "\n",
    "\n",
    "def India():\n",
    "    \n",
    "    name = 'India'\n",
    "    \n",
    "    print(f\"I love my {name}\")\n",
    "    \n",
    "    def delhi():\n",
    "        name = 'Delhi'\n",
    "        print(f\"I love my {name}\")\n",
    "        \n",
    "    delhi()\n",
    "    \n",
    "    print(f'I love my {name}!!')"
   ]
  },
  {
   "cell_type": "code",
   "execution_count": 48,
   "id": "1f441245",
   "metadata": {},
   "outputs": [
    {
     "name": "stdout",
     "output_type": "stream",
     "text": [
      "I love my India\n",
      "I love my Delhi\n",
      "I love my India!!\n"
     ]
    }
   ],
   "source": [
    "India()"
   ]
  },
  {
   "cell_type": "code",
   "execution_count": null,
   "id": "ffcd4b35",
   "metadata": {},
   "outputs": [],
   "source": []
  },
  {
   "cell_type": "code",
   "execution_count": 49,
   "id": "f64fd89f",
   "metadata": {},
   "outputs": [],
   "source": [
    "# non local variable\n",
    "\n",
    "\n",
    "def India():\n",
    "    \n",
    "    name = 'India'\n",
    "    \n",
    "    print(f\"I love my {name}\")\n",
    "    \n",
    "    def delhi():\n",
    "        nonlocal name\n",
    "        name = 'Delhi'\n",
    "        print(f\"I love my {name}\")\n",
    "        \n",
    "    delhi()\n",
    "    \n",
    "    print(f'I love my {name}!!')"
   ]
  },
  {
   "cell_type": "code",
   "execution_count": 50,
   "id": "9e0ed27f",
   "metadata": {},
   "outputs": [
    {
     "name": "stdout",
     "output_type": "stream",
     "text": [
      "I love my India\n",
      "I love my Delhi\n",
      "I love my Delhi!!\n"
     ]
    }
   ],
   "source": [
    "India()"
   ]
  },
  {
   "cell_type": "code",
   "execution_count": 51,
   "id": "f4b85613",
   "metadata": {},
   "outputs": [],
   "source": [
    "# scope:- local, nonlocal, global"
   ]
  },
  {
   "cell_type": "code",
   "execution_count": 52,
   "id": "af53aed3",
   "metadata": {},
   "outputs": [],
   "source": [
    "# some important func"
   ]
  },
  {
   "cell_type": "code",
   "execution_count": 53,
   "id": "54e3e27b",
   "metadata": {},
   "outputs": [
    {
     "data": {
      "text/plain": [
       "686"
      ]
     },
     "execution_count": 53,
     "metadata": {},
     "output_type": "execute_result"
    }
   ],
   "source": [
    "data = [12,34,43,234,356,7]\n",
    "\n",
    "sum(data)"
   ]
  },
  {
   "cell_type": "code",
   "execution_count": 1,
   "id": "e021e1c7",
   "metadata": {},
   "outputs": [],
   "source": [
    "# udf\n",
    "\n",
    "def summ(koi_data):\n",
    "    '''This will sumup all the values of given data'''\n",
    "    result = 0\n",
    "    for i in koi_data:\n",
    "        result += i\n",
    "        \n",
    "    return result"
   ]
  },
  {
   "cell_type": "code",
   "execution_count": 4,
   "id": "98a92815",
   "metadata": {},
   "outputs": [
    {
     "data": {
      "text/plain": [
       "684"
      ]
     },
     "execution_count": 4,
     "metadata": {},
     "output_type": "execute_result"
    }
   ],
   "source": [
    "data = [10,34,43,234,356,7]\n",
    "summ(data)"
   ]
  },
  {
   "cell_type": "code",
   "execution_count": 60,
   "id": "c1ef7bac",
   "metadata": {},
   "outputs": [
    {
     "data": {
      "text/plain": [
       "299"
      ]
     },
     "execution_count": 60,
     "metadata": {},
     "output_type": "execute_result"
    }
   ],
   "source": [
    "summ([2,243,45,9])"
   ]
  },
  {
   "cell_type": "code",
   "execution_count": 63,
   "id": "e736d724",
   "metadata": {},
   "outputs": [],
   "source": [
    "# factorial\n",
    "\n",
    "# 'ant'\n",
    "# 'tan'\n",
    "# 'nat'\n",
    "# 'tna'\n",
    "# 'nta'\n",
    "# 'atn'\n",
    "\n",
    "# 5*4*3*2*1"
   ]
  },
  {
   "cell_type": "code",
   "execution_count": 64,
   "id": "11cdc90f",
   "metadata": {},
   "outputs": [],
   "source": [
    "def factorial(number):\n",
    "    res = 1\n",
    "    for i in range(1,number+1):\n",
    "        res *= i\n",
    "        \n",
    "    return res"
   ]
  },
  {
   "cell_type": "code",
   "execution_count": 68,
   "id": "ea29ff69",
   "metadata": {},
   "outputs": [
    {
     "data": {
      "text/plain": [
       "1307674368000"
      ]
     },
     "execution_count": 68,
     "metadata": {},
     "output_type": "execute_result"
    }
   ],
   "source": [
    "factorial(15)"
   ]
  },
  {
   "cell_type": "code",
   "execution_count": null,
   "id": "020ed251",
   "metadata": {},
   "outputs": [],
   "source": []
  },
  {
   "cell_type": "code",
   "execution_count": 69,
   "id": "c0635155",
   "metadata": {},
   "outputs": [],
   "source": [
    "# prime number:- \n",
    "# divided by self and 1"
   ]
  },
  {
   "cell_type": "code",
   "execution_count": 77,
   "id": "b29a1358",
   "metadata": {},
   "outputs": [],
   "source": [
    "def check_prime(number):\n",
    "    for i in range(2,number):\n",
    "        if number % i ==0:\n",
    "            print(f'{number} Not a Prime Number!!')\n",
    "            break\n",
    "    else:\n",
    "        print(f'{number} a Prime number!!')\n",
    "    "
   ]
  },
  {
   "cell_type": "code",
   "execution_count": 82,
   "id": "a9c97ddb",
   "metadata": {},
   "outputs": [
    {
     "name": "stdout",
     "output_type": "stream",
     "text": [
      "41 a Prime number!!\n"
     ]
    }
   ],
   "source": [
    "check_prime(41)"
   ]
  },
  {
   "cell_type": "code",
   "execution_count": null,
   "id": "be08944a",
   "metadata": {},
   "outputs": [],
   "source": []
  },
  {
   "cell_type": "code",
   "execution_count": 83,
   "id": "38fd4e67",
   "metadata": {},
   "outputs": [],
   "source": [
    "# fibonacci series\n",
    "def give_fibonacci(kitne):\n",
    "    fibo = [0,1]\n",
    "    \n",
    "    for i in range(kitne-2):\n",
    "        agla_num = fibo[-1]  + fibo[-2]\n",
    "        \n",
    "        fibo.append(agla_num)\n",
    "        \n",
    "    return fibo"
   ]
  },
  {
   "cell_type": "code",
   "execution_count": 86,
   "id": "14d3d962",
   "metadata": {},
   "outputs": [
    {
     "name": "stdout",
     "output_type": "stream",
     "text": [
      "[0, 1, 1, 2, 3, 5, 8, 13, 21, 34, 55, 89, 144, 233, 377, 610, 987, 1597, 2584, 4181, 6765, 10946, 17711, 28657, 46368, 75025, 121393, 196418, 317811, 514229, 832040, 1346269, 2178309, 3524578, 5702887, 9227465, 14930352, 24157817, 39088169, 63245986, 102334155, 165580141, 267914296, 433494437, 701408733, 1134903170, 1836311903, 2971215073, 4807526976, 7778742049, 12586269025, 20365011074, 32951280099, 53316291173, 86267571272, 139583862445, 225851433717, 365435296162, 591286729879, 956722026041, 1548008755920, 2504730781961, 4052739537881, 6557470319842, 10610209857723, 17167680177565, 27777890035288, 44945570212853, 72723460248141, 117669030460994, 190392490709135, 308061521170129, 498454011879264, 806515533049393, 1304969544928657, 2111485077978050, 3416454622906707, 5527939700884757, 8944394323791464, 14472334024676221, 23416728348467685, 37889062373143906, 61305790721611591, 99194853094755497, 160500643816367088, 259695496911122585, 420196140727489673, 679891637638612258, 1100087778366101931, 1779979416004714189, 2880067194370816120, 4660046610375530309, 7540113804746346429, 12200160415121876738, 19740274219868223167, 31940434634990099905, 51680708854858323072, 83621143489848422977, 135301852344706746049, 218922995834555169026]\n"
     ]
    }
   ],
   "source": [
    "print(give_fibonacci(100))"
   ]
  },
  {
   "attachments": {
    "Fibonacci-sequence.png": {
     "image/png": "[encoded data removed]"
    }
   },
   "cell_type": "markdown",
   "id": "02b729b9",
   "metadata": {},
   "source": [
    "![Fibonacci-sequence.png](attachment:Fibonacci-sequence.png)"
   ]
  },
  {
   "cell_type": "code",
   "execution_count": null,
   "id": "37874321",
   "metadata": {},
   "outputs": [],
   "source": []
  },
  {
   "cell_type": "code",
   "execution_count": 87,
   "id": "981998c8",
   "metadata": {},
   "outputs": [],
   "source": [
    "def area_of_traingle(length, breadth):\n",
    "    return 0.5*length*breadth"
   ]
  },
  {
   "cell_type": "code",
   "execution_count": 89,
   "id": "f4674a0f",
   "metadata": {},
   "outputs": [
    {
     "name": "stdout",
     "output_type": "stream",
     "text": [
      "1035.0 sq unit\n"
     ]
    }
   ],
   "source": [
    "print(area_of_traingle(23,90),'sq unit')"
   ]
  },
  {
   "cell_type": "code",
   "execution_count": 90,
   "id": "6b2681b7",
   "metadata": {},
   "outputs": [],
   "source": [
    "def give_table(number):\n",
    "    for i in range(1,11):\n",
    "        print(f'{number} x {i} = {number*i}')"
   ]
  },
  {
   "cell_type": "code",
   "execution_count": 92,
   "id": "51b4c093",
   "metadata": {},
   "outputs": [
    {
     "name": "stdout",
     "output_type": "stream",
     "text": [
      "78 x 1 = 78\n",
      "78 x 2 = 156\n",
      "78 x 3 = 234\n",
      "78 x 4 = 312\n",
      "78 x 5 = 390\n",
      "78 x 6 = 468\n",
      "78 x 7 = 546\n",
      "78 x 8 = 624\n",
      "78 x 9 = 702\n",
      "78 x 10 = 780\n"
     ]
    }
   ],
   "source": [
    "give_table(78)"
   ]
  },
  {
   "cell_type": "code",
   "execution_count": 96,
   "id": "49e77937",
   "metadata": {},
   "outputs": [],
   "source": [
    "def give_perimeter_of(shape = None):\n",
    "    if shape == None:\n",
    "        print('No perimeter!!, shape not decided!!')\n",
    "        \n",
    "    elif shape == 'rectangle':\n",
    "        l = float(input('Enter length: '))\n",
    "        b = float(input('Enter breadth: '))\n",
    "        \n",
    "        peri = 2*(l+b)\n",
    "        \n",
    "        print(f'Perimeter of rectange is: {peri}')\n",
    "        \n",
    "    elif shape == 'square':\n",
    "        side = float(input('Enter side: '))\n",
    "        \n",
    "        peri = 4*side\n",
    "        print(f'Perimeter of Square is: {peri}')\n",
    "        \n",
    "    elif shape == 'triangle':\n",
    "        s1 = float(input('Enter side 1: '))\n",
    "        s2 = float(input('Enter side 2: '))\n",
    "        s3 = float(input('Enter side 3: '))\n",
    "        \n",
    "        peri = s1+s2+s3\n",
    "        print(f'Perimeter of Triangle is: {peri}')\n",
    "        \n",
    "    elif shape == 'circle':\n",
    "        r = float(input('Enter radius: '))\n",
    "        \n",
    "        pi = 3.14\n",
    "        \n",
    "        peri = 2*pi*r\n",
    "        print(f'Perimeter of Circle is: {peri}')\n",
    "        \n",
    "    else:\n",
    "        print('Not sure about shape!!')\n",
    "        \n",
    "        "
   ]
  },
  {
   "cell_type": "code",
   "execution_count": null,
   "id": "3a8a8d9a",
   "metadata": {},
   "outputs": [],
   "source": []
  },
  {
   "cell_type": "code",
   "execution_count": 104,
   "id": "bf58e0c7",
   "metadata": {
    "scrolled": true
   },
   "outputs": [
    {
     "name": "stdout",
     "output_type": "stream",
     "text": [
      "Not sure about shape!!\n"
     ]
    }
   ],
   "source": [
    "give_perimeter_of('trianglee')"
   ]
  },
  {
   "cell_type": "markdown",
   "id": "3fbcee92",
   "metadata": {},
   "source": [
    "# New day"
   ]
  },
  {
   "cell_type": "code",
   "execution_count": 1,
   "id": "86603750",
   "metadata": {},
   "outputs": [],
   "source": [
    "# some important func:-\n",
    "# anagram\n",
    "# armstrong\n",
    "# lambda"
   ]
  },
  {
   "cell_type": "code",
   "execution_count": 3,
   "id": "d6bc518e",
   "metadata": {},
   "outputs": [],
   "source": [
    "# anagram:- two words with same number of characters"
   ]
  },
  {
   "cell_type": "code",
   "execution_count": 5,
   "id": "79108a6a",
   "metadata": {},
   "outputs": [],
   "source": [
    "a = 'credit'\n",
    "b = 'direct'\n",
    "\n",
    "# a and b both are anagram words"
   ]
  },
  {
   "cell_type": "code",
   "execution_count": 10,
   "id": "53bf3aef",
   "metadata": {},
   "outputs": [
    {
     "data": {
      "text/plain": [
       "True"
      ]
     },
     "execution_count": 10,
     "metadata": {},
     "output_type": "execute_result"
    }
   ],
   "source": [
    "a = 'credit'\n",
    "b = 'direct'\n",
    "\n",
    "l_a = list(a)\n",
    "l_b = list(b)\n",
    "\n",
    "l_a.sort()\n",
    "l_b.sort()\n",
    "\n",
    "l_a == l_b"
   ]
  },
  {
   "cell_type": "code",
   "execution_count": 20,
   "id": "8f0c1bc5",
   "metadata": {},
   "outputs": [],
   "source": [
    "def check_anagram(word1,word2):\n",
    "    word1_list = list(word1.lower().replace(' ',''))\n",
    "    word2_list = list(word2.lower().replace(' ','')) \n",
    "    \n",
    "    word1_list.sort()\n",
    "    word2_list.sort()\n",
    "    \n",
    "    \n",
    "    if word1_list == word2_list:\n",
    "        return 'Anagram words'\n",
    "    \n",
    "    else:\n",
    "        return 'Not an Anagram words'\n",
    "    \n",
    "    \n",
    "    "
   ]
  },
  {
   "cell_type": "code",
   "execution_count": 21,
   "id": "b5c35268",
   "metadata": {},
   "outputs": [
    {
     "name": "stdout",
     "output_type": "stream",
     "text": [
      "[1, 5, 46, 54, 77, 3467, 4323]\n"
     ]
    }
   ],
   "source": [
    "a = [1,54,5,3467,77,4323,46]\n",
    "\n",
    "a.sort()\n",
    "\n",
    "print(a)"
   ]
  },
  {
   "cell_type": "code",
   "execution_count": null,
   "id": "99b443ce",
   "metadata": {},
   "outputs": [],
   "source": []
  },
  {
   "cell_type": "code",
   "execution_count": null,
   "id": "fa682ff6",
   "metadata": {},
   "outputs": [],
   "source": []
  },
  {
   "cell_type": "code",
   "execution_count": null,
   "id": "733d2e70",
   "metadata": {},
   "outputs": [],
   "source": []
  },
  {
   "cell_type": "code",
   "execution_count": 22,
   "id": "19e7238b",
   "metadata": {},
   "outputs": [
    {
     "data": {
      "text/plain": [
       "'Not an Anagram words'"
      ]
     },
     "execution_count": 22,
     "metadata": {},
     "output_type": "execute_result"
    }
   ],
   "source": [
    "w1 = 'credit'\n",
    "\n",
    "w2 = 'ditect'\n",
    "\n",
    "\n",
    "check_anagram(w1,w2)"
   ]
  },
  {
   "cell_type": "code",
   "execution_count": 23,
   "id": "3843a6ca",
   "metadata": {},
   "outputs": [
    {
     "data": {
      "text/plain": [
       "'Anagram words'"
      ]
     },
     "execution_count": 23,
     "metadata": {},
     "output_type": "execute_result"
    }
   ],
   "source": [
    "w1 = 'Angered'\n",
    "w2 = 'enraged'\n",
    "\n",
    "\n",
    "check_anagram(w1,w2)"
   ]
  },
  {
   "cell_type": "code",
   "execution_count": null,
   "id": "b4e62f3c",
   "metadata": {},
   "outputs": [],
   "source": []
  },
  {
   "cell_type": "code",
   "execution_count": 24,
   "id": "ed3b7c0e",
   "metadata": {},
   "outputs": [
    {
     "data": {
      "text/plain": [
       "'Anagram words'"
      ]
     },
     "execution_count": 24,
     "metadata": {},
     "output_type": "execute_result"
    }
   ],
   "source": [
    "w1 = 'Schoolmaster '\n",
    "\n",
    "w2 = 'the classroom'\n",
    "\n",
    "\n",
    "check_anagram(w1,w2)"
   ]
  },
  {
   "cell_type": "markdown",
   "id": "af4d14a4",
   "metadata": {},
   "source": [
    "# https://www.independent.co.uk/voices/top-10-anagrams-words-trivia-a8285076.html"
   ]
  },
  {
   "cell_type": "code",
   "execution_count": null,
   "id": "6d8d46a6",
   "metadata": {},
   "outputs": [],
   "source": []
  },
  {
   "cell_type": "code",
   "execution_count": null,
   "id": "0500f8f9",
   "metadata": {},
   "outputs": [],
   "source": []
  },
  {
   "cell_type": "code",
   "execution_count": 25,
   "id": "2c99528f",
   "metadata": {},
   "outputs": [
    {
     "data": {
      "text/plain": [
       "153"
      ]
     },
     "execution_count": 25,
     "metadata": {},
     "output_type": "execute_result"
    }
   ],
   "source": [
    "# armstrong\n",
    "\n",
    "153\n",
    "\n",
    "1**3   + 5**3  + 3**3"
   ]
  },
  {
   "cell_type": "code",
   "execution_count": 26,
   "id": "90232916",
   "metadata": {},
   "outputs": [
    {
     "data": {
      "text/plain": [
       "407"
      ]
     },
     "execution_count": 26,
     "metadata": {},
     "output_type": "execute_result"
    }
   ],
   "source": [
    "407\n",
    "\n",
    "4**3    +   0**3    +   7**3"
   ]
  },
  {
   "cell_type": "code",
   "execution_count": 27,
   "id": "6fb0f56f",
   "metadata": {},
   "outputs": [
    {
     "data": {
      "text/plain": [
       "9926315"
      ]
     },
     "execution_count": 27,
     "metadata": {},
     "output_type": "execute_result"
    }
   ],
   "source": [
    " 9926315"
   ]
  },
  {
   "cell_type": "code",
   "execution_count": 28,
   "id": "2bcdf935",
   "metadata": {},
   "outputs": [
    {
     "data": {
      "text/plain": [
       "9926315"
      ]
     },
     "execution_count": 28,
     "metadata": {},
     "output_type": "execute_result"
    }
   ],
   "source": [
    "9**7 + 9**7 + 2**7 + 6**7 + 3**7 + 1**7 + 5**7"
   ]
  },
  {
   "cell_type": "code",
   "execution_count": 30,
   "id": "2b7c89d7",
   "metadata": {},
   "outputs": [
    {
     "data": {
      "text/plain": [
       "8"
      ]
     },
     "execution_count": 30,
     "metadata": {},
     "output_type": "execute_result"
    }
   ],
   "source": [
    "len(str(56787654))"
   ]
  },
  {
   "cell_type": "code",
   "execution_count": 34,
   "id": "448a2d28",
   "metadata": {},
   "outputs": [
    {
     "name": "stdout",
     "output_type": "stream",
     "text": [
      "10\n",
      "12\n",
      "14\n",
      "16\n",
      "14\n",
      "12\n",
      "10\n",
      "8\n"
     ]
    }
   ],
   "source": [
    "for i in str(56787654):\n",
    "    print(int(i)*2)"
   ]
  },
  {
   "cell_type": "code",
   "execution_count": 37,
   "id": "a87716d1",
   "metadata": {},
   "outputs": [],
   "source": [
    "def check_armstrong(number):\n",
    "    power = len(str(number))\n",
    "    result = 0\n",
    "    \n",
    "    \n",
    "    for i in str(number):\n",
    "        result += int(i)**power\n",
    "        \n",
    "    if result == number:\n",
    "        return 'Armstrong Number!!'\n",
    "    else:\n",
    "        return 'Not an Armstrong Number!!'"
   ]
  },
  {
   "cell_type": "code",
   "execution_count": 43,
   "id": "5b0da0b0",
   "metadata": {},
   "outputs": [
    {
     "data": {
      "text/plain": [
       "'Not an Armstrong Number!!'"
      ]
     },
     "execution_count": 43,
     "metadata": {},
     "output_type": "execute_result"
    }
   ],
   "source": [
    "check_armstrong(4679307974)"
   ]
  },
  {
   "cell_type": "code",
   "execution_count": null,
   "id": "6944d078",
   "metadata": {},
   "outputs": [],
   "source": []
  },
  {
   "cell_type": "code",
   "execution_count": 45,
   "id": "928bb284",
   "metadata": {},
   "outputs": [],
   "source": [
    "# check palindrome"
   ]
  },
  {
   "cell_type": "code",
   "execution_count": 46,
   "id": "76e3abd8",
   "metadata": {},
   "outputs": [],
   "source": [
    "def check_palindrome(word):\n",
    "    word = word.lower()\n",
    "    if word == word[::-1]:\n",
    "        return 'Palindrome'\n",
    "    else:\n",
    "        return 'Not a Palindrome'"
   ]
  },
  {
   "cell_type": "code",
   "execution_count": null,
   "id": "9f8ef0d6",
   "metadata": {},
   "outputs": [],
   "source": []
  },
  {
   "cell_type": "code",
   "execution_count": 48,
   "id": "1c31a1c8",
   "metadata": {},
   "outputs": [
    {
     "data": {
      "text/plain": [
       "'Palindrome'"
      ]
     },
     "execution_count": 48,
     "metadata": {},
     "output_type": "execute_result"
    }
   ],
   "source": [
    "check_palindrome('level')"
   ]
  },
  {
   "cell_type": "code",
   "execution_count": 49,
   "id": "ad4598dc",
   "metadata": {},
   "outputs": [
    {
     "data": {
      "text/plain": [
       "'Palindrome'"
      ]
     },
     "execution_count": 49,
     "metadata": {},
     "output_type": "execute_result"
    }
   ],
   "source": [
    "check_palindrome('nayan')"
   ]
  },
  {
   "cell_type": "code",
   "execution_count": 50,
   "id": "53588fbc",
   "metadata": {},
   "outputs": [
    {
     "data": {
      "text/plain": [
       "'Palindrome'"
      ]
     },
     "execution_count": 50,
     "metadata": {},
     "output_type": "execute_result"
    }
   ],
   "source": [
    "check_palindrome('anna')"
   ]
  },
  {
   "cell_type": "code",
   "execution_count": null,
   "id": "3a35a52a",
   "metadata": {},
   "outputs": [],
   "source": []
  },
  {
   "cell_type": "code",
   "execution_count": 51,
   "id": "f40fbe4d",
   "metadata": {},
   "outputs": [],
   "source": [
    "# 99 bottles of beer on the wall, 99 bottles of beer.\n",
    "# Take one down, pass it around, 98 bottles of beer on the wall.\n",
    "\n",
    "# 98 bottles of beer on the wall, 98 bottles of beer.\n",
    "# Take one down, pass it around, 97 bottles of beer on the wall.\n",
    "\n",
    "\n",
    "# 97 bottles of beer on the wall, 97 bottles of beer.\n",
    "# Take one down, pass it around, 96 bottles of beer on the wall.\n",
    "\n",
    "....\n",
    "...\n",
    "\n",
    "# 1 bottles of beer on the wall, 1 bottles of beer.\n",
    "# Take one down, pass it around, 0 bottles of beer on the wall.\n"
   ]
  },
  {
   "cell_type": "code",
   "execution_count": 62,
   "id": "a6f6e32c",
   "metadata": {},
   "outputs": [],
   "source": [
    "def bottles_of_beer(kitnibar):\n",
    "    for i in range(99,99-kitnibar,-1):\n",
    "        print(f'''{i} bottles of beer on the wall, {i} bottles of beer.\n",
    "    Take one down, pass it around, {i-1} bottles of beer on the wall.''')\n",
    "        print(end='\\n'*2)\n",
    "    "
   ]
  },
  {
   "cell_type": "code",
   "execution_count": 65,
   "id": "15d44c99",
   "metadata": {},
   "outputs": [
    {
     "name": "stdout",
     "output_type": "stream",
     "text": [
      "99 bottles of beer on the wall, 99 bottles of beer.\n",
      "    Take one down, pass it around, 98 bottles of beer on the wall.\n",
      "\n",
      "\n",
      "98 bottles of beer on the wall, 98 bottles of beer.\n",
      "    Take one down, pass it around, 97 bottles of beer on the wall.\n",
      "\n",
      "\n",
      "97 bottles of beer on the wall, 97 bottles of beer.\n",
      "    Take one down, pass it around, 96 bottles of beer on the wall.\n",
      "\n",
      "\n",
      "96 bottles of beer on the wall, 96 bottles of beer.\n",
      "    Take one down, pass it around, 95 bottles of beer on the wall.\n",
      "\n",
      "\n",
      "95 bottles of beer on the wall, 95 bottles of beer.\n",
      "    Take one down, pass it around, 94 bottles of beer on the wall.\n",
      "\n",
      "\n",
      "94 bottles of beer on the wall, 94 bottles of beer.\n",
      "    Take one down, pass it around, 93 bottles of beer on the wall.\n",
      "\n",
      "\n",
      "93 bottles of beer on the wall, 93 bottles of beer.\n",
      "    Take one down, pass it around, 92 bottles of beer on the wall.\n",
      "\n",
      "\n",
      "92 bottles of beer on the wall, 92 bottles of beer.\n",
      "    Take one down, pass it around, 91 bottles of beer on the wall.\n",
      "\n",
      "\n",
      "91 bottles of beer on the wall, 91 bottles of beer.\n",
      "    Take one down, pass it around, 90 bottles of beer on the wall.\n",
      "\n",
      "\n",
      "90 bottles of beer on the wall, 90 bottles of beer.\n",
      "    Take one down, pass it around, 89 bottles of beer on the wall.\n",
      "\n",
      "\n",
      "89 bottles of beer on the wall, 89 bottles of beer.\n",
      "    Take one down, pass it around, 88 bottles of beer on the wall.\n",
      "\n",
      "\n",
      "88 bottles of beer on the wall, 88 bottles of beer.\n",
      "    Take one down, pass it around, 87 bottles of beer on the wall.\n",
      "\n",
      "\n"
     ]
    }
   ],
   "source": [
    "bottles_of_beer(12)"
   ]
  },
  {
   "cell_type": "code",
   "execution_count": 66,
   "id": "6e0112b0",
   "metadata": {},
   "outputs": [
    {
     "data": {
      "text/plain": [
       "'this is java class'"
      ]
     },
     "execution_count": 66,
     "metadata": {},
     "output_type": "execute_result"
    }
   ],
   "source": [
    "'this is python class'.replace('python','java')"
   ]
  },
  {
   "cell_type": "code",
   "execution_count": 70,
   "id": "58e33a2f",
   "metadata": {},
   "outputs": [
    {
     "data": {
      "text/plain": [
       "'that is c++ class'"
      ]
     },
     "execution_count": 70,
     "metadata": {},
     "output_type": "execute_result"
    }
   ],
   "source": [
    "'{this} is {python} class'.format_map({'python':'c++','this':'that'})"
   ]
  },
  {
   "cell_type": "code",
   "execution_count": 75,
   "id": "38e3e62b",
   "metadata": {},
   "outputs": [
    {
     "data": {
      "text/plain": [
       "['this', 'is', 'python', 'class']"
      ]
     },
     "execution_count": 75,
     "metadata": {},
     "output_type": "execute_result"
    }
   ],
   "source": [
    "data = 'this is python class'.split(' ')\n",
    "# for i in data:\n",
    "#     print(i.replace())\n",
    "    \n",
    "data"
   ]
  },
  {
   "cell_type": "code",
   "execution_count": 105,
   "id": "520e7eaf",
   "metadata": {},
   "outputs": [],
   "source": [
    "sent = 'wish you a merry christmas, and a happy new year, Happy birthday to you'\n",
    "\n",
    "def English_into_German(sentence):\n",
    "    sentence = sentence.replace(',','').lower()\n",
    "    \n",
    "    data = {\"merry\":\"frohe\", \"christmas\":\"weihnachten\", \"and\":\"und\", \"happy\":\"frohes\", \"new\":\"neues\", \"year\":\"jahr\",\n",
    "           'happy':\"glücklich\",'birthday':'Geburtstag','to':'zu','you':'du'}\n",
    "    \n",
    "    temp_data = ''\n",
    "    \n",
    "    sent_list = sentence.split(' ')\n",
    "    \n",
    "    for i in  sent_list:\n",
    "        if i in data.keys():\n",
    "            temp_data+= f'{{{i}}} '\n",
    "        else:\n",
    "            temp_data += i+' '\n",
    "    return temp_data.format_map(data)"
   ]
  },
  {
   "cell_type": "code",
   "execution_count": 106,
   "id": "d65681f7",
   "metadata": {},
   "outputs": [
    {
     "data": {
      "text/plain": [
       "'wish du a frohe weihnachten und a glücklich neues jahr glücklich Geburtstag zu du '"
      ]
     },
     "execution_count": 106,
     "metadata": {},
     "output_type": "execute_result"
    }
   ],
   "source": [
    "English_into_German(sent)"
   ]
  },
  {
   "cell_type": "code",
   "execution_count": 107,
   "id": "d18a4802",
   "metadata": {},
   "outputs": [
    {
     "data": {
      "text/plain": [
       "True"
      ]
     },
     "execution_count": 107,
     "metadata": {},
     "output_type": "execute_result"
    }
   ],
   "source": [
    "data = {\"merry\":\"frohe\", \"christmas\":\"weihnachten\", \"and\":\"und\", \"happy\":\"frohes\", \"new\":\"neues\", \"year\":\"jahr\"}\n",
    "'merry' in data.keys()"
   ]
  },
  {
   "cell_type": "code",
   "execution_count": 115,
   "id": "013cf299",
   "metadata": {},
   "outputs": [
    {
     "data": {
      "text/plain": [
       "9887777666665555444"
      ]
     },
     "execution_count": 115,
     "metadata": {},
     "output_type": "execute_result"
    }
   ],
   "source": [
    "d = list(str(9876546787654567654))\n",
    "d.sort()\n",
    "\n",
    "int(''.join(d[::-1]))"
   ]
  },
  {
   "cell_type": "markdown",
   "id": "2f4e89db",
   "metadata": {},
   "source": [
    "# New day"
   ]
  },
  {
   "cell_type": "markdown",
   "id": "81b99d32",
   "metadata": {},
   "source": [
    "# Lambda Func"
   ]
  },
  {
   "cell_type": "code",
   "execution_count": 2,
   "id": "5fffd2f8",
   "metadata": {},
   "outputs": [],
   "source": [
    "# def:- basic func to advance to complex 90%\n",
    "\n",
    "# lambda:- one liner func, short func, anonymus func,mostly use with map, filter, reduce func"
   ]
  },
  {
   "cell_type": "code",
   "execution_count": 3,
   "id": "7531a7bb",
   "metadata": {},
   "outputs": [],
   "source": [
    "def add(a,b):\n",
    "    return a+b"
   ]
  },
  {
   "cell_type": "code",
   "execution_count": 4,
   "id": "d79eba5d",
   "metadata": {},
   "outputs": [
    {
     "data": {
      "text/plain": [
       "22"
      ]
     },
     "execution_count": 4,
     "metadata": {},
     "output_type": "execute_result"
    }
   ],
   "source": [
    "add(12,10)"
   ]
  },
  {
   "cell_type": "code",
   "execution_count": 5,
   "id": "d9378c3d",
   "metadata": {},
   "outputs": [],
   "source": [
    "mohit = lambda a,b: a+b"
   ]
  },
  {
   "cell_type": "code",
   "execution_count": 6,
   "id": "618aebce",
   "metadata": {},
   "outputs": [
    {
     "data": {
      "text/plain": [
       "30"
      ]
     },
     "execution_count": 6,
     "metadata": {},
     "output_type": "execute_result"
    }
   ],
   "source": [
    "mohit(10,20)"
   ]
  },
  {
   "cell_type": "code",
   "execution_count": 8,
   "id": "1965dadf",
   "metadata": {},
   "outputs": [],
   "source": [
    "def even_odd(data):\n",
    "    even = []\n",
    "    odd = []\n",
    "    \n",
    "    for i in data:\n",
    "        if i%2==0:\n",
    "            even.append(i)\n",
    "        else:\n",
    "            odd.append(i)\n",
    "            \n",
    "    return even, odd"
   ]
  },
  {
   "cell_type": "code",
   "execution_count": 9,
   "id": "b30b8bca",
   "metadata": {},
   "outputs": [
    {
     "data": {
      "text/plain": [
       "([234, 6], [1, 45, 4323, 135])"
      ]
     },
     "execution_count": 9,
     "metadata": {},
     "output_type": "execute_result"
    }
   ],
   "source": [
    "even_odd([1,234,45,4323,135,6])"
   ]
  },
  {
   "cell_type": "code",
   "execution_count": 10,
   "id": "1cf25658",
   "metadata": {},
   "outputs": [],
   "source": [
    "# even = lambda data: [i for i in data if i % 2==0]"
   ]
  },
  {
   "cell_type": "code",
   "execution_count": 11,
   "id": "7c06c922",
   "metadata": {},
   "outputs": [],
   "source": [
    "# one liner if else"
   ]
  },
  {
   "cell_type": "code",
   "execution_count": 12,
   "id": "d219f477",
   "metadata": {},
   "outputs": [
    {
     "name": "stdout",
     "output_type": "stream",
     "text": [
      "Odd\n"
     ]
    }
   ],
   "source": [
    "data = 45\n",
    "\n",
    "if data % 2 == 0:\n",
    "    print('Even')\n",
    "else:\n",
    "    print('Odd')"
   ]
  },
  {
   "cell_type": "code",
   "execution_count": 15,
   "id": "3eba4930",
   "metadata": {},
   "outputs": [
    {
     "name": "stdout",
     "output_type": "stream",
     "text": [
      "Odd\n"
     ]
    }
   ],
   "source": [
    "# one liner if else\n",
    "\n",
    "data = 59\n",
    "print('Even') if data % 2 == 0 else print('Odd')"
   ]
  },
  {
   "cell_type": "code",
   "execution_count": null,
   "id": "82c25e7d",
   "metadata": {},
   "outputs": [],
   "source": []
  },
  {
   "cell_type": "code",
   "execution_count": 17,
   "id": "e8057280",
   "metadata": {},
   "outputs": [
    {
     "name": "stdout",
     "output_type": "stream",
     "text": [
      "Even\n"
     ]
    }
   ],
   "source": [
    "data = 44\n",
    "\n",
    "if data % 2 == 0:\n",
    "    print('Even')"
   ]
  },
  {
   "cell_type": "code",
   "execution_count": 18,
   "id": "cc8bc2b7",
   "metadata": {},
   "outputs": [
    {
     "ename": "SyntaxError",
     "evalue": "expected 'else' after 'if' expression (379200677.py, line 1)",
     "output_type": "error",
     "traceback": [
      "\u001b[1;36m  Cell \u001b[1;32mIn[18], line 1\u001b[1;36m\u001b[0m\n\u001b[1;33m    print('Even') if data % 2 == 0\u001b[0m\n\u001b[1;37m    ^\u001b[0m\n\u001b[1;31mSyntaxError\u001b[0m\u001b[1;31m:\u001b[0m expected 'else' after 'if' expression\n"
     ]
    }
   ],
   "source": [
    "print('Even') if data % 2 == 0 else print('Odd')"
   ]
  },
  {
   "cell_type": "code",
   "execution_count": 19,
   "id": "6c229236",
   "metadata": {},
   "outputs": [
    {
     "ename": "SyntaxError",
     "evalue": "invalid syntax (876531714.py, line 1)",
     "output_type": "error",
     "traceback": [
      "\u001b[1;36m  Cell \u001b[1;32mIn[19], line 1\u001b[1;36m\u001b[0m\n\u001b[1;33m    print('Even') if data % 2 == 0 else pass\u001b[0m\n\u001b[1;37m                                        ^\u001b[0m\n\u001b[1;31mSyntaxError\u001b[0m\u001b[1;31m:\u001b[0m invalid syntax\n"
     ]
    }
   ],
   "source": [
    "print('Even') if data % 2 == 0 else pass"
   ]
  },
  {
   "cell_type": "code",
   "execution_count": 22,
   "id": "a303b9a4",
   "metadata": {},
   "outputs": [],
   "source": [
    "data = 43\n",
    "print('Even') if data % 2 == 0 else None"
   ]
  },
  {
   "cell_type": "code",
   "execution_count": null,
   "id": "4c0204c5",
   "metadata": {},
   "outputs": [],
   "source": []
  },
  {
   "cell_type": "code",
   "execution_count": 23,
   "id": "4a00f25a",
   "metadata": {},
   "outputs": [],
   "source": [
    "# elif:- "
   ]
  },
  {
   "cell_type": "code",
   "execution_count": 24,
   "id": "501601f5",
   "metadata": {},
   "outputs": [
    {
     "name": "stdout",
     "output_type": "stream",
     "text": [
      "b is samller\n"
     ]
    }
   ],
   "source": [
    "a = 23\n",
    "b = 12\n",
    "c = 25\n",
    "\n",
    "if (a<b) and (a<c):\n",
    "    print('a is samller')\n",
    "    \n",
    "elif (b<c) and (b<a):\n",
    "    print('b is samller')\n",
    "\n",
    "else:\n",
    "    print('c is samller')\n",
    "    "
   ]
  },
  {
   "cell_type": "code",
   "execution_count": 27,
   "id": "bdbb2d21",
   "metadata": {},
   "outputs": [
    {
     "data": {
      "text/plain": [
       "'Negative'"
      ]
     },
     "execution_count": 27,
     "metadata": {},
     "output_type": "execute_result"
    }
   ],
   "source": [
    "a = -13\n",
    "\n",
    "print('Positive number') if a>0 else 'Negative' if a<0  else 'Zero'"
   ]
  },
  {
   "cell_type": "code",
   "execution_count": 31,
   "id": "3540f61e",
   "metadata": {},
   "outputs": [
    {
     "data": {
      "text/plain": [
       "'c is sm'"
      ]
     },
     "execution_count": 31,
     "metadata": {},
     "output_type": "execute_result"
    }
   ],
   "source": [
    "a = 30\n",
    "b = 12\n",
    "c = 4\n",
    "\n",
    "'a is sm' if (a<b) and (a<c) else 'b is sm' if (b<c) and (b<a) else 'c is sm'"
   ]
  },
  {
   "cell_type": "code",
   "execution_count": null,
   "id": "687c11cc",
   "metadata": {},
   "outputs": [],
   "source": []
  },
  {
   "cell_type": "code",
   "execution_count": 32,
   "id": "42ae61a7",
   "metadata": {},
   "outputs": [],
   "source": [
    "# list comphrension:-\n",
    "# run for loop inside list\n",
    "# no while loop inside list"
   ]
  },
  {
   "cell_type": "code",
   "execution_count": 34,
   "id": "70f28bbc",
   "metadata": {},
   "outputs": [
    {
     "name": "stdout",
     "output_type": "stream",
     "text": [
      "[4, 214, 6, 54, 432]\n",
      "[1, 343, 325, 543, 67]\n"
     ]
    }
   ],
   "source": [
    "data = [1,343,4,214,325,6,54,432,543,67]\n",
    "\n",
    "even = []\n",
    "odd = []\n",
    "\n",
    "for i in data:\n",
    "    if i%2==0:\n",
    "        even.append(i)\n",
    "    else:\n",
    "        odd.append(i)\n",
    "        \n",
    "print(even)\n",
    "print(odd)"
   ]
  },
  {
   "cell_type": "code",
   "execution_count": 41,
   "id": "ae6b3592",
   "metadata": {},
   "outputs": [
    {
     "data": {
      "text/plain": [
       "[4]"
      ]
     },
     "execution_count": 41,
     "metadata": {},
     "output_type": "execute_result"
    }
   ],
   "source": [
    "data = [1,23,4]\n",
    "\n",
    "even = [i for i in data if i%2==0 ]\n",
    "even "
   ]
  },
  {
   "cell_type": "code",
   "execution_count": 42,
   "id": "192a87e4",
   "metadata": {},
   "outputs": [
    {
     "data": {
      "text/plain": [
       "[1, 23]"
      ]
     },
     "execution_count": 42,
     "metadata": {},
     "output_type": "execute_result"
    }
   ],
   "source": [
    "odd = [i for i in data if i%2!=0]\n",
    "odd"
   ]
  },
  {
   "cell_type": "code",
   "execution_count": 43,
   "id": "0de290a1",
   "metadata": {},
   "outputs": [],
   "source": [
    "data = ['meta','ola','uber','kia','tata','adani','itc']\n",
    "\n",
    "vowels = [i for i in data if i[0].lower() in 'aeiou']\n",
    "consonants = [i for i in data if i[0].lower() not in 'aeiou']\n",
    "\n"
   ]
  },
  {
   "cell_type": "code",
   "execution_count": 44,
   "id": "fb0db004",
   "metadata": {},
   "outputs": [
    {
     "name": "stdout",
     "output_type": "stream",
     "text": [
      "['ola', 'uber', 'adani', 'itc']\n"
     ]
    }
   ],
   "source": [
    "print(vowels)"
   ]
  },
  {
   "cell_type": "code",
   "execution_count": 45,
   "id": "b8e7eb6a",
   "metadata": {},
   "outputs": [
    {
     "name": "stdout",
     "output_type": "stream",
     "text": [
      "['meta', 'kia', 'tata']\n"
     ]
    }
   ],
   "source": [
    "print(consonants)"
   ]
  },
  {
   "cell_type": "code",
   "execution_count": 49,
   "id": "1d0ae78d",
   "metadata": {},
   "outputs": [
    {
     "data": {
      "text/plain": [
       "836142"
      ]
     },
     "execution_count": 49,
     "metadata": {},
     "output_type": "execute_result"
    }
   ],
   "source": [
    "import random\n",
    "random.randint(1,1000000)"
   ]
  },
  {
   "cell_type": "code",
   "execution_count": 57,
   "id": "0cab7dd3",
   "metadata": {},
   "outputs": [
    {
     "data": {
      "text/plain": [
       "[735901, 166448, 89790, 258842, 949529, 391080, 278716, 824892, 946196, 221155]"
      ]
     },
     "execution_count": 57,
     "metadata": {},
     "output_type": "execute_result"
    }
   ],
   "source": [
    "luck_cust_10 = [random.randint(1,1000000) for i in  range(10)]\n",
    "luck_cust_10"
   ]
  },
  {
   "cell_type": "code",
   "execution_count": null,
   "id": "e69a88c7",
   "metadata": {},
   "outputs": [],
   "source": []
  },
  {
   "cell_type": "code",
   "execution_count": null,
   "id": "056c5c89",
   "metadata": {},
   "outputs": [],
   "source": []
  },
  {
   "cell_type": "code",
   "execution_count": 58,
   "id": "952ccee7",
   "metadata": {},
   "outputs": [],
   "source": [
    "even = lambda data: [i for i in data if i%2==0]"
   ]
  },
  {
   "cell_type": "code",
   "execution_count": 61,
   "id": "30428d3e",
   "metadata": {},
   "outputs": [
    {
     "data": {
      "text/plain": [
       "[12, 4, 2134, 324, 56]"
      ]
     },
     "execution_count": 61,
     "metadata": {},
     "output_type": "execute_result"
    }
   ],
   "source": [
    "even([12,3,4,2134,5,324,56,7643,45,6767,89])"
   ]
  },
  {
   "cell_type": "code",
   "execution_count": 62,
   "id": "f7248de0",
   "metadata": {},
   "outputs": [
    {
     "data": {
      "text/plain": [
       "function"
      ]
     },
     "execution_count": 62,
     "metadata": {},
     "output_type": "execute_result"
    }
   ],
   "source": [
    "type(even)"
   ]
  },
  {
   "cell_type": "code",
   "execution_count": 63,
   "id": "7a3b0ec6",
   "metadata": {},
   "outputs": [],
   "source": [
    "mohit_odd  = lambda data: [i for i in data if i%2!=0]"
   ]
  },
  {
   "cell_type": "code",
   "execution_count": 73,
   "id": "dd3e65e3",
   "metadata": {},
   "outputs": [
    {
     "data": {
      "text/plain": [
       "[501555, 890867, 685487, 229455, 175537]"
      ]
     },
     "execution_count": 73,
     "metadata": {},
     "output_type": "execute_result"
    }
   ],
   "source": [
    "data = [random.randint(1,1000000) for i in  range(10)]\n",
    "mohit_odd(data)"
   ]
  },
  {
   "cell_type": "code",
   "execution_count": null,
   "id": "2b835504",
   "metadata": {},
   "outputs": [],
   "source": []
  },
  {
   "cell_type": "markdown",
   "id": "a389ed79",
   "metadata": {},
   "source": [
    "# New day"
   ]
  },
  {
   "cell_type": "code",
   "execution_count": 1,
   "id": "c2931bc8",
   "metadata": {},
   "outputs": [],
   "source": [
    "# lambda:- map, filter and reduce"
   ]
  },
  {
   "cell_type": "code",
   "execution_count": 3,
   "id": "35f0e0a1",
   "metadata": {},
   "outputs": [],
   "source": [
    "even = lambda x: x if x % 2 == 0 else None"
   ]
  },
  {
   "cell_type": "code",
   "execution_count": 6,
   "id": "a1254180",
   "metadata": {},
   "outputs": [
    {
     "name": "stdout",
     "output_type": "stream",
     "text": [
      "None\n"
     ]
    }
   ],
   "source": [
    "print(even(1235))"
   ]
  },
  {
   "cell_type": "code",
   "execution_count": 7,
   "id": "6eadfeb7",
   "metadata": {},
   "outputs": [],
   "source": [
    "# map:- mapping:- mathematical operation perform for any iterator(list,tuple)\n",
    "        "
   ]
  },
  {
   "cell_type": "code",
   "execution_count": 9,
   "id": "8f113d1c",
   "metadata": {},
   "outputs": [
    {
     "data": {
      "text/plain": [
       "[1, 4, 1156, 1764, 169, 16, 3136, 2916, 4, 1156, 25, 3136]"
      ]
     },
     "execution_count": 9,
     "metadata": {},
     "output_type": "execute_result"
    }
   ],
   "source": [
    "data = [1,2,34,42,13,4,56,54,2,34,5,56]\n",
    "\n",
    "square = lambda x: x**2\n",
    "\n",
    "list(map(square,data))  # mapped object"
   ]
  },
  {
   "cell_type": "code",
   "execution_count": null,
   "id": "cb822f45",
   "metadata": {},
   "outputs": [],
   "source": []
  },
  {
   "cell_type": "code",
   "execution_count": 10,
   "id": "648cc29f",
   "metadata": {},
   "outputs": [],
   "source": [
    "# anonymus:- without name"
   ]
  },
  {
   "cell_type": "code",
   "execution_count": 12,
   "id": "1ddb488e",
   "metadata": {},
   "outputs": [
    {
     "data": {
      "text/plain": [
       "[1, 8, 39304, 74088, 2197, 64, 175616, 157464, 8, 39304, 125, 175616]"
      ]
     },
     "execution_count": 12,
     "metadata": {},
     "output_type": "execute_result"
    }
   ],
   "source": [
    "data = [1,2,34,42,13,4,56,54,2,34,5,56]\n",
    "\n",
    "\n",
    "\n",
    "list(map(lambda x: x**3,data))  # mapped object"
   ]
  },
  {
   "cell_type": "code",
   "execution_count": null,
   "id": "8e300651",
   "metadata": {},
   "outputs": [],
   "source": []
  },
  {
   "cell_type": "code",
   "execution_count": null,
   "id": "f02f66a6",
   "metadata": {},
   "outputs": [],
   "source": []
  },
  {
   "cell_type": "code",
   "execution_count": 17,
   "id": "381ffd9b",
   "metadata": {},
   "outputs": [
    {
     "name": "stdout",
     "output_type": "stream",
     "text": [
      "[10.0, 5.0, 5.830951894845301, 6.0, 3.605551275463989, 2.0, 7.483314773547883, 7.3484692283495345, 1.4142135623730951, 5.830951894845301, 2.23606797749979, 7.483314773547883]\n"
     ]
    }
   ],
   "source": [
    "data = [100,25,34,36,13,4,56,54,2,34,5,56]\n",
    "\n",
    "\n",
    "\n",
    "print(list(map(lambda x: x**0.5,data))) # mapped object"
   ]
  },
  {
   "cell_type": "code",
   "execution_count": null,
   "id": "99897fca",
   "metadata": {},
   "outputs": [],
   "source": []
  },
  {
   "cell_type": "code",
   "execution_count": 18,
   "id": "8ea3f4cc",
   "metadata": {},
   "outputs": [],
   "source": [
    "# filter:- func:- filteration"
   ]
  },
  {
   "cell_type": "code",
   "execution_count": 20,
   "id": "14d1be80",
   "metadata": {},
   "outputs": [
    {
     "data": {
      "text/plain": [
       "[None, 14, None, 49, None, None, 56, None, 63, 7, None, None]"
      ]
     },
     "execution_count": 20,
     "metadata": {},
     "output_type": "execute_result"
    }
   ],
   "source": [
    "data = [12,14,431,49,543,24,56,54342,63,7,435,47]\n",
    "\n",
    "div_by_7 = lambda x:x if x % 7 == 0 else None\n",
    "\n",
    "list(map(div_by_7,data))"
   ]
  },
  {
   "cell_type": "code",
   "execution_count": null,
   "id": "2cacdfde",
   "metadata": {},
   "outputs": [],
   "source": []
  },
  {
   "cell_type": "code",
   "execution_count": null,
   "id": "0c828c22",
   "metadata": {},
   "outputs": [],
   "source": []
  },
  {
   "cell_type": "code",
   "execution_count": 21,
   "id": "11ff38f8",
   "metadata": {},
   "outputs": [
    {
     "data": {
      "text/plain": [
       "[14, 49, 56, 63, 7]"
      ]
     },
     "execution_count": 21,
     "metadata": {},
     "output_type": "execute_result"
    }
   ],
   "source": [
    "data = [12,14,431,49,543,24,56,54342,63,7,435,47]\n",
    "\n",
    "div_by_7 = lambda x:x if x % 7 == 0 else None\n",
    "\n",
    "list(filter(div_by_7,data))"
   ]
  },
  {
   "cell_type": "code",
   "execution_count": null,
   "id": "bbf11659",
   "metadata": {},
   "outputs": [],
   "source": []
  },
  {
   "cell_type": "code",
   "execution_count": null,
   "id": "97da7821",
   "metadata": {},
   "outputs": [],
   "source": []
  },
  {
   "cell_type": "code",
   "execution_count": 29,
   "id": "380aafb1",
   "metadata": {},
   "outputs": [
    {
     "data": {
      "text/plain": [
       "[14, 49, 56, 63, 7]"
      ]
     },
     "execution_count": 29,
     "metadata": {},
     "output_type": "execute_result"
    }
   ],
   "source": [
    "data = [12,14,431,49,543,24,56,54342,63,7,435,47]\n",
    "\n",
    "\n",
    "\n",
    "list(filter(lambda x:x if x % 7 == 0 else None,data))"
   ]
  },
  {
   "cell_type": "code",
   "execution_count": null,
   "id": "d65be25f",
   "metadata": {},
   "outputs": [],
   "source": []
  },
  {
   "cell_type": "code",
   "execution_count": 33,
   "id": "a2e83d14",
   "metadata": {},
   "outputs": [],
   "source": [
    "data = ['ola','meta','jeep','oyo','adani','tata','kia','maruti']\n",
    "\n",
    "result = list(filter(lambda x: x if x[0].lower() in 'aeiuo' else None,data))"
   ]
  },
  {
   "cell_type": "code",
   "execution_count": 34,
   "id": "334f5641",
   "metadata": {},
   "outputs": [
    {
     "name": "stdout",
     "output_type": "stream",
     "text": [
      "['ola', 'oyo', 'adani']\n"
     ]
    }
   ],
   "source": [
    "print(result)"
   ]
  },
  {
   "cell_type": "code",
   "execution_count": 37,
   "id": "c8625bfe",
   "metadata": {},
   "outputs": [],
   "source": [
    "res_conso = list(filter(lambda x: x if x[0].lower() not in 'aeiuo' else None,data))"
   ]
  },
  {
   "cell_type": "code",
   "execution_count": 38,
   "id": "e09962f3",
   "metadata": {},
   "outputs": [
    {
     "name": "stdout",
     "output_type": "stream",
     "text": [
      "['meta', 'jeep', 'tata', 'kia', 'maruti']\n"
     ]
    }
   ],
   "source": [
    "print(res_conso)"
   ]
  },
  {
   "cell_type": "code",
   "execution_count": null,
   "id": "d629ea8b",
   "metadata": {},
   "outputs": [],
   "source": []
  },
  {
   "cell_type": "code",
   "execution_count": null,
   "id": "ad380d9a",
   "metadata": {},
   "outputs": [],
   "source": []
  },
  {
   "cell_type": "code",
   "execution_count": 39,
   "id": "220b4b9f",
   "metadata": {},
   "outputs": [
    {
     "data": {
      "text/plain": [
       "['ola', 'meta', 'jeep', 'oyo', 'adani', 'tata', 'kia', 'maruti']"
      ]
     },
     "execution_count": 39,
     "metadata": {},
     "output_type": "execute_result"
    }
   ],
   "source": [
    "data"
   ]
  },
  {
   "cell_type": "code",
   "execution_count": 41,
   "id": "87143e05",
   "metadata": {},
   "outputs": [
    {
     "data": {
      "text/plain": [
       "['#ola', '#meta', '#jeep', '#oyo', '#adani', '#tata', '#kia', '#maruti']"
      ]
     },
     "execution_count": 41,
     "metadata": {},
     "output_type": "execute_result"
    }
   ],
   "source": [
    "# '#ola','#meta','#jeep'\n",
    "\n",
    "list(map(lambda x: '#'+x,data))"
   ]
  },
  {
   "cell_type": "code",
   "execution_count": 43,
   "id": "e3ec4735",
   "metadata": {},
   "outputs": [
    {
     "name": "stdout",
     "output_type": "stream",
     "text": [
      "['#ola', '#meta', '#jeep', '#oyo', '#adani', '#tata', '#kia', '#maruti']\n"
     ]
    }
   ],
   "source": [
    "res = []\n",
    "\n",
    "for i in data:\n",
    "    res.append('#'+i)\n",
    "    \n",
    "print(res)"
   ]
  },
  {
   "cell_type": "code",
   "execution_count": null,
   "id": "c761f8c2",
   "metadata": {},
   "outputs": [],
   "source": []
  },
  {
   "cell_type": "code",
   "execution_count": 46,
   "id": "51078385",
   "metadata": {},
   "outputs": [],
   "source": [
    "# reduce\n",
    "\n",
    "from functools import reduce"
   ]
  },
  {
   "cell_type": "code",
   "execution_count": 47,
   "id": "027d54ec",
   "metadata": {},
   "outputs": [
    {
     "data": {
      "text/plain": [
       "816"
      ]
     },
     "execution_count": 47,
     "metadata": {},
     "output_type": "execute_result"
    }
   ],
   "source": [
    "data = [1,234,32,134,5,54,356]\n",
    "\n",
    "reduce(lambda x,y: x+y,data)"
   ]
  },
  {
   "cell_type": "code",
   "execution_count": 48,
   "id": "9ee72e71",
   "metadata": {},
   "outputs": [
    {
     "data": {
      "text/plain": [
       "816"
      ]
     },
     "execution_count": 48,
     "metadata": {},
     "output_type": "execute_result"
    }
   ],
   "source": [
    "sum(data)"
   ]
  },
  {
   "cell_type": "code",
   "execution_count": 49,
   "id": "89d61e92",
   "metadata": {},
   "outputs": [],
   "source": [
    "mera_sum = reduce(lambda x,y: x+y,data)"
   ]
  },
  {
   "cell_type": "code",
   "execution_count": 51,
   "id": "fd75b1de",
   "metadata": {},
   "outputs": [
    {
     "data": {
      "text/plain": [
       "816"
      ]
     },
     "execution_count": 51,
     "metadata": {},
     "output_type": "execute_result"
    }
   ],
   "source": [
    "mera_sum"
   ]
  },
  {
   "cell_type": "code",
   "execution_count": 54,
   "id": "3aaaec4c",
   "metadata": {},
   "outputs": [
    {
     "data": {
      "text/plain": [
       "24"
      ]
     },
     "execution_count": 54,
     "metadata": {},
     "output_type": "execute_result"
    }
   ],
   "source": [
    "number = 4\n",
    "\n",
    "data = range(1,number+1)\n",
    "\n",
    "reduce(lambda q,w: q*w,data)"
   ]
  },
  {
   "cell_type": "code",
   "execution_count": null,
   "id": "b6c8cd3b",
   "metadata": {},
   "outputs": [],
   "source": []
  },
  {
   "cell_type": "code",
   "execution_count": 57,
   "id": "fc87281d",
   "metadata": {},
   "outputs": [
    {
     "data": {
      "text/plain": [
       "120"
      ]
     },
     "execution_count": 57,
     "metadata": {},
     "output_type": "execute_result"
    }
   ],
   "source": [
    "number = 5\n",
    "reduce(lambda q,w: q*w,range(1,number+1))"
   ]
  },
  {
   "cell_type": "code",
   "execution_count": null,
   "id": "dd555d0d",
   "metadata": {},
   "outputs": [],
   "source": []
  },
  {
   "cell_type": "code",
   "execution_count": null,
   "id": "3dba6022",
   "metadata": {},
   "outputs": [],
   "source": []
  },
  {
   "cell_type": "code",
   "execution_count": 64,
   "id": "9e3d6894",
   "metadata": {},
   "outputs": [
    {
     "data": {
      "text/plain": [
       "120"
      ]
     },
     "execution_count": 64,
     "metadata": {},
     "output_type": "execute_result"
    }
   ],
   "source": [
    "reduce(lambda q,w: q*w,range(1,number := 5+1))"
   ]
  },
  {
   "cell_type": "code",
   "execution_count": 65,
   "id": "b836112b",
   "metadata": {},
   "outputs": [],
   "source": [
    "# := walrus"
   ]
  },
  {
   "cell_type": "code",
   "execution_count": 66,
   "id": "78e07cbf",
   "metadata": {},
   "outputs": [
    {
     "name": "stdout",
     "output_type": "stream",
     "text": [
      "Enter your name: ajay\n",
      "Bye!!\n"
     ]
    }
   ],
   "source": [
    "name = input('Enter your name: ')\n",
    "\n",
    "if name == 'modi':\n",
    "    print('welcome')\n",
    "else:\n",
    "    print('Bye!!')"
   ]
  },
  {
   "cell_type": "code",
   "execution_count": 69,
   "id": "1a96b205",
   "metadata": {},
   "outputs": [
    {
     "name": "stdout",
     "output_type": "stream",
     "text": [
      "Enter you name: modi\n",
      "welcome\n"
     ]
    }
   ],
   "source": [
    "print('welcome') if (name := input('Enter you name: ')) == 'modi' else  print('Bye!!')"
   ]
  },
  {
   "cell_type": "code",
   "execution_count": null,
   "id": "48d6cc0d",
   "metadata": {},
   "outputs": [],
   "source": []
  },
  {
   "cell_type": "code",
   "execution_count": null,
   "id": "acef63a1",
   "metadata": {},
   "outputs": [],
   "source": []
  },
  {
   "cell_type": "code",
   "execution_count": 70,
   "id": "b7297a77",
   "metadata": {},
   "outputs": [],
   "source": [
    "# lambda :- prime number"
   ]
  },
  {
   "cell_type": "code",
   "execution_count": null,
   "id": "2430fd3e",
   "metadata": {},
   "outputs": [],
   "source": []
  },
  {
   "cell_type": "code",
   "execution_count": 76,
   "id": "7bdc1b5f",
   "metadata": {},
   "outputs": [
    {
     "data": {
      "text/plain": [
       "[True, True, True]"
      ]
     },
     "execution_count": 76,
     "metadata": {},
     "output_type": "execute_result"
    }
   ],
   "source": [
    "number = 5\n",
    "list(map(lambda x:False if number % x == 0 else True,range(2,number)))"
   ]
  },
  {
   "cell_type": "code",
   "execution_count": 77,
   "id": "fb71c735",
   "metadata": {},
   "outputs": [],
   "source": [
    "# any()\n",
    "# all()"
   ]
  },
  {
   "cell_type": "code",
   "execution_count": 78,
   "id": "d2864fff",
   "metadata": {},
   "outputs": [
    {
     "data": {
      "text/plain": [
       "True"
      ]
     },
     "execution_count": 78,
     "metadata": {},
     "output_type": "execute_result"
    }
   ],
   "source": [
    "all([True,True,True,True])"
   ]
  },
  {
   "cell_type": "code",
   "execution_count": 79,
   "id": "858687e4",
   "metadata": {},
   "outputs": [
    {
     "data": {
      "text/plain": [
       "False"
      ]
     },
     "execution_count": 79,
     "metadata": {},
     "output_type": "execute_result"
    }
   ],
   "source": [
    "all([True,False,True,True])"
   ]
  },
  {
   "cell_type": "code",
   "execution_count": 80,
   "id": "760470ac",
   "metadata": {},
   "outputs": [
    {
     "data": {
      "text/plain": [
       "True"
      ]
     },
     "execution_count": 80,
     "metadata": {},
     "output_type": "execute_result"
    }
   ],
   "source": [
    "any([True,False,True,True])"
   ]
  },
  {
   "cell_type": "code",
   "execution_count": 81,
   "id": "78b44028",
   "metadata": {},
   "outputs": [
    {
     "data": {
      "text/plain": [
       "False"
      ]
     },
     "execution_count": 81,
     "metadata": {},
     "output_type": "execute_result"
    }
   ],
   "source": [
    "any([False,False,False])"
   ]
  },
  {
   "cell_type": "code",
   "execution_count": null,
   "id": "2ae00f64",
   "metadata": {},
   "outputs": [],
   "source": []
  },
  {
   "cell_type": "code",
   "execution_count": null,
   "id": "65ef712f",
   "metadata": {},
   "outputs": [],
   "source": []
  },
  {
   "cell_type": "code",
   "execution_count": 86,
   "id": "37bc3be6",
   "metadata": {},
   "outputs": [
    {
     "data": {
      "text/plain": [
       "False"
      ]
     },
     "execution_count": 86,
     "metadata": {},
     "output_type": "execute_result"
    }
   ],
   "source": [
    "number = 9\n",
    "all(map(lambda x:False if number % x == 0 else True,range(2,number)))"
   ]
  },
  {
   "cell_type": "code",
   "execution_count": null,
   "id": "47a670b9",
   "metadata": {},
   "outputs": [],
   "source": []
  },
  {
   "cell_type": "code",
   "execution_count": null,
   "id": "cf8b4f9e",
   "metadata": {},
   "outputs": [],
   "source": []
  },
  {
   "cell_type": "code",
   "execution_count": 88,
   "id": "299c0296",
   "metadata": {},
   "outputs": [
    {
     "name": "stdout",
     "output_type": "stream",
     "text": [
      "prime number\n"
     ]
    }
   ],
   "source": [
    "number = 11\n",
    "print('prime number') if (all(map(lambda x:False if number % x == 0 else True,range(2,number)))) else print('No prime Number')"
   ]
  },
  {
   "cell_type": "code",
   "execution_count": null,
   "id": "f968f651",
   "metadata": {},
   "outputs": [],
   "source": []
  },
  {
   "cell_type": "code",
   "execution_count": null,
   "id": "3895f9c9",
   "metadata": {},
   "outputs": [],
   "source": []
  },
  {
   "cell_type": "code",
   "execution_count": 92,
   "id": "b39a7387",
   "metadata": {},
   "outputs": [
    {
     "name": "stdout",
     "output_type": "stream",
     "text": [
      "Enter number: 25\n",
      "No prime Number\n"
     ]
    }
   ],
   "source": [
    "print('prime number') if (all(map(lambda x:False if number % x == 0 else True,range(2,number:=int(input('Enter number: ')))))) else print('No prime Number')"
   ]
  },
  {
   "cell_type": "code",
   "execution_count": null,
   "id": "f480dddf",
   "metadata": {},
   "outputs": [],
   "source": []
  },
  {
   "cell_type": "code",
   "execution_count": null,
   "id": "e0f55626",
   "metadata": {},
   "outputs": [],
   "source": []
  },
  {
   "cell_type": "code",
   "execution_count": 96,
   "id": "b05cb652",
   "metadata": {},
   "outputs": [
    {
     "name": "stdout",
     "output_type": "stream",
     "text": [
      "Enter number: 23\n",
      "prime number\n"
     ]
    }
   ],
   "source": [
    "print('prime number') if (all(map(lambda x:False if number % x == 0 else \n",
    "True,range(2,number:=int(input('Enter number: ')))))) else print('No prime Number')"
   ]
  },
  {
   "cell_type": "code",
   "execution_count": null,
   "id": "d0e06266",
   "metadata": {},
   "outputs": [],
   "source": []
  },
  {
   "cell_type": "code",
   "execution_count": 106,
   "id": "fede6545",
   "metadata": {},
   "outputs": [],
   "source": [
    "data = [12,43,42,1343,56,324,56,567,65,63,4457]\n"
   ]
  },
  {
   "cell_type": "code",
   "execution_count": null,
   "id": "e2b61375",
   "metadata": {},
   "outputs": [],
   "source": []
  },
  {
   "cell_type": "code",
   "execution_count": null,
   "id": "d04d1796",
   "metadata": {},
   "outputs": [],
   "source": []
  },
  {
   "cell_type": "code",
   "execution_count": 105,
   "id": "1d872e42",
   "metadata": {},
   "outputs": [],
   "source": [
    "# Modules"
   ]
  },
  {
   "cell_type": "code",
   "execution_count": null,
   "id": "7c72ee07",
   "metadata": {},
   "outputs": [],
   "source": []
  }
 ],
 "metadata": {
  "kernelspec": {
   "display_name": "Python 3 (ipykernel)",
   "language": "python",
   "name": "python3"
  },
  "language_info": {
   "codemirror_mode": {
    "name": "ipython",
    "version": 3
   },
   "file_extension": ".py",
   "mimetype": "text/x-python",
   "name": "python",
   "nbconvert_exporter": "python",
   "pygments_lexer": "ipython3",
   "version": "3.11.3"
  }
 },
 "nbformat": 4,
 "nbformat_minor": 5
}

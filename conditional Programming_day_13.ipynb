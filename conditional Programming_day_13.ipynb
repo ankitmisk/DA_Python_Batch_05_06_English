{
 "cells": [
  {
   "cell_type": "code",
   "execution_count": 1,
   "id": "a350468a",
   "metadata": {},
   "outputs": [],
   "source": [
    "# if\n",
    "# else"
   ]
  },
  {
   "cell_type": "code",
   "execution_count": 2,
   "id": "d6b8233f",
   "metadata": {},
   "outputs": [],
   "source": [
    "# op:- bool:\n",
    "# identity, membership, logical, comparison, bool"
   ]
  },
  {
   "cell_type": "code",
   "execution_count": 3,
   "id": "6fec35a3",
   "metadata": {},
   "outputs": [],
   "source": [
    "# if (condition/conditions):\n",
    "#     # if code block\n",
    "    \n",
    "# else:\n",
    "#     # else code block\n",
    "#     # this will run when if fail"
   ]
  },
  {
   "cell_type": "code",
   "execution_count": 5,
   "id": "f9bff580",
   "metadata": {},
   "outputs": [
    {
     "name": "stdout",
     "output_type": "stream",
     "text": [
      "you can't vote!!\n"
     ]
    }
   ],
   "source": [
    "age = 7\n",
    "\n",
    "if age>=18:\n",
    "    print('You can vote!!')\n",
    "    \n",
    "else:\n",
    "    print('you can\\'t vote!!')"
   ]
  },
  {
   "cell_type": "code",
   "execution_count": 8,
   "id": "25f21468",
   "metadata": {},
   "outputs": [
    {
     "name": "stdout",
     "output_type": "stream",
     "text": [
      "Enter your age!! 12\n",
      "you can't vote!!\n"
     ]
    }
   ],
   "source": [
    "age = int(input('Enter your age!! '))\n",
    "\n",
    "if age>=18:\n",
    "    print('You can vote!!')\n",
    "    \n",
    "else:\n",
    "    print('you can\\'t vote!!')"
   ]
  },
  {
   "cell_type": "code",
   "execution_count": null,
   "id": "be2b5c08",
   "metadata": {},
   "outputs": [],
   "source": []
  },
  {
   "cell_type": "code",
   "execution_count": null,
   "id": "009d9e3b",
   "metadata": {},
   "outputs": [],
   "source": []
  },
  {
   "cell_type": "code",
   "execution_count": null,
   "id": "143073a0",
   "metadata": {},
   "outputs": [],
   "source": []
  },
  {
   "cell_type": "code",
   "execution_count": 12,
   "id": "5bc23482",
   "metadata": {},
   "outputs": [
    {
     "name": "stdout",
     "output_type": "stream",
     "text": [
      "Enter your age!! 9\n"
     ]
    }
   ],
   "source": [
    "age = int(input('Enter your age!! '))\n",
    "\n",
    "if age>=18:\n",
    "    print('You can vote!!')\n"
   ]
  },
  {
   "cell_type": "code",
   "execution_count": 15,
   "id": "a8fda757",
   "metadata": {},
   "outputs": [
    {
     "name": "stdout",
     "output_type": "stream",
     "text": [
      "Odd number!!\n"
     ]
    }
   ],
   "source": [
    "# check given number is an even or odd\n",
    "\n",
    "number = 3\n",
    "\n",
    "if number % 2 == 0:\n",
    "    print('Even Number')\n",
    "    \n",
    "else:\n",
    "    print('Odd number!!')"
   ]
  },
  {
   "cell_type": "code",
   "execution_count": 21,
   "id": "5a44216b",
   "metadata": {},
   "outputs": [],
   "source": [
    "entitled_students = ['karan','ravi','mohan','uday','nikhil']"
   ]
  },
  {
   "cell_type": "code",
   "execution_count": 29,
   "id": "90431a03",
   "metadata": {},
   "outputs": [
    {
     "name": "stdout",
     "output_type": "stream",
     "text": [
      "Enter your name: deeksha\n",
      "Welcome deeksha in our club!!!\n"
     ]
    }
   ],
   "source": [
    "new_student = input('Enter your name: ')\n",
    "\n",
    "if new_student in entitled_students:\n",
    "    print('your are not allowed\\nYour name already exist!!')\n",
    "    \n",
    "else:\n",
    "    entitled_students.append(new_student)\n",
    "    print(f'Welcome {new_student} in our club!!!')"
   ]
  },
  {
   "cell_type": "code",
   "execution_count": 30,
   "id": "2ce612fd",
   "metadata": {},
   "outputs": [
    {
     "name": "stdout",
     "output_type": "stream",
     "text": [
      "['karan', 'ravi', 'mohan', 'uday', 'nikhil', 'ajay', 'sarwar', 'deeksha']\n"
     ]
    }
   ],
   "source": [
    "print(entitled_students)"
   ]
  },
  {
   "cell_type": "code",
   "execution_count": 40,
   "id": "c779df15",
   "metadata": {},
   "outputs": [
    {
     "name": "stdout",
     "output_type": "stream",
     "text": [
      "Enter your status!!daily labour\n",
      "can not go without punch in!!\n"
     ]
    }
   ],
   "source": [
    "# elif\n",
    "\n",
    "\n",
    "condition = input('Enter your status!!')\n",
    "\n",
    "if condition == 'owner':\n",
    "    print('Hello sir!!')\n",
    "    \n",
    "elif condition == 'govt official' or condition == 'modi' :\n",
    "    print('Salute!! sir!!')\n",
    "\n",
    "else:\n",
    "    print('can not go without punch in!!')"
   ]
  },
  {
   "cell_type": "code",
   "execution_count": null,
   "id": "89fb3907",
   "metadata": {},
   "outputs": [],
   "source": []
  },
  {
   "cell_type": "code",
   "execution_count": null,
   "id": "c81eae72",
   "metadata": {},
   "outputs": [],
   "source": []
  },
  {
   "cell_type": "code",
   "execution_count": null,
   "id": "1f322135",
   "metadata": {},
   "outputs": [],
   "source": []
  },
  {
   "cell_type": "code",
   "execution_count": 41,
   "id": "9e422b5f",
   "metadata": {},
   "outputs": [
    {
     "name": "stdout",
     "output_type": "stream",
     "text": [
      "Enter your status!!rahul\n",
      "Salute!! sir!!\n"
     ]
    }
   ],
   "source": [
    "# elif\n",
    "\n",
    "\n",
    "condition = input('Enter your status!!')\n",
    "\n",
    "if condition == 'owner':\n",
    "    print('Hello sir!!')\n",
    "    \n",
    "elif condition in ('govt official','modi','rahul') :\n",
    "    print('Salute!! sir!!')\n",
    "\n",
    "else:\n",
    "    print('can not go without punch in!!')"
   ]
  },
  {
   "cell_type": "code",
   "execution_count": 45,
   "id": "d7c6d441",
   "metadata": {},
   "outputs": [
    {
     "name": "stdout",
     "output_type": "stream",
     "text": [
      "A: 456 is greatest amongst three numbers\n"
     ]
    }
   ],
   "source": [
    "# greatest amongst three numbers\n",
    "\n",
    "a = 456\n",
    "b = 6\n",
    "c = 87\n",
    "\n",
    "if (a>b) and (a>c):\n",
    "    print(f'A: {a} is greatest amongst three numbers')\n",
    "\n",
    "elif (b>a)  and (b>c):\n",
    "    print(f'B: {b} is greatest amongst three numbers')\n",
    "\n",
    "else:\n",
    "    print(f'C: {c} is greatest amongst three numbers')"
   ]
  },
  {
   "cell_type": "code",
   "execution_count": null,
   "id": "77d2351d",
   "metadata": {},
   "outputs": [],
   "source": []
  },
  {
   "cell_type": "code",
   "execution_count": null,
   "id": "954b04b3",
   "metadata": {},
   "outputs": [],
   "source": []
  },
  {
   "cell_type": "code",
   "execution_count": 63,
   "id": "1edc468b",
   "metadata": {},
   "outputs": [
    {
     "name": "stdout",
     "output_type": "stream",
     "text": [
      "********************************Budget Planner!!********************************\n",
      "\n",
      "\n",
      "Enter your budget: 0\n",
      "Enter your expected days!! 0\n",
      "Play with Thaali\n",
      "Go corona go!!\n",
      "😟☹️\n"
     ]
    }
   ],
   "source": [
    "print('Budget Planner!!'.center(80,'*'),end='\\n'*3)\n",
    "\n",
    "\n",
    "budget = int(input('Enter your budget: '))\n",
    "\n",
    "travel_day = int(input('Enter your expected days!! '))\n",
    "\n",
    "\n",
    "if (1000<=budget<3000) and (travel_day<=2):\n",
    "    print('''You can Plan for\n",
    "    A: Rishikesh\n",
    "    B: Haridwar\n",
    "    C: roorkee\n",
    "    D: agra''')\n",
    "    \n",
    "elif  (3000<=budget <5000) and (travel_day<=3):\n",
    "    print('''You can Plan for\n",
    "    A: Manali\n",
    "    B: Nainital\n",
    "    C: mussoorie''')\n",
    "\n",
    "elif (5000<=budget <=7000) and (travel_day<=5):\n",
    "    print('''You can Plan for\n",
    "    A: Leh Ladakh,\n",
    "    B: sisu\n",
    "    C: j&k\n",
    "    D: ooty ''')\n",
    "    \n",
    "elif (budget>7000) and travel_day in range(1,365):\n",
    "    print('World Tour!!!')\n",
    "    \n",
    "else:\n",
    "    print('Play with Thaali\\nGo corona go!!\\n😟☹️')"
   ]
  },
  {
   "cell_type": "code",
   "execution_count": null,
   "id": "bd6b39a5",
   "metadata": {},
   "outputs": [],
   "source": []
  },
  {
   "cell_type": "code",
   "execution_count": 64,
   "id": "70a6f053",
   "metadata": {},
   "outputs": [],
   "source": [
    "# # task\n",
    "# # Grading system\n",
    "\n",
    "# maths =\n",
    "# sci\n",
    "# sst\n",
    "# hindi\n",
    "# english\n",
    "\n"
   ]
  },
  {
   "cell_type": "code",
   "execution_count": 65,
   "id": "422a8075",
   "metadata": {},
   "outputs": [],
   "source": [
    "# guess a number"
   ]
  },
  {
   "cell_type": "code",
   "execution_count": 81,
   "id": "ec7b8b8d",
   "metadata": {},
   "outputs": [
    {
     "name": "stdout",
     "output_type": "stream",
     "text": [
      "Guess a number: (1 to 5): 2\n",
      "You guess right!!\n",
      "computer choice was: 2\n"
     ]
    }
   ],
   "source": [
    "import random\n",
    "\n",
    "comp = random.randint(1,5)\n",
    "user = int(input('Guess a number: (1 to 5): '))\n",
    "\n",
    "if user == comp:\n",
    "    print('You guess right!!')\n",
    "else:\n",
    "    print('You are wrong!!')\n",
    "\n",
    "print(f'computer choice was: {comp}')"
   ]
  },
  {
   "cell_type": "code",
   "execution_count": null,
   "id": "e2f51fe2",
   "metadata": {},
   "outputs": [],
   "source": []
  }
 ],
 "metadata": {
  "kernelspec": {
   "display_name": "Python 3 (ipykernel)",
   "language": "python",
   "name": "python3"
  },
  "language_info": {
   "codemirror_mode": {
    "name": "ipython",
    "version": 3
   },
   "file_extension": ".py",
   "mimetype": "text/x-python",
   "name": "python",
   "nbconvert_exporter": "python",
   "pygments_lexer": "ipython3",
   "version": "3.11.3"
  }
 },
 "nbformat": 4,
 "nbformat_minor": 5
}

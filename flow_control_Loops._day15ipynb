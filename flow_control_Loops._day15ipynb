{
 "cells": [
  {
   "cell_type": "code",
   "execution_count": 1,
   "id": "ad489256",
   "metadata": {},
   "outputs": [],
   "source": [
    "# for loop\n",
    "# while loop"
   ]
  },
  {
   "cell_type": "code",
   "execution_count": 2,
   "id": "18643dc6",
   "metadata": {},
   "outputs": [],
   "source": [
    "# # for iterators\n",
    "\n",
    "# # for when we know the number of iterations\n",
    "\n",
    "# # ==============================================\n",
    "\n",
    "\n",
    "# while loop:-\n",
    "# # for when we don't know the number of iterations\n",
    "\n",
    "# while conditions"
   ]
  },
  {
   "cell_type": "code",
   "execution_count": null,
   "id": "1f1230b2",
   "metadata": {},
   "outputs": [],
   "source": []
  },
  {
   "cell_type": "code",
   "execution_count": 3,
   "id": "4c0bf6b3",
   "metadata": {},
   "outputs": [],
   "source": [
    "# for datatype elements can be picked"
   ]
  },
  {
   "cell_type": "code",
   "execution_count": 4,
   "id": "c9534947",
   "metadata": {},
   "outputs": [],
   "source": [
    "# allowed  str,tuple,list,dict,set\n",
    "\n",
    "# not allowed int,float,complex,None,True"
   ]
  },
  {
   "cell_type": "code",
   "execution_count": 4,
   "id": "d31a9e37",
   "metadata": {},
   "outputs": [
    {
     "name": "stdout",
     "output_type": "stream",
     "text": [
      "Hello ajay\n",
      "Hello ravi\n",
      "Hello karan\n",
      "Hello mohan\n"
     ]
    }
   ],
   "source": [
    "import time\n",
    "\n",
    "for i in ['ajay','ravi','karan','mohan']:\n",
    "    print('Hello',i)\n",
    "    time.sleep(0.6)"
   ]
  },
  {
   "cell_type": "code",
   "execution_count": 6,
   "id": "461214bb",
   "metadata": {},
   "outputs": [
    {
     "name": "stdout",
     "output_type": "stream",
     "text": [
      "Hello ajay How are you??\n",
      "Hello ravi How are you??\n",
      "Hello karan How are you??\n",
      "Hello mohan How are you??\n"
     ]
    }
   ],
   "source": [
    "data = ['ajay','ravi','karan','mohan']\n",
    "\n",
    "for i in data:\n",
    "    print('Hello',i,'How are you??')"
   ]
  },
  {
   "cell_type": "code",
   "execution_count": 8,
   "id": "36f3615b",
   "metadata": {},
   "outputs": [
    {
     "name": "stdout",
     "output_type": "stream",
     "text": [
      "2 x 1 = 2\n",
      "2 x 2 = 4\n",
      "2 x 3 = 6\n",
      "2 x 4 = 8\n",
      "2 x 5 = 10\n",
      "2 x 6 = 12\n",
      "2 x 7 = 14\n",
      "2 x 8 = 16\n",
      "2 x 9 = 18\n",
      "2 x 10 = 20\n"
     ]
    }
   ],
   "source": [
    "# table print\n",
    "\n",
    "number = 2\n",
    "\n",
    "# 2 x 1 = 2\n",
    "# 2 X 2 = 4\n",
    "\n",
    "for i in [1,2,3,4,5,6,7,8,9,10]:\n",
    "    print(f'{2} x {i} = {2*i}')"
   ]
  },
  {
   "cell_type": "code",
   "execution_count": 15,
   "id": "156d5ab4",
   "metadata": {},
   "outputs": [
    {
     "name": "stdout",
     "output_type": "stream",
     "text": [
      "15 x 1 = 15\n",
      "15 x 2 = 30\n",
      "15 x 3 = 45\n",
      "15 x 4 = 60\n",
      "15 x 5 = 75\n",
      "15 x 6 = 90\n",
      "15 x 7 = 105\n",
      "15 x 8 = 120\n",
      "15 x 9 = 135\n",
      "15 x 10 = 150\n"
     ]
    }
   ],
   "source": [
    "# table print\n",
    "\n",
    "number = 15\n",
    "\n",
    "for i in range(1,11):\n",
    "    print(f'{number} x {i} = {number*i}')"
   ]
  },
  {
   "cell_type": "code",
   "execution_count": 17,
   "id": "07224063",
   "metadata": {},
   "outputs": [],
   "source": [
    "# '@ajay','@karan'\n",
    "# ['@ajay','@ravi','@karan','@mohan']"
   ]
  },
  {
   "cell_type": "code",
   "execution_count": 22,
   "id": "18bd5fd9",
   "metadata": {},
   "outputs": [
    {
     "name": "stdout",
     "output_type": "stream",
     "text": [
      "['@ajay', '@ravi', '@karan', '@mohan']\n"
     ]
    }
   ],
   "source": [
    "students = ['ajay','ravi','karan','mohan']\n",
    "\n",
    "tags = []\n",
    "\n",
    "\n",
    "for naam in students:\n",
    "    tags.append('@' + naam)\n",
    "    \n",
    "print(tags)"
   ]
  },
  {
   "cell_type": "code",
   "execution_count": 29,
   "id": "17659c51",
   "metadata": {},
   "outputs": [
    {
     "name": "stdout",
     "output_type": "stream",
     "text": [
      "[12, 123, 432, 54, 4545, 6, 342, 324, 657]\n"
     ]
    }
   ],
   "source": [
    "data = [12,4,123,35,432,54,67,74,332,4545,6,342,324,5456,657,65,532,4,436]\n",
    "\n",
    "\n",
    "div_by_3 = []\n",
    "div_by_5 = []\n",
    "none_of = []\n",
    "for i in data:\n",
    "    if i%3 == 0:\n",
    "        div_by_3.append(i)\n",
    "    elif i%5 == 0:\n",
    "        div_by_5.append(i)\n",
    "    else:\n",
    "        none_of.append(i)\n",
    "print(div_by_3)"
   ]
  },
  {
   "cell_type": "code",
   "execution_count": 30,
   "id": "1dd6b48e",
   "metadata": {},
   "outputs": [
    {
     "name": "stdout",
     "output_type": "stream",
     "text": [
      "[35, 65]\n"
     ]
    }
   ],
   "source": [
    "print(div_by_5)"
   ]
  },
  {
   "cell_type": "code",
   "execution_count": 31,
   "id": "692c45ea",
   "metadata": {},
   "outputs": [
    {
     "name": "stdout",
     "output_type": "stream",
     "text": [
      "[4, 67, 74, 332, 5456, 532, 4, 436]\n"
     ]
    }
   ],
   "source": [
    "print(none_of)"
   ]
  },
  {
   "cell_type": "code",
   "execution_count": 32,
   "id": "ae03102d",
   "metadata": {},
   "outputs": [
    {
     "name": "stdout",
     "output_type": "stream",
     "text": [
      "Even List [12, 4, 432, 54, 74, 332, 6, 342, 324, 5456, 532, 4, 436]\n",
      "Odd List [123, 35, 67, 4545, 657, 65]\n"
     ]
    }
   ],
   "source": [
    "data = [12,4,123,35,432,54,67,74,332,4545,6,342,324,5456,657,65,532,4,436]\n",
    "\n",
    "even = []\n",
    "odd = []\n",
    "\n",
    "\n",
    "for i in data:\n",
    "    if i%2 == 0:\n",
    "        even.append(i)\n",
    "    else:\n",
    "        odd.append(i)\n",
    "        \n",
    "print('Even List',even)\n",
    "print('Odd List',odd)"
   ]
  },
  {
   "cell_type": "code",
   "execution_count": 38,
   "id": "77172b03",
   "metadata": {},
   "outputs": [
    {
     "name": "stdout",
     "output_type": "stream",
     "text": [
      "Vowels list ['ola', 'infosys', 'Infosys']\n",
      "Consonants list ['meta', 'tata', 'kia', 'maruti', 'tcs']\n"
     ]
    }
   ],
   "source": [
    "data = ['ola','meta','tata','kia','maruti','tcs','infosys','Infosys']\n",
    "\n",
    "vowels = []\n",
    "conso = []\n",
    "\n",
    "for i in data:\n",
    "    if i[0].lower() in 'aeiou':\n",
    "        vowels.append(i)\n",
    "    else:\n",
    "        conso.append(i)\n",
    "        \n",
    "print('Vowels list',vowels)\n",
    "print('Consonants list',conso)"
   ]
  },
  {
   "cell_type": "code",
   "execution_count": 39,
   "id": "83410672",
   "metadata": {},
   "outputs": [],
   "source": [
    "# 't' in 'aeiou'"
   ]
  },
  {
   "cell_type": "code",
   "execution_count": null,
   "id": "72bb228a",
   "metadata": {},
   "outputs": [],
   "source": []
  }
 ],
 "metadata": {
  "kernelspec": {
   "display_name": "Python 3 (ipykernel)",
   "language": "python",
   "name": "python3"
  },
  "language_info": {
   "codemirror_mode": {
    "name": "ipython",
    "version": 3
   },
   "file_extension": ".py",
   "mimetype": "text/x-python",
   "name": "python",
   "nbconvert_exporter": "python",
   "pygments_lexer": "ipython3",
   "version": "3.11.3"
  }
 },
 "nbformat": 4,
 "nbformat_minor": 5
}
